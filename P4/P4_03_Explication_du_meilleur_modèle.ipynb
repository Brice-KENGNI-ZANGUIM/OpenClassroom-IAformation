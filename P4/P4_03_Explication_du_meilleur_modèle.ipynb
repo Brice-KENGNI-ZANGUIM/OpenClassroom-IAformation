{
 "cells": [
  {
   "cell_type": "markdown",
   "id": "fc6a387d-63e5-49cc-b2b8-1c9e51ba0b50",
   "metadata": {},
   "source": [
    "## <strong> Features importance </strong>"
   ]
  },
  {
   "cell_type": "markdown",
   "id": "5cfc4c31-002e-4251-a6af-94d5b570f6cd",
   "metadata": {},
   "source": [
    "Reférence lecture  SHAP : [Bien vouloir cliquer ici](https://coderzcolumn.com/tutorials/machine-learning/shap-explain-machine-learning-model-predictions-using-game-theoretic-approach#intro) pour comprendre l'utilisation et l'importance de la librerie SHAP dans l'étude de l'importance des variables dans la prédiction des modèles ."
   ]
  },
  {
   "cell_type": "code",
   "execution_count": 1,
   "id": "4dace7df-fec8-48d8-86ab-8f050f816f1e",
   "metadata": {},
   "outputs": [],
   "source": [
    "import warnings\n",
    "warnings.filterwarnings('ignore')"
   ]
  },
  {
   "cell_type": "code",
   "execution_count": 12,
   "id": "9edd0739-b71a-4cc3-b8f2-c0d9ec50d7c5",
   "metadata": {},
   "outputs": [
    {
     "ename": "ModuleNotFoundError",
     "evalue": "No module named 'xgboost'",
     "output_type": "error",
     "traceback": [
      "\u001b[0;31m---------------------------------------------------------------------------\u001b[0m",
      "\u001b[0;31mModuleNotFoundError\u001b[0m                       Traceback (most recent call last)",
      "Input \u001b[0;32mIn [12]\u001b[0m, in \u001b[0;36m<cell line: 2>\u001b[0;34m()\u001b[0m\n\u001b[1;32m      1\u001b[0m \u001b[38;5;66;03m#import shap\u001b[39;00m\n\u001b[0;32m----> 2\u001b[0m \u001b[38;5;28;01mimport\u001b[39;00m \u001b[38;5;21;01mxgboost\u001b[39;00m \u001b[38;5;28;01mas\u001b[39;00m \u001b[38;5;21;01mxgb\u001b[39;00m\n\u001b[1;32m      3\u001b[0m \u001b[38;5;28;01mimport\u001b[39;00m \u001b[38;5;21;01mos\u001b[39;00m\n\u001b[1;32m      4\u001b[0m \u001b[38;5;28;01mimport\u001b[39;00m \u001b[38;5;21;01mpandas\u001b[39;00m \u001b[38;5;28;01mas\u001b[39;00m \u001b[38;5;21;01mpd\u001b[39;00m\n",
      "\u001b[0;31mModuleNotFoundError\u001b[0m: No module named 'xgboost'"
     ]
    }
   ],
   "source": [
    "#import shap\n",
    "import xgboost as xgb\n",
    "import os\n",
    "import pandas as pd\n",
    "import numpy as np\n",
    "import matplotlib.pyplot as plt\n",
    "\n",
    "import seaborn as sns\n",
    "#%matplotlib inline\n",
    "#%matplotlib notebook\n",
    "sns.set()\n",
    "\n",
    "import warnings\n",
    "warnings.filterwarnings('ignore')\n",
    "\n",
    "import joblib\n",
    "\n",
    "#shap.initjs()"
   ]
  },
  {
   "cell_type": "markdown",
   "id": "2badc727-bcf2-4171-9117-5055a8c35ba4",
   "metadata": {},
   "source": [
    "## Chargement des donées"
   ]
  },
  {
   "cell_type": "code",
   "execution_count": null,
   "id": "d68ac45e-8ba8-4a44-808b-8627e27da0dc",
   "metadata": {},
   "outputs": [],
   "source": [
    "X_test = pd.read_csv(\"X_test.csv\")\n",
    "Y_test = pd.read_csv(\"Y_test.csv\")\n",
    "\n",
    "X_test.drop( ['Unnamed: 0'], axis = 1  , inplace= True )\n",
    "Y_test.drop( ['Unnamed: 0'], axis = 1  , inplace= True )"
   ]
  },
  {
   "cell_type": "markdown",
   "id": "42550611-ea11-41c3-8801-2a6da8b2cf47",
   "metadata": {},
   "source": [
    "## Chargement du meilleur modèle avec Cout minimal : XGBOOST Classifier"
   ]
  },
  {
   "cell_type": "code",
   "execution_count": null,
   "id": "0af5d86e-8320-4ba6-a66f-6cf8235d1eea",
   "metadata": {},
   "outputs": [],
   "source": [
    "model_xgb  = joblib.load( \"model_XGBOOST.sav\" )"
   ]
  },
  {
   "cell_type": "markdown",
   "id": "64254f7c-f88f-4278-a859-6270339cf6f2",
   "metadata": {
    "tags": []
   },
   "source": [
    "## Explication du modèle Random Forest"
   ]
  },
  {
   "cell_type": "markdown",
   "id": "4688f7dd-90b6-47db-a9fb-7bb281f26fbd",
   "metadata": {
    "tags": []
   },
   "source": [
    "### Création d'un Tree Explainer."
   ]
  },
  {
   "cell_type": "code",
   "execution_count": null,
   "id": "95b66ddf-fabf-4892-a179-ab0c118d7710",
   "metadata": {},
   "outputs": [],
   "source": [
    "XGB_explainer = shap.TreeExplainer(model_xgb )"
   ]
  },
  {
   "cell_type": "markdown",
   "id": "7b9bb308-1dee-4043-89a7-ad5fc90b18a1",
   "metadata": {},
   "source": [
    "### Calcul des Shape values de chaque individu"
   ]
  },
  {
   "cell_type": "code",
   "execution_count": null,
   "id": "67049ae1-6d50-45db-8f08-b21b338eda2b",
   "metadata": {},
   "outputs": [],
   "source": [
    "shap_values = XGB_explainer.shap_values( X_test )"
   ]
  },
  {
   "cell_type": "code",
   "execution_count": null,
   "id": "83473151-1d67-44d0-aa25-72abeeb91555",
   "metadata": {},
   "outputs": [],
   "source": [
    "shap_values"
   ]
  },
  {
   "cell_type": "code",
   "execution_count": null,
   "id": "1a30c57e-78be-4a3b-8827-873a3e28556d",
   "metadata": {},
   "outputs": [],
   "source": [
    "type(shap_values)"
   ]
  },
  {
   "cell_type": "code",
   "execution_count": null,
   "id": "3985ff68-4e36-4775-a44a-26272428addd",
   "metadata": {},
   "outputs": [],
   "source": [
    "shap_values.shape"
   ]
  },
  {
   "cell_type": "code",
   "execution_count": null,
   "id": "ac951e56-2351-4858-9cb9-ab9deef15865",
   "metadata": {},
   "outputs": [],
   "source": [
    "XGB_explainer.expected_value"
   ]
  },
  {
   "cell_type": "markdown",
   "id": "6780c303-a84f-444e-8680-a0c28ecf5935",
   "metadata": {},
   "source": [
    "## Importance des variables pour le 111 ième individu"
   ]
  },
  {
   "cell_type": "code",
   "execution_count": null,
   "id": "7c430ca8-325c-4fa1-8b8d-1fb46ba06d45",
   "metadata": {},
   "outputs": [],
   "source": [
    "plt.figure(figsize=(12,8))\n",
    "shap.bar_plot( shap_values[111,:] , feature_names=X_test.columns , max_display=15, )"
   ]
  },
  {
   "cell_type": "code",
   "execution_count": null,
   "id": "3f7a570a-4494-4a22-a389-817ea3209a4b",
   "metadata": {},
   "outputs": [],
   "source": [
    "XGB_explainer.expected_value"
   ]
  },
  {
   "cell_type": "code",
   "execution_count": null,
   "id": "b47a7a60-824a-497d-a553-15d6aa13c557",
   "metadata": {},
   "outputs": [],
   "source": [
    "shap.force_plot( XGB_explainer.expected_value , shap_values[111,:] , X_test.columns )"
   ]
  },
  {
   "cell_type": "markdown",
   "id": "cad9fff2-1015-40a0-ac8f-d09abf136ccb",
   "metadata": {},
   "source": [
    "## Importance des variables pour un client pris au hasard"
   ]
  },
  {
   "cell_type": "code",
   "execution_count": null,
   "id": "300f6449-0df9-49b1-9e03-e6808ce49dc4",
   "metadata": {},
   "outputs": [],
   "source": [
    "plt.figure(figsize=(12,8))\n",
    "shap.bar_plot( shap_values[np.random.choice(shap_values.shape[0]),:] , feature_names=X_test.columns , max_display=15, )"
   ]
  },
  {
   "cell_type": "code",
   "execution_count": null,
   "id": "51a99027-8044-4fb0-a520-3cdd685fdd50",
   "metadata": {},
   "outputs": [],
   "source": [
    "shap.force_plot( XGB_explainer.expected_value , shap_values[1,:] , X_test.columns )"
   ]
  },
  {
   "cell_type": "code",
   "execution_count": null,
   "id": "32285c3e-d7b0-4d54-8102-abece44ef0b0",
   "metadata": {},
   "outputs": [],
   "source": [
    "shap.force_plot( XGB_explainer.expected_value , shap_values[np.random.choice( X_test.index , 1200 , replace = False),:] , X_test.columns )"
   ]
  },
  {
   "cell_type": "markdown",
   "id": "646a0012-0f67-497a-85ab-e02c621acc8d",
   "metadata": {},
   "source": [
    "## Explication globale"
   ]
  },
  {
   "cell_type": "code",
   "execution_count": null,
   "id": "ec101e3c-9d23-463e-9270-5a546419f891",
   "metadata": {},
   "outputs": [],
   "source": [
    "shap.initjs()\n",
    "shap.summary_plot(shap_values , X_test.columns , plot_type=\"bar\", max_display=20 )"
   ]
  },
  {
   "cell_type": "code",
   "execution_count": null,
   "id": "828a7c80-12fa-4316-9705-905c539f016f",
   "metadata": {},
   "outputs": [],
   "source": [
    "shap.summary_plot(shap_values , features=X_test , feature_names=X_test.columns , plot_type=\"violin\", max_display=20 )"
   ]
  },
  {
   "cell_type": "code",
   "execution_count": null,
   "id": "208ce1f4-2808-4006-9fa8-5c9c15159ca3",
   "metadata": {},
   "outputs": [],
   "source": [
    "shap.waterfall_plot( shap_values[0] , 15 , True)"
   ]
  },
  {
   "cell_type": "code",
   "execution_count": null,
   "id": "62c3f8e9-79ab-4d6f-99e6-25b03d1cc65b",
   "metadata": {},
   "outputs": [],
   "source": []
  }
 ],
 "metadata": {
  "kernelspec": {
   "display_name": "Python 3 (ipykernel)",
   "language": "python",
   "name": "python3"
  },
  "language_info": {
   "codemirror_mode": {
    "name": "ipython",
    "version": 3
   },
   "file_extension": ".py",
   "mimetype": "text/x-python",
   "name": "python",
   "nbconvert_exporter": "python",
   "pygments_lexer": "ipython3",
   "version": "3.10.4"
  }
 },
 "nbformat": 4,
 "nbformat_minor": 5
}
