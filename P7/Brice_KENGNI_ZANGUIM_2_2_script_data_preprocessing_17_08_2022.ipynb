{
 "cells": [
  {
   "cell_type": "markdown",
   "id": "310ca0c4-9ba9-4eec-a42f-a19a6d5c56d7",
   "metadata": {},
   "source": [
    "# <strong> A - Importation des modules </strong>\n",
    "---"
   ]
  },
  {
   "cell_type": "code",
   "execution_count": 1,
   "id": "26bb9a56-e7e7-482b-98a5-6fc45eb69c77",
   "metadata": {},
   "outputs": [
    {
     "name": "stdout",
     "output_type": "stream",
     "text": [
      "importing Jupyter notebook from Brice_KENGNI_ZANGUIM_2_1_script_functions_17_08_2022.ipynb\n"
     ]
    }
   ],
   "source": [
    "############################################\n",
    "%matplotlib inline\n",
    "import warnings\n",
    "warnings.filterwarnings('ignore')\n",
    "\n",
    "###########################################\n",
    "import pandas as pd\n",
    "import spacy\n",
    "from sklearn.pipeline import Pipeline\n",
    "\n",
    "###########################################\n",
    "import import_ipynb\n",
    "from Brice_KENGNI_ZANGUIM_2_1_script_functions_17_08_2022 import *\n"
   ]
  },
  {
   "cell_type": "markdown",
   "id": "d7eebbe0-1e3c-4253-843f-d5af529f6a87",
   "metadata": {},
   "source": [
    "# <strong> B - Importation des données </strong>"
   ]
  },
  {
   "cell_type": "code",
   "execution_count": 2,
   "id": "0adfc049-cf84-41be-b5e1-09676d17eab6",
   "metadata": {},
   "outputs": [],
   "source": [
    "data = pd.read_csv(\"emotion140.csv\", encoding = 'ISO-8859-1')"
   ]
  },
  {
   "cell_type": "code",
   "execution_count": 3,
   "id": "aa6e55b8-9355-4d41-a0e8-501e18d1b7f6",
   "metadata": {},
   "outputs": [
    {
     "data": {
      "text/html": [
       "<div>\n",
       "<style scoped>\n",
       "    .dataframe tbody tr th:only-of-type {\n",
       "        vertical-align: middle;\n",
       "    }\n",
       "\n",
       "    .dataframe tbody tr th {\n",
       "        vertical-align: top;\n",
       "    }\n",
       "\n",
       "    .dataframe thead th {\n",
       "        text-align: right;\n",
       "    }\n",
       "</style>\n",
       "<table border=\"1\" class=\"dataframe\">\n",
       "  <thead>\n",
       "    <tr style=\"text-align: right;\">\n",
       "      <th></th>\n",
       "      <th>labels</th>\n",
       "      <th>text</th>\n",
       "    </tr>\n",
       "  </thead>\n",
       "  <tbody>\n",
       "    <tr>\n",
       "      <th>0</th>\n",
       "      <td>0</td>\n",
       "      <td>is upset that he can't update his Facebook by ...</td>\n",
       "    </tr>\n",
       "    <tr>\n",
       "      <th>1</th>\n",
       "      <td>0</td>\n",
       "      <td>@Kenichan I dived many times for the ball. Man...</td>\n",
       "    </tr>\n",
       "    <tr>\n",
       "      <th>2</th>\n",
       "      <td>0</td>\n",
       "      <td>my whole body feels itchy and like its on fire</td>\n",
       "    </tr>\n",
       "    <tr>\n",
       "      <th>3</th>\n",
       "      <td>0</td>\n",
       "      <td>@nationwideclass no, it's not behaving at all....</td>\n",
       "    </tr>\n",
       "    <tr>\n",
       "      <th>4</th>\n",
       "      <td>0</td>\n",
       "      <td>@Kwesidei not the whole crew</td>\n",
       "    </tr>\n",
       "    <tr>\n",
       "      <th>...</th>\n",
       "      <td>...</td>\n",
       "      <td>...</td>\n",
       "    </tr>\n",
       "    <tr>\n",
       "      <th>1599994</th>\n",
       "      <td>4</td>\n",
       "      <td>Just woke up. Having no school is the best fee...</td>\n",
       "    </tr>\n",
       "    <tr>\n",
       "      <th>1599995</th>\n",
       "      <td>4</td>\n",
       "      <td>TheWDB.com - Very cool to hear old Walt interv...</td>\n",
       "    </tr>\n",
       "    <tr>\n",
       "      <th>1599996</th>\n",
       "      <td>4</td>\n",
       "      <td>Are you ready for your MoJo Makeover? Ask me f...</td>\n",
       "    </tr>\n",
       "    <tr>\n",
       "      <th>1599997</th>\n",
       "      <td>4</td>\n",
       "      <td>Happy 38th Birthday to my boo of alll time!!! ...</td>\n",
       "    </tr>\n",
       "    <tr>\n",
       "      <th>1599998</th>\n",
       "      <td>4</td>\n",
       "      <td>happy #charitytuesday @theNSPCC @SparksCharity...</td>\n",
       "    </tr>\n",
       "  </tbody>\n",
       "</table>\n",
       "<p>1599999 rows × 2 columns</p>\n",
       "</div>"
      ],
      "text/plain": [
       "         labels                                               text\n",
       "0             0  is upset that he can't update his Facebook by ...\n",
       "1             0  @Kenichan I dived many times for the ball. Man...\n",
       "2             0    my whole body feels itchy and like its on fire \n",
       "3             0  @nationwideclass no, it's not behaving at all....\n",
       "4             0                      @Kwesidei not the whole crew \n",
       "...         ...                                                ...\n",
       "1599994       4  Just woke up. Having no school is the best fee...\n",
       "1599995       4  TheWDB.com - Very cool to hear old Walt interv...\n",
       "1599996       4  Are you ready for your MoJo Makeover? Ask me f...\n",
       "1599997       4  Happy 38th Birthday to my boo of alll time!!! ...\n",
       "1599998       4  happy #charitytuesday @theNSPCC @SparksCharity...\n",
       "\n",
       "[1599999 rows x 2 columns]"
      ]
     },
     "execution_count": 3,
     "metadata": {},
     "output_type": "execute_result"
    }
   ],
   "source": [
    "data"
   ]
  },
  {
   "cell_type": "code",
   "execution_count": 4,
   "id": "8bcdefbb-9fe2-4d3b-9bf7-8323b94721a1",
   "metadata": {},
   "outputs": [],
   "source": [
    "data.labels[ data.labels == 4 ] = 1"
   ]
  },
  {
   "cell_type": "code",
   "execution_count": 5,
   "id": "3713dc0b-3a89-4110-80a3-b70738431a0a",
   "metadata": {},
   "outputs": [
    {
     "data": {
      "text/plain": [
       "1    800000\n",
       "0    799999\n",
       "Name: labels, dtype: int64"
      ]
     },
     "execution_count": 5,
     "metadata": {},
     "output_type": "execute_result"
    }
   ],
   "source": [
    "data.labels.value_counts()"
   ]
  },
  {
   "cell_type": "code",
   "execution_count": 6,
   "id": "e72a7b93-f4ce-447c-beab-28a43ef2d3ef",
   "metadata": {},
   "outputs": [
    {
     "data": {
      "text/plain": [
       "labels    0.0\n",
       "text      0.0\n",
       "dtype: float64"
      ]
     },
     "execution_count": 6,
     "metadata": {},
     "output_type": "execute_result"
    }
   ],
   "source": [
    "data.isna().mean()"
   ]
  },
  {
   "cell_type": "code",
   "execution_count": 7,
   "id": "a3a3c154-42b8-42e3-9db8-760e0b2a71c0",
   "metadata": {},
   "outputs": [
    {
     "data": {
      "text/plain": [
       "0.010193131370707107"
      ]
     },
     "execution_count": 7,
     "metadata": {},
     "output_type": "execute_result"
    }
   ],
   "source": [
    "data.duplicated().mean()"
   ]
  },
  {
   "cell_type": "markdown",
   "id": "21e33a4e-9687-4679-97d8-34fbb2b58143",
   "metadata": {},
   "source": [
    "- ### <strong> suppression de duplicatats </strong>"
   ]
  },
  {
   "cell_type": "code",
   "execution_count": 8,
   "id": "cc298358-7385-424a-991b-f9f0d9d8de46",
   "metadata": {},
   "outputs": [
    {
     "data": {
      "text/plain": [
       "0.0"
      ]
     },
     "execution_count": 8,
     "metadata": {},
     "output_type": "execute_result"
    }
   ],
   "source": [
    "data.drop_duplicates(inplace=True)\n",
    "data.duplicated().mean()"
   ]
  },
  {
   "cell_type": "code",
   "execution_count": 9,
   "id": "ef9960d3-47d6-4514-9835-5d12b5dc1b9a",
   "metadata": {},
   "outputs": [
    {
     "data": {
      "text/plain": [
       "1    793506\n",
       "0    790184\n",
       "Name: labels, dtype: int64"
      ]
     },
     "execution_count": 9,
     "metadata": {},
     "output_type": "execute_result"
    }
   ],
   "source": [
    "data.labels.value_counts()"
   ]
  },
  {
   "cell_type": "markdown",
   "id": "5d39054f-99c4-4cf0-951b-5940fabe0ac8",
   "metadata": {},
   "source": [
    "# <strong>  C - TRAIN, VALIDATION et TEST datas </strong> "
   ]
  },
  {
   "cell_type": "markdown",
   "id": "8654dbcb-6c00-4420-a996-8017bdfbe9ae",
   "metadata": {},
   "source": [
    "* ### <strong> Index d'extraction des datas  </strong>"
   ]
  },
  {
   "cell_type": "code",
   "execution_count": 10,
   "id": "95d0fb78-265a-4533-9c07-23ef16386ede",
   "metadata": {},
   "outputs": [],
   "source": [
    "tr_val_test_index = get_train_test_index(data, 'labels',(50000,5000,5000) )"
   ]
  },
  {
   "cell_type": "code",
   "execution_count": 11,
   "id": "4e2933a5-8888-497f-83b8-d8f98bc7524c",
   "metadata": {},
   "outputs": [],
   "source": [
    "train_data = data.loc[tr_val_test_index[0],:]\n",
    "validation_data = data.loc[tr_val_test_index[1],:]\n",
    "test_data = data.loc[tr_val_test_index[2],:]"
   ]
  },
  {
   "cell_type": "markdown",
   "id": "5e834e92-2f73-492c-85a6-b76a85e096b6",
   "metadata": {},
   "source": [
    "# <strong> D - Traitement et néttoyage des tweets </strong> "
   ]
  },
  {
   "cell_type": "code",
   "execution_count": 12,
   "id": "adc7707c-7dc0-4547-a0af-fb390039808d",
   "metadata": {},
   "outputs": [],
   "source": [
    "nlp = spacy.load(\"en_core_web_sm\")"
   ]
  },
  {
   "cell_type": "markdown",
   "id": "9d57b0e2-bc3b-4053-ad2a-ad22ed0f7f6d",
   "metadata": {},
   "source": [
    "* ### <strong> Pipeline de pré-processing  </strong>"
   ]
  },
  {
   "cell_type": "code",
   "execution_count": 13,
   "id": "8da67b47-a25e-4ef2-a0e1-5383ee8acd21",
   "metadata": {},
   "outputs": [],
   "source": [
    "pipe_processing_lemma = Pipeline([(\"RemoveUserName\", RemoveUserName() ),\n",
    "                                (\"LowerCase\", ToLowerCase() ),\n",
    "                                (\"Ponctuation\", Ponctuation() ),\n",
    "                                (\"Lemmatization\",Lemmatization() ),\n",
    "                                (\"StopWords\",StopWord() ),\n",
    "                                (\"RemoveSpace\",RemoveSpace() ) ,\n",
    "                                (\"RemoveURL\",RemoveURL() )\n",
    "                            ])  \n",
    "pipe_processing_stem = Pipeline([(\"RemoveUserName\", RemoveUserName() ),\n",
    "                                (\"LowerCase\", ToLowerCase() ),\n",
    "                                (\"Ponctuation\", Ponctuation() ),\n",
    "                                (\"Stemmatization\",Stemmatization() ),\n",
    "                                (\"StopWords\",StopWord() ),\n",
    "                                (\"RemoveSpace\",RemoveSpace() ) ,\n",
    "                                (\"RemoveURL\",RemoveURL() )\n",
    "                            ])"
   ]
  },
  {
   "cell_type": "markdown",
   "id": "0519d560-feba-4e4d-96e6-722b1d4d6549",
   "metadata": {},
   "source": [
    "* ### <strong>  pré-processing  </strong>"
   ]
  },
  {
   "cell_type": "code",
   "execution_count": 14,
   "id": "46f28771-da4d-4f6c-9937-35b73ef5cf54",
   "metadata": {},
   "outputs": [],
   "source": [
    "preprocess = {\"lemma\":False,\n",
    "              \"stem\" : False }"
   ]
  },
  {
   "cell_type": "markdown",
   "id": "2ef8bb4c-0036-4947-ac69-b28ac20f4413",
   "metadata": {},
   "source": [
    "* * ### <strong>  Lemmatisation  </strong>"
   ]
  },
  {
   "cell_type": "code",
   "execution_count": 15,
   "id": "de770039-8d48-404c-8ed4-603545bb1010",
   "metadata": {},
   "outputs": [],
   "source": [
    "if preprocess[\"lemma\"] :\n",
    "    validation_data_lemma = validation_data.copy()\n",
    "    test_data_lemma = test_data.copy()\n",
    "    train_data_lemma = train_data.copy()\n",
    "    \n",
    "    validation_data_lemma.text = pipe_processing_lemma.transform(validation_data.text)\n",
    "    validation_data_lemma = validation_data_lemma[validation_data_lemma.text.apply(lambda x : len(nlp(x)) > 1)]\n",
    "    validation_data_lemma.to_csv(\"validation_data_lemma.csv\", index=False)\n",
    "    \n",
    "    test_data_lemma.text = pipe_processing_lemma.transform(test_data.text)\n",
    "    test_data_lemma = test_data_lemma[test_data_lemma.text.apply(lambda x : len(nlp(x)) > 1)]\n",
    "    test_data_lemma.to_csv(\"test_data_lemma.csv\", index=False)\n",
    "    \n",
    "    train_data_lemma.text = pipe_processing_lemma.transform(train_data.text)\n",
    "    train_data_lemma = train_data_lemma[train_data_lemma.text.apply(lambda x : len(nlp(x)) > 1)]\n",
    "    train_data_lemma.to_csv(\"train_data_lemma.csv\", index=False)\n",
    "else :\n",
    "    train_data_lemma = pd.read_csv(\"train_data_lemma.csv\")\n",
    "    validation_data_lemma = pd.read_csv(\"validation_data_lemma.csv\")\n",
    "    test_data_lemma = pd.read_csv(\"test_data_lemma.csv\")\n"
   ]
  },
  {
   "cell_type": "markdown",
   "id": "f3444e76-6d20-4cb6-9203-d10c8ec9d133",
   "metadata": {},
   "source": [
    "* * ### <strong>  stematisation  </strong>"
   ]
  },
  {
   "cell_type": "code",
   "execution_count": 16,
   "id": "a8e2d773-b126-4522-a720-1bc21f5de21e",
   "metadata": {},
   "outputs": [],
   "source": [
    "if preprocess[\"stem\"] :\n",
    "    validation_data_stem = validation_data.copy()\n",
    "    test_data_stem = test_data.copy()\n",
    "    train_data_stem = train_data.copy()\n",
    "    \n",
    "    validation_data_stem.text = pipe_processing_stem.transform(validation_data.text)\n",
    "    validation_data_stem = validation_data_stem[validation_data_stem.text.apply(lambda x : len(nlp(x)) > 1)]\n",
    "    validation_data_stem.to_csv(\"validation_data_stem.csv\", index=False)\n",
    "    \n",
    "    test_data_stem.text = pipe_processing_stem.transform(test_data.text)\n",
    "    test_data_stem = test_data_stem[test_data_stem.text.apply(lambda x : len(nlp(x)) > 1)]\n",
    "    test_data_stem.to_csv(\"test_data_stem.csv\", index=False)\n",
    "    \n",
    "    train_data_stem.text = pipe_processing_stem.transform(train_data.text)\n",
    "    train_data_stem = train_data_stem[train_data_stem.text.apply(lambda x : len(nlp(x)) > 1)]\n",
    "    train_data_stem.to_csv(\"train_data_stem.csv\", index=False)\n",
    "else :\n",
    "    train_data_stem = pd.read_csv(\"train_data_stem.csv\")\n",
    "    validation_data_stem = pd.read_csv(\"validation_data_stem.csv\")\n",
    "    test_data_stem = pd.read_csv(\"test_data_stem.csv\")"
   ]
  },
  {
   "cell_type": "code",
   "execution_count": null,
   "id": "8745e931-dc54-40d1-807c-aac07902c0c3",
   "metadata": {},
   "outputs": [],
   "source": []
  }
 ],
 "metadata": {
  "kernelspec": {
   "display_name": "Python 3 (ipykernel)",
   "language": "python",
   "name": "python3"
  },
  "language_info": {
   "codemirror_mode": {
    "name": "ipython",
    "version": 3
   },
   "file_extension": ".py",
   "mimetype": "text/x-python",
   "name": "python",
   "nbconvert_exporter": "python",
   "pygments_lexer": "ipython3",
   "version": "3.9.13"
  }
 },
 "nbformat": 4,
 "nbformat_minor": 5
}
