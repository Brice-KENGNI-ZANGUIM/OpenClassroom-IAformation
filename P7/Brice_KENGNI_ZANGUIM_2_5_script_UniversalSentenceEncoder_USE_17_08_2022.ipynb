{
 "cells": [
  {
   "cell_type": "markdown",
   "id": "c2659c72-433b-4074-afe1-5fe6d170ffec",
   "metadata": {},
   "source": [
    "Forcer tensorflow à utiliser le CPU"
   ]
  },
  {
   "cell_type": "markdown",
   "id": "eb3b81d6-ccf1-479d-b726-0684e3b58d60",
   "metadata": {},
   "source": [
    "import os\n",
    "os.environ[\"CUDA_DEVICE_ORDER\"] = \"PCI_BUS_ID\"   # see issue #152\n",
    "os.environ[\"CUDA_VISIBLE_DEVICES\"] = \"-1\""
   ]
  },
  {
   "cell_type": "markdown",
   "id": "4cb6c5ef-959e-4fc9-ad14-b21c9858bb67",
   "metadata": {},
   "source": [
    "#  <strong> A - Installation de Tensorflow et tensorflow-hub </strong>"
   ]
  },
  {
   "cell_type": "code",
   "execution_count": 1,
   "id": "26158951-068f-415e-8c3d-e4ed4aeb39e4",
   "metadata": {},
   "outputs": [],
   "source": [
    "#!pip3 install --upgrade tensorflow-gpu\n",
    "## Install TF-Hub.\n",
    "#!pip3 install tensorflow-hub"
   ]
  },
  {
   "cell_type": "markdown",
   "id": "4969f3d9-534c-438c-9f4a-d9f217f901cb",
   "metadata": {},
   "source": [
    "#  <strong> B - Importation des modules necessaires </strong>"
   ]
  },
  {
   "cell_type": "code",
   "execution_count": 2,
   "id": "82575aa3-9999-4b8a-8529-b8f5972d0009",
   "metadata": {},
   "outputs": [],
   "source": [
    "import tensorflow as tf\n",
    "import tensorflow_hub as hub\n",
    "import numpy as np\n",
    "import joblib\n",
    "import pandas as pd\n",
    "import os"
   ]
  },
  {
   "cell_type": "markdown",
   "id": "f21766b4-6213-4412-a47e-9b2c9bf4f9c3",
   "metadata": {},
   "source": [
    "#  <strong> C - importation du modèle USE entrainé </strong>"
   ]
  },
  {
   "cell_type": "code",
   "execution_count": 3,
   "id": "146d21a7-b2ee-4fa6-8d9a-000525381ed6",
   "metadata": {},
   "outputs": [],
   "source": [
    "def USE_model():\n",
    "    module_url = \"https://tfhub.dev/google/universal-sentence-encoder/4\" \n",
    "    model = hub.load(module_url)\n",
    "    print (f\"Le module {module_url} a été chargé avec succès . . .\" )\n",
    "    return model"
   ]
  },
  {
   "cell_type": "code",
   "execution_count": 4,
   "id": "52f67b17-5e75-4258-9411-c3baaf0e1cd8",
   "metadata": {},
   "outputs": [
    {
     "name": "stdout",
     "output_type": "stream",
     "text": [
      "Le module https://tfhub.dev/google/universal-sentence-encoder/4 a été chargé avec succès . . .\n"
     ]
    }
   ],
   "source": [
    "if __name__ == \"__main__\" :\n",
    "    model = USE_model()"
   ]
  },
  {
   "cell_type": "code",
   "execution_count": 5,
   "id": "250f30e4-a02c-410c-9452-c25252303867",
   "metadata": {},
   "outputs": [
    {
     "name": "stdout",
     "output_type": "stream",
     "text": [
      "tf.Tensor(\n",
      "[[-0.07539281  0.04100859  0.07033908 ...  0.00422552 -0.05473046\n",
      "  -0.02233353]\n",
      " [-0.07819533 -0.06255737 -0.00334348 ...  0.02908614  0.0010275\n",
      "  -0.05095781]], shape=(2, 512), dtype=float32)\n"
     ]
    }
   ],
   "source": [
    "if __name__ == \"__main__\" :\n",
    "    sentence_embeddings = model([\"Brice est là\",\"Il n'est pas encore parti\"])  # Si on importe la version 4 alors on doit retirer \"[\"outputs\"].numpy() \"\n",
    "    print(sentence_embeddings) "
   ]
  },
  {
   "cell_type": "markdown",
   "id": "d81e3ba2-71ca-46e4-8ec8-8b8978ab2d48",
   "metadata": {},
   "source": [
    "# <strong> D - Importation de données </strong> "
   ]
  },
  {
   "cell_type": "code",
   "execution_count": 6,
   "id": "03c9118f-bfde-4704-bb0f-65e8dd23528e",
   "metadata": {},
   "outputs": [],
   "source": [
    "save = False\n",
    "if save :\n",
    "    data = {\n",
    "                \"validation_data\" : {\"lemma\":pd.read_csv(f\"validation_data_lemma.csv\") , \n",
    "                                   \"stem\":pd.read_csv(f\"validation_data_stem.csv\")\n",
    "                                  },\n",
    "                \"test_data\" : {\"lemma\":pd.read_csv(f\"test_data_lemma.csv\") , \n",
    "                             \"stem\":pd.read_csv(f\"test_data_stem.csv\")\n",
    "                                },\n",
    "                \"train_data\" : {\"lemma\":pd.read_csv(f\"train_data_lemma.csv\") ,\n",
    "                              \"stem\":pd.read_csv(f\"train_data_stem.csv\")\n",
    "                             },\n",
    "            }"
   ]
  },
  {
   "cell_type": "markdown",
   "id": "c15573d7-0f0a-4f89-bdea-9bbf77f2716d",
   "metadata": {},
   "source": [
    "# <strong> E - Sauvegarde des données vectorisées </strong> "
   ]
  },
  {
   "cell_type": "code",
   "execution_count": 7,
   "id": "c4f7aeba-b491-442d-b94b-5221ca7ae5ee",
   "metadata": {},
   "outputs": [],
   "source": [
    "if save :\n",
    "    for data_name in data.keys():\n",
    "        for proc in [\"lemma\",\"stem\"] :\n",
    "            df = list(data[data_name][proc].text.apply( lambda sent : model([sent]).numpy()[0]).values)\n",
    "            pd.DataFrame(df).to_csv(f\"USE_embed_{data_name}_{proc}.csv\",index = False)"
   ]
  },
  {
   "cell_type": "code",
   "execution_count": null,
   "id": "fb14ce97-08dd-481f-b643-219bcb958c45",
   "metadata": {},
   "outputs": [],
   "source": []
  }
 ],
 "metadata": {
  "kernelspec": {
   "display_name": "Python 3 (ipykernel)",
   "language": "python",
   "name": "python3"
  },
  "language_info": {
   "codemirror_mode": {
    "name": "ipython",
    "version": 3
   },
   "file_extension": ".py",
   "mimetype": "text/x-python",
   "name": "python",
   "nbconvert_exporter": "python",
   "pygments_lexer": "ipython3",
   "version": "3.9.13"
  }
 },
 "nbformat": 4,
 "nbformat_minor": 5
}
