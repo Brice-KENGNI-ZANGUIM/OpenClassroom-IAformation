{
 "cells": [
  {
   "cell_type": "markdown",
   "id": "fde6f686-38e8-48c9-936f-00adfe76cc67",
   "metadata": {},
   "source": [
    "# <strong> A - Importation de modules importants </strong>"
   ]
  },
  {
   "cell_type": "markdown",
   "id": "5038aa55-6d6a-49a9-8cfa-05793866fb9a",
   "metadata": {},
   "source": [
    "Forcer tensorflow à utiliser le CPU"
   ]
  },
  {
   "cell_type": "markdown",
   "id": "dc3ed350-04c5-4cc6-ab49-88956b6ae8d1",
   "metadata": {},
   "source": [
    "import os\n",
    "os.environ[\"CUDA_DEVICE_ORDER\"] = \"PCI_BUS_ID\"   # see issue #152\n",
    "os.environ[\"CUDA_VISIBLE_DEVICES\"] = \"-1\""
   ]
  },
  {
   "cell_type": "code",
   "execution_count": 1,
   "id": "acadd2b8-6000-424c-84b6-fdf63067e456",
   "metadata": {},
   "outputs": [
    {
     "name": "stdout",
     "output_type": "stream",
     "text": [
      "importing Jupyter notebook from Brice_KENGNI_ZANGUIM_2_1_script_functions_17_08_2022.ipynb\n",
      "importing Jupyter notebook from Brice_KENGNI_ZANGUIM_2_5_script_UniversalSentenceEncoder_USE_17_08_2022.ipynb\n"
     ]
    }
   ],
   "source": [
    "######################################################################################\n",
    "import pandas as pd\n",
    "import numpy as np\n",
    "import spacy\n",
    "from sklearn import metrics, preprocessing\n",
    "from sklearn.preprocessing import RobustScaler\n",
    "import re\n",
    "######################################################################################\n",
    "\n",
    "import tensorflow.keras as keras\n",
    "from tensorflow.keras.preprocessing.text import Tokenizer\n",
    "from tensorflow.keras.preprocessing.sequence import pad_sequences\n",
    "from tensorflow.keras.preprocessing.text import one_hot\n",
    "from tensorflow.keras.models import Sequential\n",
    "from tensorflow.keras.layers import Dense, LSTM, Embedding, Dropout\n",
    "from keras import optimizers\n",
    "import tensorflow as tf\n",
    "\n",
    "######################################################################################\n",
    "import nltk\n",
    "import re\n",
    "\n",
    "######################################################################################\n",
    "import import_ipynb\n",
    "from Brice_KENGNI_ZANGUIM_2_1_script_functions_17_08_2022 import *\n",
    "from Brice_KENGNI_ZANGUIM_2_5_script_UniversalSentenceEncoder_USE_17_08_2022 import USE_model"
   ]
  },
  {
   "cell_type": "markdown",
   "id": "622aa6a0-1bf4-4a7c-bb3b-667ff3a1bbfc",
   "metadata": {},
   "source": [
    "# <strong> B - Chargement des données </strong>"
   ]
  },
  {
   "cell_type": "code",
   "execution_count": 2,
   "id": "346f5ccb-1da3-4b08-a1fb-7a96d9f03015",
   "metadata": {},
   "outputs": [],
   "source": [
    "nlp = spacy.load(\"en_core_web_sm\")"
   ]
  },
  {
   "cell_type": "code",
   "execution_count": 3,
   "id": "526110e5-3cae-4f9a-932c-6ee54cb4d2be",
   "metadata": {},
   "outputs": [
    {
     "name": "stdout",
     "output_type": "stream",
     "text": [
      "ok 3\n",
      "ok 3\n",
      "ok 3\n"
     ]
    }
   ],
   "source": [
    "data = {}\n",
    "corpus = {}\n",
    "\n",
    "for data_name in [\"train_data\", \"test_data\", \"validation_data\"] :\n",
    "    data[data_name] = pd.read_csv(f\"{data_name}_stem.csv\")\n",
    "    #idx = get_train_test_index( data[data_name] ,\"labels\" ,(150,2,2))\n",
    "    #data[data_name].reset_index(inplace=False).reset_index(inplace=True)\n",
    "    #data[data_name] = data[data_name].loc[idx[0],:]\n",
    "    #print(\"ok 0\")\n",
    "    # Expression regulières\n",
    "    #data[data_name].text = data[data_name].text.apply(lambda sent : re.sub('[^a-zA-Z.]|(?<!\\d)\\.|\\.(?!\\d)',' ',str(sent) ))\n",
    "    #print(\"ok 1\")\n",
    "    # Mots courts\n",
    "    #data[data_name].text = data[data_name].text.apply(lambda sent : \" \".join([ i.text for i in nlp(sent) if len(i.text) > 2 ]))\n",
    "    #print(\"ok 2\")\n",
    "    # Valeurs manquantes\n",
    "    data[data_name].dropna(inplace=True)\n",
    "    print(\"ok 3\")\n",
    "    #  Sauvegarde\n",
    "    data[data_name].to_csv(f'{data_name}_stem.csv', index = False)\n",
    "    \n",
    "    # Corpus en forme de liste\n",
    "    corpus[data_name] = [ i for i in data[data_name].text ]"
   ]
  },
  {
   "cell_type": "code",
   "execution_count": 4,
   "id": "e74fac9a-69e4-4e06-a040-bf43936d52bb",
   "metadata": {},
   "outputs": [
    {
     "data": {
      "text/html": [
       "<div>\n",
       "<style scoped>\n",
       "    .dataframe tbody tr th:only-of-type {\n",
       "        vertical-align: middle;\n",
       "    }\n",
       "\n",
       "    .dataframe tbody tr th {\n",
       "        vertical-align: top;\n",
       "    }\n",
       "\n",
       "    .dataframe thead th {\n",
       "        text-align: right;\n",
       "    }\n",
       "</style>\n",
       "<table border=\"1\" class=\"dataframe\">\n",
       "  <thead>\n",
       "    <tr style=\"text-align: right;\">\n",
       "      <th></th>\n",
       "      <th>labels</th>\n",
       "      <th>text</th>\n",
       "    </tr>\n",
       "  </thead>\n",
       "  <tbody>\n",
       "    <tr>\n",
       "      <th>0</th>\n",
       "      <td>0</td>\n",
       "      <td>day</td>\n",
       "    </tr>\n",
       "    <tr>\n",
       "      <th>1</th>\n",
       "      <td>0</td>\n",
       "      <td>sick spent hour sit shower caus sick stand hel...</td>\n",
       "    </tr>\n",
       "    <tr>\n",
       "      <th>2</th>\n",
       "      <td>0</td>\n",
       "      <td>got newslett fare realli unbeliev shame alread...</td>\n",
       "    </tr>\n",
       "    <tr>\n",
       "      <th>3</th>\n",
       "      <td>0</td>\n",
       "      <td>whi alway fat</td>\n",
       "    </tr>\n",
       "    <tr>\n",
       "      <th>4</th>\n",
       "      <td>0</td>\n",
       "      <td>ryle grace wana steve parti sadli sinc easter ...</td>\n",
       "    </tr>\n",
       "    <tr>\n",
       "      <th>...</th>\n",
       "      <td>...</td>\n",
       "      <td>...</td>\n",
       "    </tr>\n",
       "    <tr>\n",
       "      <th>95764</th>\n",
       "      <td>1</td>\n",
       "      <td>readi mac buy brush</td>\n",
       "    </tr>\n",
       "    <tr>\n",
       "      <th>95765</th>\n",
       "      <td>1</td>\n",
       "      <td>thank consid issuu</td>\n",
       "    </tr>\n",
       "    <tr>\n",
       "      <th>95766</th>\n",
       "      <td>1</td>\n",
       "      <td>throw tell thank eye contact brixton gig manag...</td>\n",
       "    </tr>\n",
       "    <tr>\n",
       "      <th>95767</th>\n",
       "      <td>1</td>\n",
       "      <td>omg offic space wanna steal</td>\n",
       "    </tr>\n",
       "    <tr>\n",
       "      <th>95768</th>\n",
       "      <td>1</td>\n",
       "      <td>happi charitytuesday</td>\n",
       "    </tr>\n",
       "  </tbody>\n",
       "</table>\n",
       "<p>95769 rows × 2 columns</p>\n",
       "</div>"
      ],
      "text/plain": [
       "       labels                                               text\n",
       "0           0                                                day\n",
       "1           0  sick spent hour sit shower caus sick stand hel...\n",
       "2           0  got newslett fare realli unbeliev shame alread...\n",
       "3           0                                      whi alway fat\n",
       "4           0  ryle grace wana steve parti sadli sinc easter ...\n",
       "...       ...                                                ...\n",
       "95764       1                                readi mac buy brush\n",
       "95765       1                                 thank consid issuu\n",
       "95766       1  throw tell thank eye contact brixton gig manag...\n",
       "95767       1                        omg offic space wanna steal\n",
       "95768       1                               happi charitytuesday\n",
       "\n",
       "[95769 rows x 2 columns]"
      ]
     },
     "execution_count": 4,
     "metadata": {},
     "output_type": "execute_result"
    }
   ],
   "source": [
    "data[\"train_data\"]"
   ]
  },
  {
   "cell_type": "code",
   "execution_count": 5,
   "id": "c4624f09-d2b9-45e6-9c55-0cdf416e5d45",
   "metadata": {},
   "outputs": [
    {
     "data": {
      "text/plain": [
       "['day',\n",
       " 'sick spent hour sit shower caus sick stand held puke like champ bed',\n",
       " 'got newslett fare realli unbeliev shame alreadi book paid',\n",
       " 'whi alway fat',\n",
       " 'ryle grace wana steve parti sadli sinc easter wnt abl ohh']"
      ]
     },
     "execution_count": 5,
     "metadata": {},
     "output_type": "execute_result"
    }
   ],
   "source": [
    "corpus[\"train_data\"][0:5]"
   ]
  },
  {
   "cell_type": "markdown",
   "id": "0d33a3f8-cc05-44a4-ab96-0875ba643a17",
   "metadata": {},
   "source": [
    "# <strong> C - Transformation des données  </strong>"
   ]
  },
  {
   "cell_type": "code",
   "execution_count": 6,
   "id": "9b39ed57-5099-4dc5-aa19-c7fcad51df6a",
   "metadata": {},
   "outputs": [],
   "source": [
    "#voc_size = int(data[\"train_data\"].text.apply(lambda x : len(nlp(x))).max()*data[\"train_data\"].shape[0] )\n",
    "voc_size = 5000"
   ]
  },
  {
   "cell_type": "markdown",
   "id": "918a50e5-3418-43eb-85b7-b53fb2d55f6b",
   "metadata": {},
   "source": [
    "* ### <strong> Label encode les mots de chaque phrase </strong>"
   ]
  },
  {
   "cell_type": "code",
   "execution_count": 7,
   "id": "e1d7f96f-f2a2-45eb-8c9e-82702a04a64a",
   "metadata": {},
   "outputs": [],
   "source": [
    "for k in corpus.keys() :\n",
    "     corpus[k] = [one_hot(str(sent) ,voc_size) for sent in corpus[k] ] "
   ]
  },
  {
   "cell_type": "code",
   "execution_count": 8,
   "id": "37f20d88-e25e-408b-b90d-23af5ce12921",
   "metadata": {},
   "outputs": [
    {
     "data": {
      "text/plain": [
       "[[3570],\n",
       " [3872, 2297, 2079, 4992, 1427, 1588, 3872, 1510, 49, 2417, 379, 2464, 678],\n",
       " [2136, 3030, 2822, 3112, 4262, 3751, 4454, 861, 4329]]"
      ]
     },
     "execution_count": 8,
     "metadata": {},
     "output_type": "execute_result"
    }
   ],
   "source": [
    "corpus[\"train_data\"][0:3]"
   ]
  },
  {
   "cell_type": "markdown",
   "id": "2be77a07-b631-47d3-8b76-1bfa0b52290a",
   "metadata": {},
   "source": [
    "* ### <strong> Uniformiser la longueur des phrases encodées </strong>"
   ]
  },
  {
   "cell_type": "code",
   "execution_count": 9,
   "id": "984b9a47-cb9e-4a0a-bda6-5554a5dbd6dc",
   "metadata": {},
   "outputs": [],
   "source": [
    "#sent_len = int(data[\"train_data\"].text.apply(lambda x : len(nlp(x))).max()+ 2 )\n",
    "sent_len = 50"
   ]
  },
  {
   "cell_type": "code",
   "execution_count": 10,
   "id": "007ea053-ae47-4789-a5ea-9cc73df9b0f8",
   "metadata": {},
   "outputs": [],
   "source": [
    "for k in corpus.keys() :\n",
    "     corpus[k] = pad_sequences( corpus[k] , padding=\"pre\" , maxlen = sent_len )"
   ]
  },
  {
   "cell_type": "code",
   "execution_count": 11,
   "id": "7a26a251-1125-4dfc-ad32-df36b5755ae5",
   "metadata": {},
   "outputs": [
    {
     "data": {
      "text/plain": [
       "array([[   0,    0,    0,    0,    0,    0,    0,    0,    0,    0,    0,\n",
       "           0,    0,    0,    0,    0,    0,    0,    0,    0,    0,    0,\n",
       "           0,    0,    0,    0,    0,    0,    0,    0,    0,    0,    0,\n",
       "           0,    0,    0,    0,    0,    0,    0,    0,    0,    0,    0,\n",
       "           0,    0,    0,    0,    0, 3570],\n",
       "       [   0,    0,    0,    0,    0,    0,    0,    0,    0,    0,    0,\n",
       "           0,    0,    0,    0,    0,    0,    0,    0,    0,    0,    0,\n",
       "           0,    0,    0,    0,    0,    0,    0,    0,    0,    0,    0,\n",
       "           0,    0,    0,    0, 3872, 2297, 2079, 4992, 1427, 1588, 3872,\n",
       "        1510,   49, 2417,  379, 2464,  678],\n",
       "       [   0,    0,    0,    0,    0,    0,    0,    0,    0,    0,    0,\n",
       "           0,    0,    0,    0,    0,    0,    0,    0,    0,    0,    0,\n",
       "           0,    0,    0,    0,    0,    0,    0,    0,    0,    0,    0,\n",
       "           0,    0,    0,    0,    0,    0,    0,    0, 2136, 3030, 2822,\n",
       "        3112, 4262, 3751, 4454,  861, 4329]])"
      ]
     },
     "execution_count": 11,
     "metadata": {},
     "output_type": "execute_result"
    }
   ],
   "source": [
    "corpus[\"train_data\"][0:3]"
   ]
  },
  {
   "cell_type": "markdown",
   "id": "4b4ef5be-1abc-457b-b984-79b13f43d908",
   "metadata": {},
   "source": [
    "# <strong> D - Modèle simple : LSTM  </strong>"
   ]
  },
  {
   "cell_type": "markdown",
   "id": "3e852653-28f8-43fe-8207-4bc984971977",
   "metadata": {},
   "source": [
    "* ### <strong> Initialisation </strong>"
   ]
  },
  {
   "cell_type": "code",
   "execution_count": 12,
   "id": "285387e7-d898-45cc-af95-209a2d9b0808",
   "metadata": {},
   "outputs": [],
   "source": [
    "embeding_vector_features = 512"
   ]
  },
  {
   "cell_type": "code",
   "execution_count": 13,
   "id": "f603415a-2e60-43a7-9535-dcebc068094c",
   "metadata": {},
   "outputs": [
    {
     "name": "stdout",
     "output_type": "stream",
     "text": [
      "Model: \"sequential\"\n",
      "_________________________________________________________________\n",
      " Layer (type)                Output Shape              Param #   \n",
      "=================================================================\n",
      " embedding (Embedding)       (None, 50, 512)           2560000   \n",
      "                                                                 \n",
      " lstm (LSTM)                 (None, 50, 128)           328192    \n",
      "                                                                 \n",
      " lstm_1 (LSTM)               (None, 128)               131584    \n",
      "                                                                 \n",
      " dense (Dense)               (None, 1)                 129       \n",
      "                                                                 \n",
      "=================================================================\n",
      "Total params: 3,019,905\n",
      "Trainable params: 3,019,905\n",
      "Non-trainable params: 0\n",
      "_________________________________________________________________\n",
      "None\n"
     ]
    }
   ],
   "source": [
    "model_LSTM = Sequential()\n",
    "\n",
    "model_LSTM.add( Embedding( voc_size , embeding_vector_features, input_length = sent_len ) )\n",
    "model_LSTM.add( LSTM(128, return_sequences=True) )\n",
    "model_LSTM.add( LSTM(128, return_sequences=False) )\n",
    "#model_LSTM.add( Dense( 128 , activation=\"tanh\") )\n",
    "model_LSTM.add( Dense( 1 , activation=\"sigmoid\") )\n",
    "\n",
    "adam = tf.keras.optimizers.Adam(learning_rate=1.e-2)\n",
    "model_LSTM.compile( loss=\"binary_crossentropy\", optimizer= adam,metrics=[\"accuracy\"] )\n",
    "\n",
    "print( model_LSTM.summary() )"
   ]
  },
  {
   "cell_type": "markdown",
   "id": "cb9b6201-5c70-4711-a175-747f103ccde2",
   "metadata": {},
   "source": [
    "* ### <strong> Entrainement et perfermances </strong>"
   ]
  },
  {
   "cell_type": "code",
   "execution_count": 14,
   "id": "9d447bef-e772-4f38-9850-6404df073279",
   "metadata": {},
   "outputs": [
    {
     "name": "stdout",
     "output_type": "stream",
     "text": [
      "Epoch 1/15\n",
      "94/94 [==============================] - 21s 178ms/step - loss: 0.5721 - accuracy: 0.6951 - val_loss: 0.5320 - val_accuracy: 0.7340\n",
      "Epoch 2/15\n",
      "94/94 [==============================] - 15s 162ms/step - loss: 0.5015 - accuracy: 0.7548 - val_loss: 0.5269 - val_accuracy: 0.7342\n",
      "Epoch 3/15\n",
      "94/94 [==============================] - 16s 166ms/step - loss: 0.4734 - accuracy: 0.7730 - val_loss: 0.5387 - val_accuracy: 0.7301\n",
      "Epoch 4/15\n",
      "94/94 [==============================] - 15s 164ms/step - loss: 0.4385 - accuracy: 0.7940 - val_loss: 0.5583 - val_accuracy: 0.7245\n",
      "Epoch 5/15\n",
      "94/94 [==============================] - 16s 167ms/step - loss: 0.4036 - accuracy: 0.8142 - val_loss: 0.5887 - val_accuracy: 0.7170\n",
      "Epoch 6/15\n",
      "94/94 [==============================] - 16s 168ms/step - loss: 0.3702 - accuracy: 0.8323 - val_loss: 0.6334 - val_accuracy: 0.7150\n",
      "Epoch 7/15\n",
      "94/94 [==============================] - 16s 168ms/step - loss: 0.3427 - accuracy: 0.8465 - val_loss: 0.6669 - val_accuracy: 0.7111\n",
      "Epoch 8/15\n",
      "94/94 [==============================] - 16s 166ms/step - loss: 0.3182 - accuracy: 0.8600 - val_loss: 0.6952 - val_accuracy: 0.7100\n",
      "Epoch 9/15\n",
      "94/94 [==============================] - 16s 168ms/step - loss: 0.2968 - accuracy: 0.8700 - val_loss: 0.7559 - val_accuracy: 0.6973\n",
      "Epoch 10/15\n",
      "94/94 [==============================] - 16s 166ms/step - loss: 0.2758 - accuracy: 0.8805 - val_loss: 0.7940 - val_accuracy: 0.7019\n",
      "Epoch 11/15\n",
      "94/94 [==============================] - 16s 166ms/step - loss: 0.2595 - accuracy: 0.8890 - val_loss: 0.8355 - val_accuracy: 0.6980\n",
      "Epoch 12/15\n",
      "94/94 [==============================] - 16s 170ms/step - loss: 0.2498 - accuracy: 0.8930 - val_loss: 0.8512 - val_accuracy: 0.7000\n",
      "Epoch 13/15\n",
      "94/94 [==============================] - 16s 170ms/step - loss: 0.2369 - accuracy: 0.8991 - val_loss: 0.8829 - val_accuracy: 0.6988\n",
      "Epoch 14/15\n",
      "94/94 [==============================] - 16s 168ms/step - loss: 0.2300 - accuracy: 0.9032 - val_loss: 0.8883 - val_accuracy: 0.6885\n",
      "Epoch 15/15\n",
      "94/94 [==============================] - 16s 170ms/step - loss: 0.2166 - accuracy: 0.9094 - val_loss: 0.9798 - val_accuracy: 0.6923\n"
     ]
    },
    {
     "data": {
      "text/plain": [
       "<keras.callbacks.History at 0x1dd52d3fb50>"
      ]
     },
     "execution_count": 14,
     "metadata": {},
     "output_type": "execute_result"
    }
   ],
   "source": [
    "model_LSTM.fit( corpus[\"train_data\"], data[\"train_data\"].labels.values, epochs = 15, batch_size = 1024, \n",
    "                    validation_data = (corpus[\"validation_data\"], data[\"validation_data\"].labels ), use_multiprocessing = True)"
   ]
  },
  {
   "cell_type": "code",
   "execution_count": 15,
   "id": "b7988970-78c3-4911-ad36-28eac8ca6cf6",
   "metadata": {},
   "outputs": [
    {
     "name": "stdout",
     "output_type": "stream",
     "text": [
      "299/299 [==============================] - 7s 17ms/step\n"
     ]
    }
   ],
   "source": [
    "predict_labels = model_LSTM.predict(corpus[\"test_data\"])"
   ]
  },
  {
   "cell_type": "code",
   "execution_count": 16,
   "id": "c0f12a62-1aa9-46cb-83cb-7ed75a450fe3",
   "metadata": {},
   "outputs": [
    {
     "data": {
      "image/png": "[encoded data removed]",
      "text/plain": [
       "<Figure size 900x600 with 1 Axes>"
      ]
     },
     "metadata": {},
     "output_type": "display_data"
    }
   ],
   "source": [
    "print_scores( Y_true= data[\"test_data\"].labels.values , Y_proba= predict_labels.ravel() , plot_kind=\"apr\", fig_sz=(9,6) )"
   ]
  },
  {
   "cell_type": "code",
   "execution_count": 17,
   "id": "f1cd6a6f-e842-4de2-8295-6ae5d904b941",
   "metadata": {},
   "outputs": [
    {
     "data": {
      "text/plain": [
       "array([0, 0, 0, ..., 1, 1, 1], dtype=int64)"
      ]
     },
     "execution_count": 17,
     "metadata": {},
     "output_type": "execute_result"
    }
   ],
   "source": [
    "data[\"test_data\"].labels.values"
   ]
  },
  {
   "cell_type": "code",
   "execution_count": 18,
   "id": "caf1ef16-e4b8-4c58-9384-0d34b62ba5a3",
   "metadata": {},
   "outputs": [
    {
     "data": {
      "text/plain": [
       "array([0.9019315 , 0.99842715, 0.7384971 , ..., 0.04765588, 0.9886756 ,\n",
       "       0.15362312], dtype=float32)"
      ]
     },
     "execution_count": 18,
     "metadata": {},
     "output_type": "execute_result"
    }
   ],
   "source": [
    "predict_labels.ravel()"
   ]
  },
  {
   "cell_type": "code",
   "execution_count": 19,
   "id": "e5fc3e77-b85c-47fd-a5d7-fb43e0fd4c6a",
   "metadata": {},
   "outputs": [
    {
     "data": {
      "text/plain": [
       "0.6286262626262626"
      ]
     },
     "execution_count": 19,
     "metadata": {},
     "output_type": "execute_result"
    }
   ],
   "source": [
    "seuil_min = my_cost( data[\"test_data\"].labels.values , predict_labels.ravel() , poids= 0.9 )['seuil_min'][0]\n",
    "seuil_min"
   ]
  },
  {
   "cell_type": "code",
   "execution_count": 20,
   "id": "bdc95b76-76f7-4bcc-84eb-83a5ebe34f13",
   "metadata": {},
   "outputs": [],
   "source": [
    "Y_lbl_prdct = prediction_function_threshold(Y_proba=predict_labels, seuil= seuil_min ).ravel()"
   ]
  },
  {
   "cell_type": "code",
   "execution_count": 21,
   "id": "fec63734-4523-4fe8-8d3a-a3437ee8abba",
   "metadata": {},
   "outputs": [
    {
     "name": "stdout",
     "output_type": "stream",
     "text": [
      "              precision    recall  f1-score   support\n",
      "\n",
      "           0       0.67      0.76      0.71      4818\n",
      "           1       0.72      0.61      0.66      4738\n",
      "\n",
      "    accuracy                           0.69      9556\n",
      "   macro avg       0.69      0.69      0.69      9556\n",
      "weighted avg       0.69      0.69      0.69      9556\n",
      "\n"
     ]
    }
   ],
   "source": [
    "print( metrics.classification_report( data[\"test_data\"].labels , Y_lbl_prdct ) )"
   ]
  },
  {
   "cell_type": "code",
   "execution_count": 22,
   "id": "14e7f2f4-49bb-48c0-8b1d-ade7de480063",
   "metadata": {},
   "outputs": [
    {
     "data": {
      "image/png": "[encoded data removed]",
      "text/plain": [
       "<Figure size 600x400 with 2 Axes>"
      ]
     },
     "metadata": {},
     "output_type": "display_data"
    }
   ],
   "source": [
    "plot_confusion_matrix( data[\"test_data\"].labels , Y_lbl_prdct, figsize = (6,4) )"
   ]
  },
  {
   "cell_type": "code",
   "execution_count": null,
   "id": "3f5f376d-9daa-4489-a4ea-624a6b4766d6",
   "metadata": {},
   "outputs": [],
   "source": []
  },
  {
   "cell_type": "code",
   "execution_count": null,
   "id": "155cd830-57d7-4c13-b8c6-1f5cfe89bfa7",
   "metadata": {},
   "outputs": [],
   "source": []
  },
  {
   "cell_type": "code",
   "execution_count": null,
   "id": "b99427c2-4ee8-4e3e-a2d2-de495ef10ccd",
   "metadata": {},
   "outputs": [],
   "source": []
  },
  {
   "cell_type": "code",
   "execution_count": null,
   "id": "991c8e3e-1bf5-4cbc-8c61-5104b9395fc3",
   "metadata": {},
   "outputs": [],
   "source": []
  },
  {
   "cell_type": "code",
   "execution_count": null,
   "id": "caa81f2e-b983-4fec-b3a4-418b4159ce5c",
   "metadata": {},
   "outputs": [],
   "source": []
  }
 ],
 "metadata": {
  "kernelspec": {
   "display_name": "Python 3 (ipykernel)",
   "language": "python",
   "name": "python3"
  },
  "language_info": {
   "codemirror_mode": {
    "name": "ipython",
    "version": 3
   },
   "file_extension": ".py",
   "mimetype": "text/x-python",
   "name": "python",
   "nbconvert_exporter": "python",
   "pygments_lexer": "ipython3",
   "version": "3.9.13"
  }
 },
 "nbformat": 4,
 "nbformat_minor": 5
}
