{
 "cells": [
  {
   "cell_type": "markdown",
   "id": "310ca0c4-9ba9-4eec-a42f-a19a6d5c56d7",
   "metadata": {},
   "source": [
    "# <strong> A - Importation des modules </strong>\n",
    "---"
   ]
  },
  {
   "cell_type": "code",
   "execution_count": 1,
   "id": "26bb9a56-e7e7-482b-98a5-6fc45eb69c77",
   "metadata": {},
   "outputs": [
    {
     "name": "stdout",
     "output_type": "stream",
     "text": [
      "importing Jupyter notebook from Brice_KENGNI_ZANGUIM_2_1_script_functions_17_08_2022.ipynb\n"
     ]
    }
   ],
   "source": [
    "############################################\n",
    "%matplotlib inline\n",
    "import warnings\n",
    "warnings.filterwarnings('ignore')\n",
    "\n",
    "###########################################\n",
    "import pandas as pd\n",
    "import spacy\n",
    "import joblib\n",
    "import xgboost as xgb\n",
    "\n",
    "from sklearn.pipeline import Pipeline\n",
    "from sklearn import metrics\n",
    "from sklearn.preprocessing import RobustScaler\n",
    "from sklearn.model_selection import GridSearchCV\n",
    "\n",
    "###########################################\n",
    "import import_ipynb\n",
    "from Brice_KENGNI_ZANGUIM_2_1_script_functions_17_08_2022 import *\n"
   ]
  },
  {
   "cell_type": "markdown",
   "id": "8ea94b33-db37-49c8-ad20-f7629b74daad",
   "metadata": {},
   "source": [
    "# <strong> B - Importation de données </strong> "
   ]
  },
  {
   "cell_type": "code",
   "execution_count": 2,
   "id": "de770039-8d48-404c-8ed4-603545bb1010",
   "metadata": {},
   "outputs": [],
   "source": [
    "train_data = {\"lemma\":pd.read_csv(f\"train_data_lemma.csv\") ,\n",
    "              \"stem\":pd.read_csv(f\"train_data_stem.csv\")\n",
    "             }\n",
    "validation_data = {\"lemma\":pd.read_csv(f\"validation_data_lemma.csv\") , \n",
    "                   \"stem\":pd.read_csv(f\"validation_data_stem.csv\")\n",
    "                  }\n",
    "test_data = {\"lemma\":pd.read_csv(f\"test_data_lemma.csv\") , \n",
    "             \"stem\":pd.read_csv(f\"test_data_stem.csv\")\n",
    "            }"
   ]
  },
  {
   "cell_type": "markdown",
   "id": "2493f723-fd0d-486b-baa4-f3e9655410e9",
   "metadata": {},
   "source": [
    "# Suppression de valeurs manquantes et sauvegarde\n",
    "\n",
    "for i in [ \"lemma\", \"stem\" ] :\n",
    "    train_data[i].dropna(inplace=True)\n",
    "    train_data[i].to_csv(f\"train_data_{i}.csv\", index=False)\n",
    "    \n",
    "    validation_data[i].dropna(inplace=True)\n",
    "    validation_data[i].to_csv(f\"validation_data_{i}.csv\", index=False)\n",
    "\n",
    "    test_data[i].dropna(inplace=True)\n",
    "    test_data[i].to_csv(f\"test_data_{i}.csv\", index=False)\n"
   ]
  },
  {
   "cell_type": "markdown",
   "id": "a862f87d-453a-411b-b5fd-79f51e96bdee",
   "metadata": {},
   "source": [
    "# <strong> C - Features engineering </strong> "
   ]
  },
  {
   "cell_type": "code",
   "execution_count": 3,
   "id": "b3dd6762-f1cf-4c20-ba82-23eee1aa403a",
   "metadata": {},
   "outputs": [],
   "source": [
    "encoding_type = \"TFIDF\"\n",
    "n_gram_range = (1,1)"
   ]
  },
  {
   "cell_type": "code",
   "execution_count": 4,
   "id": "753ace26-a30b-48d7-9552-edd703080972",
   "metadata": {},
   "outputs": [
    {
     "data": {
      "text/html": [
       "<div>\n",
       "<style scoped>\n",
       "    .dataframe tbody tr th:only-of-type {\n",
       "        vertical-align: middle;\n",
       "    }\n",
       "\n",
       "    .dataframe tbody tr th {\n",
       "        vertical-align: top;\n",
       "    }\n",
       "\n",
       "    .dataframe thead th {\n",
       "        text-align: right;\n",
       "    }\n",
       "</style>\n",
       "<table border=\"1\" class=\"dataframe\">\n",
       "  <thead>\n",
       "    <tr style=\"text-align: right;\">\n",
       "      <th></th>\n",
       "      <th>aaah</th>\n",
       "      <th>aah</th>\n",
       "      <th>aaron</th>\n",
       "      <th>abandon</th>\n",
       "      <th>abc</th>\n",
       "      <th>ability</th>\n",
       "      <th>abit</th>\n",
       "      <th>able</th>\n",
       "      <th>absolute</th>\n",
       "      <th>absolutely</th>\n",
       "      <th>...</th>\n",
       "      <th>yup</th>\n",
       "      <th>yur</th>\n",
       "      <th>zac</th>\n",
       "      <th>zero</th>\n",
       "      <th>zip</th>\n",
       "      <th>zoe</th>\n",
       "      <th>zombie</th>\n",
       "      <th>zone</th>\n",
       "      <th>zoo</th>\n",
       "      <th>zzz</th>\n",
       "    </tr>\n",
       "  </thead>\n",
       "  <tbody>\n",
       "    <tr>\n",
       "      <th>0</th>\n",
       "      <td>0.0</td>\n",
       "      <td>0.0</td>\n",
       "      <td>0.0</td>\n",
       "      <td>0.0</td>\n",
       "      <td>0.0</td>\n",
       "      <td>0.0</td>\n",
       "      <td>0.0</td>\n",
       "      <td>0.000000</td>\n",
       "      <td>0.0</td>\n",
       "      <td>0.0</td>\n",
       "      <td>...</td>\n",
       "      <td>0.0</td>\n",
       "      <td>0.0</td>\n",
       "      <td>0.0</td>\n",
       "      <td>0.0</td>\n",
       "      <td>0.0</td>\n",
       "      <td>0.0</td>\n",
       "      <td>0.0</td>\n",
       "      <td>0.0</td>\n",
       "      <td>0.0</td>\n",
       "      <td>0.0</td>\n",
       "    </tr>\n",
       "    <tr>\n",
       "      <th>1</th>\n",
       "      <td>0.0</td>\n",
       "      <td>0.0</td>\n",
       "      <td>0.0</td>\n",
       "      <td>0.0</td>\n",
       "      <td>0.0</td>\n",
       "      <td>0.0</td>\n",
       "      <td>0.0</td>\n",
       "      <td>0.000000</td>\n",
       "      <td>0.0</td>\n",
       "      <td>0.0</td>\n",
       "      <td>...</td>\n",
       "      <td>0.0</td>\n",
       "      <td>0.0</td>\n",
       "      <td>0.0</td>\n",
       "      <td>0.0</td>\n",
       "      <td>0.0</td>\n",
       "      <td>0.0</td>\n",
       "      <td>0.0</td>\n",
       "      <td>0.0</td>\n",
       "      <td>0.0</td>\n",
       "      <td>0.0</td>\n",
       "    </tr>\n",
       "    <tr>\n",
       "      <th>2</th>\n",
       "      <td>0.0</td>\n",
       "      <td>0.0</td>\n",
       "      <td>0.0</td>\n",
       "      <td>0.0</td>\n",
       "      <td>0.0</td>\n",
       "      <td>0.0</td>\n",
       "      <td>0.0</td>\n",
       "      <td>0.264086</td>\n",
       "      <td>0.0</td>\n",
       "      <td>0.0</td>\n",
       "      <td>...</td>\n",
       "      <td>0.0</td>\n",
       "      <td>0.0</td>\n",
       "      <td>0.0</td>\n",
       "      <td>0.0</td>\n",
       "      <td>0.0</td>\n",
       "      <td>0.0</td>\n",
       "      <td>0.0</td>\n",
       "      <td>0.0</td>\n",
       "      <td>0.0</td>\n",
       "      <td>0.0</td>\n",
       "    </tr>\n",
       "    <tr>\n",
       "      <th>3</th>\n",
       "      <td>0.0</td>\n",
       "      <td>0.0</td>\n",
       "      <td>0.0</td>\n",
       "      <td>0.0</td>\n",
       "      <td>0.0</td>\n",
       "      <td>0.0</td>\n",
       "      <td>0.0</td>\n",
       "      <td>0.000000</td>\n",
       "      <td>0.0</td>\n",
       "      <td>0.0</td>\n",
       "      <td>...</td>\n",
       "      <td>0.0</td>\n",
       "      <td>0.0</td>\n",
       "      <td>0.0</td>\n",
       "      <td>0.0</td>\n",
       "      <td>0.0</td>\n",
       "      <td>0.0</td>\n",
       "      <td>0.0</td>\n",
       "      <td>0.0</td>\n",
       "      <td>0.0</td>\n",
       "      <td>0.0</td>\n",
       "    </tr>\n",
       "    <tr>\n",
       "      <th>4</th>\n",
       "      <td>0.0</td>\n",
       "      <td>0.0</td>\n",
       "      <td>0.0</td>\n",
       "      <td>0.0</td>\n",
       "      <td>0.0</td>\n",
       "      <td>0.0</td>\n",
       "      <td>0.0</td>\n",
       "      <td>0.000000</td>\n",
       "      <td>0.0</td>\n",
       "      <td>0.0</td>\n",
       "      <td>...</td>\n",
       "      <td>0.0</td>\n",
       "      <td>0.0</td>\n",
       "      <td>0.0</td>\n",
       "      <td>0.0</td>\n",
       "      <td>0.0</td>\n",
       "      <td>0.0</td>\n",
       "      <td>0.0</td>\n",
       "      <td>0.0</td>\n",
       "      <td>0.0</td>\n",
       "      <td>0.0</td>\n",
       "    </tr>\n",
       "  </tbody>\n",
       "</table>\n",
       "<p>5 rows × 4933 columns</p>\n",
       "</div>"
      ],
      "text/plain": [
       "   aaah  aah  aaron  abandon  abc  ability  abit      able  absolute  \\\n",
       "0   0.0  0.0    0.0      0.0  0.0      0.0   0.0  0.000000       0.0   \n",
       "1   0.0  0.0    0.0      0.0  0.0      0.0   0.0  0.000000       0.0   \n",
       "2   0.0  0.0    0.0      0.0  0.0      0.0   0.0  0.264086       0.0   \n",
       "3   0.0  0.0    0.0      0.0  0.0      0.0   0.0  0.000000       0.0   \n",
       "4   0.0  0.0    0.0      0.0  0.0      0.0   0.0  0.000000       0.0   \n",
       "\n",
       "   absolutely  ...  yup  yur  zac  zero  zip  zoe  zombie  zone  zoo  zzz  \n",
       "0         0.0  ...  0.0  0.0  0.0   0.0  0.0  0.0     0.0   0.0  0.0  0.0  \n",
       "1         0.0  ...  0.0  0.0  0.0   0.0  0.0  0.0     0.0   0.0  0.0  0.0  \n",
       "2         0.0  ...  0.0  0.0  0.0   0.0  0.0  0.0     0.0   0.0  0.0  0.0  \n",
       "3         0.0  ...  0.0  0.0  0.0   0.0  0.0  0.0     0.0   0.0  0.0  0.0  \n",
       "4         0.0  ...  0.0  0.0  0.0   0.0  0.0  0.0     0.0   0.0  0.0  0.0  \n",
       "\n",
       "[5 rows x 4933 columns]"
      ]
     },
     "execution_count": 4,
     "metadata": {},
     "output_type": "execute_result"
    }
   ],
   "source": [
    "train_data_emb, vocab = {}, {}\n",
    "\n",
    "for k in train_data.keys() :\n",
    "    train_data_emb[k] = document_encoding_algo(train_data[k],'text',encoding_type, min_df = 0.0001 , max_df = 1., \n",
    "                                        n_gram=n_gram_range, get_vocabulary=False)\n",
    "\n",
    "    vocab[k] = document_encoding_algo(train_data[k],'text',encoding_type, min_df = 0.0001 , max_df = 1., n_gram=n_gram_range, get_vocabulary=True)\n",
    "\n",
    "train_data_emb[\"lemma\"].head()"
   ]
  },
  {
   "cell_type": "code",
   "execution_count": 5,
   "id": "35e6e11f-b778-4a30-bbeb-7246570dd6cf",
   "metadata": {},
   "outputs": [
    {
     "data": {
      "text/html": [
       "<div>\n",
       "<style scoped>\n",
       "    .dataframe tbody tr th:only-of-type {\n",
       "        vertical-align: middle;\n",
       "    }\n",
       "\n",
       "    .dataframe tbody tr th {\n",
       "        vertical-align: top;\n",
       "    }\n",
       "\n",
       "    .dataframe thead th {\n",
       "        text-align: right;\n",
       "    }\n",
       "</style>\n",
       "<table border=\"1\" class=\"dataframe\">\n",
       "  <thead>\n",
       "    <tr style=\"text-align: right;\">\n",
       "      <th></th>\n",
       "      <th>aaah</th>\n",
       "      <th>aah</th>\n",
       "      <th>aaron</th>\n",
       "      <th>abandon</th>\n",
       "      <th>abc</th>\n",
       "      <th>ability</th>\n",
       "      <th>abit</th>\n",
       "      <th>able</th>\n",
       "      <th>absolute</th>\n",
       "      <th>absolutely</th>\n",
       "      <th>...</th>\n",
       "      <th>yup</th>\n",
       "      <th>yur</th>\n",
       "      <th>zac</th>\n",
       "      <th>zero</th>\n",
       "      <th>zip</th>\n",
       "      <th>zoe</th>\n",
       "      <th>zombie</th>\n",
       "      <th>zone</th>\n",
       "      <th>zoo</th>\n",
       "      <th>zzz</th>\n",
       "    </tr>\n",
       "  </thead>\n",
       "  <tbody>\n",
       "    <tr>\n",
       "      <th>0</th>\n",
       "      <td>0.0</td>\n",
       "      <td>0.0</td>\n",
       "      <td>0.0</td>\n",
       "      <td>0.0</td>\n",
       "      <td>0.0</td>\n",
       "      <td>0.0</td>\n",
       "      <td>0.0</td>\n",
       "      <td>0.0</td>\n",
       "      <td>0.0</td>\n",
       "      <td>0.0</td>\n",
       "      <td>...</td>\n",
       "      <td>0.0</td>\n",
       "      <td>0.0</td>\n",
       "      <td>0.0</td>\n",
       "      <td>0.0</td>\n",
       "      <td>0.0</td>\n",
       "      <td>0.0</td>\n",
       "      <td>0.0</td>\n",
       "      <td>0.0</td>\n",
       "      <td>0.0</td>\n",
       "      <td>0.0</td>\n",
       "    </tr>\n",
       "    <tr>\n",
       "      <th>1</th>\n",
       "      <td>0.0</td>\n",
       "      <td>0.0</td>\n",
       "      <td>0.0</td>\n",
       "      <td>0.0</td>\n",
       "      <td>0.0</td>\n",
       "      <td>0.0</td>\n",
       "      <td>0.0</td>\n",
       "      <td>0.0</td>\n",
       "      <td>0.0</td>\n",
       "      <td>0.0</td>\n",
       "      <td>...</td>\n",
       "      <td>0.0</td>\n",
       "      <td>0.0</td>\n",
       "      <td>0.0</td>\n",
       "      <td>0.0</td>\n",
       "      <td>0.0</td>\n",
       "      <td>0.0</td>\n",
       "      <td>0.0</td>\n",
       "      <td>0.0</td>\n",
       "      <td>0.0</td>\n",
       "      <td>0.0</td>\n",
       "    </tr>\n",
       "    <tr>\n",
       "      <th>2</th>\n",
       "      <td>0.0</td>\n",
       "      <td>0.0</td>\n",
       "      <td>0.0</td>\n",
       "      <td>0.0</td>\n",
       "      <td>0.0</td>\n",
       "      <td>0.0</td>\n",
       "      <td>0.0</td>\n",
       "      <td>0.0</td>\n",
       "      <td>0.0</td>\n",
       "      <td>0.0</td>\n",
       "      <td>...</td>\n",
       "      <td>0.0</td>\n",
       "      <td>0.0</td>\n",
       "      <td>0.0</td>\n",
       "      <td>0.0</td>\n",
       "      <td>0.0</td>\n",
       "      <td>0.0</td>\n",
       "      <td>0.0</td>\n",
       "      <td>0.0</td>\n",
       "      <td>0.0</td>\n",
       "      <td>0.0</td>\n",
       "    </tr>\n",
       "    <tr>\n",
       "      <th>3</th>\n",
       "      <td>0.0</td>\n",
       "      <td>0.0</td>\n",
       "      <td>0.0</td>\n",
       "      <td>0.0</td>\n",
       "      <td>0.0</td>\n",
       "      <td>0.0</td>\n",
       "      <td>0.0</td>\n",
       "      <td>0.0</td>\n",
       "      <td>0.0</td>\n",
       "      <td>0.0</td>\n",
       "      <td>...</td>\n",
       "      <td>0.0</td>\n",
       "      <td>0.0</td>\n",
       "      <td>0.0</td>\n",
       "      <td>0.0</td>\n",
       "      <td>0.0</td>\n",
       "      <td>0.0</td>\n",
       "      <td>0.0</td>\n",
       "      <td>0.0</td>\n",
       "      <td>0.0</td>\n",
       "      <td>0.0</td>\n",
       "    </tr>\n",
       "    <tr>\n",
       "      <th>4</th>\n",
       "      <td>0.0</td>\n",
       "      <td>0.0</td>\n",
       "      <td>0.0</td>\n",
       "      <td>0.0</td>\n",
       "      <td>0.0</td>\n",
       "      <td>0.0</td>\n",
       "      <td>0.0</td>\n",
       "      <td>0.0</td>\n",
       "      <td>0.0</td>\n",
       "      <td>0.0</td>\n",
       "      <td>...</td>\n",
       "      <td>0.0</td>\n",
       "      <td>0.0</td>\n",
       "      <td>0.0</td>\n",
       "      <td>0.0</td>\n",
       "      <td>0.0</td>\n",
       "      <td>0.0</td>\n",
       "      <td>0.0</td>\n",
       "      <td>0.0</td>\n",
       "      <td>0.0</td>\n",
       "      <td>0.0</td>\n",
       "    </tr>\n",
       "  </tbody>\n",
       "</table>\n",
       "<p>5 rows × 4933 columns</p>\n",
       "</div>"
      ],
      "text/plain": [
       "   aaah  aah  aaron  abandon  abc  ability  abit  able  absolute  absolutely  \\\n",
       "0   0.0  0.0    0.0      0.0  0.0      0.0   0.0   0.0       0.0         0.0   \n",
       "1   0.0  0.0    0.0      0.0  0.0      0.0   0.0   0.0       0.0         0.0   \n",
       "2   0.0  0.0    0.0      0.0  0.0      0.0   0.0   0.0       0.0         0.0   \n",
       "3   0.0  0.0    0.0      0.0  0.0      0.0   0.0   0.0       0.0         0.0   \n",
       "4   0.0  0.0    0.0      0.0  0.0      0.0   0.0   0.0       0.0         0.0   \n",
       "\n",
       "   ...  yup  yur  zac  zero  zip  zoe  zombie  zone  zoo  zzz  \n",
       "0  ...  0.0  0.0  0.0   0.0  0.0  0.0     0.0   0.0  0.0  0.0  \n",
       "1  ...  0.0  0.0  0.0   0.0  0.0  0.0     0.0   0.0  0.0  0.0  \n",
       "2  ...  0.0  0.0  0.0   0.0  0.0  0.0     0.0   0.0  0.0  0.0  \n",
       "3  ...  0.0  0.0  0.0   0.0  0.0  0.0     0.0   0.0  0.0  0.0  \n",
       "4  ...  0.0  0.0  0.0   0.0  0.0  0.0     0.0   0.0  0.0  0.0  \n",
       "\n",
       "[5 rows x 4933 columns]"
      ]
     },
     "execution_count": 5,
     "metadata": {},
     "output_type": "execute_result"
    }
   ],
   "source": [
    "validation_data_emb= {}\n",
    "\n",
    "for k in train_data.keys() :\n",
    "    validation_data_emb[k] = document_encoding_algo(validation_data[k],'text',encoding_type, min_df = 0.0001 , max_df = 1.0, \n",
    "                                             n_gram=n_gram_range, vocabulaire=vocab[k] )\n",
    "    \n",
    "validation_data_emb[\"lemma\"].head()"
   ]
  },
  {
   "cell_type": "code",
   "execution_count": 6,
   "id": "f192639e-788b-4802-ad14-4b1518456cfd",
   "metadata": {},
   "outputs": [
    {
     "data": {
      "text/html": [
       "<div>\n",
       "<style scoped>\n",
       "    .dataframe tbody tr th:only-of-type {\n",
       "        vertical-align: middle;\n",
       "    }\n",
       "\n",
       "    .dataframe tbody tr th {\n",
       "        vertical-align: top;\n",
       "    }\n",
       "\n",
       "    .dataframe thead th {\n",
       "        text-align: right;\n",
       "    }\n",
       "</style>\n",
       "<table border=\"1\" class=\"dataframe\">\n",
       "  <thead>\n",
       "    <tr style=\"text-align: right;\">\n",
       "      <th></th>\n",
       "      <th>aaah</th>\n",
       "      <th>aah</th>\n",
       "      <th>aaron</th>\n",
       "      <th>abandon</th>\n",
       "      <th>abc</th>\n",
       "      <th>ability</th>\n",
       "      <th>abit</th>\n",
       "      <th>able</th>\n",
       "      <th>absolute</th>\n",
       "      <th>absolutely</th>\n",
       "      <th>...</th>\n",
       "      <th>yup</th>\n",
       "      <th>yur</th>\n",
       "      <th>zac</th>\n",
       "      <th>zero</th>\n",
       "      <th>zip</th>\n",
       "      <th>zoe</th>\n",
       "      <th>zombie</th>\n",
       "      <th>zone</th>\n",
       "      <th>zoo</th>\n",
       "      <th>zzz</th>\n",
       "    </tr>\n",
       "  </thead>\n",
       "  <tbody>\n",
       "    <tr>\n",
       "      <th>0</th>\n",
       "      <td>0.0</td>\n",
       "      <td>0.0</td>\n",
       "      <td>0.0</td>\n",
       "      <td>0.0</td>\n",
       "      <td>0.0</td>\n",
       "      <td>0.0</td>\n",
       "      <td>0.0</td>\n",
       "      <td>0.0</td>\n",
       "      <td>0.0</td>\n",
       "      <td>0.0</td>\n",
       "      <td>...</td>\n",
       "      <td>0.0</td>\n",
       "      <td>0.0</td>\n",
       "      <td>0.0</td>\n",
       "      <td>0.0</td>\n",
       "      <td>0.0</td>\n",
       "      <td>0.0</td>\n",
       "      <td>0.0</td>\n",
       "      <td>0.0</td>\n",
       "      <td>0.0</td>\n",
       "      <td>0.0</td>\n",
       "    </tr>\n",
       "    <tr>\n",
       "      <th>1</th>\n",
       "      <td>0.0</td>\n",
       "      <td>0.0</td>\n",
       "      <td>0.0</td>\n",
       "      <td>0.0</td>\n",
       "      <td>0.0</td>\n",
       "      <td>0.0</td>\n",
       "      <td>0.0</td>\n",
       "      <td>0.0</td>\n",
       "      <td>0.0</td>\n",
       "      <td>0.0</td>\n",
       "      <td>...</td>\n",
       "      <td>0.0</td>\n",
       "      <td>0.0</td>\n",
       "      <td>0.0</td>\n",
       "      <td>0.0</td>\n",
       "      <td>0.0</td>\n",
       "      <td>0.0</td>\n",
       "      <td>0.0</td>\n",
       "      <td>0.0</td>\n",
       "      <td>0.0</td>\n",
       "      <td>0.0</td>\n",
       "    </tr>\n",
       "    <tr>\n",
       "      <th>2</th>\n",
       "      <td>0.0</td>\n",
       "      <td>0.0</td>\n",
       "      <td>0.0</td>\n",
       "      <td>0.0</td>\n",
       "      <td>0.0</td>\n",
       "      <td>0.0</td>\n",
       "      <td>0.0</td>\n",
       "      <td>0.0</td>\n",
       "      <td>0.0</td>\n",
       "      <td>0.0</td>\n",
       "      <td>...</td>\n",
       "      <td>0.0</td>\n",
       "      <td>0.0</td>\n",
       "      <td>0.0</td>\n",
       "      <td>0.0</td>\n",
       "      <td>0.0</td>\n",
       "      <td>0.0</td>\n",
       "      <td>0.0</td>\n",
       "      <td>0.0</td>\n",
       "      <td>0.0</td>\n",
       "      <td>0.0</td>\n",
       "    </tr>\n",
       "    <tr>\n",
       "      <th>3</th>\n",
       "      <td>0.0</td>\n",
       "      <td>0.0</td>\n",
       "      <td>0.0</td>\n",
       "      <td>0.0</td>\n",
       "      <td>0.0</td>\n",
       "      <td>0.0</td>\n",
       "      <td>0.0</td>\n",
       "      <td>0.0</td>\n",
       "      <td>0.0</td>\n",
       "      <td>0.0</td>\n",
       "      <td>...</td>\n",
       "      <td>0.0</td>\n",
       "      <td>0.0</td>\n",
       "      <td>0.0</td>\n",
       "      <td>0.0</td>\n",
       "      <td>0.0</td>\n",
       "      <td>0.0</td>\n",
       "      <td>0.0</td>\n",
       "      <td>0.0</td>\n",
       "      <td>0.0</td>\n",
       "      <td>0.0</td>\n",
       "    </tr>\n",
       "    <tr>\n",
       "      <th>4</th>\n",
       "      <td>0.0</td>\n",
       "      <td>0.0</td>\n",
       "      <td>0.0</td>\n",
       "      <td>0.0</td>\n",
       "      <td>0.0</td>\n",
       "      <td>0.0</td>\n",
       "      <td>0.0</td>\n",
       "      <td>0.0</td>\n",
       "      <td>0.0</td>\n",
       "      <td>0.0</td>\n",
       "      <td>...</td>\n",
       "      <td>0.0</td>\n",
       "      <td>0.0</td>\n",
       "      <td>0.0</td>\n",
       "      <td>0.0</td>\n",
       "      <td>0.0</td>\n",
       "      <td>0.0</td>\n",
       "      <td>0.0</td>\n",
       "      <td>0.0</td>\n",
       "      <td>0.0</td>\n",
       "      <td>0.0</td>\n",
       "    </tr>\n",
       "  </tbody>\n",
       "</table>\n",
       "<p>5 rows × 4933 columns</p>\n",
       "</div>"
      ],
      "text/plain": [
       "   aaah  aah  aaron  abandon  abc  ability  abit  able  absolute  absolutely  \\\n",
       "0   0.0  0.0    0.0      0.0  0.0      0.0   0.0   0.0       0.0         0.0   \n",
       "1   0.0  0.0    0.0      0.0  0.0      0.0   0.0   0.0       0.0         0.0   \n",
       "2   0.0  0.0    0.0      0.0  0.0      0.0   0.0   0.0       0.0         0.0   \n",
       "3   0.0  0.0    0.0      0.0  0.0      0.0   0.0   0.0       0.0         0.0   \n",
       "4   0.0  0.0    0.0      0.0  0.0      0.0   0.0   0.0       0.0         0.0   \n",
       "\n",
       "   ...  yup  yur  zac  zero  zip  zoe  zombie  zone  zoo  zzz  \n",
       "0  ...  0.0  0.0  0.0   0.0  0.0  0.0     0.0   0.0  0.0  0.0  \n",
       "1  ...  0.0  0.0  0.0   0.0  0.0  0.0     0.0   0.0  0.0  0.0  \n",
       "2  ...  0.0  0.0  0.0   0.0  0.0  0.0     0.0   0.0  0.0  0.0  \n",
       "3  ...  0.0  0.0  0.0   0.0  0.0  0.0     0.0   0.0  0.0  0.0  \n",
       "4  ...  0.0  0.0  0.0   0.0  0.0  0.0     0.0   0.0  0.0  0.0  \n",
       "\n",
       "[5 rows x 4933 columns]"
      ]
     },
     "execution_count": 6,
     "metadata": {},
     "output_type": "execute_result"
    }
   ],
   "source": [
    "test_data_emb = {}\n",
    "\n",
    "for k in test_data.keys() :\n",
    "    test_data_emb[k] = document_encoding_algo(test_data[k],'text',encoding_type, min_df = 0.0001 , max_df = 1.0,\n",
    "                                           n_gram=n_gram_range, vocabulaire=vocab[k])\n",
    "test_data_emb[\"lemma\"].head()"
   ]
  },
  {
   "cell_type": "markdown",
   "id": "ce6d9f91-94ad-46a9-ae61-57a18d6705f9",
   "metadata": {},
   "source": [
    "# <strong> F - Modèle simple : XGBOOST  </strong> "
   ]
  },
  {
   "cell_type": "markdown",
   "id": "3efd76ab-847a-4a3b-b263-21c87dec768b",
   "metadata": {},
   "source": [
    "* ### <strong>  Scorer </strong>"
   ]
  },
  {
   "cell_type": "code",
   "execution_count": 7,
   "id": "777bb681-351d-40a2-8c57-02818f28d36f",
   "metadata": {},
   "outputs": [],
   "source": [
    "my_scorer = metrics.make_scorer( my_cost , scorer = True, poids = 0.7 , greater_is_better=False ,\n",
    "                                 needs_proba= False ,needs_threshold=True )"
   ]
  },
  {
   "cell_type": "markdown",
   "id": "f881f839-4262-4bd6-847f-42b582ece569",
   "metadata": {},
   "source": [
    "* ### <strong>  Pipaline et Grid_cv </strong>"
   ]
  },
  {
   "cell_type": "code",
   "execution_count": 8,
   "id": "8b48df74-458b-4cfe-8417-80be5fe9fcc4",
   "metadata": {},
   "outputs": [],
   "source": [
    "params = { \"XGBOOST__n_estimators\" : [200,250,300] }\n",
    "\n",
    "pipe_classifier =  {}\n",
    "for proc in [\"lemma\", \"stem\"]: \n",
    "    pipe_classifier[proc] = Pipeline([ (\"RobustScaler\", RobustScaler() ),\n",
    "                                       (\"XGBOOST\", xgb.XGBClassifier( n_jobs = os.cpu_count() , objective=\"binary:logistic\",\n",
    "                                                          n_estimators=100,) )\n",
    "                                     ])\n",
    "\n",
    "grid_cv =  {}\n",
    "for proc in [\"lemma\", \"stem\"]: \n",
    "    grid_cv[proc] = GridSearchCV( pipe_classifier[proc] , param_grid= params, cv = 3 , scoring = my_scorer, \n",
    "                                 return_train_score=True, error_score='raise', verbose=4 )"
   ]
  },
  {
   "cell_type": "markdown",
   "id": "41553043-5f5a-4e36-97af-754c88a34ef0",
   "metadata": {},
   "source": [
    "* ### <strong>  Cross Validation </strong>"
   ]
  },
  {
   "cell_type": "code",
   "execution_count": 9,
   "id": "e7b2bb78-6f7e-441d-9a00-738f8935cf98",
   "metadata": {},
   "outputs": [],
   "source": [
    "cross_validate = False\n",
    "\n",
    "if cross_validate :\n",
    "    total_score = [ ]\n",
    "\n",
    "    for proc in [ \"lemma\" , \"stem\" ] :\n",
    "        print(f\"Processing par {proc} :\")\n",
    "        grid_cv[proc].fit(train_data_emb[proc] , train_data[proc].labels )\n",
    "\n",
    "        total_score.append({\n",
    "                            \"modèle\" : f\"XGBOOST_{proc}\" ,\n",
    "                            \"Meilleur score\" : grid_cv[proc].best_score_ ,\n",
    "                            \"Meilleurs paramètres\" : grid_cv[proc].best_params_ ,\n",
    "                            })\n",
    "        \n",
    "    df_recap = pd.DataFrame(total_score , columns=[\"modèle\",\"Meilleur score\",\"Meilleurs paramètres\"])\n",
    "    df_recap.to_csv(\"modèle_simple_cross_validation.csv\",index = False)\n",
    "    #df_recap#.style.highlight_max(axis = 0 , color = 'green').highlight_min(axis = 0 , color=\"red\" )\n",
    "    \n",
    "    #  Le meilleur modèle de preprocessing est retenu\n",
    "    best_proc = df_recap.loc[ np.argmax(df_recap.loc[:,\"Meilleur score\"]) , \"modèle\"][8:]\n",
    "    pipe_classifier = grid_cv[best_proc].best_estimator_\n",
    "    \n",
    "    # Sauvegarde de la meilleure méthode de processing dans un fichier texte\n",
    "    with open(\"best_proc_simple_model.txt\", \"w\", encoding=\"UTF-8\") as f :\n",
    "        f.write(best_proc)\n",
    "    \n",
    "    # Sauvegarde du meilleur modèle\n",
    "    joblib.dump( pipe_classifier ,\"best_simple_model.sav\" )\n",
    "else :\n",
    "    # Recapitulatif de la cross validation\n",
    "    df_recap = pd.read_csv(\"modèle_simple_cross_validation.csv\")\n",
    "    # Meilleur modèle\n",
    "    #pipe_classifier = joblib.load(\"best_simple_model.sav\")\n",
    "    # Meilleure méthode de processing\n",
    "    with open(\"best_proc_simple_model.txt\", \"r\") as f :\n",
    "        best_proc = f.read()\n"
   ]
  },
  {
   "cell_type": "markdown",
   "id": "7c7ffb16-204b-457e-bfc2-1a2e26473b55",
   "metadata": {},
   "source": [
    "* ### <strong> Meilleur méthode de préprocessing  </strong>"
   ]
  },
  {
   "cell_type": "code",
   "execution_count": 10,
   "id": "8d377836-c2c9-46f1-beb1-18b46aebf0ad",
   "metadata": {},
   "outputs": [
    {
     "name": "stdout",
     "output_type": "stream",
     "text": [
      "stem\n"
     ]
    }
   ],
   "source": [
    "print(best_proc)"
   ]
  },
  {
   "cell_type": "markdown",
   "id": "3cf6417e-ac73-4879-86cd-18b30e65bc06",
   "metadata": {},
   "source": [
    "* ### <strong> Recapitulatif de la cross validation  </strong>"
   ]
  },
  {
   "cell_type": "code",
   "execution_count": 11,
   "id": "b8408ef6-4cdc-4faa-b4e6-b416f5b2723c",
   "metadata": {},
   "outputs": [
    {
     "data": {
      "text/html": [
       "<div>\n",
       "<style scoped>\n",
       "    .dataframe tbody tr th:only-of-type {\n",
       "        vertical-align: middle;\n",
       "    }\n",
       "\n",
       "    .dataframe tbody tr th {\n",
       "        vertical-align: top;\n",
       "    }\n",
       "\n",
       "    .dataframe thead th {\n",
       "        text-align: right;\n",
       "    }\n",
       "</style>\n",
       "<table border=\"1\" class=\"dataframe\">\n",
       "  <thead>\n",
       "    <tr style=\"text-align: right;\">\n",
       "      <th></th>\n",
       "      <th>modèle</th>\n",
       "      <th>Meilleur score</th>\n",
       "      <th>Meilleurs paramètres</th>\n",
       "    </tr>\n",
       "  </thead>\n",
       "  <tbody>\n",
       "    <tr>\n",
       "      <th>0</th>\n",
       "      <td>XGBOOST_lemma</td>\n",
       "      <td>-0.239984</td>\n",
       "      <td>{'XGBOOST__n_estimators': 300}</td>\n",
       "    </tr>\n",
       "    <tr>\n",
       "      <th>1</th>\n",
       "      <td>XGBOOST_stem</td>\n",
       "      <td>-0.233766</td>\n",
       "      <td>{'XGBOOST__n_estimators': 300}</td>\n",
       "    </tr>\n",
       "  </tbody>\n",
       "</table>\n",
       "</div>"
      ],
      "text/plain": [
       "          modèle  Meilleur score            Meilleurs paramètres\n",
       "0  XGBOOST_lemma       -0.239984  {'XGBOOST__n_estimators': 300}\n",
       "1   XGBOOST_stem       -0.233766  {'XGBOOST__n_estimators': 300}"
      ]
     },
     "execution_count": 11,
     "metadata": {},
     "output_type": "execute_result"
    }
   ],
   "source": [
    "df_recap"
   ]
  },
  {
   "cell_type": "code",
   "execution_count": 12,
   "id": "fb5e87ab-ebad-46c0-8904-143d197bd013",
   "metadata": {},
   "outputs": [
    {
     "name": "stdout",
     "output_type": "stream",
     "text": [
      "[01:18:32] WARNING: C:\\Windows\\Temp\\abs_557yfx631l\\croots\\recipe\\xgboost-split_1659548953302\\work\\src\\learner.cc:1115: Starting in XGBoost 1.3.0, the default evaluation metric used with the objective 'binary:logistic' was changed from 'error' to 'logloss'. Explicitly set eval_metric if you'd like to restore the old behavior.\n"
     ]
    },
    {
     "data": {
      "text/html": [
       "<style>#sk-container-id-1 {color: black;background-color: white;}#sk-container-id-1 pre{padding: 0;}#sk-container-id-1 div.sk-toggleable {background-color: white;}#sk-container-id-1 label.sk-toggleable__label {cursor: pointer;display: block;width: 100%;margin-bottom: 0;padding: 0.3em;box-sizing: border-box;text-align: center;}#sk-container-id-1 label.sk-toggleable__label-arrow:before {content: \"▸\";float: left;margin-right: 0.25em;color: #696969;}#sk-container-id-1 label.sk-toggleable__label-arrow:hover:before {color: black;}#sk-container-id-1 div.sk-estimator:hover label.sk-toggleable__label-arrow:before {color: black;}#sk-container-id-1 div.sk-toggleable__content {max-height: 0;max-width: 0;overflow: hidden;text-align: left;background-color: #f0f8ff;}#sk-container-id-1 div.sk-toggleable__content pre {margin: 0.2em;color: black;border-radius: 0.25em;background-color: #f0f8ff;}#sk-container-id-1 input.sk-toggleable__control:checked~div.sk-toggleable__content {max-height: 200px;max-width: 100%;overflow: auto;}#sk-container-id-1 input.sk-toggleable__control:checked~label.sk-toggleable__label-arrow:before {content: \"▾\";}#sk-container-id-1 div.sk-estimator input.sk-toggleable__control:checked~label.sk-toggleable__label {background-color: #d4ebff;}#sk-container-id-1 div.sk-label input.sk-toggleable__control:checked~label.sk-toggleable__label {background-color: #d4ebff;}#sk-container-id-1 input.sk-hidden--visually {border: 0;clip: rect(1px 1px 1px 1px);clip: rect(1px, 1px, 1px, 1px);height: 1px;margin: -1px;overflow: hidden;padding: 0;position: absolute;width: 1px;}#sk-container-id-1 div.sk-estimator {font-family: monospace;background-color: #f0f8ff;border: 1px dotted black;border-radius: 0.25em;box-sizing: border-box;margin-bottom: 0.5em;}#sk-container-id-1 div.sk-estimator:hover {background-color: #d4ebff;}#sk-container-id-1 div.sk-parallel-item::after {content: \"\";width: 100%;border-bottom: 1px solid gray;flex-grow: 1;}#sk-container-id-1 div.sk-label:hover label.sk-toggleable__label {background-color: #d4ebff;}#sk-container-id-1 div.sk-serial::before {content: \"\";position: absolute;border-left: 1px solid gray;box-sizing: border-box;top: 0;bottom: 0;left: 50%;z-index: 0;}#sk-container-id-1 div.sk-serial {display: flex;flex-direction: column;align-items: center;background-color: white;padding-right: 0.2em;padding-left: 0.2em;position: relative;}#sk-container-id-1 div.sk-item {position: relative;z-index: 1;}#sk-container-id-1 div.sk-parallel {display: flex;align-items: stretch;justify-content: center;background-color: white;position: relative;}#sk-container-id-1 div.sk-item::before, #sk-container-id-1 div.sk-parallel-item::before {content: \"\";position: absolute;border-left: 1px solid gray;box-sizing: border-box;top: 0;bottom: 0;left: 50%;z-index: -1;}#sk-container-id-1 div.sk-parallel-item {display: flex;flex-direction: column;z-index: 1;position: relative;background-color: white;}#sk-container-id-1 div.sk-parallel-item:first-child::after {align-self: flex-end;width: 50%;}#sk-container-id-1 div.sk-parallel-item:last-child::after {align-self: flex-start;width: 50%;}#sk-container-id-1 div.sk-parallel-item:only-child::after {width: 0;}#sk-container-id-1 div.sk-dashed-wrapped {border: 1px dashed gray;margin: 0 0.4em 0.5em 0.4em;box-sizing: border-box;padding-bottom: 0.4em;background-color: white;}#sk-container-id-1 div.sk-label label {font-family: monospace;font-weight: bold;display: inline-block;line-height: 1.2em;}#sk-container-id-1 div.sk-label-container {text-align: center;}#sk-container-id-1 div.sk-container {/* jupyter's `normalize.less` sets `[hidden] { display: none; }` but bootstrap.min.css set `[hidden] { display: none !important; }` so we also need the `!important` here to be able to override the default hidden behavior on the sphinx rendered scikit-learn.org. See: https://github.com/scikit-learn/scikit-learn/issues/21755 */display: inline-block !important;position: relative;}#sk-container-id-1 div.sk-text-repr-fallback {display: none;}</style><div id=\"sk-container-id-1\" class=\"sk-top-container\"><div class=\"sk-text-repr-fallback\"><pre>Pipeline(steps=[(&#x27;RobustScaler&#x27;, RobustScaler()),\n",
       "                (&#x27;XGBOOST&#x27;,\n",
       "                 XGBClassifier(base_score=0.5, booster=&#x27;gbtree&#x27;,\n",
       "                               colsample_bylevel=1, colsample_bynode=1,\n",
       "                               colsample_bytree=1, enable_categorical=False,\n",
       "                               gamma=0, gpu_id=-1, importance_type=None,\n",
       "                               interaction_constraints=&#x27;&#x27;,\n",
       "                               learning_rate=0.300000012, max_delta_step=0,\n",
       "                               max_depth=6, min_child_weight=1, missing=nan,\n",
       "                               monotone_constraints=&#x27;()&#x27;, n_estimators=300,\n",
       "                               n_jobs=8, num_parallel_tree=1, predictor=&#x27;auto&#x27;,\n",
       "                               random_state=0, reg_alpha=0, reg_lambda=1,\n",
       "                               scale_pos_weight=1, subsample=1,\n",
       "                               tree_method=&#x27;exact&#x27;, validate_parameters=1,\n",
       "                               verbosity=None))])</pre><b>In a Jupyter environment, please rerun this cell to show the HTML representation or trust the notebook. <br />On GitHub, the HTML representation is unable to render, please try loading this page with nbviewer.org.</b></div><div class=\"sk-container\" hidden><div class=\"sk-item sk-dashed-wrapped\"><div class=\"sk-label-container\"><div class=\"sk-label sk-toggleable\"><input class=\"sk-toggleable__control sk-hidden--visually\" id=\"sk-estimator-id-1\" type=\"checkbox\" ><label for=\"sk-estimator-id-1\" class=\"sk-toggleable__label sk-toggleable__label-arrow\">Pipeline</label><div class=\"sk-toggleable__content\"><pre>Pipeline(steps=[(&#x27;RobustScaler&#x27;, RobustScaler()),\n",
       "                (&#x27;XGBOOST&#x27;,\n",
       "                 XGBClassifier(base_score=0.5, booster=&#x27;gbtree&#x27;,\n",
       "                               colsample_bylevel=1, colsample_bynode=1,\n",
       "                               colsample_bytree=1, enable_categorical=False,\n",
       "                               gamma=0, gpu_id=-1, importance_type=None,\n",
       "                               interaction_constraints=&#x27;&#x27;,\n",
       "                               learning_rate=0.300000012, max_delta_step=0,\n",
       "                               max_depth=6, min_child_weight=1, missing=nan,\n",
       "                               monotone_constraints=&#x27;()&#x27;, n_estimators=300,\n",
       "                               n_jobs=8, num_parallel_tree=1, predictor=&#x27;auto&#x27;,\n",
       "                               random_state=0, reg_alpha=0, reg_lambda=1,\n",
       "                               scale_pos_weight=1, subsample=1,\n",
       "                               tree_method=&#x27;exact&#x27;, validate_parameters=1,\n",
       "                               verbosity=None))])</pre></div></div></div><div class=\"sk-serial\"><div class=\"sk-item\"><div class=\"sk-estimator sk-toggleable\"><input class=\"sk-toggleable__control sk-hidden--visually\" id=\"sk-estimator-id-2\" type=\"checkbox\" ><label for=\"sk-estimator-id-2\" class=\"sk-toggleable__label sk-toggleable__label-arrow\">RobustScaler</label><div class=\"sk-toggleable__content\"><pre>RobustScaler()</pre></div></div></div><div class=\"sk-item\"><div class=\"sk-estimator sk-toggleable\"><input class=\"sk-toggleable__control sk-hidden--visually\" id=\"sk-estimator-id-3\" type=\"checkbox\" ><label for=\"sk-estimator-id-3\" class=\"sk-toggleable__label sk-toggleable__label-arrow\">XGBClassifier</label><div class=\"sk-toggleable__content\"><pre>XGBClassifier(base_score=0.5, booster=&#x27;gbtree&#x27;, colsample_bylevel=1,\n",
       "              colsample_bynode=1, colsample_bytree=1, enable_categorical=False,\n",
       "              gamma=0, gpu_id=-1, importance_type=None,\n",
       "              interaction_constraints=&#x27;&#x27;, learning_rate=0.300000012,\n",
       "              max_delta_step=0, max_depth=6, min_child_weight=1, missing=nan,\n",
       "              monotone_constraints=&#x27;()&#x27;, n_estimators=300, n_jobs=8,\n",
       "              num_parallel_tree=1, predictor=&#x27;auto&#x27;, random_state=0,\n",
       "              reg_alpha=0, reg_lambda=1, scale_pos_weight=1, subsample=1,\n",
       "              tree_method=&#x27;exact&#x27;, validate_parameters=1, verbosity=None)</pre></div></div></div></div></div></div></div>"
      ],
      "text/plain": [
       "Pipeline(steps=[('RobustScaler', RobustScaler()),\n",
       "                ('XGBOOST',\n",
       "                 XGBClassifier(base_score=0.5, booster='gbtree',\n",
       "                               colsample_bylevel=1, colsample_bynode=1,\n",
       "                               colsample_bytree=1, enable_categorical=False,\n",
       "                               gamma=0, gpu_id=-1, importance_type=None,\n",
       "                               interaction_constraints='',\n",
       "                               learning_rate=0.300000012, max_delta_step=0,\n",
       "                               max_depth=6, min_child_weight=1, missing=nan,\n",
       "                               monotone_constraints='()', n_estimators=300,\n",
       "                               n_jobs=8, num_parallel_tree=1, predictor='auto',\n",
       "                               random_state=0, reg_alpha=0, reg_lambda=1,\n",
       "                               scale_pos_weight=1, subsample=1,\n",
       "                               tree_method='exact', validate_parameters=1,\n",
       "                               verbosity=None))])"
      ]
     },
     "execution_count": 12,
     "metadata": {},
     "output_type": "execute_result"
    }
   ],
   "source": [
    "pipe_classifier = Pipeline([ (\"RobustScaler\", RobustScaler() ),\n",
    "                             (\"XGBOOST\", xgb.XGBClassifier( n_jobs = os.cpu_count() , objective=\"binary:logistic\",\n",
    "                                                          n_estimators=300,) )\n",
    "                                     ])\n",
    "\n",
    "pipe_classifier.fit( train_data_emb[best_proc] , train_data[best_proc].labels)"
   ]
  },
  {
   "cell_type": "markdown",
   "id": "b09a3845-3976-4e2f-a81b-f7976a99d360",
   "metadata": {},
   "source": [
    "* ### <strong>  Acquisition des probabilités qu'un tweet soit positif  </strong>"
   ]
  },
  {
   "cell_type": "code",
   "execution_count": 13,
   "id": "a2629138-0ce9-4457-b4fd-8340f9f57301",
   "metadata": {},
   "outputs": [],
   "source": [
    "Y_proba_XGB = pipe_classifier.predict_proba(test_data_emb[best_proc])[:,1]"
   ]
  },
  {
   "cell_type": "markdown",
   "id": "b6c245cf-9c97-4bd7-acbc-21b73233aab2",
   "metadata": {},
   "source": [
    "* ### <strong>  Heatmap : Variation de Coût métier avec le poids et la valeur de seuil de probabilité  </strong>"
   ]
  },
  {
   "cell_type": "code",
   "execution_count": 14,
   "id": "b07c383e-a233-4fd2-b3db-15f8f4b38702",
   "metadata": {},
   "outputs": [],
   "source": [
    "weight = np.linspace( 0 , 1. , 100 )\n",
    "thres = np.linspace( 0. , 1. , 100  )\n",
    "\n",
    "cout_metier = [[ my_cost( test_data[best_proc].labels, Y_proba_XGB, poids=w, seuil=t) for t in thres ] for w in weight ]"
   ]
  },
  {
   "cell_type": "code",
   "execution_count": 15,
   "id": "d0061e67-0673-4971-808c-44dc8ab3a615",
   "metadata": {},
   "outputs": [
    {
     "data": {
      "image/png": "[encoded data removed]",
      "text/plain": [
       "<Figure size 1200x800 with 2 Axes>"
      ]
     },
     "metadata": {},
     "output_type": "display_data"
    }
   ],
   "source": [
    "figsize = (12,8)\n",
    "plt.figure(figsize=figsize)\n",
    "#thres, weight = np.meshgrid(thres , weight, sparse=False)\n",
    "plt.title(\"Cout_métier\",size =2*figsize[0])\n",
    "plt.contourf(thres , weight , cout_metier, 40, cmap = \"hot_r\")\n",
    "#plt.axis('scaled')\n",
    "plt.ylabel(\"poids\", size = 1.5*figsize[0] )\n",
    "plt.xlabel(\"seuil\", size = 1.5*figsize[0])\n",
    "plt.colorbar()\n",
    "plt.show()"
   ]
  },
  {
   "cell_type": "markdown",
   "id": "5066af45-06df-4a2e-83c6-e9fb48a8d499",
   "metadata": {},
   "source": [
    "* ### <strong>  Choix de la valeur du Poids </strong>"
   ]
  },
  {
   "cell_type": "code",
   "execution_count": 16,
   "id": "4c05de87-6acb-4953-8630-9c850c0ed86a",
   "metadata": {},
   "outputs": [],
   "source": [
    "Poids = 0.7"
   ]
  },
  {
   "cell_type": "markdown",
   "id": "a368d852-99cd-48c6-8e61-68a5e94931ad",
   "metadata": {},
   "source": [
    "* ### <strong>  Représentation graphique des métriques usuelles et fonction de coute métier  </strong>"
   ]
  },
  {
   "cell_type": "code",
   "execution_count": 17,
   "id": "5395418c-e654-4b06-bd9e-1b6cd4cd1e1e",
   "metadata": {},
   "outputs": [
    {
     "data": {
      "image/png": "[encoded data removed]",
      "text/plain": [
       "<Figure size 1000x700 with 1 Axes>"
      ]
     },
     "metadata": {},
     "output_type": "display_data"
    }
   ],
   "source": [
    "print_scores( Y_true=test_data[best_proc].labels, Y_proba = Y_proba_XGB, line_width = 3.5, seuil = np.linspace( 0, 0.9, 90 ),\n",
    "             plot_kind = \"aprc\", give_results = False , show_graph = True, poids = Poids, fig_sz = (10,7) )"
   ]
  },
  {
   "cell_type": "markdown",
   "id": "00815b39-1644-4a29-abad-374b61509123",
   "metadata": {},
   "source": [
    "* ### <strong> Valeur de seuil de probabilité pour un cout métier minimum  </strong>"
   ]
  },
  {
   "cell_type": "code",
   "execution_count": 18,
   "id": "ae8b53ad-daee-4444-87be-8dcaebca2ccd",
   "metadata": {},
   "outputs": [
    {
     "data": {
      "text/plain": [
       "0.5485454545454546"
      ]
     },
     "execution_count": 18,
     "metadata": {},
     "output_type": "execute_result"
    }
   ],
   "source": [
    "seuil_min = my_cost(test_data[best_proc].labels , Y_proba_XGB, poids= Poids )['seuil_min'][0]\n",
    "seuil_min"
   ]
  },
  {
   "cell_type": "markdown",
   "id": "bb887fbc-7333-4a80-a670-6558a68b2eb7",
   "metadata": {},
   "source": [
    "* ### <strong> Prédiction à partir de la valeur de seuil  </strong>"
   ]
  },
  {
   "cell_type": "code",
   "execution_count": 19,
   "id": "e143ec08-3350-4933-aa7d-281a9c9f9467",
   "metadata": {},
   "outputs": [],
   "source": [
    "Y_test_predict = prediction_function_threshold ( Y_proba= Y_proba_XGB , seuil = seuil_min ) \n",
    "Y_train_predict = prediction_function_threshold ( Y_proba= pipe_classifier.predict_proba(train_data_emb[best_proc])[:,1] ,\n",
    "                                                  seuil = seuil_min ) "
   ]
  },
  {
   "cell_type": "markdown",
   "id": "638b37ae-dd5a-40ca-9516-332cd2a14df7",
   "metadata": {},
   "source": [
    "* ### <strong> Accuracy des donnée d'entrainement  </strong>"
   ]
  },
  {
   "cell_type": "code",
   "execution_count": 20,
   "id": "a52f3104-e388-4a59-9d1d-78a64e52d9be",
   "metadata": {},
   "outputs": [
    {
     "data": {
      "text/plain": [
       "0.7893994925288976"
      ]
     },
     "execution_count": 20,
     "metadata": {},
     "output_type": "execute_result"
    }
   ],
   "source": [
    "metrics.accuracy_score( train_data[best_proc].labels, Y_train_predict ) "
   ]
  },
  {
   "cell_type": "markdown",
   "id": "ca6a4b24-2910-49c0-8201-7dda6781993a",
   "metadata": {},
   "source": [
    "* ### <strong> Accuracy des donnée de test  </strong>"
   ]
  },
  {
   "cell_type": "code",
   "execution_count": 21,
   "id": "c3d22cb0-fb3d-492d-90b2-a7414fd65d8c",
   "metadata": {},
   "outputs": [
    {
     "data": {
      "text/plain": [
       "0.7437212222687317"
      ]
     },
     "execution_count": 21,
     "metadata": {},
     "output_type": "execute_result"
    }
   ],
   "source": [
    "metrics.accuracy_score( test_data[best_proc].labels, Y_test_predict )"
   ]
  },
  {
   "cell_type": "code",
   "execution_count": 22,
   "id": "aa1e6317-1a5a-49fd-a785-4577d032f409",
   "metadata": {},
   "outputs": [
    {
     "data": {
      "image/png": "[encoded data removed]",
      "text/plain": [
       "<Figure size 700x500 with 2 Axes>"
      ]
     },
     "metadata": {},
     "output_type": "display_data"
    }
   ],
   "source": [
    "plot_confusion_matrix( test_data[best_proc].labels , Y_test_predict , figsize=(7,5) )"
   ]
  },
  {
   "cell_type": "code",
   "execution_count": 23,
   "id": "222195d9-f84a-48bd-8718-a33bfbb0d526",
   "metadata": {},
   "outputs": [
    {
     "name": "stdout",
     "output_type": "stream",
     "text": [
      "              precision    recall  f1-score   support\n",
      "\n",
      "           0       0.74      0.76      0.75      4818\n",
      "           1       0.75      0.73      0.74      4738\n",
      "\n",
      "    accuracy                           0.74      9556\n",
      "   macro avg       0.74      0.74      0.74      9556\n",
      "weighted avg       0.74      0.74      0.74      9556\n",
      "\n"
     ]
    }
   ],
   "source": [
    "print( metrics.classification_report(test_data[best_proc].labels , Y_test_predict) )"
   ]
  },
  {
   "cell_type": "code",
   "execution_count": null,
   "id": "0383aa73-d69d-4e09-8b78-ba1e19304538",
   "metadata": {},
   "outputs": [],
   "source": []
  }
 ],
 "metadata": {
  "kernelspec": {
   "display_name": "Python 3 (ipykernel)",
   "language": "python",
   "name": "python3"
  },
  "language_info": {
   "codemirror_mode": {
    "name": "ipython",
    "version": 3
   },
   "file_extension": ".py",
   "mimetype": "text/x-python",
   "name": "python",
   "nbconvert_exporter": "python",
   "pygments_lexer": "ipython3",
   "version": "3.9.13"
  }
 },
 "nbformat": 4,
 "nbformat_minor": 5
}
