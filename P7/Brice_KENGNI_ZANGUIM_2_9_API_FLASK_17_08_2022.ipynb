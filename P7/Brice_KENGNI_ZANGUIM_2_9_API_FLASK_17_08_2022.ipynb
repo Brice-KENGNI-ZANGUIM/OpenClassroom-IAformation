{
 "cells": [
  {
   "cell_type": "markdown",
   "id": "fde6f686-38e8-48c9-936f-00adfe76cc67",
   "metadata": {},
   "source": [
    "# <strong> A - Importation de modules importants </strong>"
   ]
  }
 ],
 "metadata": {
  "kernelspec": {
   "display_name": "Python 3 (ipykernel)",
   "language": "python",
   "name": "python3"
  },
  "language_info": {
   "codemirror_mode": {
    "name": "ipython",
    "version": 3
   },
   "file_extension": ".py",
   "mimetype": "text/x-python",
   "name": "python",
   "nbconvert_exporter": "python",
   "pygments_lexer": "ipython3",
   "version": "3.9.13"
  }
 },
 "nbformat": 4,
 "nbformat_minor": 5
}
