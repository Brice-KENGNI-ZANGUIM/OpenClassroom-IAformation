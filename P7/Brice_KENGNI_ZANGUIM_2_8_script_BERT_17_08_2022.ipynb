{
 "cells": [
  {
   "cell_type": "markdown",
   "id": "a2ef9b23-fad0-492a-b269-5eb375d815d5",
   "metadata": {},
   "source": [
    "https://colab.research.google.com/drive/1xyaAMav_gTo_KvpHrO05zWFhmUaILfEd?usp=sharing"
   ]
  },
  {
   "cell_type": "markdown",
   "id": "fde6f686-38e8-48c9-936f-00adfe76cc67",
   "metadata": {},
   "source": [
    "# <strong> A - Importation de modules importants </strong>"
   ]
  },
  {
   "cell_type": "code",
   "execution_count": 1,
   "id": "1819960e-09c9-42d0-ac0f-f9a224b24391",
   "metadata": {},
   "outputs": [],
   "source": [
    "# Transformers installation\n",
    "#! pip install transformers\n",
    "# To install from source instead of the last release, comment the command above and uncomment the following one.\n",
    "# ! pip install git+https://github.com/huggingface/transformers.git"
   ]
  },
  {
   "cell_type": "code",
   "execution_count": 2,
   "id": "7fbac6d6-0ee8-4d86-ad39-96835dda4086",
   "metadata": {},
   "outputs": [
    {
     "name": "stdout",
     "output_type": "stream",
     "text": [
      "importing Jupyter notebook from Brice_KENGNI_ZANGUIM_2_1_script_functions_17_08_2022.ipynb\n"
     ]
    }
   ],
   "source": [
    "import pandas as pd\n",
    "import numpy as np\n",
    "\n",
    "######################################################################################\n",
    "import import_ipynb\n",
    "from Brice_KENGNI_ZANGUIM_2_1_script_functions_17_08_2022 import get_train_test_index, print_scores, plot_confusion_matrix, World_cloud_show"
   ]
  },
  {
   "cell_type": "markdown",
   "id": "622aa6a0-1bf4-4a7c-bb3b-667ff3a1bbfc",
   "metadata": {},
   "source": [
    "# <strong> B - Chargement des données </strong>"
   ]
  },
  {
   "cell_type": "code",
   "execution_count": 3,
   "id": "6b25b1bf-3384-4105-80e5-f05d0b530d37",
   "metadata": {},
   "outputs": [],
   "source": [
    "data = {}\n",
    "for data_name in [\"train_data\",\"test_data\",\"validation_data\"] : \n",
    "    data[data_name] = pd.read_csv(f\"{data_name}_lemma.csv\")\n",
    "    data[data_name] = data[data_name].loc[ get_train_test_index(data[data_name],\"labels\",(1000,2,2) )[0] ,: ]\n",
    "    data[data_name].dropna( inplace = True )"
   ]
  },
  {
   "cell_type": "code",
   "execution_count": 4,
   "id": "c7d52287-86aa-4118-8362-2010d2bd3658",
   "metadata": {},
   "outputs": [],
   "source": [
    "sentences= {}\n",
    "labels = {}\n",
    "\n",
    "for data_name in [\"train_data\",\"test_data\",\"validation_data\"] : \n",
    "    sentences[data_name] = data[data_name].text\n",
    "    labels[data_name] = data[data_name].labels"
   ]
  },
  {
   "cell_type": "markdown",
   "id": "667e11e7-dc51-4639-acee-fbf34f6ce936",
   "metadata": {},
   "source": [
    "# <strong> C - Initialisation du tokenizer et du modèle </strong>"
   ]
  },
  {
   "cell_type": "code",
   "execution_count": 5,
   "id": "1ddffed6-eb21-451b-89df-322c135ae900",
   "metadata": {},
   "outputs": [],
   "source": [
    "from transformers import BertTokenizer, TFBertModel, BertConfig, TFBertForSequenceClassification\n",
    "from transformers import logging as hf_logging\n",
    "\n",
    "hf_logging.set_verbosity_error()"
   ]
  },
  {
   "cell_type": "code",
   "execution_count": 6,
   "id": "9696030c-489f-44b6-a06a-3f662344b436",
   "metadata": {},
   "outputs": [],
   "source": [
    "bert_tokenizer = BertTokenizer.from_pretrained(\"bert-base-uncased\")\n",
    "bert_model = TFBertForSequenceClassification.from_pretrained('bert-base-uncased',num_labels=2)"
   ]
  },
  {
   "cell_type": "markdown",
   "id": "c759034a-9380-4bdc-baab-6c962196479f",
   "metadata": {},
   "source": [
    "# <strong> C - Encodage du text </strong>"
   ]
  },
  {
   "cell_type": "code",
   "execution_count": 7,
   "id": "7a802c8e-2272-4496-bf24-6c09229a5246",
   "metadata": {},
   "outputs": [],
   "source": [
    "input_ids = {}\n",
    "attention_masks = {}    \n",
    "\n",
    "\n",
    "for data_name in [\"train_data\",\"test_data\",\"validation_data\"] :     \n",
    "    input_ids[data_name] = []\n",
    "    attention_masks[data_name] = []\n",
    "\n",
    "    for sent in sentences[data_name]:\n",
    "        bert_inp = bert_tokenizer.encode_plus(sent, add_special_tokens = True, max_length = 32, pad_to_max_length = True, return_attention_mask = True)\n",
    "        input_ids[data_name].append(bert_inp['input_ids'])\n",
    "        attention_masks[data_name].append(bert_inp['attention_mask'])\n",
    "\n",
    "    input_ids[data_name] = np.asarray(input_ids[data_name])\n",
    "    attention_masks[data_name] = np.array(attention_masks[data_name])\n",
    "    labels[data_name] = np.array(labels[data_name])\n"
   ]
  },
  {
   "cell_type": "markdown",
   "id": "0d33a3f8-cc05-44a4-ab96-0875ba643a17",
   "metadata": {
    "tags": []
   },
   "source": [
    "# <strong> C - Sauvegarde des données  </strong>"
   ]
  },
  {
   "cell_type": "markdown",
   "id": "fabae8aa-b91d-4ae6-8439-d86c7028cb13",
   "metadata": {},
   "source": [
    "import pickle"
   ]
  },
  {
   "cell_type": "markdown",
   "id": "7fb6ff51-342e-4b5d-affd-2cfcc7a88f42",
   "metadata": {},
   "source": [
    "load_file = True\n",
    "\n",
    "if load_file :\n",
    "    pickle_inp_path='bert_inp.pkl'\n",
    "    pickle_mask_path='bert_mask.pkl'\n",
    "    pickle_label_path='bert_label.pkl'\n",
    "\n",
    "    pickle.dump((input_ids),open(pickle_inp_path,'wb'))\n",
    "    pickle.dump((attention_masks),open(pickle_mask_path,'wb'))\n",
    "    pickle.dump((labels),open(pickle_label_path,'wb'))\n",
    "else :\n",
    "    input_ids=pickle.load(open(pickle_inp_path, 'rb'))\n",
    "    attention_masks=pickle.load(open(pickle_mask_path, 'rb'))\n",
    "    labels=pickle.load(open(pickle_label_path, 'rb'))"
   ]
  },
  {
   "cell_type": "markdown",
   "id": "f2e2e1be-a3b2-4740-ac03-0c2571d2b958",
   "metadata": {
    "tags": []
   },
   "source": [
    "# <strong> C - Definition du modèle  </strong>"
   ]
  },
  {
   "cell_type": "code",
   "execution_count": 8,
   "id": "4c5a752a-8cc8-4073-a01a-11b52dbd24c7",
   "metadata": {},
   "outputs": [],
   "source": [
    "import tensorflow as tf\n",
    "from tensorflow import keras"
   ]
  },
  {
   "cell_type": "code",
   "execution_count": 9,
   "id": "c37abe86-1143-4599-9df2-09c8a01158e8",
   "metadata": {},
   "outputs": [],
   "source": [
    "log_dir='tensorboard_data/tb_bert'\n",
    "model_save_path='./models/bert_model.h5'"
   ]
  },
  {
   "cell_type": "code",
   "execution_count": 10,
   "id": "991c8e3e-1bf5-4cbc-8c61-5104b9395fc3",
   "metadata": {},
   "outputs": [
    {
     "name": "stdout",
     "output_type": "stream",
     "text": [
      "Model: \"tf_bert_for_sequence_classification\"\n",
      "_________________________________________________________________\n",
      " Layer (type)                Output Shape              Param #   \n",
      "=================================================================\n",
      " bert (TFBertMainLayer)      multiple                  109482240 \n",
      "                                                                 \n",
      " dropout_37 (Dropout)        multiple                  0         \n",
      "                                                                 \n",
      " classifier (Dense)          multiple                  1538      \n",
      "                                                                 \n",
      "=================================================================\n",
      "Total params: 109,483,778\n",
      "Trainable params: 109,483,778\n",
      "Non-trainable params: 0\n",
      "_________________________________________________________________\n",
      "\n",
      "Bert Model None\n"
     ]
    }
   ],
   "source": [
    "callbacks = [tf.keras.callbacks.ModelCheckpoint(filepath=model_save_path,save_weights_only=True,monitor='val_loss',\n",
    "                                                mode='min',save_best_only=True),keras.callbacks.TensorBoard(log_dir=log_dir)]\n",
    "\n",
    "loss = tf.keras.losses.SparseCategoricalCrossentropy( from_logits = True )\n",
    "metric = tf.keras.metrics.SparseCategoricalAccuracy( 'accuracy' )\n",
    "optimizer = tf.keras.optimizers.Adam( learning_rate = 2e-5 , epsilon = 1e-08 )\n",
    "\n",
    "bert_model.compile( loss = loss , optimizer = optimizer , metrics = [ metric ] )\n",
    "\n",
    "print( '\\nBert Model',bert_model.summary() )\n"
   ]
  },
  {
   "cell_type": "markdown",
   "id": "cf00cabd-dbcf-4b04-aef0-9f450bf4a9ee",
   "metadata": {
    "tags": []
   },
   "source": [
    "# <strong> C - Entrainement du modèle  </strong>"
   ]
  },
  {
   "cell_type": "code",
   "execution_count": 11,
   "id": "adad7feb-5661-47ad-9da7-a840c425284e",
   "metadata": {},
   "outputs": [
    {
     "name": "stdout",
     "output_type": "stream",
     "text": [
      "Epoch 1/5\n",
      "63/63 [==============================] - 204s 3s/step - loss: 0.6777 - accuracy: 0.5570 - val_loss: 0.5995 - val_accuracy: 0.6915\n",
      "Epoch 2/5\n",
      "63/63 [==============================] - 151s 2s/step - loss: 0.5376 - accuracy: 0.7505 - val_loss: 0.5589 - val_accuracy: 0.7125\n",
      "Epoch 3/5\n",
      "63/63 [==============================] - 143s 2s/step - loss: 0.4029 - accuracy: 0.8245 - val_loss: 0.6013 - val_accuracy: 0.7030\n",
      "Epoch 4/5\n",
      "63/63 [==============================] - 125s 2s/step - loss: 0.2707 - accuracy: 0.8970 - val_loss: 0.7559 - val_accuracy: 0.7040\n",
      "Epoch 5/5\n",
      "63/63 [==============================] - 119s 2s/step - loss: 0.1952 - accuracy: 0.9345 - val_loss: 0.7970 - val_accuracy: 0.7030\n"
     ]
    }
   ],
   "source": [
    "history=bert_model.fit([ input_ids[\"train_data\"] , attention_masks[\"train_data\"] ], labels[\"train_data\"],\n",
    "                    batch_size=32,epochs=5, \n",
    "                    validation_data=( [ input_ids[\"validation_data\"] , attention_masks[\"validation_data\"] ], labels[\"validation_data\"] ),\n",
    "                    use_multiprocessing=True,callbacks=callbacks )"
   ]
  },
  {
   "cell_type": "markdown",
   "id": "02649ba6-8467-47a2-96fd-33fe76778941",
   "metadata": {
    "tags": []
   },
   "source": [
    "# <strong> C - Sauvegarde du modèle  </strong>"
   ]
  },
  {
   "cell_type": "code",
   "execution_count": 12,
   "id": "46b97903-2f59-4e5b-9dbb-8d6963f7cd46",
   "metadata": {},
   "outputs": [],
   "source": [
    "save_model = False"
   ]
  },
  {
   "cell_type": "code",
   "execution_count": 13,
   "id": "6423ad0f-c433-4f49-bd94-9d9fd6ed26f0",
   "metadata": {},
   "outputs": [],
   "source": [
    "if save_model :\n",
    "    bert_model.save(\"bert_model\")"
   ]
  },
  {
   "cell_type": "markdown",
   "id": "fe37d1f6-b25f-4021-9c9c-500df7e0418a",
   "metadata": {
    "tags": []
   },
   "source": [
    "# <strong> D - Prédiction sur les données de test  </strong>"
   ]
  },
  {
   "cell_type": "code",
   "execution_count": 14,
   "id": "ea2da758-087a-45d5-a6ca-b98d5d87d140",
   "metadata": {},
   "outputs": [
    {
     "name": "stdout",
     "output_type": "stream",
     "text": [
      "63/63 [==============================] - 53s 715ms/step\n"
     ]
    }
   ],
   "source": [
    "preds = bert_model.predict([input_ids[\"test_data\"],attention_masks[\"test_data\"]  ],batch_size=32, use_multiprocessing=True)"
   ]
  },
  {
   "cell_type": "code",
   "execution_count": 15,
   "id": "258f8d95-34c8-4314-a30a-a43325be44b5",
   "metadata": {},
   "outputs": [
    {
     "data": {
      "text/plain": [
       "array([0, 1, 0, ..., 0, 1, 0], dtype=int64)"
      ]
     },
     "execution_count": 15,
     "metadata": {},
     "output_type": "execute_result"
    }
   ],
   "source": [
    "pred_labels = preds[\"logits\"].argmax(axis=1)\n",
    "pred_labels"
   ]
  },
  {
   "cell_type": "markdown",
   "id": "d1a78cdc-87f0-493a-ac1a-0a02fcc29866",
   "metadata": {
    "tags": []
   },
   "source": [
    "# <strong> E - Métriques d'évaluation  </strong>"
   ]
  },
  {
   "cell_type": "code",
   "execution_count": 16,
   "id": "2be781d7-1c69-4d9f-8f79-271c541113b0",
   "metadata": {},
   "outputs": [],
   "source": [
    "from sklearn.metrics import classification_report"
   ]
  },
  {
   "cell_type": "code",
   "execution_count": 17,
   "id": "02dd8019-be73-4b55-a559-84cdd52adc61",
   "metadata": {},
   "outputs": [
    {
     "name": "stdout",
     "output_type": "stream",
     "text": [
      "              precision    recall  f1-score   support\n",
      "\n",
      "           0       0.67      0.80      0.73      1000\n",
      "           1       0.75      0.61      0.67      1000\n",
      "\n",
      "    accuracy                           0.70      2000\n",
      "   macro avg       0.71      0.70      0.70      2000\n",
      "weighted avg       0.71      0.70      0.70      2000\n",
      "\n"
     ]
    }
   ],
   "source": [
    "print(classification_report(labels[\"test_data\"],pred_labels))"
   ]
  },
  {
   "cell_type": "markdown",
   "id": "342551a8-3cb0-45a2-8c7b-df4824ba55b2",
   "metadata": {
    "tags": []
   },
   "source": [
    "# <strong> F - Evaluations du modèle  </strong>"
   ]
  },
  {
   "cell_type": "code",
   "execution_count": 18,
   "id": "682b799f-2464-4beb-ba45-08af9ee4cf56",
   "metadata": {},
   "outputs": [
    {
     "name": "stdout",
     "output_type": "stream",
     "text": [
      "63/63 [==============================] - 54s 850ms/step - loss: 0.0926 - accuracy: 0.9745\n"
     ]
    },
    {
     "data": {
      "text/plain": [
       "[0.0925612822175026, 0.9745000004768372]"
      ]
     },
     "execution_count": 18,
     "metadata": {},
     "output_type": "execute_result"
    }
   ],
   "source": [
    "bert_model.evaluate([input_ids[\"train_data\"] , attention_masks[\"train_data\"]  ], labels[\"train_data\"],batch_size=32,\n",
    "                    use_multiprocessing=True)\n"
   ]
  },
  {
   "cell_type": "code",
   "execution_count": 19,
   "id": "380add66-aa7c-4e75-9119-9d3b8f5a6d56",
   "metadata": {},
   "outputs": [
    {
     "name": "stdout",
     "output_type": "stream",
     "text": [
      "63/63 [==============================] - 45s 701ms/step - loss: 0.7988 - accuracy: 0.7045\n"
     ]
    },
    {
     "data": {
      "text/plain": [
       "[0.7988057136535645, 0.7045000195503235]"
      ]
     },
     "execution_count": 19,
     "metadata": {},
     "output_type": "execute_result"
    }
   ],
   "source": [
    "bert_model.evaluate([input_ids[\"test_data\"] , attention_masks[\"test_data\"]  ], labels[\"test_data\"],batch_size=32,\n",
    "                    use_multiprocessing=True)\n"
   ]
  },
  {
   "cell_type": "code",
   "execution_count": 20,
   "id": "54dc5809-f68d-444d-8424-a345bd2eec79",
   "metadata": {},
   "outputs": [
    {
     "name": "stdout",
     "output_type": "stream",
     "text": [
      "63/63 [==============================] - 12s 189ms/step - loss: 0.7970 - accuracy: 0.7030\n"
     ]
    },
    {
     "data": {
      "text/plain": [
       "[0.796978771686554, 0.703000009059906]"
      ]
     },
     "execution_count": 20,
     "metadata": {},
     "output_type": "execute_result"
    }
   ],
   "source": [
    "bert_model.evaluate([input_ids[\"validation_data\"] , attention_masks[\"validation_data\"]  ], labels[\"validation_data\"],batch_size=32,\n",
    "                    use_multiprocessing=True)\n"
   ]
  },
  {
   "cell_type": "markdown",
   "id": "6047f944-6a92-44db-b442-9227be67d9ac",
   "metadata": {
    "tags": []
   },
   "source": [
    "# <strong> G - Matrice de confusion  </strong>"
   ]
  },
  {
   "cell_type": "code",
   "execution_count": 21,
   "id": "6dc96800-a3c3-4713-ab36-18bfd7413c9b",
   "metadata": {},
   "outputs": [
    {
     "data": {
      "image/png": "[encoded data removed]",
      "text/plain": [
       "<Figure size 600x400 with 2 Axes>"
      ]
     },
     "metadata": {},
     "output_type": "display_data"
    }
   ],
   "source": [
    "plot_confusion_matrix(labels[\"test_data\"],pred_labels, figsize=(6,4))"
   ]
  },
  {
   "cell_type": "code",
   "execution_count": null,
   "id": "3a4cf5f4-491f-46bb-9e23-8215f48e7274",
   "metadata": {},
   "outputs": [],
   "source": []
  },
  {
   "cell_type": "code",
   "execution_count": null,
   "id": "caa81f2e-b983-4fec-b3a4-418b4159ce5c",
   "metadata": {},
   "outputs": [],
   "source": []
  },
  {
   "cell_type": "code",
   "execution_count": null,
   "id": "969923d7-1cde-4d6b-88a9-c4c6ab3d1fbd",
   "metadata": {},
   "outputs": [],
   "source": []
  },
  {
   "cell_type": "code",
   "execution_count": null,
   "id": "e67073f6-f7f1-4417-a00a-9ecef4e6ea3e",
   "metadata": {},
   "outputs": [],
   "source": []
  }
 ],
 "metadata": {
  "kernelspec": {
   "display_name": "Python 3 (ipykernel)",
   "language": "python",
   "name": "python3"
  },
  "language_info": {
   "codemirror_mode": {
    "name": "ipython",
    "version": 3
   },
   "file_extension": ".py",
   "mimetype": "text/x-python",
   "name": "python",
   "nbconvert_exporter": "python",
   "pygments_lexer": "ipython3",
   "version": "3.9.13"
  }
 },
 "nbformat": 4,
 "nbformat_minor": 5
}
