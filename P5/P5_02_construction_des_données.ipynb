{
 "cells": [
  {
   "cell_type": "markdown",
   "id": "e0966a9b-973c-4ba8-b4b0-edf62c7e146c",
   "metadata": {},
   "source": [
    "## <strong> Importation des modules </strong>"
   ]
  },
  {
   "cell_type": "code",
   "execution_count": 1,
   "id": "78d54743-3a80-4151-97bf-e2ca222714ff",
   "metadata": {},
   "outputs": [
    {
     "name": "stdout",
     "output_type": "stream",
     "text": [
      "importing Jupyter notebook from P5_01_Mes_fonctions.ipynb\n"
     ]
    },
    {
     "name": "stderr",
     "output_type": "stream",
     "text": [
      "Intel(R) Extension for Scikit-learn* enabled (https://github.com/intel/scikit-learn-intelex)\n"
     ]
    }
   ],
   "source": [
    "import warnings\n",
    "warnings.filterwarnings('ignore')\n",
    "\n",
    "########################################\n",
    "\n",
    "import pandas as pd\n",
    "import numpy as np\n",
    "from scipy import stats\n",
    "\n",
    "#########################################\n",
    "\n",
    "import seaborn as sns\n",
    "#%matplotlib inline\n",
    "#%matplotlib notebook\n",
    "sns.set()\n",
    "\n",
    "#########################################\n",
    "\n",
    "import import_ipynb\n",
    "from P5_01_Mes_fonctions import *"
   ]
  },
  {
   "cell_type": "markdown",
   "id": "6c28304a-ba24-48ea-bddb-d47cd4d9659a",
   "metadata": {},
   "source": [
    "## <strong> A - Importation des données </strong>"
   ]
  },
  {
   "cell_type": "markdown",
   "id": "d5769ec9-f6b2-4581-a2e3-4e4b59d8413f",
   "metadata": {},
   "source": [
    "## <strong> A.1 - </strong> liste de tous les <strong> produits vendus par OLIST </strong>"
   ]
  },
  {
   "cell_type": "code",
   "execution_count": 2,
   "id": "876b49c0-a721-47e9-b5dc-ff693cc00a9b",
   "metadata": {},
   "outputs": [],
   "source": [
    "data_product_list = pd.read_csv(\"products_dataset.csv\")"
   ]
  },
  {
   "cell_type": "code",
   "execution_count": 3,
   "id": "ed3958b4-f92b-4bcc-a05f-caa013b2058f",
   "metadata": {},
   "outputs": [
    {
     "data": {
      "text/html": [
       "<div>\n",
       "<style scoped>\n",
       "    .dataframe tbody tr th:only-of-type {\n",
       "        vertical-align: middle;\n",
       "    }\n",
       "\n",
       "    .dataframe tbody tr th {\n",
       "        vertical-align: top;\n",
       "    }\n",
       "\n",
       "    .dataframe thead th {\n",
       "        text-align: right;\n",
       "    }\n",
       "</style>\n",
       "<table border=\"1\" class=\"dataframe\">\n",
       "  <thead>\n",
       "    <tr style=\"text-align: right;\">\n",
       "      <th></th>\n",
       "      <th>product_id</th>\n",
       "      <th>product_category_name</th>\n",
       "      <th>product_name_lenght</th>\n",
       "      <th>product_description_lenght</th>\n",
       "      <th>product_photos_qty</th>\n",
       "      <th>product_weight_g</th>\n",
       "      <th>product_length_cm</th>\n",
       "      <th>product_height_cm</th>\n",
       "      <th>product_width_cm</th>\n",
       "    </tr>\n",
       "  </thead>\n",
       "  <tbody>\n",
       "    <tr>\n",
       "      <th>0</th>\n",
       "      <td>1e9e8ef04dbcff4541ed26657ea517e5</td>\n",
       "      <td>perfumaria</td>\n",
       "      <td>40.0</td>\n",
       "      <td>287.0</td>\n",
       "      <td>1.0</td>\n",
       "      <td>225.0</td>\n",
       "      <td>16.0</td>\n",
       "      <td>10.0</td>\n",
       "      <td>14.0</td>\n",
       "    </tr>\n",
       "    <tr>\n",
       "      <th>1</th>\n",
       "      <td>3aa071139cb16b67ca9e5dea641aaa2f</td>\n",
       "      <td>artes</td>\n",
       "      <td>44.0</td>\n",
       "      <td>276.0</td>\n",
       "      <td>1.0</td>\n",
       "      <td>1000.0</td>\n",
       "      <td>30.0</td>\n",
       "      <td>18.0</td>\n",
       "      <td>20.0</td>\n",
       "    </tr>\n",
       "  </tbody>\n",
       "</table>\n",
       "</div>"
      ],
      "text/plain": [
       "                         product_id product_category_name  \\\n",
       "0  1e9e8ef04dbcff4541ed26657ea517e5            perfumaria   \n",
       "1  3aa071139cb16b67ca9e5dea641aaa2f                 artes   \n",
       "\n",
       "   product_name_lenght  product_description_lenght  product_photos_qty  \\\n",
       "0                 40.0                       287.0                 1.0   \n",
       "1                 44.0                       276.0                 1.0   \n",
       "\n",
       "   product_weight_g  product_length_cm  product_height_cm  product_width_cm  \n",
       "0             225.0               16.0               10.0              14.0  \n",
       "1            1000.0               30.0               18.0              20.0  "
      ]
     },
     "execution_count": 3,
     "metadata": {},
     "output_type": "execute_result"
    }
   ],
   "source": [
    "data_product_list.head(2)"
   ]
  },
  {
   "cell_type": "markdown",
   "id": "175e669c-16db-4879-bcc3-a074227a19a4",
   "metadata": {},
   "source": [
    "## <strong> A.2 - </strong>  Liste des <strong> catégories de produits vendus :</strong>  équivalent portugais en anglais "
   ]
  },
  {
   "cell_type": "code",
   "execution_count": 4,
   "id": "9786ba02-b83b-4a45-b340-d856c8de2a79",
   "metadata": {},
   "outputs": [],
   "source": [
    "data_products_category = pd.read_csv(\"product_category_name_translation.csv\")"
   ]
  },
  {
   "cell_type": "code",
   "execution_count": 5,
   "id": "b06cfa34-4268-4a8f-8f23-ec288160d4da",
   "metadata": {},
   "outputs": [
    {
     "data": {
      "text/html": [
       "<div>\n",
       "<style scoped>\n",
       "    .dataframe tbody tr th:only-of-type {\n",
       "        vertical-align: middle;\n",
       "    }\n",
       "\n",
       "    .dataframe tbody tr th {\n",
       "        vertical-align: top;\n",
       "    }\n",
       "\n",
       "    .dataframe thead th {\n",
       "        text-align: right;\n",
       "    }\n",
       "</style>\n",
       "<table border=\"1\" class=\"dataframe\">\n",
       "  <thead>\n",
       "    <tr style=\"text-align: right;\">\n",
       "      <th></th>\n",
       "      <th>product_category_name</th>\n",
       "      <th>product_category_name_english</th>\n",
       "    </tr>\n",
       "  </thead>\n",
       "  <tbody>\n",
       "    <tr>\n",
       "      <th>0</th>\n",
       "      <td>beleza_saude</td>\n",
       "      <td>health_beauty</td>\n",
       "    </tr>\n",
       "    <tr>\n",
       "      <th>1</th>\n",
       "      <td>informatica_acessorios</td>\n",
       "      <td>computers_accessories</td>\n",
       "    </tr>\n",
       "  </tbody>\n",
       "</table>\n",
       "</div>"
      ],
      "text/plain": [
       "    product_category_name product_category_name_english\n",
       "0            beleza_saude                 health_beauty\n",
       "1  informatica_acessorios         computers_accessories"
      ]
     },
     "execution_count": 5,
     "metadata": {},
     "output_type": "execute_result"
    }
   ],
   "source": [
    "data_products_category.head(2)"
   ]
  },
  {
   "cell_type": "markdown",
   "id": "48b382c2-367d-4772-9a39-d2325e24c5ef",
   "metadata": {},
   "source": [
    "### <strong> A.2.1 - Conversion de la catégorie des produits en langue anglaise </strong>"
   ]
  },
  {
   "cell_type": "code",
   "execution_count": 6,
   "id": "0d1a0a5d-6e81-4070-a5a2-4126f7687b11",
   "metadata": {},
   "outputs": [],
   "source": [
    "data_product_list.replace( data_products_category[\"product_category_name\"].values , data_products_category[\"product_category_name_english\"].values , inplace = True )"
   ]
  },
  {
   "cell_type": "code",
   "execution_count": 7,
   "id": "963d44ef-1cec-401d-bcb0-409631e03184",
   "metadata": {},
   "outputs": [
    {
     "data": {
      "text/html": [
       "<div>\n",
       "<style scoped>\n",
       "    .dataframe tbody tr th:only-of-type {\n",
       "        vertical-align: middle;\n",
       "    }\n",
       "\n",
       "    .dataframe tbody tr th {\n",
       "        vertical-align: top;\n",
       "    }\n",
       "\n",
       "    .dataframe thead th {\n",
       "        text-align: right;\n",
       "    }\n",
       "</style>\n",
       "<table border=\"1\" class=\"dataframe\">\n",
       "  <thead>\n",
       "    <tr style=\"text-align: right;\">\n",
       "      <th></th>\n",
       "      <th>product_id</th>\n",
       "      <th>product_category_name</th>\n",
       "      <th>product_name_lenght</th>\n",
       "      <th>product_description_lenght</th>\n",
       "      <th>product_photos_qty</th>\n",
       "      <th>product_weight_g</th>\n",
       "      <th>product_length_cm</th>\n",
       "      <th>product_height_cm</th>\n",
       "      <th>product_width_cm</th>\n",
       "    </tr>\n",
       "  </thead>\n",
       "  <tbody>\n",
       "    <tr>\n",
       "      <th>0</th>\n",
       "      <td>1e9e8ef04dbcff4541ed26657ea517e5</td>\n",
       "      <td>perfumery</td>\n",
       "      <td>40.0</td>\n",
       "      <td>287.0</td>\n",
       "      <td>1.0</td>\n",
       "      <td>225.0</td>\n",
       "      <td>16.0</td>\n",
       "      <td>10.0</td>\n",
       "      <td>14.0</td>\n",
       "    </tr>\n",
       "    <tr>\n",
       "      <th>1</th>\n",
       "      <td>3aa071139cb16b67ca9e5dea641aaa2f</td>\n",
       "      <td>art</td>\n",
       "      <td>44.0</td>\n",
       "      <td>276.0</td>\n",
       "      <td>1.0</td>\n",
       "      <td>1000.0</td>\n",
       "      <td>30.0</td>\n",
       "      <td>18.0</td>\n",
       "      <td>20.0</td>\n",
       "    </tr>\n",
       "  </tbody>\n",
       "</table>\n",
       "</div>"
      ],
      "text/plain": [
       "                         product_id product_category_name  \\\n",
       "0  1e9e8ef04dbcff4541ed26657ea517e5             perfumery   \n",
       "1  3aa071139cb16b67ca9e5dea641aaa2f                   art   \n",
       "\n",
       "   product_name_lenght  product_description_lenght  product_photos_qty  \\\n",
       "0                 40.0                       287.0                 1.0   \n",
       "1                 44.0                       276.0                 1.0   \n",
       "\n",
       "   product_weight_g  product_length_cm  product_height_cm  product_width_cm  \n",
       "0             225.0               16.0               10.0              14.0  \n",
       "1            1000.0               30.0               18.0              20.0  "
      ]
     },
     "execution_count": 7,
     "metadata": {},
     "output_type": "execute_result"
    }
   ],
   "source": [
    "data_product_list.head(2)"
   ]
  },
  {
   "cell_type": "code",
   "execution_count": 8,
   "id": "2a7a1134-33f1-4e1d-ba02-521da0feaada",
   "metadata": {},
   "outputs": [],
   "source": [
    "data_product_list[\"product_volume_litre\"] = data_product_list[[\"product_length_cm\",\"product_height_cm\",\"product_width_cm\"]].prod(axis=1)/1000"
   ]
  },
  {
   "cell_type": "code",
   "execution_count": 9,
   "id": "dec4a5cc-8f2d-48d1-a6e3-82226325e3b1",
   "metadata": {},
   "outputs": [],
   "source": [
    "data_product_list.drop([\"product_name_lenght\",\"product_description_lenght\",\"product_length_cm\",\"product_height_cm\",\"product_width_cm\",\"product_weight_g\"],axis=1,inplace=True)"
   ]
  },
  {
   "cell_type": "code",
   "execution_count": 10,
   "id": "1125a12f-d443-48ae-8811-66bf43bb7e76",
   "metadata": {},
   "outputs": [
    {
     "data": {
      "text/html": [
       "<div>\n",
       "<style scoped>\n",
       "    .dataframe tbody tr th:only-of-type {\n",
       "        vertical-align: middle;\n",
       "    }\n",
       "\n",
       "    .dataframe tbody tr th {\n",
       "        vertical-align: top;\n",
       "    }\n",
       "\n",
       "    .dataframe thead th {\n",
       "        text-align: right;\n",
       "    }\n",
       "</style>\n",
       "<table border=\"1\" class=\"dataframe\">\n",
       "  <thead>\n",
       "    <tr style=\"text-align: right;\">\n",
       "      <th></th>\n",
       "      <th>product_id</th>\n",
       "      <th>product_category_name</th>\n",
       "      <th>product_photos_qty</th>\n",
       "      <th>product_volume_litre</th>\n",
       "    </tr>\n",
       "  </thead>\n",
       "  <tbody>\n",
       "    <tr>\n",
       "      <th>0</th>\n",
       "      <td>1e9e8ef04dbcff4541ed26657ea517e5</td>\n",
       "      <td>perfumery</td>\n",
       "      <td>1.0</td>\n",
       "      <td>2.24</td>\n",
       "    </tr>\n",
       "    <tr>\n",
       "      <th>1</th>\n",
       "      <td>3aa071139cb16b67ca9e5dea641aaa2f</td>\n",
       "      <td>art</td>\n",
       "      <td>1.0</td>\n",
       "      <td>10.80</td>\n",
       "    </tr>\n",
       "  </tbody>\n",
       "</table>\n",
       "</div>"
      ],
      "text/plain": [
       "                         product_id product_category_name  product_photos_qty  \\\n",
       "0  1e9e8ef04dbcff4541ed26657ea517e5             perfumery                 1.0   \n",
       "1  3aa071139cb16b67ca9e5dea641aaa2f                   art                 1.0   \n",
       "\n",
       "   product_volume_litre  \n",
       "0                  2.24  \n",
       "1                 10.80  "
      ]
     },
     "execution_count": 10,
     "metadata": {},
     "output_type": "execute_result"
    }
   ],
   "source": [
    "data_product_list.head(2)"
   ]
  },
  {
   "cell_type": "code",
   "execution_count": 11,
   "id": "bf22555e-f73b-4f0b-bf3c-93ab8cc949f2",
   "metadata": {},
   "outputs": [],
   "source": [
    "del data_products_category"
   ]
  },
  {
   "cell_type": "markdown",
   "id": "13a93bcc-642a-47d5-be99-343829f4ec09",
   "metadata": {},
   "source": [
    "## <strong> A.3 - </strong> Liste de toutes les <strong> données de géolocalisation </strong>"
   ]
  },
  {
   "cell_type": "code",
   "execution_count": 12,
   "id": "999f94a6-200b-403f-995e-04329962811b",
   "metadata": {},
   "outputs": [],
   "source": [
    "data_geolocation = pd.read_csv(\"geolocation_dataset.csv\")"
   ]
  },
  {
   "cell_type": "code",
   "execution_count": 13,
   "id": "9131a2c3-52f5-4772-8631-7dcff4c84300",
   "metadata": {},
   "outputs": [
    {
     "data": {
      "text/html": [
       "<div>\n",
       "<style scoped>\n",
       "    .dataframe tbody tr th:only-of-type {\n",
       "        vertical-align: middle;\n",
       "    }\n",
       "\n",
       "    .dataframe tbody tr th {\n",
       "        vertical-align: top;\n",
       "    }\n",
       "\n",
       "    .dataframe thead th {\n",
       "        text-align: right;\n",
       "    }\n",
       "</style>\n",
       "<table border=\"1\" class=\"dataframe\">\n",
       "  <thead>\n",
       "    <tr style=\"text-align: right;\">\n",
       "      <th></th>\n",
       "      <th>geolocation_zip_code_prefix</th>\n",
       "      <th>geolocation_lat</th>\n",
       "      <th>geolocation_lng</th>\n",
       "      <th>geolocation_city</th>\n",
       "      <th>geolocation_state</th>\n",
       "    </tr>\n",
       "  </thead>\n",
       "  <tbody>\n",
       "    <tr>\n",
       "      <th>0</th>\n",
       "      <td>1037</td>\n",
       "      <td>-23.545621</td>\n",
       "      <td>-46.639292</td>\n",
       "      <td>sao paulo</td>\n",
       "      <td>SP</td>\n",
       "    </tr>\n",
       "    <tr>\n",
       "      <th>1</th>\n",
       "      <td>1046</td>\n",
       "      <td>-23.546081</td>\n",
       "      <td>-46.644820</td>\n",
       "      <td>sao paulo</td>\n",
       "      <td>SP</td>\n",
       "    </tr>\n",
       "  </tbody>\n",
       "</table>\n",
       "</div>"
      ],
      "text/plain": [
       "   geolocation_zip_code_prefix  geolocation_lat  geolocation_lng  \\\n",
       "0                         1037       -23.545621       -46.639292   \n",
       "1                         1046       -23.546081       -46.644820   \n",
       "\n",
       "  geolocation_city geolocation_state  \n",
       "0        sao paulo                SP  \n",
       "1        sao paulo                SP  "
      ]
     },
     "execution_count": 13,
     "metadata": {},
     "output_type": "execute_result"
    }
   ],
   "source": [
    "data_geolocation.head(2)"
   ]
  },
  {
   "cell_type": "markdown",
   "id": "85832256-e81a-4303-b7d7-0d67b7d65013",
   "metadata": {},
   "source": [
    "Suppression de duplicatats"
   ]
  },
  {
   "cell_type": "code",
   "execution_count": 14,
   "id": "f1bcf76d-df02-4c17-8186-9606a165b9a7",
   "metadata": {},
   "outputs": [],
   "source": [
    "data_geolocation.drop_duplicates( [\"geolocation_zip_code_prefix\",\"geolocation_city\",\"geolocation_state\"] ,keep='first' , inplace =True )"
   ]
  },
  {
   "cell_type": "markdown",
   "id": "6598c846-7bb4-4499-a2aa-f3a226a83315",
   "metadata": {},
   "source": [
    "## <strong> A.4 - </strong> Liste de tous les <strong> vendeurs  ayant exécuté toutes les commandes passées chez Olist </strong>"
   ]
  },
  {
   "cell_type": "code",
   "execution_count": 15,
   "id": "771023b1-c9d8-418a-8056-30f778ef9e66",
   "metadata": {},
   "outputs": [],
   "source": [
    "data_sellers = pd.read_csv(\"sellers_dataset.csv\")"
   ]
  },
  {
   "cell_type": "code",
   "execution_count": 16,
   "id": "210ffc16-3a23-4e52-bb9e-f65defb273aa",
   "metadata": {},
   "outputs": [
    {
     "data": {
      "text/html": [
       "<div>\n",
       "<style scoped>\n",
       "    .dataframe tbody tr th:only-of-type {\n",
       "        vertical-align: middle;\n",
       "    }\n",
       "\n",
       "    .dataframe tbody tr th {\n",
       "        vertical-align: top;\n",
       "    }\n",
       "\n",
       "    .dataframe thead th {\n",
       "        text-align: right;\n",
       "    }\n",
       "</style>\n",
       "<table border=\"1\" class=\"dataframe\">\n",
       "  <thead>\n",
       "    <tr style=\"text-align: right;\">\n",
       "      <th></th>\n",
       "      <th>seller_id</th>\n",
       "      <th>seller_zip_code_prefix</th>\n",
       "      <th>seller_city</th>\n",
       "      <th>seller_state</th>\n",
       "    </tr>\n",
       "  </thead>\n",
       "  <tbody>\n",
       "    <tr>\n",
       "      <th>0</th>\n",
       "      <td>3442f8959a84dea7ee197c632cb2df15</td>\n",
       "      <td>13023</td>\n",
       "      <td>campinas</td>\n",
       "      <td>SP</td>\n",
       "    </tr>\n",
       "    <tr>\n",
       "      <th>1</th>\n",
       "      <td>d1b65fc7debc3361ea86b5f14c68d2e2</td>\n",
       "      <td>13844</td>\n",
       "      <td>mogi guacu</td>\n",
       "      <td>SP</td>\n",
       "    </tr>\n",
       "  </tbody>\n",
       "</table>\n",
       "</div>"
      ],
      "text/plain": [
       "                          seller_id  seller_zip_code_prefix seller_city  \\\n",
       "0  3442f8959a84dea7ee197c632cb2df15                   13023    campinas   \n",
       "1  d1b65fc7debc3361ea86b5f14c68d2e2                   13844  mogi guacu   \n",
       "\n",
       "  seller_state  \n",
       "0           SP  \n",
       "1           SP  "
      ]
     },
     "execution_count": 16,
     "metadata": {},
     "output_type": "execute_result"
    }
   ],
   "source": [
    "data_sellers.head(2)"
   ]
  },
  {
   "cell_type": "code",
   "execution_count": 17,
   "id": "671d6761-3483-4f04-b433-f30804fc820a",
   "metadata": {},
   "outputs": [
    {
     "data": {
      "text/plain": [
       "(3095, 4)"
      ]
     },
     "execution_count": 17,
     "metadata": {},
     "output_type": "execute_result"
    }
   ],
   "source": [
    "data_sellers.shape"
   ]
  },
  {
   "cell_type": "markdown",
   "id": "e22dee5c-fa97-43a4-bb7c-1f3368f9aaaf",
   "metadata": {},
   "source": [
    "### <strong> A.4.1 -  Ajout des coordonnées geographiques des vendeurs </strong>"
   ]
  },
  {
   "cell_type": "code",
   "execution_count": 18,
   "id": "612cd480-cab4-4e41-865d-e236c0fe75fe",
   "metadata": {},
   "outputs": [],
   "source": [
    "data_sellers = pd.merge( data_sellers , data_geolocation , left_on= [\"seller_zip_code_prefix\",\"seller_city\",\"seller_state\"], \n",
    "                        right_on=[\"geolocation_zip_code_prefix\",\"geolocation_city\",\"geolocation_state\"] , how =\"left\" )"
   ]
  },
  {
   "cell_type": "markdown",
   "id": "2615c1fc-37b4-4121-a66c-76ae0afaf6e7",
   "metadata": {},
   "source": [
    "### Suppression de colonnes inutiles"
   ]
  },
  {
   "cell_type": "code",
   "execution_count": 19,
   "id": "23228eb4-6799-45a9-a700-35af7f4b5388",
   "metadata": {},
   "outputs": [],
   "source": [
    "data_sellers.drop([\"geolocation_zip_code_prefix\",\"geolocation_city\",\"geolocation_state\"],axis=1, inplace=True)"
   ]
  },
  {
   "cell_type": "markdown",
   "id": "73222604-466e-4f3b-ba1a-c3002ec59cf2",
   "metadata": {},
   "source": [
    "### Rename des variables de geolocalisation"
   ]
  },
  {
   "cell_type": "code",
   "execution_count": 20,
   "id": "d585b37c-07e2-4d5d-9c2d-6bef8aac6565",
   "metadata": {},
   "outputs": [],
   "source": [
    "data_sellers.rename(columns={ \"geolocation_lat\":\"sellers_geoloc_lat\" , \"geolocation_lng\":\"sellers_geoloc_long\" }, inplace=True)"
   ]
  },
  {
   "cell_type": "code",
   "execution_count": 21,
   "id": "9db61b42-a1eb-4014-bd1a-fe4a4c18aa73",
   "metadata": {},
   "outputs": [
    {
     "data": {
      "text/html": [
       "<div>\n",
       "<style scoped>\n",
       "    .dataframe tbody tr th:only-of-type {\n",
       "        vertical-align: middle;\n",
       "    }\n",
       "\n",
       "    .dataframe tbody tr th {\n",
       "        vertical-align: top;\n",
       "    }\n",
       "\n",
       "    .dataframe thead th {\n",
       "        text-align: right;\n",
       "    }\n",
       "</style>\n",
       "<table border=\"1\" class=\"dataframe\">\n",
       "  <thead>\n",
       "    <tr style=\"text-align: right;\">\n",
       "      <th></th>\n",
       "      <th>seller_id</th>\n",
       "      <th>seller_zip_code_prefix</th>\n",
       "      <th>seller_city</th>\n",
       "      <th>seller_state</th>\n",
       "      <th>sellers_geoloc_lat</th>\n",
       "      <th>sellers_geoloc_long</th>\n",
       "    </tr>\n",
       "  </thead>\n",
       "  <tbody>\n",
       "    <tr>\n",
       "      <th>0</th>\n",
       "      <td>3442f8959a84dea7ee197c632cb2df15</td>\n",
       "      <td>13023</td>\n",
       "      <td>campinas</td>\n",
       "      <td>SP</td>\n",
       "      <td>-22.898536</td>\n",
       "      <td>-47.063125</td>\n",
       "    </tr>\n",
       "    <tr>\n",
       "      <th>1</th>\n",
       "      <td>d1b65fc7debc3361ea86b5f14c68d2e2</td>\n",
       "      <td>13844</td>\n",
       "      <td>mogi guacu</td>\n",
       "      <td>SP</td>\n",
       "      <td>-22.380500</td>\n",
       "      <td>-46.952965</td>\n",
       "    </tr>\n",
       "  </tbody>\n",
       "</table>\n",
       "</div>"
      ],
      "text/plain": [
       "                          seller_id  seller_zip_code_prefix seller_city  \\\n",
       "0  3442f8959a84dea7ee197c632cb2df15                   13023    campinas   \n",
       "1  d1b65fc7debc3361ea86b5f14c68d2e2                   13844  mogi guacu   \n",
       "\n",
       "  seller_state  sellers_geoloc_lat  sellers_geoloc_long  \n",
       "0           SP          -22.898536           -47.063125  \n",
       "1           SP          -22.380500           -46.952965  "
      ]
     },
     "execution_count": 21,
     "metadata": {},
     "output_type": "execute_result"
    }
   ],
   "source": [
    "data_sellers.head(2)"
   ]
  },
  {
   "cell_type": "code",
   "execution_count": 22,
   "id": "b4fd48d5-b3a8-4c18-ac98-1b5660e27fef",
   "metadata": {},
   "outputs": [
    {
     "data": {
      "text/plain": [
       "(3095, 6)"
      ]
     },
     "execution_count": 22,
     "metadata": {},
     "output_type": "execute_result"
    }
   ],
   "source": [
    "data_sellers.shape"
   ]
  },
  {
   "cell_type": "markdown",
   "id": "8e93eb93-03bf-40ca-aea4-2a3238af70c0",
   "metadata": {},
   "source": [
    "## <strong> A.5 - </strong> Liste de toutes les <strong> options de payements de tous les achats </strong>"
   ]
  },
  {
   "cell_type": "code",
   "execution_count": 23,
   "id": "a3c2035a-dc45-43d2-8ac7-a71cbe4b06f7",
   "metadata": {},
   "outputs": [],
   "source": [
    "data_order_payments = pd.read_csv(\"order_payments_dataset.csv\")"
   ]
  },
  {
   "cell_type": "code",
   "execution_count": 24,
   "id": "e3f05dbb-93a7-4fff-bd9d-5e88f8cd3a5d",
   "metadata": {},
   "outputs": [],
   "source": [
    "data_order_payments.rename(columns={\"payment_sequential\":\"Nbr_mode_de_paiement\",\"payment_installments\":\"Nbr_de_versement\"},inplace=True)"
   ]
  },
  {
   "cell_type": "code",
   "execution_count": 25,
   "id": "0ef99c6e-a873-4ca0-bd26-c8bfb5005505",
   "metadata": {},
   "outputs": [],
   "source": [
    "data_order_payments = data_order_payments.groupby([\"order_id\"], as_index=False).agg({\"Nbr_mode_de_paiement\":\"max\", \"payment_type\": series_modes, \"payment_value\":\"sum\"} )"
   ]
  },
  {
   "cell_type": "code",
   "execution_count": 26,
   "id": "03fa79e7-14c6-46dc-996a-c8c8dcc2704c",
   "metadata": {},
   "outputs": [
    {
     "data": {
      "text/html": [
       "<div>\n",
       "<style scoped>\n",
       "    .dataframe tbody tr th:only-of-type {\n",
       "        vertical-align: middle;\n",
       "    }\n",
       "\n",
       "    .dataframe tbody tr th {\n",
       "        vertical-align: top;\n",
       "    }\n",
       "\n",
       "    .dataframe thead th {\n",
       "        text-align: right;\n",
       "    }\n",
       "</style>\n",
       "<table border=\"1\" class=\"dataframe\">\n",
       "  <thead>\n",
       "    <tr style=\"text-align: right;\">\n",
       "      <th></th>\n",
       "      <th>order_id</th>\n",
       "      <th>Nbr_mode_de_paiement</th>\n",
       "      <th>payment_type</th>\n",
       "      <th>payment_value</th>\n",
       "    </tr>\n",
       "  </thead>\n",
       "  <tbody>\n",
       "    <tr>\n",
       "      <th>0</th>\n",
       "      <td>00010242fe8c5a6d1ba2dd792cb16214</td>\n",
       "      <td>1</td>\n",
       "      <td>credit_card</td>\n",
       "      <td>72.19</td>\n",
       "    </tr>\n",
       "    <tr>\n",
       "      <th>1</th>\n",
       "      <td>00018f77f2f0320c557190d7a144bdd3</td>\n",
       "      <td>1</td>\n",
       "      <td>credit_card</td>\n",
       "      <td>259.83</td>\n",
       "    </tr>\n",
       "  </tbody>\n",
       "</table>\n",
       "</div>"
      ],
      "text/plain": [
       "                           order_id  Nbr_mode_de_paiement payment_type  \\\n",
       "0  00010242fe8c5a6d1ba2dd792cb16214                     1  credit_card   \n",
       "1  00018f77f2f0320c557190d7a144bdd3                     1  credit_card   \n",
       "\n",
       "   payment_value  \n",
       "0          72.19  \n",
       "1         259.83  "
      ]
     },
     "execution_count": 26,
     "metadata": {},
     "output_type": "execute_result"
    }
   ],
   "source": [
    "data_order_payments.head(2)"
   ]
  },
  {
   "cell_type": "markdown",
   "id": "031970bb-7468-4cb7-97ca-5516fc7dafcc",
   "metadata": {},
   "source": [
    "## <strong> A.6 - </strong> Liste de tous les <strong> acheteurs/clients et leurs emplacement </strong>"
   ]
  },
  {
   "cell_type": "code",
   "execution_count": 27,
   "id": "f3361dd9-a6a8-494a-9a3d-33cbc13d26ff",
   "metadata": {},
   "outputs": [],
   "source": [
    "data_customers = pd.read_csv(\"customers_dataset.csv\")"
   ]
  },
  {
   "cell_type": "code",
   "execution_count": 28,
   "id": "86835e65-fbd7-4cd1-945a-c5878bda94c9",
   "metadata": {},
   "outputs": [
    {
     "data": {
      "text/html": [
       "<div>\n",
       "<style scoped>\n",
       "    .dataframe tbody tr th:only-of-type {\n",
       "        vertical-align: middle;\n",
       "    }\n",
       "\n",
       "    .dataframe tbody tr th {\n",
       "        vertical-align: top;\n",
       "    }\n",
       "\n",
       "    .dataframe thead th {\n",
       "        text-align: right;\n",
       "    }\n",
       "</style>\n",
       "<table border=\"1\" class=\"dataframe\">\n",
       "  <thead>\n",
       "    <tr style=\"text-align: right;\">\n",
       "      <th></th>\n",
       "      <th>customer_id</th>\n",
       "      <th>customer_unique_id</th>\n",
       "      <th>customer_zip_code_prefix</th>\n",
       "      <th>customer_city</th>\n",
       "      <th>customer_state</th>\n",
       "    </tr>\n",
       "  </thead>\n",
       "  <tbody>\n",
       "    <tr>\n",
       "      <th>0</th>\n",
       "      <td>06b8999e2fba1a1fbc88172c00ba8bc7</td>\n",
       "      <td>861eff4711a542e4b93843c6dd7febb0</td>\n",
       "      <td>14409</td>\n",
       "      <td>franca</td>\n",
       "      <td>SP</td>\n",
       "    </tr>\n",
       "    <tr>\n",
       "      <th>1</th>\n",
       "      <td>18955e83d337fd6b2def6b18a428ac77</td>\n",
       "      <td>290c77bc529b7ac935b93aa66c333dc3</td>\n",
       "      <td>9790</td>\n",
       "      <td>sao bernardo do campo</td>\n",
       "      <td>SP</td>\n",
       "    </tr>\n",
       "  </tbody>\n",
       "</table>\n",
       "</div>"
      ],
      "text/plain": [
       "                        customer_id                customer_unique_id  \\\n",
       "0  06b8999e2fba1a1fbc88172c00ba8bc7  861eff4711a542e4b93843c6dd7febb0   \n",
       "1  18955e83d337fd6b2def6b18a428ac77  290c77bc529b7ac935b93aa66c333dc3   \n",
       "\n",
       "   customer_zip_code_prefix          customer_city customer_state  \n",
       "0                     14409                 franca             SP  \n",
       "1                      9790  sao bernardo do campo             SP  "
      ]
     },
     "execution_count": 28,
     "metadata": {},
     "output_type": "execute_result"
    }
   ],
   "source": [
    "data_customers.head(2)"
   ]
  },
  {
   "cell_type": "code",
   "execution_count": 29,
   "id": "4e136c3d-75af-453f-9e00-cf5ffb0843eb",
   "metadata": {},
   "outputs": [
    {
     "data": {
      "text/plain": [
       "(99441, 5)"
      ]
     },
     "execution_count": 29,
     "metadata": {},
     "output_type": "execute_result"
    }
   ],
   "source": [
    "data_customers.shape"
   ]
  },
  {
   "cell_type": "markdown",
   "id": "be4a7117-ad54-41b4-a48c-0a0ee1e4d5c9",
   "metadata": {},
   "source": [
    "### <strong> A.6.1 -  Ajout des coordonnées geographiques des clients </strong>"
   ]
  },
  {
   "cell_type": "code",
   "execution_count": 30,
   "id": "fd16a995-1db8-43e5-b76a-71ae06b75868",
   "metadata": {},
   "outputs": [],
   "source": [
    "data_customers = pd.merge( data_customers , data_geolocation , left_on= [\"customer_zip_code_prefix\",\"customer_city\",\"customer_state\"], \n",
    "                        right_on=[\"geolocation_zip_code_prefix\",\"geolocation_city\",\"geolocation_state\"] , how =\"left\" )"
   ]
  },
  {
   "cell_type": "markdown",
   "id": "df170690-beb0-43b6-b8ce-c0c971571aa7",
   "metadata": {},
   "source": [
    "### Suppression de colonnes inutiles"
   ]
  },
  {
   "cell_type": "code",
   "execution_count": 31,
   "id": "c26c8be9-96f0-4dae-8226-72f6500ef811",
   "metadata": {},
   "outputs": [],
   "source": [
    "data_customers.drop( [\"geolocation_zip_code_prefix\", \"geolocation_city\", \"geolocation_state\"], axis=1, inplace=True )"
   ]
  },
  {
   "cell_type": "markdown",
   "id": "4b07e442-e611-4504-9cbe-d9fc187467ba",
   "metadata": {},
   "source": [
    "### Rename des variables de geolocalisation"
   ]
  },
  {
   "cell_type": "code",
   "execution_count": 32,
   "id": "cab49e28-67eb-4e2d-bdb1-f3f864714386",
   "metadata": {},
   "outputs": [],
   "source": [
    "data_customers.rename(columns={ \"geolocation_lat\":\"customers_geoloc_lat\" , \"geolocation_lng\":\"customers_geoloc_long\" }, inplace=True)"
   ]
  },
  {
   "cell_type": "code",
   "execution_count": 33,
   "id": "66bf6f9d-52c2-4359-98a2-bd9fca4cddfa",
   "metadata": {},
   "outputs": [
    {
     "data": {
      "text/html": [
       "<div>\n",
       "<style scoped>\n",
       "    .dataframe tbody tr th:only-of-type {\n",
       "        vertical-align: middle;\n",
       "    }\n",
       "\n",
       "    .dataframe tbody tr th {\n",
       "        vertical-align: top;\n",
       "    }\n",
       "\n",
       "    .dataframe thead th {\n",
       "        text-align: right;\n",
       "    }\n",
       "</style>\n",
       "<table border=\"1\" class=\"dataframe\">\n",
       "  <thead>\n",
       "    <tr style=\"text-align: right;\">\n",
       "      <th></th>\n",
       "      <th>customer_id</th>\n",
       "      <th>customer_unique_id</th>\n",
       "      <th>customer_zip_code_prefix</th>\n",
       "      <th>customer_city</th>\n",
       "      <th>customer_state</th>\n",
       "      <th>customers_geoloc_lat</th>\n",
       "      <th>customers_geoloc_long</th>\n",
       "    </tr>\n",
       "  </thead>\n",
       "  <tbody>\n",
       "    <tr>\n",
       "      <th>0</th>\n",
       "      <td>06b8999e2fba1a1fbc88172c00ba8bc7</td>\n",
       "      <td>861eff4711a542e4b93843c6dd7febb0</td>\n",
       "      <td>14409</td>\n",
       "      <td>franca</td>\n",
       "      <td>SP</td>\n",
       "      <td>-20.509897</td>\n",
       "      <td>-47.397866</td>\n",
       "    </tr>\n",
       "    <tr>\n",
       "      <th>1</th>\n",
       "      <td>18955e83d337fd6b2def6b18a428ac77</td>\n",
       "      <td>290c77bc529b7ac935b93aa66c333dc3</td>\n",
       "      <td>9790</td>\n",
       "      <td>sao bernardo do campo</td>\n",
       "      <td>SP</td>\n",
       "      <td>-23.726853</td>\n",
       "      <td>-46.545746</td>\n",
       "    </tr>\n",
       "  </tbody>\n",
       "</table>\n",
       "</div>"
      ],
      "text/plain": [
       "                        customer_id                customer_unique_id  \\\n",
       "0  06b8999e2fba1a1fbc88172c00ba8bc7  861eff4711a542e4b93843c6dd7febb0   \n",
       "1  18955e83d337fd6b2def6b18a428ac77  290c77bc529b7ac935b93aa66c333dc3   \n",
       "\n",
       "   customer_zip_code_prefix          customer_city customer_state  \\\n",
       "0                     14409                 franca             SP   \n",
       "1                      9790  sao bernardo do campo             SP   \n",
       "\n",
       "   customers_geoloc_lat  customers_geoloc_long  \n",
       "0            -20.509897             -47.397866  \n",
       "1            -23.726853             -46.545746  "
      ]
     },
     "execution_count": 33,
     "metadata": {},
     "output_type": "execute_result"
    }
   ],
   "source": [
    "data_customers.head(2)"
   ]
  },
  {
   "cell_type": "code",
   "execution_count": 34,
   "id": "b9842eba-1784-40f6-8d35-510204b4f2d3",
   "metadata": {},
   "outputs": [
    {
     "data": {
      "text/plain": [
       "(99441, 7)"
      ]
     },
     "execution_count": 34,
     "metadata": {},
     "output_type": "execute_result"
    }
   ],
   "source": [
    "data_customers.shape"
   ]
  },
  {
   "cell_type": "markdown",
   "id": "b521daf0-8bba-4e51-bf8c-2e980f3700f2",
   "metadata": {},
   "source": [
    "## <strong> A.7 - </strong> Liste de tous les <strong> avis/retours de chaque clients </strong>"
   ]
  },
  {
   "cell_type": "code",
   "execution_count": 35,
   "id": "f4251b07-d4a4-43b5-b959-926704a63860",
   "metadata": {},
   "outputs": [],
   "source": [
    "data_order_reviews = pd.read_csv(\"order_reviews_dataset.csv\")"
   ]
  },
  {
   "cell_type": "code",
   "execution_count": 36,
   "id": "b11dc4af-3381-4a5d-8948-77157179a390",
   "metadata": {},
   "outputs": [],
   "source": [
    "data_order_reviews.drop([\"review_comment_title\",\"review_comment_message\",\"review_creation_date\",\"review_answer_timestamp\"],axis=1, inplace=True)"
   ]
  },
  {
   "cell_type": "code",
   "execution_count": 37,
   "id": "df8ecfc4-e9e5-40da-b265-6ed1cde50198",
   "metadata": {},
   "outputs": [
    {
     "data": {
      "text/html": [
       "<div>\n",
       "<style scoped>\n",
       "    .dataframe tbody tr th:only-of-type {\n",
       "        vertical-align: middle;\n",
       "    }\n",
       "\n",
       "    .dataframe tbody tr th {\n",
       "        vertical-align: top;\n",
       "    }\n",
       "\n",
       "    .dataframe thead th {\n",
       "        text-align: right;\n",
       "    }\n",
       "</style>\n",
       "<table border=\"1\" class=\"dataframe\">\n",
       "  <thead>\n",
       "    <tr style=\"text-align: right;\">\n",
       "      <th></th>\n",
       "      <th>review_id</th>\n",
       "      <th>order_id</th>\n",
       "      <th>review_score</th>\n",
       "    </tr>\n",
       "  </thead>\n",
       "  <tbody>\n",
       "    <tr>\n",
       "      <th>0</th>\n",
       "      <td>7bc2406110b926393aa56f80a40eba40</td>\n",
       "      <td>73fc7af87114b39712e6da79b0a377eb</td>\n",
       "      <td>4</td>\n",
       "    </tr>\n",
       "    <tr>\n",
       "      <th>1</th>\n",
       "      <td>80e641a11e56f04c1ad469d5645fdfde</td>\n",
       "      <td>a548910a1c6147796b98fdf73dbeba33</td>\n",
       "      <td>5</td>\n",
       "    </tr>\n",
       "  </tbody>\n",
       "</table>\n",
       "</div>"
      ],
      "text/plain": [
       "                          review_id                          order_id  \\\n",
       "0  7bc2406110b926393aa56f80a40eba40  73fc7af87114b39712e6da79b0a377eb   \n",
       "1  80e641a11e56f04c1ad469d5645fdfde  a548910a1c6147796b98fdf73dbeba33   \n",
       "\n",
       "   review_score  \n",
       "0             4  \n",
       "1             5  "
      ]
     },
     "execution_count": 37,
     "metadata": {},
     "output_type": "execute_result"
    }
   ],
   "source": [
    "data_order_reviews.head(2)"
   ]
  },
  {
   "cell_type": "markdown",
   "id": "6b67d8c2-2cd8-42da-bd75-dc547e19b9c8",
   "metadata": {},
   "source": [
    "## <strong> A.8 - </strong> Liste de tous les <strong> articles achetés dans chaque commande </strong>"
   ]
  },
  {
   "cell_type": "code",
   "execution_count": 38,
   "id": "2f34292d-7727-4868-9989-4c060737d29e",
   "metadata": {},
   "outputs": [],
   "source": [
    "data_order_items = pd.read_csv(\"order_items_dataset.csv\")"
   ]
  },
  {
   "cell_type": "markdown",
   "id": "81da2c2a-5c41-4fa3-841c-49d7eeb9a379",
   "metadata": {},
   "source": [
    "### <strong> A.8.1 - </strong> Rename des variables donnant la quantité d'articles"
   ]
  },
  {
   "cell_type": "code",
   "execution_count": 39,
   "id": "5ee64f35-1ba7-4cf9-8645-b112b4590db4",
   "metadata": {},
   "outputs": [],
   "source": [
    "data_order_items.rename(columns={ \"order_item_id\":\"order_items_quantity\"}, inplace=True)"
   ]
  },
  {
   "cell_type": "code",
   "execution_count": 40,
   "id": "9719cf38-a05e-4835-9742-50b3511fd514",
   "metadata": {},
   "outputs": [
    {
     "data": {
      "text/plain": [
       "array([1, 2], dtype=int64)"
      ]
     },
     "execution_count": 40,
     "metadata": {},
     "output_type": "execute_result"
    }
   ],
   "source": [
    "pd.Series([1,1,2,2]).mode().values"
   ]
  },
  {
   "cell_type": "markdown",
   "id": "b64b1d19-72f6-46c5-ba28-af16012edcac",
   "metadata": {},
   "source": [
    "### <strong> A.8.3 - </strong> Supression de la variable de temps"
   ]
  },
  {
   "cell_type": "code",
   "execution_count": 41,
   "id": "167f46e0-de11-4909-9f9b-64b8360efe18",
   "metadata": {},
   "outputs": [],
   "source": [
    "data_order_items.drop([\"shipping_limit_date\"], axis=1, inplace=True)"
   ]
  },
  {
   "cell_type": "code",
   "execution_count": 42,
   "id": "777a4fae-ebaf-47fb-8002-0876e7fcc3f9",
   "metadata": {},
   "outputs": [],
   "source": [
    "data_order_items = data_order_items.groupby([\"order_id\"], as_index=False).agg({\"order_items_quantity\":\"sum\",\"product_id\":lambda x : x.mode()[0],\n",
    "                                                                               \"seller_id\":lambda x : x.mode()[0] , \"price\":\"mean\"})"
   ]
  },
  {
   "cell_type": "code",
   "execution_count": 43,
   "id": "8457f953-9b05-406e-a708-e35c19039b0b",
   "metadata": {},
   "outputs": [],
   "source": [
    "data_order_items.rename(columns={\"price\":\"items_mean_price\"} ,inplace=True)"
   ]
  },
  {
   "cell_type": "code",
   "execution_count": 44,
   "id": "493e58c5-8455-49a5-b429-7f59d51bf46c",
   "metadata": {},
   "outputs": [
    {
     "data": {
      "text/html": [
       "<div>\n",
       "<style scoped>\n",
       "    .dataframe tbody tr th:only-of-type {\n",
       "        vertical-align: middle;\n",
       "    }\n",
       "\n",
       "    .dataframe tbody tr th {\n",
       "        vertical-align: top;\n",
       "    }\n",
       "\n",
       "    .dataframe thead th {\n",
       "        text-align: right;\n",
       "    }\n",
       "</style>\n",
       "<table border=\"1\" class=\"dataframe\">\n",
       "  <thead>\n",
       "    <tr style=\"text-align: right;\">\n",
       "      <th></th>\n",
       "      <th>order_id</th>\n",
       "      <th>order_items_quantity</th>\n",
       "      <th>product_id</th>\n",
       "      <th>seller_id</th>\n",
       "      <th>items_mean_price</th>\n",
       "    </tr>\n",
       "  </thead>\n",
       "  <tbody>\n",
       "    <tr>\n",
       "      <th>0</th>\n",
       "      <td>00010242fe8c5a6d1ba2dd792cb16214</td>\n",
       "      <td>1</td>\n",
       "      <td>4244733e06e7ecb4970a6e2683c13e61</td>\n",
       "      <td>48436dade18ac8b2bce089ec2a041202</td>\n",
       "      <td>58.9</td>\n",
       "    </tr>\n",
       "    <tr>\n",
       "      <th>1</th>\n",
       "      <td>00018f77f2f0320c557190d7a144bdd3</td>\n",
       "      <td>1</td>\n",
       "      <td>e5f2d52b802189ee658865ca93d83a8f</td>\n",
       "      <td>dd7ddc04e1b6c2c614352b383efe2d36</td>\n",
       "      <td>239.9</td>\n",
       "    </tr>\n",
       "  </tbody>\n",
       "</table>\n",
       "</div>"
      ],
      "text/plain": [
       "                           order_id  order_items_quantity  \\\n",
       "0  00010242fe8c5a6d1ba2dd792cb16214                     1   \n",
       "1  00018f77f2f0320c557190d7a144bdd3                     1   \n",
       "\n",
       "                         product_id                         seller_id  \\\n",
       "0  4244733e06e7ecb4970a6e2683c13e61  48436dade18ac8b2bce089ec2a041202   \n",
       "1  e5f2d52b802189ee658865ca93d83a8f  dd7ddc04e1b6c2c614352b383efe2d36   \n",
       "\n",
       "   items_mean_price  \n",
       "0              58.9  \n",
       "1             239.9  "
      ]
     },
     "execution_count": 44,
     "metadata": {},
     "output_type": "execute_result"
    }
   ],
   "source": [
    "data_order_items.head(2)"
   ]
  },
  {
   "cell_type": "markdown",
   "id": "11192e33-7b26-4a75-b625-4f5df246e766",
   "metadata": {},
   "source": [
    "## <strong> A.9 - </strong> Liste de toutes les <strong> données de base de chaque commande </strong>"
   ]
  },
  {
   "cell_type": "code",
   "execution_count": 45,
   "id": "63a504a2-7317-4630-bc68-252738f8e250",
   "metadata": {},
   "outputs": [],
   "source": [
    "data_orders = pd.read_csv(\"orders_dataset.csv\")"
   ]
  },
  {
   "cell_type": "markdown",
   "id": "8e2c7330-4cb1-4f8a-b74e-91f2827881f5",
   "metadata": {},
   "source": [
    "### <strong> A.9.1 - </strong> Rename des variables de temps "
   ]
  },
  {
   "cell_type": "code",
   "execution_count": 46,
   "id": "661211c8-5a14-4266-b733-c8db65ae7950",
   "metadata": {},
   "outputs": [],
   "source": [
    "data_orders.rename( columns={\"order_purchase_timestamp\":\"date_achat_client\", \"order_delivered_customer_date\":\"date_reception_cmd\",\n",
    "                             \"order_estimated_delivery_date\":\"date_reception_théorique\"} ,inplace=True )"
   ]
  },
  {
   "cell_type": "markdown",
   "id": "b9c20ca3-dc56-46cc-a429-f7fe2efc29f5",
   "metadata": {},
   "source": [
    "### <strong> A.9.2 - </strong> Formatage des dates"
   ]
  },
  {
   "cell_type": "code",
   "execution_count": 47,
   "id": "5c1cebac-19f0-4877-8cff-a77fe08bc3a2",
   "metadata": {},
   "outputs": [],
   "source": [
    "for i in [\"date_achat_client\",\"date_reception_cmd\",\"date_reception_théorique\"] :\n",
    "    data_orders[i] = pd.to_datetime(data_orders[i] , yearfirst=True)"
   ]
  },
  {
   "cell_type": "markdown",
   "id": "3a5346c0-7f5c-4a87-8598-a873dac60164",
   "metadata": {},
   "source": [
    "### <strong> A.9.3 - </strong> supression des variables"
   ]
  },
  {
   "cell_type": "code",
   "execution_count": 48,
   "id": "26a998be-cd51-40ce-b7a6-ebf9500ceac0",
   "metadata": {},
   "outputs": [],
   "source": [
    "data_orders.drop([\"order_delivered_carrier_date\",\"order_status\",\"order_approved_at\"], axis=1, inplace = True)"
   ]
  },
  {
   "cell_type": "code",
   "execution_count": 49,
   "id": "435b680a-37f0-488b-b639-254afa009346",
   "metadata": {},
   "outputs": [
    {
     "data": {
      "text/html": [
       "<div>\n",
       "<style scoped>\n",
       "    .dataframe tbody tr th:only-of-type {\n",
       "        vertical-align: middle;\n",
       "    }\n",
       "\n",
       "    .dataframe tbody tr th {\n",
       "        vertical-align: top;\n",
       "    }\n",
       "\n",
       "    .dataframe thead th {\n",
       "        text-align: right;\n",
       "    }\n",
       "</style>\n",
       "<table border=\"1\" class=\"dataframe\">\n",
       "  <thead>\n",
       "    <tr style=\"text-align: right;\">\n",
       "      <th></th>\n",
       "      <th>order_id</th>\n",
       "      <th>customer_id</th>\n",
       "      <th>date_achat_client</th>\n",
       "      <th>date_reception_cmd</th>\n",
       "      <th>date_reception_théorique</th>\n",
       "    </tr>\n",
       "  </thead>\n",
       "  <tbody>\n",
       "    <tr>\n",
       "      <th>0</th>\n",
       "      <td>e481f51cbdc54678b7cc49136f2d6af7</td>\n",
       "      <td>9ef432eb6251297304e76186b10a928d</td>\n",
       "      <td>2017-10-02 10:56:33</td>\n",
       "      <td>2017-10-10 21:25:13</td>\n",
       "      <td>2017-10-18</td>\n",
       "    </tr>\n",
       "    <tr>\n",
       "      <th>1</th>\n",
       "      <td>53cdb2fc8bc7dce0b6741e2150273451</td>\n",
       "      <td>b0830fb4747a6c6d20dea0b8c802d7ef</td>\n",
       "      <td>2018-07-24 20:41:37</td>\n",
       "      <td>2018-08-07 15:27:45</td>\n",
       "      <td>2018-08-13</td>\n",
       "    </tr>\n",
       "  </tbody>\n",
       "</table>\n",
       "</div>"
      ],
      "text/plain": [
       "                           order_id                       customer_id  \\\n",
       "0  e481f51cbdc54678b7cc49136f2d6af7  9ef432eb6251297304e76186b10a928d   \n",
       "1  53cdb2fc8bc7dce0b6741e2150273451  b0830fb4747a6c6d20dea0b8c802d7ef   \n",
       "\n",
       "    date_achat_client  date_reception_cmd date_reception_théorique  \n",
       "0 2017-10-02 10:56:33 2017-10-10 21:25:13               2017-10-18  \n",
       "1 2018-07-24 20:41:37 2018-08-07 15:27:45               2018-08-13  "
      ]
     },
     "execution_count": 49,
     "metadata": {},
     "output_type": "execute_result"
    }
   ],
   "source": [
    "data_orders.head(2)"
   ]
  },
  {
   "cell_type": "markdown",
   "id": "2ac9edeb-9d10-441c-9162-fa3b922a4d14",
   "metadata": {},
   "source": [
    "## <strong> B - Construction du Dataframe global </strong>"
   ]
  },
  {
   "cell_type": "code",
   "execution_count": 50,
   "id": "65b4bb3a-011e-42c9-861a-c3ce639c458a",
   "metadata": {},
   "outputs": [],
   "source": [
    "data = pd.merge(data_orders , data_order_payments , on=\"order_id\" , how = \"left\")\n",
    "data = pd.merge(data , data_order_reviews , on=\"order_id\" , how = \"left\").drop([\"review_id\"] , axis=1)\n",
    "data = pd.merge(data , data_customers , on=\"customer_id\" , how = \"left\").drop([\"customer_id\"] , axis=1)\n",
    "data = pd.merge(data , data_order_items , on=\"order_id\" , how = \"left\")\n",
    "data = pd.merge(data , data_product_list , on=\"product_id\" , how = \"left\").drop([\"product_id\"], axis=1)\n",
    "data = pd.merge(data , data_sellers , on=\"seller_id\" , how = \"left\").drop([\"seller_id\"], axis=1)"
   ]
  },
  {
   "cell_type": "markdown",
   "id": "e2bf6101-3a9b-4358-872e-288b5b0ffac9",
   "metadata": {
    "tags": []
   },
   "source": [
    "### <strong> B.1 - </strong> supression des achats à valeurs nulles"
   ]
  },
  {
   "cell_type": "code",
   "execution_count": 51,
   "id": "bde86d21-7717-4c03-83bf-e212c8419353",
   "metadata": {},
   "outputs": [],
   "source": [
    "if \"payment_value\" in data.columns :\n",
    "    data = data[data[\"payment_value\"]!= 0]"
   ]
  },
  {
   "cell_type": "code",
   "execution_count": 52,
   "id": "c98db8fb-6639-40fa-a886-890bdc2ebd46",
   "metadata": {},
   "outputs": [
    {
     "data": {
      "text/html": [
       "<div>\n",
       "<style scoped>\n",
       "    .dataframe tbody tr th:only-of-type {\n",
       "        vertical-align: middle;\n",
       "    }\n",
       "\n",
       "    .dataframe tbody tr th {\n",
       "        vertical-align: top;\n",
       "    }\n",
       "\n",
       "    .dataframe thead th {\n",
       "        text-align: right;\n",
       "    }\n",
       "</style>\n",
       "<table border=\"1\" class=\"dataframe\">\n",
       "  <thead>\n",
       "    <tr style=\"text-align: right;\">\n",
       "      <th></th>\n",
       "      <th>order_id</th>\n",
       "      <th>date_achat_client</th>\n",
       "      <th>date_reception_cmd</th>\n",
       "      <th>date_reception_théorique</th>\n",
       "      <th>Nbr_mode_de_paiement</th>\n",
       "      <th>payment_type</th>\n",
       "      <th>payment_value</th>\n",
       "      <th>review_score</th>\n",
       "      <th>customer_unique_id</th>\n",
       "      <th>customer_zip_code_prefix</th>\n",
       "      <th>...</th>\n",
       "      <th>order_items_quantity</th>\n",
       "      <th>items_mean_price</th>\n",
       "      <th>product_category_name</th>\n",
       "      <th>product_photos_qty</th>\n",
       "      <th>product_volume_litre</th>\n",
       "      <th>seller_zip_code_prefix</th>\n",
       "      <th>seller_city</th>\n",
       "      <th>seller_state</th>\n",
       "      <th>sellers_geoloc_lat</th>\n",
       "      <th>sellers_geoloc_long</th>\n",
       "    </tr>\n",
       "  </thead>\n",
       "  <tbody>\n",
       "    <tr>\n",
       "      <th>0</th>\n",
       "      <td>e481f51cbdc54678b7cc49136f2d6af7</td>\n",
       "      <td>2017-10-02 10:56:33</td>\n",
       "      <td>2017-10-10 21:25:13</td>\n",
       "      <td>2017-10-18</td>\n",
       "      <td>3.0</td>\n",
       "      <td>voucher</td>\n",
       "      <td>38.71</td>\n",
       "      <td>4.0</td>\n",
       "      <td>7c396fd4830fd04220f754e42b4e5bff</td>\n",
       "      <td>3149</td>\n",
       "      <td>...</td>\n",
       "      <td>1.0</td>\n",
       "      <td>29.99</td>\n",
       "      <td>housewares</td>\n",
       "      <td>4.0</td>\n",
       "      <td>1.976</td>\n",
       "      <td>9350.0</td>\n",
       "      <td>maua</td>\n",
       "      <td>SP</td>\n",
       "      <td>-23.680114</td>\n",
       "      <td>-46.452454</td>\n",
       "    </tr>\n",
       "    <tr>\n",
       "      <th>1</th>\n",
       "      <td>53cdb2fc8bc7dce0b6741e2150273451</td>\n",
       "      <td>2018-07-24 20:41:37</td>\n",
       "      <td>2018-08-07 15:27:45</td>\n",
       "      <td>2018-08-13</td>\n",
       "      <td>1.0</td>\n",
       "      <td>boleto</td>\n",
       "      <td>141.46</td>\n",
       "      <td>4.0</td>\n",
       "      <td>af07308b275d755c9edb36a90c618231</td>\n",
       "      <td>47813</td>\n",
       "      <td>...</td>\n",
       "      <td>1.0</td>\n",
       "      <td>118.70</td>\n",
       "      <td>perfumery</td>\n",
       "      <td>1.0</td>\n",
       "      <td>4.693</td>\n",
       "      <td>31570.0</td>\n",
       "      <td>belo horizonte</td>\n",
       "      <td>SP</td>\n",
       "      <td>NaN</td>\n",
       "      <td>NaN</td>\n",
       "    </tr>\n",
       "    <tr>\n",
       "      <th>2</th>\n",
       "      <td>47770eb9100c2d0c44946d9cf07ec65d</td>\n",
       "      <td>2018-08-08 08:38:49</td>\n",
       "      <td>2018-08-17 18:06:29</td>\n",
       "      <td>2018-09-04</td>\n",
       "      <td>1.0</td>\n",
       "      <td>credit_card</td>\n",
       "      <td>179.12</td>\n",
       "      <td>5.0</td>\n",
       "      <td>3a653a41f6f9fc3d2a113cf8398680e8</td>\n",
       "      <td>75265</td>\n",
       "      <td>...</td>\n",
       "      <td>1.0</td>\n",
       "      <td>159.90</td>\n",
       "      <td>auto</td>\n",
       "      <td>1.0</td>\n",
       "      <td>9.576</td>\n",
       "      <td>14840.0</td>\n",
       "      <td>guariba</td>\n",
       "      <td>SP</td>\n",
       "      <td>-21.362358</td>\n",
       "      <td>-48.232976</td>\n",
       "    </tr>\n",
       "    <tr>\n",
       "      <th>3</th>\n",
       "      <td>949d5b44dbf5de918fe9c16f97b45f8a</td>\n",
       "      <td>2017-11-18 19:28:06</td>\n",
       "      <td>2017-12-02 00:28:42</td>\n",
       "      <td>2017-12-15</td>\n",
       "      <td>1.0</td>\n",
       "      <td>credit_card</td>\n",
       "      <td>72.20</td>\n",
       "      <td>5.0</td>\n",
       "      <td>7c142cf63193a1473d2e66489a9ae977</td>\n",
       "      <td>59296</td>\n",
       "      <td>...</td>\n",
       "      <td>1.0</td>\n",
       "      <td>45.00</td>\n",
       "      <td>pet_shop</td>\n",
       "      <td>3.0</td>\n",
       "      <td>6.000</td>\n",
       "      <td>31842.0</td>\n",
       "      <td>belo horizonte</td>\n",
       "      <td>MG</td>\n",
       "      <td>-19.840168</td>\n",
       "      <td>-43.923299</td>\n",
       "    </tr>\n",
       "    <tr>\n",
       "      <th>4</th>\n",
       "      <td>ad21c59c0840e6cb83a9ceb5573f8159</td>\n",
       "      <td>2018-02-13 21:18:39</td>\n",
       "      <td>2018-02-16 18:17:02</td>\n",
       "      <td>2018-02-26</td>\n",
       "      <td>1.0</td>\n",
       "      <td>credit_card</td>\n",
       "      <td>28.62</td>\n",
       "      <td>5.0</td>\n",
       "      <td>72632f0f9dd73dfee390c9b22eb56dd6</td>\n",
       "      <td>9195</td>\n",
       "      <td>...</td>\n",
       "      <td>1.0</td>\n",
       "      <td>19.90</td>\n",
       "      <td>stationery</td>\n",
       "      <td>4.0</td>\n",
       "      <td>11.475</td>\n",
       "      <td>8752.0</td>\n",
       "      <td>mogi das cruzes</td>\n",
       "      <td>SP</td>\n",
       "      <td>-23.551707</td>\n",
       "      <td>-46.260979</td>\n",
       "    </tr>\n",
       "    <tr>\n",
       "      <th>...</th>\n",
       "      <td>...</td>\n",
       "      <td>...</td>\n",
       "      <td>...</td>\n",
       "      <td>...</td>\n",
       "      <td>...</td>\n",
       "      <td>...</td>\n",
       "      <td>...</td>\n",
       "      <td>...</td>\n",
       "      <td>...</td>\n",
       "      <td>...</td>\n",
       "      <td>...</td>\n",
       "      <td>...</td>\n",
       "      <td>...</td>\n",
       "      <td>...</td>\n",
       "      <td>...</td>\n",
       "      <td>...</td>\n",
       "      <td>...</td>\n",
       "      <td>...</td>\n",
       "      <td>...</td>\n",
       "      <td>...</td>\n",
       "      <td>...</td>\n",
       "    </tr>\n",
       "    <tr>\n",
       "      <th>99987</th>\n",
       "      <td>9c5dedf39a927c1b2549525ed64a053c</td>\n",
       "      <td>2017-03-09 09:54:05</td>\n",
       "      <td>2017-03-17 15:08:01</td>\n",
       "      <td>2017-03-28</td>\n",
       "      <td>1.0</td>\n",
       "      <td>credit_card</td>\n",
       "      <td>85.08</td>\n",
       "      <td>5.0</td>\n",
       "      <td>6359f309b166b0196dbf7ad2ac62bb5a</td>\n",
       "      <td>12209</td>\n",
       "      <td>...</td>\n",
       "      <td>1.0</td>\n",
       "      <td>72.00</td>\n",
       "      <td>health_beauty</td>\n",
       "      <td>1.0</td>\n",
       "      <td>5.148</td>\n",
       "      <td>12913.0</td>\n",
       "      <td>braganca paulista</td>\n",
       "      <td>SP</td>\n",
       "      <td>-22.957505</td>\n",
       "      <td>-46.524886</td>\n",
       "    </tr>\n",
       "    <tr>\n",
       "      <th>99988</th>\n",
       "      <td>63943bddc261676b46f01ca7ac2f7bd8</td>\n",
       "      <td>2018-02-06 12:58:58</td>\n",
       "      <td>2018-02-28 17:37:56</td>\n",
       "      <td>2018-03-02</td>\n",
       "      <td>1.0</td>\n",
       "      <td>credit_card</td>\n",
       "      <td>195.00</td>\n",
       "      <td>4.0</td>\n",
       "      <td>da62f9e57a76d978d02ab5362c509660</td>\n",
       "      <td>11722</td>\n",
       "      <td>...</td>\n",
       "      <td>1.0</td>\n",
       "      <td>174.90</td>\n",
       "      <td>baby</td>\n",
       "      <td>4.0</td>\n",
       "      <td>16.000</td>\n",
       "      <td>17602.0</td>\n",
       "      <td>tupa</td>\n",
       "      <td>SP</td>\n",
       "      <td>-21.935321</td>\n",
       "      <td>-50.497562</td>\n",
       "    </tr>\n",
       "    <tr>\n",
       "      <th>99989</th>\n",
       "      <td>83c1379a015df1e13d02aae0204711ab</td>\n",
       "      <td>2017-08-27 14:46:43</td>\n",
       "      <td>2017-09-21 11:24:17</td>\n",
       "      <td>2017-09-27</td>\n",
       "      <td>1.0</td>\n",
       "      <td>credit_card</td>\n",
       "      <td>271.01</td>\n",
       "      <td>5.0</td>\n",
       "      <td>737520a9aad80b3fbbdad19b66b37b30</td>\n",
       "      <td>45920</td>\n",
       "      <td>...</td>\n",
       "      <td>1.0</td>\n",
       "      <td>205.99</td>\n",
       "      <td>home_appliances_2</td>\n",
       "      <td>2.0</td>\n",
       "      <td>63.360</td>\n",
       "      <td>8290.0</td>\n",
       "      <td>sao paulo</td>\n",
       "      <td>SP</td>\n",
       "      <td>-23.551013</td>\n",
       "      <td>-46.448489</td>\n",
       "    </tr>\n",
       "    <tr>\n",
       "      <th>99990</th>\n",
       "      <td>11c177c8e97725db2631073c19f07b62</td>\n",
       "      <td>2018-01-08 21:28:27</td>\n",
       "      <td>2018-01-25 23:32:54</td>\n",
       "      <td>2018-02-15</td>\n",
       "      <td>1.0</td>\n",
       "      <td>credit_card</td>\n",
       "      <td>441.16</td>\n",
       "      <td>2.0</td>\n",
       "      <td>5097a5312c8b157bb7be58ae360ef43c</td>\n",
       "      <td>28685</td>\n",
       "      <td>...</td>\n",
       "      <td>3.0</td>\n",
       "      <td>179.99</td>\n",
       "      <td>computers_accessories</td>\n",
       "      <td>1.0</td>\n",
       "      <td>8.000</td>\n",
       "      <td>37175.0</td>\n",
       "      <td>ilicinea</td>\n",
       "      <td>MG</td>\n",
       "      <td>-20.944706</td>\n",
       "      <td>-45.827098</td>\n",
       "    </tr>\n",
       "    <tr>\n",
       "      <th>99991</th>\n",
       "      <td>66dea50a8b16d9b4dee7af250b4be1a5</td>\n",
       "      <td>2018-03-08 20:57:30</td>\n",
       "      <td>2018-03-16 13:08:30</td>\n",
       "      <td>2018-04-03</td>\n",
       "      <td>1.0</td>\n",
       "      <td>debit_card</td>\n",
       "      <td>86.86</td>\n",
       "      <td>5.0</td>\n",
       "      <td>60350aa974b26ff12caad89e55993bd6</td>\n",
       "      <td>83750</td>\n",
       "      <td>...</td>\n",
       "      <td>1.0</td>\n",
       "      <td>68.50</td>\n",
       "      <td>health_beauty</td>\n",
       "      <td>1.0</td>\n",
       "      <td>1.680</td>\n",
       "      <td>14407.0</td>\n",
       "      <td>franca</td>\n",
       "      <td>SP</td>\n",
       "      <td>-20.502342</td>\n",
       "      <td>-47.421590</td>\n",
       "    </tr>\n",
       "  </tbody>\n",
       "</table>\n",
       "<p>99989 rows × 24 columns</p>\n",
       "</div>"
      ],
      "text/plain": [
       "                               order_id   date_achat_client  \\\n",
       "0      e481f51cbdc54678b7cc49136f2d6af7 2017-10-02 10:56:33   \n",
       "1      53cdb2fc8bc7dce0b6741e2150273451 2018-07-24 20:41:37   \n",
       "2      47770eb9100c2d0c44946d9cf07ec65d 2018-08-08 08:38:49   \n",
       "3      949d5b44dbf5de918fe9c16f97b45f8a 2017-11-18 19:28:06   \n",
       "4      ad21c59c0840e6cb83a9ceb5573f8159 2018-02-13 21:18:39   \n",
       "...                                 ...                 ...   \n",
       "99987  9c5dedf39a927c1b2549525ed64a053c 2017-03-09 09:54:05   \n",
       "99988  63943bddc261676b46f01ca7ac2f7bd8 2018-02-06 12:58:58   \n",
       "99989  83c1379a015df1e13d02aae0204711ab 2017-08-27 14:46:43   \n",
       "99990  11c177c8e97725db2631073c19f07b62 2018-01-08 21:28:27   \n",
       "99991  66dea50a8b16d9b4dee7af250b4be1a5 2018-03-08 20:57:30   \n",
       "\n",
       "       date_reception_cmd date_reception_théorique  Nbr_mode_de_paiement  \\\n",
       "0     2017-10-10 21:25:13               2017-10-18                   3.0   \n",
       "1     2018-08-07 15:27:45               2018-08-13                   1.0   \n",
       "2     2018-08-17 18:06:29               2018-09-04                   1.0   \n",
       "3     2017-12-02 00:28:42               2017-12-15                   1.0   \n",
       "4     2018-02-16 18:17:02               2018-02-26                   1.0   \n",
       "...                   ...                      ...                   ...   \n",
       "99987 2017-03-17 15:08:01               2017-03-28                   1.0   \n",
       "99988 2018-02-28 17:37:56               2018-03-02                   1.0   \n",
       "99989 2017-09-21 11:24:17               2017-09-27                   1.0   \n",
       "99990 2018-01-25 23:32:54               2018-02-15                   1.0   \n",
       "99991 2018-03-16 13:08:30               2018-04-03                   1.0   \n",
       "\n",
       "      payment_type  payment_value  review_score  \\\n",
       "0          voucher          38.71           4.0   \n",
       "1           boleto         141.46           4.0   \n",
       "2      credit_card         179.12           5.0   \n",
       "3      credit_card          72.20           5.0   \n",
       "4      credit_card          28.62           5.0   \n",
       "...            ...            ...           ...   \n",
       "99987  credit_card          85.08           5.0   \n",
       "99988  credit_card         195.00           4.0   \n",
       "99989  credit_card         271.01           5.0   \n",
       "99990  credit_card         441.16           2.0   \n",
       "99991   debit_card          86.86           5.0   \n",
       "\n",
       "                     customer_unique_id  customer_zip_code_prefix  ...  \\\n",
       "0      7c396fd4830fd04220f754e42b4e5bff                      3149  ...   \n",
       "1      af07308b275d755c9edb36a90c618231                     47813  ...   \n",
       "2      3a653a41f6f9fc3d2a113cf8398680e8                     75265  ...   \n",
       "3      7c142cf63193a1473d2e66489a9ae977                     59296  ...   \n",
       "4      72632f0f9dd73dfee390c9b22eb56dd6                      9195  ...   \n",
       "...                                 ...                       ...  ...   \n",
       "99987  6359f309b166b0196dbf7ad2ac62bb5a                     12209  ...   \n",
       "99988  da62f9e57a76d978d02ab5362c509660                     11722  ...   \n",
       "99989  737520a9aad80b3fbbdad19b66b37b30                     45920  ...   \n",
       "99990  5097a5312c8b157bb7be58ae360ef43c                     28685  ...   \n",
       "99991  60350aa974b26ff12caad89e55993bd6                     83750  ...   \n",
       "\n",
       "      order_items_quantity items_mean_price  product_category_name  \\\n",
       "0                      1.0            29.99             housewares   \n",
       "1                      1.0           118.70              perfumery   \n",
       "2                      1.0           159.90                   auto   \n",
       "3                      1.0            45.00               pet_shop   \n",
       "4                      1.0            19.90             stationery   \n",
       "...                    ...              ...                    ...   \n",
       "99987                  1.0            72.00          health_beauty   \n",
       "99988                  1.0           174.90                   baby   \n",
       "99989                  1.0           205.99      home_appliances_2   \n",
       "99990                  3.0           179.99  computers_accessories   \n",
       "99991                  1.0            68.50          health_beauty   \n",
       "\n",
       "       product_photos_qty  product_volume_litre  seller_zip_code_prefix  \\\n",
       "0                     4.0                 1.976                  9350.0   \n",
       "1                     1.0                 4.693                 31570.0   \n",
       "2                     1.0                 9.576                 14840.0   \n",
       "3                     3.0                 6.000                 31842.0   \n",
       "4                     4.0                11.475                  8752.0   \n",
       "...                   ...                   ...                     ...   \n",
       "99987                 1.0                 5.148                 12913.0   \n",
       "99988                 4.0                16.000                 17602.0   \n",
       "99989                 2.0                63.360                  8290.0   \n",
       "99990                 1.0                 8.000                 37175.0   \n",
       "99991                 1.0                 1.680                 14407.0   \n",
       "\n",
       "             seller_city  seller_state  sellers_geoloc_lat  \\\n",
       "0                   maua            SP          -23.680114   \n",
       "1         belo horizonte            SP                 NaN   \n",
       "2                guariba            SP          -21.362358   \n",
       "3         belo horizonte            MG          -19.840168   \n",
       "4        mogi das cruzes            SP          -23.551707   \n",
       "...                  ...           ...                 ...   \n",
       "99987  braganca paulista            SP          -22.957505   \n",
       "99988               tupa            SP          -21.935321   \n",
       "99989          sao paulo            SP          -23.551013   \n",
       "99990           ilicinea            MG          -20.944706   \n",
       "99991             franca            SP          -20.502342   \n",
       "\n",
       "       sellers_geoloc_long  \n",
       "0               -46.452454  \n",
       "1                      NaN  \n",
       "2               -48.232976  \n",
       "3               -43.923299  \n",
       "4               -46.260979  \n",
       "...                    ...  \n",
       "99987           -46.524886  \n",
       "99988           -50.497562  \n",
       "99989           -46.448489  \n",
       "99990           -45.827098  \n",
       "99991           -47.421590  \n",
       "\n",
       "[99989 rows x 24 columns]"
      ]
     },
     "execution_count": 52,
     "metadata": {},
     "output_type": "execute_result"
    }
   ],
   "source": [
    "data"
   ]
  },
  {
   "cell_type": "markdown",
   "id": "386ee529-af7b-4513-8f51-91a185a475e9",
   "metadata": {},
   "source": [
    "### <strong> B.2 - Evaluation de la  distance à vol d'oiseau entre le client et le vendeur </strong>"
   ]
  },
  {
   "cell_type": "code",
   "execution_count": 53,
   "id": "1364a4d0-1f7a-4d90-84b0-acb0106c3d73",
   "metadata": {},
   "outputs": [],
   "source": [
    "data[\"distance_client_vendeur_Km\"] =  np.array( [distance_a_vol_oiseau( data.loc[i,\"customers_geoloc_lat\"] , data.loc[i,\"sellers_geoloc_lat\"]  ,\n",
    "                                                               data.loc[i,\"customers_geoloc_long\"] , data.loc[i,\"sellers_geoloc_long\"] ) for i in data.index ] )"
   ]
  },
  {
   "cell_type": "markdown",
   "id": "245d234e-0a02-40dc-b91c-aadcea848b0e",
   "metadata": {},
   "source": [
    "### <strong> B.3 - </strong> Supression des coordonnées geographiques"
   ]
  },
  {
   "cell_type": "code",
   "execution_count": 54,
   "id": "2294f022-e494-4724-ac4e-8ddbf09e217e",
   "metadata": {},
   "outputs": [],
   "source": [
    "data.drop([\"customers_geoloc_lat\",\"sellers_geoloc_lat\",\"customers_geoloc_long\",\"sellers_geoloc_long\",\"customer_zip_code_prefix\",\"customer_state\",\n",
    "           \"seller_zip_code_prefix\",\"seller_state\"] , axis = 1, inplace=True)"
   ]
  },
  {
   "cell_type": "markdown",
   "id": "db7dfe4d-ca17-45ff-906a-f79586496093",
   "metadata": {},
   "source": [
    "## <strong> C - Construction des durées </strong>"
   ]
  },
  {
   "cell_type": "code",
   "execution_count": 55,
   "id": "6a4c970b-b655-4995-a021-0cc5e0b8b7d1",
   "metadata": {},
   "outputs": [],
   "source": [
    "data[\"durée_reception_cmd_jr\"] = data[\"date_reception_cmd\"] - data[\"date_achat_client\"]\n",
    "data[\"durée_reception_respectée_jr\"] = data[\"date_reception_cmd\"] -data[\"date_reception_théorique\"]\n",
    "data[\"date_achat_client\"] = data[\"date_achat_client\"] -  pd.to_datetime(\"01 october 2016\" ,yearfirst=True)"
   ]
  },
  {
   "cell_type": "code",
   "execution_count": 56,
   "id": "8f9d9251-aeca-485e-8f25-ce46d5a5e84f",
   "metadata": {},
   "outputs": [],
   "source": [
    "for j in [ k for k in data.columns if (\"durée_\" in k ) or (\"date_achat_client\" == k )] :\n",
    "    data[j] = np.array([  data.loc[i,j].total_seconds() for i in data.index ])/(3600.*24.)"
   ]
  },
  {
   "cell_type": "code",
   "execution_count": 57,
   "id": "17f4792e-9e9c-4432-aee6-08a4c68c8a9a",
   "metadata": {},
   "outputs": [],
   "source": [
    "duration = [k for k in data.columns if \"durée_\" in k]\n",
    "data[duration] = data[duration].astype(np.float64)"
   ]
  },
  {
   "cell_type": "code",
   "execution_count": 58,
   "id": "e9c09ebb-a77b-482c-b033-695d0c3da004",
   "metadata": {},
   "outputs": [],
   "source": [
    "data.sort_values(by= \"date_achat_client\" ,ignore_index=True, inplace=True)"
   ]
  },
  {
   "cell_type": "markdown",
   "id": "f3876803-80a3-42be-963e-c9f014e18377",
   "metadata": {},
   "source": [
    "### <strong> C.1 - </strong> Supression des variables de temps"
   ]
  },
  {
   "cell_type": "code",
   "execution_count": 59,
   "id": "fad99207-13ed-4104-a048-c2eb7aa3a5fa",
   "metadata": {},
   "outputs": [],
   "source": [
    "data.drop([i for i in data.columns if (\"date_\" in i)&(\"_achat_client\" not in i)] , axis = 1, inplace=True)"
   ]
  },
  {
   "cell_type": "markdown",
   "id": "9a3b01e1-db4e-4564-8644-7d72ab3faa9d",
   "metadata": {},
   "source": [
    "## <strong> D -  Données de fréquence de maintenance </strong>"
   ]
  },
  {
   "cell_type": "code",
   "execution_count": 60,
   "id": "2b38314a-2c7e-477e-a2b8-39dacf21593e",
   "metadata": {},
   "outputs": [],
   "source": [
    "data_freq = data.groupby([\"customer_unique_id\"], as_index=False).agg({\"date_achat_client\" : \"min\", \"order_id\":\"count\", \"Nbr_mode_de_paiement\" :\"mean\", \"payment_value\" : \"sum\", \n",
    "                                                                      \"review_score\" : \"mean\", \"order_items_quantity\" : \"sum\", \"items_mean_price\":\"mean\" ,\n",
    "                                                                      \"distance_client_vendeur_Km\":\"mean\", \"durée_reception_cmd_jr\":\"mean\",\"durée_reception_respectée_jr\":\"mean\",\n",
    "                                                                      \"payment_type\": series_modes, \"customer_city\": series_modes, \"seller_city\": series_modes\n",
    "                                                                      } ).drop(\"customer_unique_id\",axis=1)"
   ]
  },
  {
   "cell_type": "markdown",
   "id": "d8690ce1-0ba3-47f4-9c93-56fbce1f6ac6",
   "metadata": {},
   "source": [
    "## <strong> E - Données de modélisation</strong>"
   ]
  },
  {
   "cell_type": "code",
   "execution_count": 61,
   "id": "a4ee3174-331d-462d-aa2b-8fe133c3978f",
   "metadata": {},
   "outputs": [],
   "source": [
    "data_mod = data.groupby([\"customer_unique_id\"], as_index=False).agg({\"date_achat_client\" : f, \"order_id\":\"count\", \"Nbr_mode_de_paiement\" :\"mean\", \"payment_value\" : \"sum\", \n",
    "                                                                      \"review_score\" : \"mean\", \"order_items_quantity\" : \"sum\", \"items_mean_price\":\"mean\" ,\n",
    "                                                                      \"distance_client_vendeur_Km\":\"mean\", \"durée_reception_cmd_jr\":\"mean\",\"durée_reception_respectée_jr\":\"mean\",\n",
    "                                                                      \"payment_type\": series_modes, \"customer_city\": series_modes, \"seller_city\": series_modes\n",
    "                                                                      } ).drop(\"customer_unique_id\",axis=1)"
   ]
  },
  {
   "cell_type": "code",
   "execution_count": 62,
   "id": "2ffb1d52-c28a-463e-bc77-a4e414cbf6b7",
   "metadata": {},
   "outputs": [],
   "source": [
    "data_mod.rename(columns={\"date_achat_client\":\"Jour_moyen_entre_achats\" , \"order_id\":\"Nombre_commandes\"}, inplace=True)\n",
    "data_freq.rename( columns ={ \"order_id\":\"Nombre_commandes\" } , inplace = True )"
   ]
  },
  {
   "cell_type": "code",
   "execution_count": 63,
   "id": "4343ad9e-5b50-437d-9a70-c6026f83514b",
   "metadata": {},
   "outputs": [],
   "source": [
    "data_mod.dropna(axis='index',inplace=True)\n",
    "data_freq.dropna(axis='index',inplace=True)"
   ]
  },
  {
   "cell_type": "code",
   "execution_count": 64,
   "id": "de150c56-80d3-4781-ad19-fd494be446d8",
   "metadata": {},
   "outputs": [
    {
     "data": {
      "text/html": [
       "<div>\n",
       "<style scoped>\n",
       "    .dataframe tbody tr th:only-of-type {\n",
       "        vertical-align: middle;\n",
       "    }\n",
       "\n",
       "    .dataframe tbody tr th {\n",
       "        vertical-align: top;\n",
       "    }\n",
       "\n",
       "    .dataframe thead th {\n",
       "        text-align: right;\n",
       "    }\n",
       "</style>\n",
       "<table border=\"1\" class=\"dataframe\">\n",
       "  <thead>\n",
       "    <tr style=\"text-align: right;\">\n",
       "      <th></th>\n",
       "      <th>order_id</th>\n",
       "      <th>date_achat_client</th>\n",
       "      <th>Nbr_mode_de_paiement</th>\n",
       "      <th>payment_type</th>\n",
       "      <th>payment_value</th>\n",
       "      <th>review_score</th>\n",
       "      <th>customer_unique_id</th>\n",
       "      <th>customer_city</th>\n",
       "      <th>order_items_quantity</th>\n",
       "      <th>items_mean_price</th>\n",
       "      <th>product_category_name</th>\n",
       "      <th>product_photos_qty</th>\n",
       "      <th>product_volume_litre</th>\n",
       "      <th>seller_city</th>\n",
       "      <th>distance_client_vendeur_Km</th>\n",
       "      <th>durée_reception_cmd_jr</th>\n",
       "      <th>durée_reception_respectée_jr</th>\n",
       "    </tr>\n",
       "  </thead>\n",
       "  <tbody>\n",
       "    <tr>\n",
       "      <th>0</th>\n",
       "      <td>2e7a8482f6fb09756ca50c10d7bfc047</td>\n",
       "      <td>-26.114363</td>\n",
       "      <td>1.0</td>\n",
       "      <td>credit_card</td>\n",
       "      <td>136.23</td>\n",
       "      <td>1.0</td>\n",
       "      <td>b7d76e111c89f7ebf14761390f0f7d17</td>\n",
       "      <td>boa vista</td>\n",
       "      <td>3.0</td>\n",
       "      <td>36.445</td>\n",
       "      <td>furniture_decor</td>\n",
       "      <td>2.0</td>\n",
       "      <td>5.376</td>\n",
       "      <td>monte siao</td>\n",
       "      <td>2828.774821</td>\n",
       "      <td>NaN</td>\n",
       "      <td>NaN</td>\n",
       "    </tr>\n",
       "    <tr>\n",
       "      <th>1</th>\n",
       "      <td>e5fa5a7210941f7d56d0208e4e071d35</td>\n",
       "      <td>-25.989190</td>\n",
       "      <td>1.0</td>\n",
       "      <td>credit_card</td>\n",
       "      <td>75.06</td>\n",
       "      <td>1.0</td>\n",
       "      <td>4854e9b3feff728c13ee5fc7d1547e92</td>\n",
       "      <td>passo fundo</td>\n",
       "      <td>1.0</td>\n",
       "      <td>59.500</td>\n",
       "      <td>telephony</td>\n",
       "      <td>1.0</td>\n",
       "      <td>1.250</td>\n",
       "      <td>curitiba</td>\n",
       "      <td>345.147657</td>\n",
       "      <td>NaN</td>\n",
       "      <td>NaN</td>\n",
       "    </tr>\n",
       "    <tr>\n",
       "      <th>2</th>\n",
       "      <td>809a282bbd5dbcabb6f2f724fca862ec</td>\n",
       "      <td>-17.358113</td>\n",
       "      <td>1.0</td>\n",
       "      <td>credit_card</td>\n",
       "      <td>40.95</td>\n",
       "      <td>1.0</td>\n",
       "      <td>009b0127b727ab0ba422f6d9604487c7</td>\n",
       "      <td>sao jose dos campos</td>\n",
       "      <td>NaN</td>\n",
       "      <td>NaN</td>\n",
       "      <td>NaN</td>\n",
       "      <td>NaN</td>\n",
       "      <td>NaN</td>\n",
       "      <td>NaN</td>\n",
       "      <td>NaN</td>\n",
       "      <td>NaN</td>\n",
       "      <td>NaN</td>\n",
       "    </tr>\n",
       "    <tr>\n",
       "      <th>3</th>\n",
       "      <td>bfbd0f9bdef84302105ad712db648a6c</td>\n",
       "      <td>-15.488449</td>\n",
       "      <td>NaN</td>\n",
       "      <td>NaN</td>\n",
       "      <td>NaN</td>\n",
       "      <td>1.0</td>\n",
       "      <td>830d5b7aaa3b6f1e9ad63703bec97d23</td>\n",
       "      <td>sao joaquim da barra</td>\n",
       "      <td>6.0</td>\n",
       "      <td>44.990</td>\n",
       "      <td>health_beauty</td>\n",
       "      <td>1.0</td>\n",
       "      <td>4.096</td>\n",
       "      <td>curitiba</td>\n",
       "      <td>551.529866</td>\n",
       "      <td>54.813194</td>\n",
       "      <td>36.324745</td>\n",
       "    </tr>\n",
       "    <tr>\n",
       "      <th>4</th>\n",
       "      <td>71303d7e93b399f5bcd537d124c0bcfa</td>\n",
       "      <td>1.922130</td>\n",
       "      <td>1.0</td>\n",
       "      <td>credit_card</td>\n",
       "      <td>109.34</td>\n",
       "      <td>1.0</td>\n",
       "      <td>0eb1ee9dba87f5b36b4613a65074337c</td>\n",
       "      <td>sao paulo</td>\n",
       "      <td>1.0</td>\n",
       "      <td>100.000</td>\n",
       "      <td>baby</td>\n",
       "      <td>1.0</td>\n",
       "      <td>5.832</td>\n",
       "      <td>sao paulo</td>\n",
       "      <td>10.519797</td>\n",
       "      <td>NaN</td>\n",
       "      <td>NaN</td>\n",
       "    </tr>\n",
       "  </tbody>\n",
       "</table>\n",
       "</div>"
      ],
      "text/plain": [
       "                           order_id  date_achat_client  Nbr_mode_de_paiement  \\\n",
       "0  2e7a8482f6fb09756ca50c10d7bfc047         -26.114363                   1.0   \n",
       "1  e5fa5a7210941f7d56d0208e4e071d35         -25.989190                   1.0   \n",
       "2  809a282bbd5dbcabb6f2f724fca862ec         -17.358113                   1.0   \n",
       "3  bfbd0f9bdef84302105ad712db648a6c         -15.488449                   NaN   \n",
       "4  71303d7e93b399f5bcd537d124c0bcfa           1.922130                   1.0   \n",
       "\n",
       "  payment_type  payment_value  review_score                customer_unique_id  \\\n",
       "0  credit_card         136.23           1.0  b7d76e111c89f7ebf14761390f0f7d17   \n",
       "1  credit_card          75.06           1.0  4854e9b3feff728c13ee5fc7d1547e92   \n",
       "2  credit_card          40.95           1.0  009b0127b727ab0ba422f6d9604487c7   \n",
       "3          NaN            NaN           1.0  830d5b7aaa3b6f1e9ad63703bec97d23   \n",
       "4  credit_card         109.34           1.0  0eb1ee9dba87f5b36b4613a65074337c   \n",
       "\n",
       "          customer_city  order_items_quantity  items_mean_price  \\\n",
       "0             boa vista                   3.0            36.445   \n",
       "1           passo fundo                   1.0            59.500   \n",
       "2   sao jose dos campos                   NaN               NaN   \n",
       "3  sao joaquim da barra                   6.0            44.990   \n",
       "4             sao paulo                   1.0           100.000   \n",
       "\n",
       "  product_category_name  product_photos_qty  product_volume_litre seller_city  \\\n",
       "0       furniture_decor                 2.0                 5.376  monte siao   \n",
       "1             telephony                 1.0                 1.250    curitiba   \n",
       "2                   NaN                 NaN                   NaN         NaN   \n",
       "3         health_beauty                 1.0                 4.096    curitiba   \n",
       "4                  baby                 1.0                 5.832   sao paulo   \n",
       "\n",
       "   distance_client_vendeur_Km  durée_reception_cmd_jr  \\\n",
       "0                 2828.774821                     NaN   \n",
       "1                  345.147657                     NaN   \n",
       "2                         NaN                     NaN   \n",
       "3                  551.529866               54.813194   \n",
       "4                   10.519797                     NaN   \n",
       "\n",
       "   durée_reception_respectée_jr  \n",
       "0                           NaN  \n",
       "1                           NaN  \n",
       "2                           NaN  \n",
       "3                     36.324745  \n",
       "4                           NaN  "
      ]
     },
     "execution_count": 64,
     "metadata": {},
     "output_type": "execute_result"
    }
   ],
   "source": [
    "data.head()"
   ]
  },
  {
   "cell_type": "code",
   "execution_count": 65,
   "id": "e3bafb0d-e87a-4fa0-95e5-bca79fd68fb3",
   "metadata": {},
   "outputs": [
    {
     "data": {
      "text/html": [
       "<div>\n",
       "<style scoped>\n",
       "    .dataframe tbody tr th:only-of-type {\n",
       "        vertical-align: middle;\n",
       "    }\n",
       "\n",
       "    .dataframe tbody tr th {\n",
       "        vertical-align: top;\n",
       "    }\n",
       "\n",
       "    .dataframe thead th {\n",
       "        text-align: right;\n",
       "    }\n",
       "</style>\n",
       "<table border=\"1\" class=\"dataframe\">\n",
       "  <thead>\n",
       "    <tr style=\"text-align: right;\">\n",
       "      <th></th>\n",
       "      <th>Jour_moyen_entre_achats</th>\n",
       "      <th>Nombre_commandes</th>\n",
       "      <th>Nbr_mode_de_paiement</th>\n",
       "      <th>payment_value</th>\n",
       "      <th>review_score</th>\n",
       "      <th>order_items_quantity</th>\n",
       "      <th>items_mean_price</th>\n",
       "      <th>distance_client_vendeur_Km</th>\n",
       "      <th>durée_reception_cmd_jr</th>\n",
       "      <th>durée_reception_respectée_jr</th>\n",
       "      <th>payment_type</th>\n",
       "      <th>customer_city</th>\n",
       "      <th>seller_city</th>\n",
       "    </tr>\n",
       "  </thead>\n",
       "  <tbody>\n",
       "    <tr>\n",
       "      <th>0</th>\n",
       "      <td>0.0</td>\n",
       "      <td>1</td>\n",
       "      <td>1.0</td>\n",
       "      <td>141.90</td>\n",
       "      <td>5.0</td>\n",
       "      <td>1.0</td>\n",
       "      <td>129.90</td>\n",
       "      <td>77.693891</td>\n",
       "      <td>6.411227</td>\n",
       "      <td>-4.132905</td>\n",
       "      <td>credit_card</td>\n",
       "      <td>cajamar</td>\n",
       "      <td>piracicaba</td>\n",
       "    </tr>\n",
       "    <tr>\n",
       "      <th>1</th>\n",
       "      <td>0.0</td>\n",
       "      <td>1</td>\n",
       "      <td>1.0</td>\n",
       "      <td>27.19</td>\n",
       "      <td>4.0</td>\n",
       "      <td>1.0</td>\n",
       "      <td>18.90</td>\n",
       "      <td>12.543108</td>\n",
       "      <td>3.285590</td>\n",
       "      <td>-4.248125</td>\n",
       "      <td>credit_card</td>\n",
       "      <td>osasco</td>\n",
       "      <td>sao paulo</td>\n",
       "    </tr>\n",
       "    <tr>\n",
       "      <th>2</th>\n",
       "      <td>0.0</td>\n",
       "      <td>1</td>\n",
       "      <td>1.0</td>\n",
       "      <td>86.22</td>\n",
       "      <td>3.0</td>\n",
       "      <td>1.0</td>\n",
       "      <td>69.00</td>\n",
       "      <td>490.603272</td>\n",
       "      <td>25.731759</td>\n",
       "      <td>-1.389734</td>\n",
       "      <td>credit_card</td>\n",
       "      <td>sao jose</td>\n",
       "      <td>campo limpo paulista</td>\n",
       "    </tr>\n",
       "    <tr>\n",
       "      <th>3</th>\n",
       "      <td>0.0</td>\n",
       "      <td>1</td>\n",
       "      <td>1.0</td>\n",
       "      <td>43.62</td>\n",
       "      <td>4.0</td>\n",
       "      <td>1.0</td>\n",
       "      <td>25.99</td>\n",
       "      <td>2474.833460</td>\n",
       "      <td>20.037083</td>\n",
       "      <td>-11.108970</td>\n",
       "      <td>credit_card</td>\n",
       "      <td>belem</td>\n",
       "      <td>sao paulo</td>\n",
       "    </tr>\n",
       "    <tr>\n",
       "      <th>4</th>\n",
       "      <td>0.0</td>\n",
       "      <td>1</td>\n",
       "      <td>1.0</td>\n",
       "      <td>196.89</td>\n",
       "      <td>5.0</td>\n",
       "      <td>1.0</td>\n",
       "      <td>180.00</td>\n",
       "      <td>69.779397</td>\n",
       "      <td>13.141134</td>\n",
       "      <td>-7.035463</td>\n",
       "      <td>credit_card</td>\n",
       "      <td>sorocaba</td>\n",
       "      <td>jacarei</td>\n",
       "    </tr>\n",
       "  </tbody>\n",
       "</table>\n",
       "</div>"
      ],
      "text/plain": [
       "   Jour_moyen_entre_achats  Nombre_commandes  Nbr_mode_de_paiement  \\\n",
       "0                      0.0                 1                   1.0   \n",
       "1                      0.0                 1                   1.0   \n",
       "2                      0.0                 1                   1.0   \n",
       "3                      0.0                 1                   1.0   \n",
       "4                      0.0                 1                   1.0   \n",
       "\n",
       "   payment_value  review_score  order_items_quantity  items_mean_price  \\\n",
       "0         141.90           5.0                   1.0            129.90   \n",
       "1          27.19           4.0                   1.0             18.90   \n",
       "2          86.22           3.0                   1.0             69.00   \n",
       "3          43.62           4.0                   1.0             25.99   \n",
       "4         196.89           5.0                   1.0            180.00   \n",
       "\n",
       "   distance_client_vendeur_Km  durée_reception_cmd_jr  \\\n",
       "0                   77.693891                6.411227   \n",
       "1                   12.543108                3.285590   \n",
       "2                  490.603272               25.731759   \n",
       "3                 2474.833460               20.037083   \n",
       "4                   69.779397               13.141134   \n",
       "\n",
       "   durée_reception_respectée_jr payment_type customer_city  \\\n",
       "0                     -4.132905  credit_card       cajamar   \n",
       "1                     -4.248125  credit_card        osasco   \n",
       "2                     -1.389734  credit_card      sao jose   \n",
       "3                    -11.108970  credit_card         belem   \n",
       "4                     -7.035463  credit_card      sorocaba   \n",
       "\n",
       "            seller_city  \n",
       "0            piracicaba  \n",
       "1             sao paulo  \n",
       "2  campo limpo paulista  \n",
       "3             sao paulo  \n",
       "4               jacarei  "
      ]
     },
     "execution_count": 65,
     "metadata": {},
     "output_type": "execute_result"
    }
   ],
   "source": [
    "data_mod.head()"
   ]
  },
  {
   "cell_type": "code",
   "execution_count": 66,
   "id": "735df38b-1bf3-49a0-89ac-032b07a907f6",
   "metadata": {},
   "outputs": [
    {
     "data": {
      "text/html": [
       "<div>\n",
       "<style scoped>\n",
       "    .dataframe tbody tr th:only-of-type {\n",
       "        vertical-align: middle;\n",
       "    }\n",
       "\n",
       "    .dataframe tbody tr th {\n",
       "        vertical-align: top;\n",
       "    }\n",
       "\n",
       "    .dataframe thead th {\n",
       "        text-align: right;\n",
       "    }\n",
       "</style>\n",
       "<table border=\"1\" class=\"dataframe\">\n",
       "  <thead>\n",
       "    <tr style=\"text-align: right;\">\n",
       "      <th></th>\n",
       "      <th>date_achat_client</th>\n",
       "      <th>Nombre_commandes</th>\n",
       "      <th>Nbr_mode_de_paiement</th>\n",
       "      <th>payment_value</th>\n",
       "      <th>review_score</th>\n",
       "      <th>order_items_quantity</th>\n",
       "      <th>items_mean_price</th>\n",
       "      <th>distance_client_vendeur_Km</th>\n",
       "      <th>durée_reception_cmd_jr</th>\n",
       "      <th>durée_reception_respectée_jr</th>\n",
       "      <th>payment_type</th>\n",
       "      <th>customer_city</th>\n",
       "      <th>seller_city</th>\n",
       "    </tr>\n",
       "  </thead>\n",
       "  <tbody>\n",
       "    <tr>\n",
       "      <th>0</th>\n",
       "      <td>586.455868</td>\n",
       "      <td>1</td>\n",
       "      <td>1.0</td>\n",
       "      <td>141.90</td>\n",
       "      <td>5.0</td>\n",
       "      <td>1.0</td>\n",
       "      <td>129.90</td>\n",
       "      <td>77.693891</td>\n",
       "      <td>6.411227</td>\n",
       "      <td>-4.132905</td>\n",
       "      <td>credit_card</td>\n",
       "      <td>cajamar</td>\n",
       "      <td>piracicaba</td>\n",
       "    </tr>\n",
       "    <tr>\n",
       "      <th>1</th>\n",
       "      <td>583.466285</td>\n",
       "      <td>1</td>\n",
       "      <td>1.0</td>\n",
       "      <td>27.19</td>\n",
       "      <td>4.0</td>\n",
       "      <td>1.0</td>\n",
       "      <td>18.90</td>\n",
       "      <td>12.543108</td>\n",
       "      <td>3.285590</td>\n",
       "      <td>-4.248125</td>\n",
       "      <td>credit_card</td>\n",
       "      <td>osasco</td>\n",
       "      <td>sao paulo</td>\n",
       "    </tr>\n",
       "    <tr>\n",
       "      <th>2</th>\n",
       "      <td>160.878507</td>\n",
       "      <td>1</td>\n",
       "      <td>1.0</td>\n",
       "      <td>86.22</td>\n",
       "      <td>3.0</td>\n",
       "      <td>1.0</td>\n",
       "      <td>69.00</td>\n",
       "      <td>490.603272</td>\n",
       "      <td>25.731759</td>\n",
       "      <td>-1.389734</td>\n",
       "      <td>credit_card</td>\n",
       "      <td>sao jose</td>\n",
       "      <td>campo limpo paulista</td>\n",
       "    </tr>\n",
       "    <tr>\n",
       "      <th>3</th>\n",
       "      <td>376.853947</td>\n",
       "      <td>1</td>\n",
       "      <td>1.0</td>\n",
       "      <td>43.62</td>\n",
       "      <td>4.0</td>\n",
       "      <td>1.0</td>\n",
       "      <td>25.99</td>\n",
       "      <td>2474.833460</td>\n",
       "      <td>20.037083</td>\n",
       "      <td>-11.108970</td>\n",
       "      <td>credit_card</td>\n",
       "      <td>belem</td>\n",
       "      <td>sao paulo</td>\n",
       "    </tr>\n",
       "    <tr>\n",
       "      <th>4</th>\n",
       "      <td>409.823403</td>\n",
       "      <td>1</td>\n",
       "      <td>1.0</td>\n",
       "      <td>196.89</td>\n",
       "      <td>5.0</td>\n",
       "      <td>1.0</td>\n",
       "      <td>180.00</td>\n",
       "      <td>69.779397</td>\n",
       "      <td>13.141134</td>\n",
       "      <td>-7.035463</td>\n",
       "      <td>credit_card</td>\n",
       "      <td>sorocaba</td>\n",
       "      <td>jacarei</td>\n",
       "    </tr>\n",
       "  </tbody>\n",
       "</table>\n",
       "</div>"
      ],
      "text/plain": [
       "   date_achat_client  Nombre_commandes  Nbr_mode_de_paiement  payment_value  \\\n",
       "0         586.455868                 1                   1.0         141.90   \n",
       "1         583.466285                 1                   1.0          27.19   \n",
       "2         160.878507                 1                   1.0          86.22   \n",
       "3         376.853947                 1                   1.0          43.62   \n",
       "4         409.823403                 1                   1.0         196.89   \n",
       "\n",
       "   review_score  order_items_quantity  items_mean_price  \\\n",
       "0           5.0                   1.0            129.90   \n",
       "1           4.0                   1.0             18.90   \n",
       "2           3.0                   1.0             69.00   \n",
       "3           4.0                   1.0             25.99   \n",
       "4           5.0                   1.0            180.00   \n",
       "\n",
       "   distance_client_vendeur_Km  durée_reception_cmd_jr  \\\n",
       "0                   77.693891                6.411227   \n",
       "1                   12.543108                3.285590   \n",
       "2                  490.603272               25.731759   \n",
       "3                 2474.833460               20.037083   \n",
       "4                   69.779397               13.141134   \n",
       "\n",
       "   durée_reception_respectée_jr payment_type customer_city  \\\n",
       "0                     -4.132905  credit_card       cajamar   \n",
       "1                     -4.248125  credit_card        osasco   \n",
       "2                     -1.389734  credit_card      sao jose   \n",
       "3                    -11.108970  credit_card         belem   \n",
       "4                     -7.035463  credit_card      sorocaba   \n",
       "\n",
       "            seller_city  \n",
       "0            piracicaba  \n",
       "1             sao paulo  \n",
       "2  campo limpo paulista  \n",
       "3             sao paulo  \n",
       "4               jacarei  "
      ]
     },
     "execution_count": 66,
     "metadata": {},
     "output_type": "execute_result"
    }
   ],
   "source": [
    "data_freq.head()"
   ]
  },
  {
   "cell_type": "code",
   "execution_count": 67,
   "id": "c436c877-139a-497d-9580-b9a42f80f4a5",
   "metadata": {},
   "outputs": [
    {
     "data": {
      "text/plain": [
       "(90018, 13)"
      ]
     },
     "execution_count": 67,
     "metadata": {},
     "output_type": "execute_result"
    }
   ],
   "source": [
    "data_mod.shape"
   ]
  },
  {
   "cell_type": "code",
   "execution_count": 68,
   "id": "2c166f41-0c9f-4a69-9588-058decac1d4a",
   "metadata": {},
   "outputs": [
    {
     "data": {
      "text/plain": [
       "(99989, 17)"
      ]
     },
     "execution_count": 68,
     "metadata": {},
     "output_type": "execute_result"
    }
   ],
   "source": [
    "data.shape"
   ]
  },
  {
   "cell_type": "code",
   "execution_count": 69,
   "id": "2271e8bd-60bf-471f-b8b0-3069398940ac",
   "metadata": {},
   "outputs": [
    {
     "data": {
      "text/plain": [
       "(90018, 13)"
      ]
     },
     "execution_count": 69,
     "metadata": {},
     "output_type": "execute_result"
    }
   ],
   "source": [
    "data_freq.shape"
   ]
  },
  {
   "cell_type": "markdown",
   "id": "5539fd17-f227-425f-9ea4-beb6befeff8b",
   "metadata": {},
   "source": [
    "## <strong> F - Sauvegarde des données </strong>"
   ]
  },
  {
   "cell_type": "code",
   "execution_count": 70,
   "id": "c58940df-258c-471f-b227-2e6876119988",
   "metadata": {},
   "outputs": [
    {
     "name": "stdout",
     "output_type": "stream",
     "text": [
      "Sauvegarde des documents terminée avec succès . . .\n"
     ]
    }
   ],
   "source": [
    "data.to_csv(\"data_merge.csv\")\n",
    "data_mod.to_csv(\"data_mod.csv\")\n",
    "data_freq.to_csv(\"data_freq.csv\")\n",
    "print(\"Sauvegarde des documents terminée avec succès . . .\")"
   ]
  },
  {
   "cell_type": "code",
   "execution_count": null,
   "id": "d69e06d0-43bb-44d5-963e-041b1c7aceb0",
   "metadata": {},
   "outputs": [],
   "source": []
  },
  {
   "cell_type": "code",
   "execution_count": null,
   "id": "a80f8fd7-82a7-48d0-a4cb-44b0d19b6d5b",
   "metadata": {},
   "outputs": [],
   "source": []
  }
 ],
 "metadata": {
  "kernelspec": {
   "display_name": "Python 3 (ipykernel)",
   "language": "python",
   "name": "python3"
  },
  "language_info": {
   "codemirror_mode": {
    "name": "ipython",
    "version": 3
   },
   "file_extension": ".py",
   "mimetype": "text/x-python",
   "name": "python",
   "nbconvert_exporter": "python",
   "pygments_lexer": "ipython3",
   "version": "3.9.12"
  }
 },
 "nbformat": 4,
 "nbformat_minor": 5
}
