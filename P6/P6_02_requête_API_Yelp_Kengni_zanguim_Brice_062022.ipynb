{
 "cells": [
  {
   "cell_type": "code",
   "execution_count": 1,
   "id": "e5049355-acec-4154-8b89-bf8fa86f4077",
   "metadata": {},
   "outputs": [],
   "source": [
    "# -*- coding: utf-8 -*-"
   ]
  },
  {
   "cell_type": "markdown",
   "id": "ed5375f9-6771-4560-8357-b7e89dac6eaf",
   "metadata": {},
   "source": [
    "# <strong> A  - Import des modules </strong> "
   ]
  },
  {
   "cell_type": "code",
   "execution_count": 8,
   "id": "d583e9e2-50c2-4821-b746-4e91b9f6570d",
   "metadata": {},
   "outputs": [
    {
     "name": "stdout",
     "output_type": "stream",
     "text": [
      "importing Jupyter notebook from P6_00_YelpAPI_Kengni_zanguim_Brice_062022.ipynb\n"
     ]
    }
   ],
   "source": [
    "import warnings\n",
    "warnings.filterwarnings('ignore')\n",
    "\n",
    "#########################################\n",
    "\n",
    "import numpy as np\n",
    "import pandas as pd\n",
    "\n",
    "#########################################\n",
    "\n",
    "import argparse\n",
    "import json\n",
    "import requests\n",
    "\n",
    "#########################################\n",
    "\n",
    "#!pip install import_ipynb\n",
    "import import_ipynb\n",
    "from P6_00_YelpAPI_Kengni_zanguim_Brice_062022 import get_my_key\n"
   ]
  },
  {
   "cell_type": "markdown",
   "id": "d8fa2513-1742-4df7-89dc-4c226d1b0d98",
   "metadata": {},
   "source": [
    "# <strong> B -  Constantes necessaires à la recherche de restaurants via l'API </strong>"
   ]
  },
  {
   "cell_type": "code",
   "execution_count": 3,
   "id": "6949b422-3310-4c92-8973-91c8c317486b",
   "metadata": {},
   "outputs": [],
   "source": [
    "# La clé d'accès à l'API qui peut être générée sur :  https://www.yelp.com/developers/v3/manage_app\n",
    "API_KEY =  get_my_key()\n",
    "\n",
    "#  Point d'accès vers l'API \n",
    "def ENDPOINT ( n , id=\"\" ) :\n",
    "    if n == 1 :   # Recherche de restaurants/business\n",
    "        return  \"https://api.yelp.com/v3/businesses/search\"\n",
    "    elif n == 2 :   # acquisition d'avis clients\n",
    "        try :\n",
    "            return  f\"https://api.yelp.com/v3/businesses/{id}/reviews\"\n",
    "        except :\n",
    "            raise TypeError(\"Vous n'avez pas fournis l'ID du business\")\n",
    "            \n",
    "HEADERS = {\"Authorization\":f\"bearer {API_KEY}\"}\n",
    "\n",
    "PARAMETERS = {\"term\" : \"food\",\n",
    "              \"categories\" :\"restaurants\",\n",
    "              \"location\" :\"Paris\",\n",
    "              \"locale\":\"fr_FR\" ,\n",
    "              \"limit\" : 50 ,\n",
    "              \"offset\": 400,\n",
    "              \"radius\": 40000\n",
    "              }"
   ]
  },
  {
   "cell_type": "markdown",
   "id": "39a264e8-a8ad-4b61-bb4c-877467a31b1b",
   "metadata": {},
   "source": [
    "# <strong> C - Envoi de requêtes à l'API Yelp et récupération des identfiants de business </strong>"
   ]
  },
  {
   "cell_type": "code",
   "execution_count": 4,
   "id": "9a58a5e9-f6ce-4f1f-93e1-4d245aeda43e",
   "metadata": {},
   "outputs": [],
   "source": [
    "business_id = []\n",
    "Business_count = 200\n",
    "find_restaurants = True\n",
    "\n",
    "\n",
    "if find_restaurants :\n",
    "    diff, n0 , out= 0 , 0, 0\n",
    "    while len (business_id ) < Business_count :\n",
    "        reponse = requests.get(url=ENDPOINT(1) , params=PARAMETERS , headers = HEADERS).json()\n",
    "        for i in range( len( reponse[\"businesses\"] ) ) :\n",
    "            business_id.append( reponse[\"businesses\"][i][\"id\"] )\n",
    "        business_id = list(np.unique( business_id ))\n",
    "        diff = len(business_id) - n0\n",
    "        n0 = len(business_id)\n",
    "        if diff :\n",
    "            out = 0\n",
    "        else :\n",
    "            out += 1\n",
    "\n",
    "        if out == 3 : break\n",
    "    "
   ]
  },
  {
   "cell_type": "markdown",
   "id": "258ead83-0934-44ad-b0e7-a1c7ba62dd03",
   "metadata": {},
   "source": [
    "# <strong> D - Sauvegarde des ID de restaurant dans un fichier CSV </strong>"
   ]
  },
  {
   "cell_type": "code",
   "execution_count": 5,
   "id": "43d1ecfe-9a76-4db1-b99b-6c3b5f8f3b83",
   "metadata": {},
   "outputs": [],
   "source": [
    "# Lecture du fichier préexistant\n",
    "id_csv = pd.read_csv(\"restaurants_id.csv\")\n",
    "id_csv.drop( [i for i in id_csv.columns if \"Unnamed\" in i] , axis = 1, inplace=True)\n",
    "\n",
    "# Complation des données\n",
    "id_csv = pd.concat([pd.DataFrame({\"restaurants_id\":business_id}) , id_csv], ignore_index=True)\n",
    "\n",
    "# Supression de duplicatats\n",
    "id_csv.drop_duplicates(inplace=True, )\n",
    "\n",
    "#Sauvegarde\n",
    "id_csv.to_csv(\"restaurants_id.csv\")"
   ]
  },
  {
   "cell_type": "markdown",
   "id": "cb4f09ac-15bf-4822-a21a-c2b3db1a8c28",
   "metadata": {},
   "source": [
    "# <strong> E - Acquisition des avis clients et données relatives </strong>"
   ]
  },
  {
   "cell_type": "code",
   "execution_count": 6,
   "id": "2677edd4-22f8-43f6-a8af-4c185210c345",
   "metadata": {},
   "outputs": [],
   "source": [
    "PARAMETERS = { \"locale\":\"fr_FR\"  }\n",
    "find_reviews = False\n",
    "\n",
    "if find_reviews :\n",
    "    reviews_df = pd.DataFrame()\n",
    "    for id in id_csv[\"restaurants_id\"] :\n",
    "        reponse = requests.get( url = ENDPOINT(n=2 ,id=id) , params=PARAMETERS , headers = HEADERS ).json()\n",
    "        reviews_df = pd.concat([pd.DataFrame(reponse[\"reviews\"]), reviews_df], ignore_index=True)\n",
    "        \n",
    "    reviews_df = reviews_df[[\"id\",\"text\", \"rating\"]]\n",
    "    reviews_df.to_csv(\"restaurants_reviews.csv\")\n",
    "else :\n",
    "    reviews_df = pd.read_csv(\"restaurants_reviews.csv\")\n",
    "    reviews_df.drop( [i for i in reviews_df.columns if \"Unnamed\" in i] , axis = 1, inplace=True)"
   ]
  },
  {
   "cell_type": "code",
   "execution_count": 7,
   "id": "8ddfbb26-54a7-4bb7-8a7f-d69a03cf7a59",
   "metadata": {},
   "outputs": [
    {
     "data": {
      "text/html": [
       "<div>\n",
       "<style scoped>\n",
       "    .dataframe tbody tr th:only-of-type {\n",
       "        vertical-align: middle;\n",
       "    }\n",
       "\n",
       "    .dataframe tbody tr th {\n",
       "        vertical-align: top;\n",
       "    }\n",
       "\n",
       "    .dataframe thead th {\n",
       "        text-align: right;\n",
       "    }\n",
       "</style>\n",
       "<table border=\"1\" class=\"dataframe\">\n",
       "  <thead>\n",
       "    <tr style=\"text-align: right;\">\n",
       "      <th></th>\n",
       "      <th>id</th>\n",
       "      <th>text</th>\n",
       "      <th>rating</th>\n",
       "    </tr>\n",
       "  </thead>\n",
       "  <tbody>\n",
       "    <tr>\n",
       "      <th>0</th>\n",
       "      <td>_aK8XjzpK2wO5V1aNO0Qyg</td>\n",
       "      <td>D'abord Le cadre est tip-top : rétro et super ...</td>\n",
       "      <td>4</td>\n",
       "    </tr>\n",
       "    <tr>\n",
       "      <th>1</th>\n",
       "      <td>OFCCLKXK96TkqLcUt1IU-g</td>\n",
       "      <td>Si j'habitais tout près du Parisien (comprenez...</td>\n",
       "      <td>4</td>\n",
       "    </tr>\n",
       "    <tr>\n",
       "      <th>2</th>\n",
       "      <td>ZDZ2O1-5M2yh-wud8GHZZw</td>\n",
       "      <td>À quoi reconnaitre un bistro parisien au XXIèm...</td>\n",
       "      <td>5</td>\n",
       "    </tr>\n",
       "    <tr>\n",
       "      <th>3</th>\n",
       "      <td>NFdFHh-h5mNlpaQjQFMKJA</td>\n",
       "      <td>Alors...j'ai un gros problème avec la crêperie...</td>\n",
       "      <td>3</td>\n",
       "    </tr>\n",
       "    <tr>\n",
       "      <th>4</th>\n",
       "      <td>KpaWoVGPzH3GLH6YN9OZMg</td>\n",
       "      <td>Le daily syrien, c'est un mélange atypique ent...</td>\n",
       "      <td>4</td>\n",
       "    </tr>\n",
       "    <tr>\n",
       "      <th>...</th>\n",
       "      <td>...</td>\n",
       "      <td>...</td>\n",
       "      <td>...</td>\n",
       "    </tr>\n",
       "    <tr>\n",
       "      <th>925</th>\n",
       "      <td>H4-cbPVt8tOI0vdTlAwJ9A</td>\n",
       "      <td>New kid in the block !\\nPrometteur le garçon :...</td>\n",
       "      <td>3</td>\n",
       "    </tr>\n",
       "    <tr>\n",
       "      <th>926</th>\n",
       "      <td>A_m67RroIhQxZ5Opb4zt6g</td>\n",
       "      <td>Etant réputé bon pour leur pho, le Pho 14 à Ch...</td>\n",
       "      <td>2</td>\n",
       "    </tr>\n",
       "    <tr>\n",
       "      <th>927</th>\n",
       "      <td>6FNi5D0mtUY005RLWFWjdA</td>\n",
       "      <td>L'un de mes restaurants préférés à Paris ! Je ...</td>\n",
       "      <td>5</td>\n",
       "    </tr>\n",
       "    <tr>\n",
       "      <th>928</th>\n",
       "      <td>-a60A96QM9krus9vY2qtLg</td>\n",
       "      <td>Réservation faite pour deux pour 19h, le resta...</td>\n",
       "      <td>3</td>\n",
       "    </tr>\n",
       "    <tr>\n",
       "      <th>929</th>\n",
       "      <td>ir7O2BkI7r5A-tcWj3hIGQ</td>\n",
       "      <td>Un service extrêmement sympathique, un cadre a...</td>\n",
       "      <td>5</td>\n",
       "    </tr>\n",
       "  </tbody>\n",
       "</table>\n",
       "<p>930 rows × 3 columns</p>\n",
       "</div>"
      ],
      "text/plain": [
       "                         id  \\\n",
       "0    _aK8XjzpK2wO5V1aNO0Qyg   \n",
       "1    OFCCLKXK96TkqLcUt1IU-g   \n",
       "2    ZDZ2O1-5M2yh-wud8GHZZw   \n",
       "3    NFdFHh-h5mNlpaQjQFMKJA   \n",
       "4    KpaWoVGPzH3GLH6YN9OZMg   \n",
       "..                      ...   \n",
       "925  H4-cbPVt8tOI0vdTlAwJ9A   \n",
       "926  A_m67RroIhQxZ5Opb4zt6g   \n",
       "927  6FNi5D0mtUY005RLWFWjdA   \n",
       "928  -a60A96QM9krus9vY2qtLg   \n",
       "929  ir7O2BkI7r5A-tcWj3hIGQ   \n",
       "\n",
       "                                                  text  rating  \n",
       "0    D'abord Le cadre est tip-top : rétro et super ...       4  \n",
       "1    Si j'habitais tout près du Parisien (comprenez...       4  \n",
       "2    À quoi reconnaitre un bistro parisien au XXIèm...       5  \n",
       "3    Alors...j'ai un gros problème avec la crêperie...       3  \n",
       "4    Le daily syrien, c'est un mélange atypique ent...       4  \n",
       "..                                                 ...     ...  \n",
       "925  New kid in the block !\\nPrometteur le garçon :...       3  \n",
       "926  Etant réputé bon pour leur pho, le Pho 14 à Ch...       2  \n",
       "927  L'un de mes restaurants préférés à Paris ! Je ...       5  \n",
       "928  Réservation faite pour deux pour 19h, le resta...       3  \n",
       "929  Un service extrêmement sympathique, un cadre a...       5  \n",
       "\n",
       "[930 rows x 3 columns]"
      ]
     },
     "execution_count": 7,
     "metadata": {},
     "output_type": "execute_result"
    }
   ],
   "source": [
    "reviews_df"
   ]
  },
  {
   "cell_type": "code",
   "execution_count": null,
   "id": "9f4d7c80-43d0-42f4-a3a7-01d5c9696acc",
   "metadata": {},
   "outputs": [],
   "source": []
  }
 ],
 "metadata": {
  "kernelspec": {
   "display_name": "Python 3 (ipykernel)",
   "language": "python",
   "name": "python3"
  },
  "language_info": {
   "codemirror_mode": {
    "name": "ipython",
    "version": 3
   },
   "file_extension": ".py",
   "mimetype": "text/x-python",
   "name": "python",
   "nbconvert_exporter": "python",
   "pygments_lexer": "ipython3",
   "version": "3.9.12"
  }
 },
 "nbformat": 4,
 "nbformat_minor": 5
}
