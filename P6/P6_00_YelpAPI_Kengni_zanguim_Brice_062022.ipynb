{
 "cells": [
  {
   "cell_type": "code",
   "execution_count": 1,
   "id": "5f7e1ff6-acd4-4db8-8488-640268bc3be6",
   "metadata": {},
   "outputs": [],
   "source": [
    "def get_my_key () :\n",
    "    return \"IsN7t0OiJMyXyWC76Zb428CMhQtR_OI6aIBavL9ZCHbFdEKH1ULyYPcTZd3652Qt6zAQSRUsQ-A_-FIEstm37kwD53Lwn1lxMdu7aynCcAVnOCeE3I33uRnGl-LBYnYx\""
   ]
  },
  {
   "cell_type": "code",
   "execution_count": null,
   "id": "041deeed-ee35-4c25-b46a-e5ffe432c649",
   "metadata": {},
   "outputs": [],
   "source": []
  }
 ],
 "metadata": {
  "kernelspec": {
   "display_name": "Python 3 (ipykernel)",
   "language": "python",
   "name": "python3"
  },
  "language_info": {
   "codemirror_mode": {
    "name": "ipython",
    "version": 3
   },
   "file_extension": ".py",
   "mimetype": "text/x-python",
   "name": "python",
   "nbconvert_exporter": "python",
   "pygments_lexer": "ipython3",
   "version": "3.9.12"
  }
 },
 "nbformat": 4,
 "nbformat_minor": 5
}
