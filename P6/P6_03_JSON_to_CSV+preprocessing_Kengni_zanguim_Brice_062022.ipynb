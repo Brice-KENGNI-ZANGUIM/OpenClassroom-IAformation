{
 "cells": [
  {
   "cell_type": "markdown",
   "id": "09fade26-8bb7-441d-af2a-ce98491b8772",
   "metadata": {},
   "source": [
    "_________________\n",
    "\n",
    "Convert the Yelp Dataset Challenge dataset from json format to csv.\n",
    "\n",
    "For more information on the Yelp Dataset Challenge please visit http://yelp.com/dataset_challenge\n",
    "\n",
    "_____________________\n"
   ]
  },
  {
   "cell_type": "markdown",
   "id": "4e4866e2-b632-4566-9995-37cf3a0b8d72",
   "metadata": {},
   "source": [
    "# <strong> A - Importation de modules </strong>"
   ]
  },
  {
   "cell_type": "code",
   "execution_count": 1,
   "id": "f7da55f5-1a6c-4652-be4e-e96a7c1ef9fa",
   "metadata": {},
   "outputs": [
    {
     "name": "stdout",
     "output_type": "stream",
     "text": [
      "importing Jupyter notebook from P6_01_My_functions_Kengni_zanguim_Brice_062022.ipynb\n"
     ]
    }
   ],
   "source": [
    "import warnings\n",
    "warnings.filterwarnings('ignore')\n",
    "\n",
    "###################################\n",
    "\n",
    "import pandas as pd\n",
    "import numpy as np\n",
    "import os\n",
    "import random\n",
    "import re\n",
    "\n",
    "################################\n",
    "\n",
    "import argparse\n",
    "import collections\n",
    "import csv\n",
    "#!pip install simplejson\n",
    "import simplejson as json\n",
    "from sys import getsizeof\n",
    "\n",
    "#########################################\n",
    "\n",
    "import import_ipynb\n",
    "from P6_01_My_functions_Kengni_zanguim_Brice_062022 import *\n"
   ]
  },
  {
   "cell_type": "markdown",
   "id": "ec0721ee-e887-496f-97d1-89977a01e97b",
   "metadata": {},
   "source": [
    "# <strong> B - Conversion des fichiers JSON  en fichier CSV </strong>"
   ]
  },
  {
   "cell_type": "code",
   "execution_count": 2,
   "id": "b33a27a9-d23c-4211-951d-2558f7be1ff4",
   "metadata": {},
   "outputs": [],
   "source": [
    "convert_json = False\n",
    "\n",
    "if convert_json :\n",
    "    #   PHOTOS\n",
    "    column_names = get_superset_of_column_names_from_file(\"photos.json\")\n",
    "    read_and_write_file(\"photos.json\", \"photos.csv\", column_names)\n",
    "\n",
    "    #   DATASET business\n",
    "    column_names = get_superset_of_column_names_from_file(\"yelp_academic_dataset_review.json\")\n",
    "    read_and_write_file(\"yelp_academic_dataset_review.json\", \"yelp_academic_dataset_review.csv\", column_names)\n",
    "    "
   ]
  },
  {
   "cell_type": "markdown",
   "id": "b1268e8c-aabf-4f4c-89f1-49f9e63d471c",
   "metadata": {},
   "source": [
    "# <strong> C - Réduction de la taille de fichiers CSV et prétraitement </strong>\n",
    "\n",
    "https://www.codementor.io/@guidotournois/4-strategies-to-deal-with-large-datasets-using-pandas-qdw3an95k"
   ]
  },
  {
   "cell_type": "markdown",
   "id": "62606752-3c95-4c17-8f71-888ffe33df7e",
   "metadata": {},
   "source": [
    "# <strong> C.1 - Reviews </strong>"
   ]
  },
  {
   "cell_type": "code",
   "execution_count": 3,
   "id": "ac8ec52f-5dae-4c75-8080-0f874a5ebc8e",
   "metadata": {},
   "outputs": [],
   "source": [
    "data_reviews = pd.read_csv(\"dataset_review.csv\")"
   ]
  },
  {
   "cell_type": "code",
   "execution_count": 4,
   "id": "9decc82d-ab44-4e9e-b56b-edb91dfd099e",
   "metadata": {},
   "outputs": [
    {
     "data": {
      "text/html": [
       "<div>\n",
       "<style scoped>\n",
       "    .dataframe tbody tr th:only-of-type {\n",
       "        vertical-align: middle;\n",
       "    }\n",
       "\n",
       "    .dataframe tbody tr th {\n",
       "        vertical-align: top;\n",
       "    }\n",
       "\n",
       "    .dataframe thead th {\n",
       "        text-align: right;\n",
       "    }\n",
       "</style>\n",
       "<table border=\"1\" class=\"dataframe\">\n",
       "  <thead>\n",
       "    <tr style=\"text-align: right;\">\n",
       "      <th></th>\n",
       "      <th>review_id</th>\n",
       "      <th>funny</th>\n",
       "      <th>useful</th>\n",
       "      <th>date</th>\n",
       "      <th>text</th>\n",
       "      <th>user_id</th>\n",
       "      <th>stars</th>\n",
       "      <th>business_id</th>\n",
       "      <th>cool</th>\n",
       "    </tr>\n",
       "  </thead>\n",
       "  <tbody>\n",
       "    <tr>\n",
       "      <th>0</th>\n",
       "      <td>b'KU_O5udG6zpxOg-VcAEodg'</td>\n",
       "      <td>0</td>\n",
       "      <td>0</td>\n",
       "      <td>b'2018-07-07 22:09:11'</td>\n",
       "      <td>b\"If you decide to eat here, just be aware it ...</td>\n",
       "      <td>b'mh_-eMZ6K5RLWhZyISBhwA'</td>\n",
       "      <td>3.0</td>\n",
       "      <td>b'XQfwVwDr-v0ZS3_CbbE5Xw'</td>\n",
       "      <td>0</td>\n",
       "    </tr>\n",
       "    <tr>\n",
       "      <th>1</th>\n",
       "      <td>b'BiTunyQ73aT9WBnpR9DZGw'</td>\n",
       "      <td>0</td>\n",
       "      <td>1</td>\n",
       "      <td>b'2012-01-03 15:28:18'</td>\n",
       "      <td>b\"I've taken a lot of spin classes over the ye...</td>\n",
       "      <td>b'OyoGAe7OKpv6SyGZT5g77Q'</td>\n",
       "      <td>5.0</td>\n",
       "      <td>b'7ATYjTIgM3jUlt4UM3IypQ'</td>\n",
       "      <td>1</td>\n",
       "    </tr>\n",
       "    <tr>\n",
       "      <th>2</th>\n",
       "      <td>b'saUsX_uimxRlCVr67Z4Jig'</td>\n",
       "      <td>0</td>\n",
       "      <td>0</td>\n",
       "      <td>b'2014-02-05 20:30:30'</td>\n",
       "      <td>b'Family diner. Had the buffet. Eclectic assor...</td>\n",
       "      <td>b'8g_iMtfSiwikVnbP2etR0A'</td>\n",
       "      <td>3.0</td>\n",
       "      <td>b'YjUWPpI6HXG530lwP-fb2A'</td>\n",
       "      <td>0</td>\n",
       "    </tr>\n",
       "    <tr>\n",
       "      <th>3</th>\n",
       "      <td>b'AqPFMleE6RsU23_auESxiA'</td>\n",
       "      <td>0</td>\n",
       "      <td>1</td>\n",
       "      <td>b'2015-01-04 00:01:03'</td>\n",
       "      <td>b\"Wow!  Yummy, different,  delicious.   Our fa...</td>\n",
       "      <td>b'_7bHUi9Uuf5__HHc_Q8guQ'</td>\n",
       "      <td>5.0</td>\n",
       "      <td>b'kxX2SOes4o-D3ZQBkiMRfA'</td>\n",
       "      <td>1</td>\n",
       "    </tr>\n",
       "    <tr>\n",
       "      <th>4</th>\n",
       "      <td>b'Sx8TMOWLNuJBWer-0pcmoA'</td>\n",
       "      <td>0</td>\n",
       "      <td>1</td>\n",
       "      <td>b'2017-01-14 20:54:15'</td>\n",
       "      <td>b\"Cute interior and owner (?) gave us tour of ...</td>\n",
       "      <td>b'bcjbaE6dDog4jkNY91ncLQ'</td>\n",
       "      <td>4.0</td>\n",
       "      <td>b'e4Vwtrqf-wpJfwesgvdgxQ'</td>\n",
       "      <td>1</td>\n",
       "    </tr>\n",
       "    <tr>\n",
       "      <th>...</th>\n",
       "      <td>...</td>\n",
       "      <td>...</td>\n",
       "      <td>...</td>\n",
       "      <td>...</td>\n",
       "      <td>...</td>\n",
       "      <td>...</td>\n",
       "      <td>...</td>\n",
       "      <td>...</td>\n",
       "      <td>...</td>\n",
       "    </tr>\n",
       "    <tr>\n",
       "      <th>6990275</th>\n",
       "      <td>b'H0RIamZu0B0Ei0P4aeh3sQ'</td>\n",
       "      <td>2</td>\n",
       "      <td>1</td>\n",
       "      <td>b'2014-12-17 21:45:20'</td>\n",
       "      <td>b'Latest addition to services from ICCU is App...</td>\n",
       "      <td>b'qskILQ3k0I_qcCMI-k6_QQ'</td>\n",
       "      <td>5.0</td>\n",
       "      <td>b'jals67o91gcrD4DC81Vk6w'</td>\n",
       "      <td>1</td>\n",
       "    </tr>\n",
       "    <tr>\n",
       "      <th>6990276</th>\n",
       "      <td>b'shTPgbgdwTHSuU67mGCmZQ'</td>\n",
       "      <td>1</td>\n",
       "      <td>2</td>\n",
       "      <td>b'2021-03-31 16:55:10'</td>\n",
       "      <td>b\"This spot offers a great, affordable east we...</td>\n",
       "      <td>b'Zo0th2m8Ez4gLSbHftiQvg'</td>\n",
       "      <td>5.0</td>\n",
       "      <td>b'2vLksaMmSEcGbjI5gywpZA'</td>\n",
       "      <td>2</td>\n",
       "    </tr>\n",
       "    <tr>\n",
       "      <th>6990277</th>\n",
       "      <td>b'YNfNhgZlaaCO5Q_YJR4rEw'</td>\n",
       "      <td>0</td>\n",
       "      <td>1</td>\n",
       "      <td>b'2019-12-30 03:56:30'</td>\n",
       "      <td>b\"This Home Depot won me over when I needed to...</td>\n",
       "      <td>b'mm6E4FbCMwJmb7kPDZ5v2Q'</td>\n",
       "      <td>4.0</td>\n",
       "      <td>b'R1khUUxidqfaJmcpmGd4aw'</td>\n",
       "      <td>0</td>\n",
       "    </tr>\n",
       "    <tr>\n",
       "      <th>6990278</th>\n",
       "      <td>b'i-I4ZOhoX70Nw5H0FwrQUA'</td>\n",
       "      <td>0</td>\n",
       "      <td>1</td>\n",
       "      <td>b'2022-01-19 18:59:27'</td>\n",
       "      <td>b'For when I\\'m feeling like ignoring my calor...</td>\n",
       "      <td>b'YwAMC-jvZ1fvEUum6QkEkw'</td>\n",
       "      <td>5.0</td>\n",
       "      <td>b'Rr9kKArrMhSLVE9a53q-aA'</td>\n",
       "      <td>0</td>\n",
       "    </tr>\n",
       "    <tr>\n",
       "      <th>6990279</th>\n",
       "      <td>b'RwcKOdEuLRHNJe4M9-qpqg'</td>\n",
       "      <td>3</td>\n",
       "      <td>10</td>\n",
       "      <td>b'2018-01-02 22:50:47'</td>\n",
       "      <td>b\"Located in the 'Walking District' in Nashvil...</td>\n",
       "      <td>b'6JehEvdoCvZPJ_XIxnzIIw'</td>\n",
       "      <td>3.0</td>\n",
       "      <td>b'VAeEXLbEcI9Emt9KGYq9aA'</td>\n",
       "      <td>7</td>\n",
       "    </tr>\n",
       "  </tbody>\n",
       "</table>\n",
       "<p>6990280 rows × 9 columns</p>\n",
       "</div>"
      ],
      "text/plain": [
       "                         review_id  funny  useful                    date  \\\n",
       "0        b'KU_O5udG6zpxOg-VcAEodg'      0       0  b'2018-07-07 22:09:11'   \n",
       "1        b'BiTunyQ73aT9WBnpR9DZGw'      0       1  b'2012-01-03 15:28:18'   \n",
       "2        b'saUsX_uimxRlCVr67Z4Jig'      0       0  b'2014-02-05 20:30:30'   \n",
       "3        b'AqPFMleE6RsU23_auESxiA'      0       1  b'2015-01-04 00:01:03'   \n",
       "4        b'Sx8TMOWLNuJBWer-0pcmoA'      0       1  b'2017-01-14 20:54:15'   \n",
       "...                            ...    ...     ...                     ...   \n",
       "6990275  b'H0RIamZu0B0Ei0P4aeh3sQ'      2       1  b'2014-12-17 21:45:20'   \n",
       "6990276  b'shTPgbgdwTHSuU67mGCmZQ'      1       2  b'2021-03-31 16:55:10'   \n",
       "6990277  b'YNfNhgZlaaCO5Q_YJR4rEw'      0       1  b'2019-12-30 03:56:30'   \n",
       "6990278  b'i-I4ZOhoX70Nw5H0FwrQUA'      0       1  b'2022-01-19 18:59:27'   \n",
       "6990279  b'RwcKOdEuLRHNJe4M9-qpqg'      3      10  b'2018-01-02 22:50:47'   \n",
       "\n",
       "                                                      text  \\\n",
       "0        b\"If you decide to eat here, just be aware it ...   \n",
       "1        b\"I've taken a lot of spin classes over the ye...   \n",
       "2        b'Family diner. Had the buffet. Eclectic assor...   \n",
       "3        b\"Wow!  Yummy, different,  delicious.   Our fa...   \n",
       "4        b\"Cute interior and owner (?) gave us tour of ...   \n",
       "...                                                    ...   \n",
       "6990275  b'Latest addition to services from ICCU is App...   \n",
       "6990276  b\"This spot offers a great, affordable east we...   \n",
       "6990277  b\"This Home Depot won me over when I needed to...   \n",
       "6990278  b'For when I\\'m feeling like ignoring my calor...   \n",
       "6990279  b\"Located in the 'Walking District' in Nashvil...   \n",
       "\n",
       "                           user_id  stars                business_id  cool  \n",
       "0        b'mh_-eMZ6K5RLWhZyISBhwA'    3.0  b'XQfwVwDr-v0ZS3_CbbE5Xw'     0  \n",
       "1        b'OyoGAe7OKpv6SyGZT5g77Q'    5.0  b'7ATYjTIgM3jUlt4UM3IypQ'     1  \n",
       "2        b'8g_iMtfSiwikVnbP2etR0A'    3.0  b'YjUWPpI6HXG530lwP-fb2A'     0  \n",
       "3        b'_7bHUi9Uuf5__HHc_Q8guQ'    5.0  b'kxX2SOes4o-D3ZQBkiMRfA'     1  \n",
       "4        b'bcjbaE6dDog4jkNY91ncLQ'    4.0  b'e4Vwtrqf-wpJfwesgvdgxQ'     1  \n",
       "...                            ...    ...                        ...   ...  \n",
       "6990275  b'qskILQ3k0I_qcCMI-k6_QQ'    5.0  b'jals67o91gcrD4DC81Vk6w'     1  \n",
       "6990276  b'Zo0th2m8Ez4gLSbHftiQvg'    5.0  b'2vLksaMmSEcGbjI5gywpZA'     2  \n",
       "6990277  b'mm6E4FbCMwJmb7kPDZ5v2Q'    4.0  b'R1khUUxidqfaJmcpmGd4aw'     0  \n",
       "6990278  b'YwAMC-jvZ1fvEUum6QkEkw'    5.0  b'Rr9kKArrMhSLVE9a53q-aA'     0  \n",
       "6990279  b'6JehEvdoCvZPJ_XIxnzIIw'    3.0  b'VAeEXLbEcI9Emt9KGYq9aA'     7  \n",
       "\n",
       "[6990280 rows x 9 columns]"
      ]
     },
     "execution_count": 4,
     "metadata": {},
     "output_type": "execute_result"
    }
   ],
   "source": [
    "data_reviews"
   ]
  },
  {
   "cell_type": "code",
   "execution_count": 5,
   "id": "8b990aea-a8ff-4c33-8540-e7a7dba10223",
   "metadata": {},
   "outputs": [],
   "source": [
    "start_size = round(getsizeof(data_reviews)/(1024.0**3),2)"
   ]
  },
  {
   "cell_type": "code",
   "execution_count": 6,
   "id": "de890dc9-e992-4e9f-a977-5471b4a1466e",
   "metadata": {},
   "outputs": [
    {
     "name": "stdout",
     "output_type": "stream",
     "text": [
      "Taille initiale du fichier : 6.43 GB \n"
     ]
    }
   ],
   "source": [
    "print(f\"Taille initiale du fichier : {start_size} GB \" )"
   ]
  },
  {
   "cell_type": "code",
   "execution_count": 7,
   "id": "274cb228-5862-4244-84dc-7e1f403c45e4",
   "metadata": {},
   "outputs": [
    {
     "data": {
      "text/plain": [
       "review_id       object\n",
       "funny            int64\n",
       "useful           int64\n",
       "date            object\n",
       "text            object\n",
       "user_id         object\n",
       "stars          float64\n",
       "business_id     object\n",
       "cool             int64\n",
       "dtype: object"
      ]
     },
     "execution_count": 7,
     "metadata": {},
     "output_type": "execute_result"
    }
   ],
   "source": [
    "data_reviews.dtypes"
   ]
  },
  {
   "cell_type": "code",
   "execution_count": 8,
   "id": "d4d8f8c1-ba66-4a46-9b08-66492763a186",
   "metadata": {},
   "outputs": [
    {
     "data": {
      "text/html": [
       "<div>\n",
       "<style scoped>\n",
       "    .dataframe tbody tr th:only-of-type {\n",
       "        vertical-align: middle;\n",
       "    }\n",
       "\n",
       "    .dataframe tbody tr th {\n",
       "        vertical-align: top;\n",
       "    }\n",
       "\n",
       "    .dataframe thead th {\n",
       "        text-align: right;\n",
       "    }\n",
       "</style>\n",
       "<table border=\"1\" class=\"dataframe\">\n",
       "  <thead>\n",
       "    <tr style=\"text-align: right;\">\n",
       "      <th></th>\n",
       "      <th>funny</th>\n",
       "      <th>useful</th>\n",
       "      <th>stars</th>\n",
       "      <th>cool</th>\n",
       "    </tr>\n",
       "  </thead>\n",
       "  <tbody>\n",
       "    <tr>\n",
       "      <th>count</th>\n",
       "      <td>6.990280e+06</td>\n",
       "      <td>6.990280e+06</td>\n",
       "      <td>6.990280e+06</td>\n",
       "      <td>6.990280e+06</td>\n",
       "    </tr>\n",
       "    <tr>\n",
       "      <th>mean</th>\n",
       "      <td>3.265596e-01</td>\n",
       "      <td>1.184609e+00</td>\n",
       "      <td>3.748584e+00</td>\n",
       "      <td>4.986175e-01</td>\n",
       "    </tr>\n",
       "    <tr>\n",
       "      <th>std</th>\n",
       "      <td>1.688729e+00</td>\n",
       "      <td>3.253767e+00</td>\n",
       "      <td>1.478705e+00</td>\n",
       "      <td>2.172460e+00</td>\n",
       "    </tr>\n",
       "    <tr>\n",
       "      <th>min</th>\n",
       "      <td>-1.000000e+00</td>\n",
       "      <td>-1.000000e+00</td>\n",
       "      <td>1.000000e+00</td>\n",
       "      <td>-1.000000e+00</td>\n",
       "    </tr>\n",
       "    <tr>\n",
       "      <th>25%</th>\n",
       "      <td>0.000000e+00</td>\n",
       "      <td>0.000000e+00</td>\n",
       "      <td>3.000000e+00</td>\n",
       "      <td>0.000000e+00</td>\n",
       "    </tr>\n",
       "    <tr>\n",
       "      <th>50%</th>\n",
       "      <td>0.000000e+00</td>\n",
       "      <td>0.000000e+00</td>\n",
       "      <td>4.000000e+00</td>\n",
       "      <td>0.000000e+00</td>\n",
       "    </tr>\n",
       "    <tr>\n",
       "      <th>75%</th>\n",
       "      <td>0.000000e+00</td>\n",
       "      <td>1.000000e+00</td>\n",
       "      <td>5.000000e+00</td>\n",
       "      <td>0.000000e+00</td>\n",
       "    </tr>\n",
       "    <tr>\n",
       "      <th>max</th>\n",
       "      <td>7.920000e+02</td>\n",
       "      <td>1.182000e+03</td>\n",
       "      <td>5.000000e+00</td>\n",
       "      <td>4.040000e+02</td>\n",
       "    </tr>\n",
       "  </tbody>\n",
       "</table>\n",
       "</div>"
      ],
      "text/plain": [
       "              funny        useful         stars          cool\n",
       "count  6.990280e+06  6.990280e+06  6.990280e+06  6.990280e+06\n",
       "mean   3.265596e-01  1.184609e+00  3.748584e+00  4.986175e-01\n",
       "std    1.688729e+00  3.253767e+00  1.478705e+00  2.172460e+00\n",
       "min   -1.000000e+00 -1.000000e+00  1.000000e+00 -1.000000e+00\n",
       "25%    0.000000e+00  0.000000e+00  3.000000e+00  0.000000e+00\n",
       "50%    0.000000e+00  0.000000e+00  4.000000e+00  0.000000e+00\n",
       "75%    0.000000e+00  1.000000e+00  5.000000e+00  0.000000e+00\n",
       "max    7.920000e+02  1.182000e+03  5.000000e+00  4.040000e+02"
      ]
     },
     "execution_count": 8,
     "metadata": {},
     "output_type": "execute_result"
    }
   ],
   "source": [
    "data_reviews.describe()"
   ]
  },
  {
   "cell_type": "markdown",
   "id": "27a489e3-0602-421d-9c13-105c7fcf5d93",
   "metadata": {},
   "source": [
    "## <strong>  C.1.1 - Variables non essentielles </strong>"
   ]
  },
  {
   "cell_type": "code",
   "execution_count": 9,
   "id": "f3855a8d-732a-4776-82fa-a4cd16b4c8f9",
   "metadata": {},
   "outputs": [],
   "source": [
    "useless = [\"funny\", \"useful\", \"cool\" ,\"user_id\" , \"date\" , \"business_id\"]\n",
    "for i in useless : \n",
    "    if i in data_reviews.columns : data_reviews.drop( i ,axis = 1 , inplace = True)"
   ]
  },
  {
   "cell_type": "code",
   "execution_count": 10,
   "id": "d1ac32ad-718b-4f21-8fa2-2aef6b90a460",
   "metadata": {},
   "outputs": [
    {
     "name": "stdout",
     "output_type": "stream",
     "text": [
      "- Taille initiale : 6.43 GB\n",
      "- Taille actuelle : 4.69 GB \n",
      "- La taille du fichier a été réduite de  27.06 % \n"
     ]
    }
   ],
   "source": [
    "size = round(getsizeof(data_reviews)/1024.0**3,2)\n",
    "print(f\"- Taille initiale : {start_size} GB\\n- Taille actuelle : {size} GB \\n- La taille du fichier a été réduite de  {round((1- size/start_size)*100,2)} % \")"
   ]
  },
  {
   "cell_type": "code",
   "execution_count": 11,
   "id": "770a3295-cdd0-4372-aad4-5ff78b102f48",
   "metadata": {},
   "outputs": [
    {
     "data": {
      "text/html": [
       "<div>\n",
       "<style scoped>\n",
       "    .dataframe tbody tr th:only-of-type {\n",
       "        vertical-align: middle;\n",
       "    }\n",
       "\n",
       "    .dataframe tbody tr th {\n",
       "        vertical-align: top;\n",
       "    }\n",
       "\n",
       "    .dataframe thead th {\n",
       "        text-align: right;\n",
       "    }\n",
       "</style>\n",
       "<table border=\"1\" class=\"dataframe\">\n",
       "  <thead>\n",
       "    <tr style=\"text-align: right;\">\n",
       "      <th></th>\n",
       "      <th>review_id</th>\n",
       "      <th>text</th>\n",
       "      <th>stars</th>\n",
       "    </tr>\n",
       "  </thead>\n",
       "  <tbody>\n",
       "    <tr>\n",
       "      <th>0</th>\n",
       "      <td>b'KU_O5udG6zpxOg-VcAEodg'</td>\n",
       "      <td>b\"If you decide to eat here, just be aware it ...</td>\n",
       "      <td>3.0</td>\n",
       "    </tr>\n",
       "    <tr>\n",
       "      <th>1</th>\n",
       "      <td>b'BiTunyQ73aT9WBnpR9DZGw'</td>\n",
       "      <td>b\"I've taken a lot of spin classes over the ye...</td>\n",
       "      <td>5.0</td>\n",
       "    </tr>\n",
       "    <tr>\n",
       "      <th>2</th>\n",
       "      <td>b'saUsX_uimxRlCVr67Z4Jig'</td>\n",
       "      <td>b'Family diner. Had the buffet. Eclectic assor...</td>\n",
       "      <td>3.0</td>\n",
       "    </tr>\n",
       "    <tr>\n",
       "      <th>3</th>\n",
       "      <td>b'AqPFMleE6RsU23_auESxiA'</td>\n",
       "      <td>b\"Wow!  Yummy, different,  delicious.   Our fa...</td>\n",
       "      <td>5.0</td>\n",
       "    </tr>\n",
       "    <tr>\n",
       "      <th>4</th>\n",
       "      <td>b'Sx8TMOWLNuJBWer-0pcmoA'</td>\n",
       "      <td>b\"Cute interior and owner (?) gave us tour of ...</td>\n",
       "      <td>4.0</td>\n",
       "    </tr>\n",
       "    <tr>\n",
       "      <th>...</th>\n",
       "      <td>...</td>\n",
       "      <td>...</td>\n",
       "      <td>...</td>\n",
       "    </tr>\n",
       "    <tr>\n",
       "      <th>6990275</th>\n",
       "      <td>b'H0RIamZu0B0Ei0P4aeh3sQ'</td>\n",
       "      <td>b'Latest addition to services from ICCU is App...</td>\n",
       "      <td>5.0</td>\n",
       "    </tr>\n",
       "    <tr>\n",
       "      <th>6990276</th>\n",
       "      <td>b'shTPgbgdwTHSuU67mGCmZQ'</td>\n",
       "      <td>b\"This spot offers a great, affordable east we...</td>\n",
       "      <td>5.0</td>\n",
       "    </tr>\n",
       "    <tr>\n",
       "      <th>6990277</th>\n",
       "      <td>b'YNfNhgZlaaCO5Q_YJR4rEw'</td>\n",
       "      <td>b\"This Home Depot won me over when I needed to...</td>\n",
       "      <td>4.0</td>\n",
       "    </tr>\n",
       "    <tr>\n",
       "      <th>6990278</th>\n",
       "      <td>b'i-I4ZOhoX70Nw5H0FwrQUA'</td>\n",
       "      <td>b'For when I\\'m feeling like ignoring my calor...</td>\n",
       "      <td>5.0</td>\n",
       "    </tr>\n",
       "    <tr>\n",
       "      <th>6990279</th>\n",
       "      <td>b'RwcKOdEuLRHNJe4M9-qpqg'</td>\n",
       "      <td>b\"Located in the 'Walking District' in Nashvil...</td>\n",
       "      <td>3.0</td>\n",
       "    </tr>\n",
       "  </tbody>\n",
       "</table>\n",
       "<p>6990280 rows × 3 columns</p>\n",
       "</div>"
      ],
      "text/plain": [
       "                         review_id  \\\n",
       "0        b'KU_O5udG6zpxOg-VcAEodg'   \n",
       "1        b'BiTunyQ73aT9WBnpR9DZGw'   \n",
       "2        b'saUsX_uimxRlCVr67Z4Jig'   \n",
       "3        b'AqPFMleE6RsU23_auESxiA'   \n",
       "4        b'Sx8TMOWLNuJBWer-0pcmoA'   \n",
       "...                            ...   \n",
       "6990275  b'H0RIamZu0B0Ei0P4aeh3sQ'   \n",
       "6990276  b'shTPgbgdwTHSuU67mGCmZQ'   \n",
       "6990277  b'YNfNhgZlaaCO5Q_YJR4rEw'   \n",
       "6990278  b'i-I4ZOhoX70Nw5H0FwrQUA'   \n",
       "6990279  b'RwcKOdEuLRHNJe4M9-qpqg'   \n",
       "\n",
       "                                                      text  stars  \n",
       "0        b\"If you decide to eat here, just be aware it ...    3.0  \n",
       "1        b\"I've taken a lot of spin classes over the ye...    5.0  \n",
       "2        b'Family diner. Had the buffet. Eclectic assor...    3.0  \n",
       "3        b\"Wow!  Yummy, different,  delicious.   Our fa...    5.0  \n",
       "4        b\"Cute interior and owner (?) gave us tour of ...    4.0  \n",
       "...                                                    ...    ...  \n",
       "6990275  b'Latest addition to services from ICCU is App...    5.0  \n",
       "6990276  b\"This spot offers a great, affordable east we...    5.0  \n",
       "6990277  b\"This Home Depot won me over when I needed to...    4.0  \n",
       "6990278  b'For when I\\'m feeling like ignoring my calor...    5.0  \n",
       "6990279  b\"Located in the 'Walking District' in Nashvil...    3.0  \n",
       "\n",
       "[6990280 rows x 3 columns]"
      ]
     },
     "execution_count": 11,
     "metadata": {},
     "output_type": "execute_result"
    }
   ],
   "source": [
    "data_reviews"
   ]
  },
  {
   "cell_type": "markdown",
   "id": "91f9887d-8d2b-4787-89ee-63bb170188f0",
   "metadata": {},
   "source": [
    "## <strong> C.1.2 - Duplicatas </strong>"
   ]
  },
  {
   "cell_type": "code",
   "execution_count": 12,
   "id": "8c5c904d-dda4-4070-8a39-506d63f7cc04",
   "metadata": {},
   "outputs": [
    {
     "data": {
      "text/plain": [
       "0.0"
      ]
     },
     "execution_count": 12,
     "metadata": {},
     "output_type": "execute_result"
    }
   ],
   "source": [
    "data_reviews.duplicated(\"review_id\").mean()"
   ]
  },
  {
   "cell_type": "code",
   "execution_count": 13,
   "id": "83ccb1de-4b9b-4fe6-aa2e-245b0b817659",
   "metadata": {},
   "outputs": [],
   "source": [
    "if \"review_id\" in data_reviews.columns : data_reviews.drop( \"review_id\" , axis = 1 , inplace = True )"
   ]
  },
  {
   "cell_type": "code",
   "execution_count": 14,
   "id": "4dd141e5-7bee-4d24-9688-689e7a1b01aa",
   "metadata": {},
   "outputs": [
    {
     "name": "stdout",
     "output_type": "stream",
     "text": [
      "- Taille initiale : 6.43 GB\n",
      "- Taille actuelle : 4.16 GB \n",
      "- La taille du fichier a été réduite de  35.3 % \n"
     ]
    }
   ],
   "source": [
    "size = round(getsizeof(data_reviews)/1024.0**3,2)\n",
    "print(f\"- Taille initiale : {start_size} GB\\n- Taille actuelle : {size} GB \\n- La taille du fichier a été réduite de  {round((1- size/start_size)*100,2)} % \")"
   ]
  },
  {
   "cell_type": "markdown",
   "id": "15b634d3-e1cc-4833-8398-425977ff5eae",
   "metadata": {},
   "source": [
    "## <strong> C.1.3 - Variables entières </strong>"
   ]
  },
  {
   "cell_type": "code",
   "execution_count": 15,
   "id": "cdcc9588-812c-46e8-b7ec-7f5062100b4d",
   "metadata": {},
   "outputs": [],
   "source": [
    "data_reviews.stars = data_reviews.stars.astype(\"uint8\")"
   ]
  },
  {
   "cell_type": "code",
   "execution_count": 16,
   "id": "d01f8f9c-c7cd-4893-a1c2-0cd44ed57277",
   "metadata": {},
   "outputs": [
    {
     "name": "stdout",
     "output_type": "stream",
     "text": [
      "- Taille initiale : 6.43GB\n",
      "- Taille actuelle : 4.11 GB \n",
      "- La taille du fichier a été réduite de  36.08 % \n"
     ]
    }
   ],
   "source": [
    "size = round(getsizeof(data_reviews)/1024.0**3,2)\n",
    "print(f\"- Taille initiale : {start_size}GB\\n- Taille actuelle : {size} GB \\n- La taille du fichier a été réduite de  {round((1- size/start_size)*100,2)} % \")"
   ]
  },
  {
   "cell_type": "markdown",
   "id": "3e5bd694-86b1-470d-9aeb-6b5d22071fdc",
   "metadata": {},
   "source": [
    "## <strong> C.1.4 - sampling ( Mauvais avis) </strong>"
   ]
  },
  {
   "cell_type": "code",
   "execution_count": 17,
   "id": "63eacc48-4b7e-454f-a9dd-4c5474881c2b",
   "metadata": {},
   "outputs": [],
   "source": [
    "#  Je retiens uniquement les mauvais avis\n",
    "data_reviews = data_reviews[data_reviews.stars == 1]"
   ]
  },
  {
   "cell_type": "code",
   "execution_count": 18,
   "id": "ff67aab1-0e04-4606-92ea-c7cd27873c90",
   "metadata": {},
   "outputs": [],
   "source": [
    "#  Je réduis le nombre d'avis à un certains pourcentage\n",
    "data_reviews = sampling_data(datas = data_reviews , proportion=0.2)"
   ]
  },
  {
   "cell_type": "code",
   "execution_count": 19,
   "id": "9a72428f-4af4-4b62-ab00-be036d4e7d68",
   "metadata": {},
   "outputs": [
    {
     "name": "stdout",
     "output_type": "stream",
     "text": [
      "- Taille initiale : 6.43 GB\n",
      "- Taille actuelle : 1.59 MB \n",
      "- La taille du fichier a été réduite de  99.98 % \n"
     ]
    }
   ],
   "source": [
    "size = round(getsizeof(data_reviews)/1024.0**2,2)\n",
    "print(f\"- Taille initiale : {start_size} GB\\n- Taille actuelle : {size} MB \\n- La taille du fichier a été réduite de  {round((1- (size/1024.0)/start_size)*100,2)} % \")"
   ]
  },
  {
   "cell_type": "markdown",
   "id": "dae17f7d-ddee-47af-9b33-1a480570f8c6",
   "metadata": {},
   "source": [
    "# <strong> C.1.5 - Reformatage des variables `Str` </strong>"
   ]
  },
  {
   "cell_type": "code",
   "execution_count": 20,
   "id": "d669f16b-38dc-409a-abc0-156422fafb8e",
   "metadata": {},
   "outputs": [],
   "source": [
    "data_reviews = bytes_to_str( data_reviews, [\"text\"] )"
   ]
  },
  {
   "cell_type": "code",
   "execution_count": 21,
   "id": "c1e36362-dc9f-4dac-8de9-d89c7ef7a23c",
   "metadata": {},
   "outputs": [
    {
     "data": {
      "text/html": [
       "<div>\n",
       "<style scoped>\n",
       "    .dataframe tbody tr th:only-of-type {\n",
       "        vertical-align: middle;\n",
       "    }\n",
       "\n",
       "    .dataframe tbody tr th {\n",
       "        vertical-align: top;\n",
       "    }\n",
       "\n",
       "    .dataframe thead th {\n",
       "        text-align: right;\n",
       "    }\n",
       "</style>\n",
       "<table border=\"1\" class=\"dataframe\">\n",
       "  <thead>\n",
       "    <tr style=\"text-align: right;\">\n",
       "      <th></th>\n",
       "      <th>text</th>\n",
       "      <th>stars</th>\n",
       "    </tr>\n",
       "  </thead>\n",
       "  <tbody>\n",
       "    <tr>\n",
       "      <th>966</th>\n",
       "      <td>this place SUCKS. Terrible service and overpri...</td>\n",
       "      <td>1</td>\n",
       "    </tr>\n",
       "    <tr>\n",
       "      <th>7563</th>\n",
       "      <td>Definitely should have read the reviews first....</td>\n",
       "      <td>1</td>\n",
       "    </tr>\n",
       "    <tr>\n",
       "      <th>12578</th>\n",
       "      <td>Place is such a RIP OFF! Their mechanics are t...</td>\n",
       "      <td>1</td>\n",
       "    </tr>\n",
       "    <tr>\n",
       "      <th>15208</th>\n",
       "      <td>DO NOT GO HERE THEY ARE THE WORST  GO TO MASSA...</td>\n",
       "      <td>1</td>\n",
       "    </tr>\n",
       "    <tr>\n",
       "      <th>15740</th>\n",
       "      <td>What a drag. Entrees (bolognese and lasagne) a...</td>\n",
       "      <td>1</td>\n",
       "    </tr>\n",
       "    <tr>\n",
       "      <th>...</th>\n",
       "      <td>...</td>\n",
       "      <td>...</td>\n",
       "    </tr>\n",
       "    <tr>\n",
       "      <th>6979665</th>\n",
       "      <td>The service stinks at this location they have ...</td>\n",
       "      <td>1</td>\n",
       "    </tr>\n",
       "    <tr>\n",
       "      <th>6980706</th>\n",
       "      <td>Wasted a good 25 minutes of my time and compan...</td>\n",
       "      <td>1</td>\n",
       "    </tr>\n",
       "    <tr>\n",
       "      <th>6981059</th>\n",
       "      <td>They claimed my wheels were too big to fit in ...</td>\n",
       "      <td>1</td>\n",
       "    </tr>\n",
       "    <tr>\n",
       "      <th>6983971</th>\n",
       "      <td>Discriminates, Unlawful, Disgrace!\\nJuwan has ...</td>\n",
       "      <td>1</td>\n",
       "    </tr>\n",
       "    <tr>\n",
       "      <th>6985298</th>\n",
       "      <td>We had a big issue with someone else order bei...</td>\n",
       "      <td>1</td>\n",
       "    </tr>\n",
       "  </tbody>\n",
       "</table>\n",
       "<p>2139 rows × 2 columns</p>\n",
       "</div>"
      ],
      "text/plain": [
       "                                                      text  stars\n",
       "966      this place SUCKS. Terrible service and overpri...      1\n",
       "7563     Definitely should have read the reviews first....      1\n",
       "12578    Place is such a RIP OFF! Their mechanics are t...      1\n",
       "15208    DO NOT GO HERE THEY ARE THE WORST  GO TO MASSA...      1\n",
       "15740    What a drag. Entrees (bolognese and lasagne) a...      1\n",
       "...                                                    ...    ...\n",
       "6979665  The service stinks at this location they have ...      1\n",
       "6980706  Wasted a good 25 minutes of my time and compan...      1\n",
       "6981059  They claimed my wheels were too big to fit in ...      1\n",
       "6983971  Discriminates, Unlawful, Disgrace!\\nJuwan has ...      1\n",
       "6985298  We had a big issue with someone else order bei...      1\n",
       "\n",
       "[2139 rows x 2 columns]"
      ]
     },
     "execution_count": 21,
     "metadata": {},
     "output_type": "execute_result"
    }
   ],
   "source": [
    "data_reviews"
   ]
  },
  {
   "cell_type": "markdown",
   "id": "0f139885-ae29-4fab-b7e1-908a4bb24f3e",
   "metadata": {},
   "source": [
    "# <strong> C.1.6 - Suppression des `\\\\` et `\\\\\\'` </strong>"
   ]
  },
  {
   "cell_type": "code",
   "execution_count": 22,
   "id": "38d8161a-dda5-4a3e-9778-0e6c312b9edd",
   "metadata": {},
   "outputs": [],
   "source": [
    "#data_reviews.text = data_reviews.text.apply(lambda x : x.replace( \"\\\\n\",\"\" ).replace( \"\\\\\\'\",\"'\" ))"
   ]
  },
  {
   "cell_type": "code",
   "execution_count": 23,
   "id": "52e08bf1-e499-43b0-8336-41c6c88bd8f9",
   "metadata": {},
   "outputs": [],
   "source": [
    "data_reviews.drop( columns=\"stars\" , inplace = True)"
   ]
  },
  {
   "cell_type": "markdown",
   "id": "3e2a2bbf-00e6-4787-9214-fb81c46d3f27",
   "metadata": {},
   "source": [
    "## <strong> C.1.6 - Ecriture de fichier </strong>"
   ]
  },
  {
   "cell_type": "code",
   "execution_count": 24,
   "id": "558e2085-449c-4477-bde4-ed16e521afca",
   "metadata": {},
   "outputs": [],
   "source": [
    "data_reviews.to_csv(\"data_reviews_legers.csv\", index =False)"
   ]
  },
  {
   "cell_type": "markdown",
   "id": "4bb4392d-744c-4dce-a685-348c4f20aba7",
   "metadata": {},
   "source": [
    "# <strong> C.2 - Photos </strong>"
   ]
  },
  {
   "cell_type": "code",
   "execution_count": 25,
   "id": "b780537f-1c99-4670-a538-de7494cd3ecb",
   "metadata": {},
   "outputs": [],
   "source": [
    "data_photos = pd.read_csv(\"photos.csv\")"
   ]
  },
  {
   "cell_type": "code",
   "execution_count": 26,
   "id": "74caacc2-a1e5-4e11-81e6-aa0df601bebd",
   "metadata": {},
   "outputs": [
    {
     "data": {
      "text/html": [
       "<div>\n",
       "<style scoped>\n",
       "    .dataframe tbody tr th:only-of-type {\n",
       "        vertical-align: middle;\n",
       "    }\n",
       "\n",
       "    .dataframe tbody tr th {\n",
       "        vertical-align: top;\n",
       "    }\n",
       "\n",
       "    .dataframe thead th {\n",
       "        text-align: right;\n",
       "    }\n",
       "</style>\n",
       "<table border=\"1\" class=\"dataframe\">\n",
       "  <thead>\n",
       "    <tr style=\"text-align: right;\">\n",
       "      <th></th>\n",
       "      <th>business_id</th>\n",
       "      <th>label</th>\n",
       "      <th>caption</th>\n",
       "      <th>photo_id</th>\n",
       "    </tr>\n",
       "  </thead>\n",
       "  <tbody>\n",
       "    <tr>\n",
       "      <th>0</th>\n",
       "      <td>b'Nk-SJhPlDBkAZvfsADtccA'</td>\n",
       "      <td>b'inside'</td>\n",
       "      <td>b'Nice rock artwork everywhere and craploads o...</td>\n",
       "      <td>b'zsvj7vloL4L5jhYyPIuVwg'</td>\n",
       "    </tr>\n",
       "    <tr>\n",
       "      <th>1</th>\n",
       "      <td>b'yVZtL5MmrpiivyCIrVkGgA'</td>\n",
       "      <td>b'outside'</td>\n",
       "      <td>b''</td>\n",
       "      <td>b'HCUdRJHHm_e0OCTlZetGLg'</td>\n",
       "    </tr>\n",
       "    <tr>\n",
       "      <th>2</th>\n",
       "      <td>b'_ab50qdWOk0DdB6XOrBitw'</td>\n",
       "      <td>b'drink'</td>\n",
       "      <td>b'oyster shooter'</td>\n",
       "      <td>b'vkr8T0scuJmGVvN2HJelEA'</td>\n",
       "    </tr>\n",
       "    <tr>\n",
       "      <th>3</th>\n",
       "      <td>b'SZU9c8V2GuREDN5KgyHFJw'</td>\n",
       "      <td>b'food'</td>\n",
       "      <td>b'Shrimp scampi'</td>\n",
       "      <td>b'pve7D6NUrafHW3EAORubyw'</td>\n",
       "    </tr>\n",
       "    <tr>\n",
       "      <th>4</th>\n",
       "      <td>b'Gzur0f0XMkrVxIwYJvOt2g'</td>\n",
       "      <td>b'food'</td>\n",
       "      <td>b''</td>\n",
       "      <td>b'H52Er-uBg6rNrHcReWTD2w'</td>\n",
       "    </tr>\n",
       "    <tr>\n",
       "      <th>...</th>\n",
       "      <td>...</td>\n",
       "      <td>...</td>\n",
       "      <td>...</td>\n",
       "      <td>...</td>\n",
       "    </tr>\n",
       "    <tr>\n",
       "      <th>200095</th>\n",
       "      <td>b'2HxkdqHmbYGj_BH1bLaiSw'</td>\n",
       "      <td>b'food'</td>\n",
       "      <td>b'#Nektar'</td>\n",
       "      <td>b'4Zia9NkAfQNjMfcIDhwJ-g'</td>\n",
       "    </tr>\n",
       "    <tr>\n",
       "      <th>200096</th>\n",
       "      <td>b'_gVyuTRb_6HM-SNtqbpevQ'</td>\n",
       "      <td>b'inside'</td>\n",
       "      <td>b''</td>\n",
       "      <td>b'KB96KRZRhRm8hUkI-OpGEA'</td>\n",
       "    </tr>\n",
       "    <tr>\n",
       "      <th>200097</th>\n",
       "      <td>b'NUyEOjfAl3HvkpzSpdwqeA'</td>\n",
       "      <td>b'food'</td>\n",
       "      <td>b''</td>\n",
       "      <td>b'Klmojvaf2_2dP1XKzTsFmQ'</td>\n",
       "    </tr>\n",
       "    <tr>\n",
       "      <th>200098</th>\n",
       "      <td>b'hE6YsHHV0fCz_UrGS4o6VA'</td>\n",
       "      <td>b'drink'</td>\n",
       "      <td>b'Drinks by the water!'</td>\n",
       "      <td>b'FNEiq7Mogec7t31OaU5juw'</td>\n",
       "    </tr>\n",
       "    <tr>\n",
       "      <th>200099</th>\n",
       "      <td>b'VIYvcX9SScnqmoI0so1KZA'</td>\n",
       "      <td>b'food'</td>\n",
       "      <td>b''</td>\n",
       "      <td>b'NHEtLh7APk7Yssjo0h45VA'</td>\n",
       "    </tr>\n",
       "  </tbody>\n",
       "</table>\n",
       "<p>200100 rows × 4 columns</p>\n",
       "</div>"
      ],
      "text/plain": [
       "                      business_id       label  \\\n",
       "0       b'Nk-SJhPlDBkAZvfsADtccA'   b'inside'   \n",
       "1       b'yVZtL5MmrpiivyCIrVkGgA'  b'outside'   \n",
       "2       b'_ab50qdWOk0DdB6XOrBitw'    b'drink'   \n",
       "3       b'SZU9c8V2GuREDN5KgyHFJw'     b'food'   \n",
       "4       b'Gzur0f0XMkrVxIwYJvOt2g'     b'food'   \n",
       "...                           ...         ...   \n",
       "200095  b'2HxkdqHmbYGj_BH1bLaiSw'     b'food'   \n",
       "200096  b'_gVyuTRb_6HM-SNtqbpevQ'   b'inside'   \n",
       "200097  b'NUyEOjfAl3HvkpzSpdwqeA'     b'food'   \n",
       "200098  b'hE6YsHHV0fCz_UrGS4o6VA'    b'drink'   \n",
       "200099  b'VIYvcX9SScnqmoI0so1KZA'     b'food'   \n",
       "\n",
       "                                                  caption  \\\n",
       "0       b'Nice rock artwork everywhere and craploads o...   \n",
       "1                                                     b''   \n",
       "2                                       b'oyster shooter'   \n",
       "3                                        b'Shrimp scampi'   \n",
       "4                                                     b''   \n",
       "...                                                   ...   \n",
       "200095                                         b'#Nektar'   \n",
       "200096                                                b''   \n",
       "200097                                                b''   \n",
       "200098                            b'Drinks by the water!'   \n",
       "200099                                                b''   \n",
       "\n",
       "                         photo_id  \n",
       "0       b'zsvj7vloL4L5jhYyPIuVwg'  \n",
       "1       b'HCUdRJHHm_e0OCTlZetGLg'  \n",
       "2       b'vkr8T0scuJmGVvN2HJelEA'  \n",
       "3       b'pve7D6NUrafHW3EAORubyw'  \n",
       "4       b'H52Er-uBg6rNrHcReWTD2w'  \n",
       "...                           ...  \n",
       "200095  b'4Zia9NkAfQNjMfcIDhwJ-g'  \n",
       "200096  b'KB96KRZRhRm8hUkI-OpGEA'  \n",
       "200097  b'Klmojvaf2_2dP1XKzTsFmQ'  \n",
       "200098  b'FNEiq7Mogec7t31OaU5juw'  \n",
       "200099  b'NHEtLh7APk7Yssjo0h45VA'  \n",
       "\n",
       "[200100 rows x 4 columns]"
      ]
     },
     "execution_count": 26,
     "metadata": {},
     "output_type": "execute_result"
    }
   ],
   "source": [
    "data_photos"
   ]
  },
  {
   "cell_type": "code",
   "execution_count": 27,
   "id": "568f4a8c-4ccf-4682-a64f-f7da19248459",
   "metadata": {},
   "outputs": [
    {
     "data": {
      "text/plain": [
       "b'food'       108152\n",
       "b'inside'      56031\n",
       "b'outside'     18569\n",
       "b'drink'       15670\n",
       "b'menu'         1678\n",
       "Name: label, dtype: int64"
      ]
     },
     "execution_count": 27,
     "metadata": {},
     "output_type": "execute_result"
    }
   ],
   "source": [
    "data_photos.label.value_counts()"
   ]
  },
  {
   "cell_type": "code",
   "execution_count": 28,
   "id": "e9940e28-9930-43b2-8d2d-027b08ad163c",
   "metadata": {},
   "outputs": [],
   "source": [
    "size_i = round(getsizeof(data_photos)/1024.0**2 , 2 )"
   ]
  },
  {
   "cell_type": "code",
   "execution_count": 29,
   "id": "2542af4f-b371-4c5e-bf0e-36e4789c4a89",
   "metadata": {},
   "outputs": [
    {
     "name": "stdout",
     "output_type": "stream",
     "text": [
      "Taille actuelle du fichier : 58.06 Gb \n"
     ]
    }
   ],
   "source": [
    "print(f\"Taille actuelle du fichier : {size_i} Gb \")"
   ]
  },
  {
   "cell_type": "markdown",
   "id": "f3ac436d-37ea-4018-bca8-b8596f37f0a5",
   "metadata": {},
   "source": [
    "# <strong> C.2.1 - Variables non pertinentes </strong>"
   ]
  },
  {
   "cell_type": "code",
   "execution_count": 30,
   "id": "128de845-f423-425d-926f-6d7d773365fb",
   "metadata": {},
   "outputs": [],
   "source": [
    "useless = [\"business_id\",\"caption\"]\n",
    "for i in useless : \n",
    "    if i in data_photos.columns : data_photos.drop( columns=i , inplace=True )"
   ]
  },
  {
   "cell_type": "code",
   "execution_count": 31,
   "id": "f670fd5a-d28d-438c-88e9-29ef52e49f67",
   "metadata": {},
   "outputs": [
    {
     "name": "stdout",
     "output_type": "stream",
     "text": [
      "- Taille initiale : 58.06 MB\n",
      "- Taille actuelle : 28.04 MB \n",
      "- La taille du fichier a été réduite de  51.71 % \n"
     ]
    }
   ],
   "source": [
    "size = round(getsizeof(data_photos)/1024.0**2,2)\n",
    "print(f\"- Taille initiale : {size_i} MB\\n- Taille actuelle : {size} MB \\n- La taille du fichier a été réduite de  {round((1- size/size_i)*100,2)} % \")"
   ]
  },
  {
   "cell_type": "code",
   "execution_count": 32,
   "id": "17badb3f-f7e5-48bb-9941-0c359d7fa86a",
   "metadata": {},
   "outputs": [
    {
     "data": {
      "text/html": [
       "<div>\n",
       "<style scoped>\n",
       "    .dataframe tbody tr th:only-of-type {\n",
       "        vertical-align: middle;\n",
       "    }\n",
       "\n",
       "    .dataframe tbody tr th {\n",
       "        vertical-align: top;\n",
       "    }\n",
       "\n",
       "    .dataframe thead th {\n",
       "        text-align: right;\n",
       "    }\n",
       "</style>\n",
       "<table border=\"1\" class=\"dataframe\">\n",
       "  <thead>\n",
       "    <tr style=\"text-align: right;\">\n",
       "      <th></th>\n",
       "      <th>label</th>\n",
       "      <th>photo_id</th>\n",
       "    </tr>\n",
       "  </thead>\n",
       "  <tbody>\n",
       "    <tr>\n",
       "      <th>0</th>\n",
       "      <td>b'inside'</td>\n",
       "      <td>b'zsvj7vloL4L5jhYyPIuVwg'</td>\n",
       "    </tr>\n",
       "    <tr>\n",
       "      <th>1</th>\n",
       "      <td>b'outside'</td>\n",
       "      <td>b'HCUdRJHHm_e0OCTlZetGLg'</td>\n",
       "    </tr>\n",
       "    <tr>\n",
       "      <th>2</th>\n",
       "      <td>b'drink'</td>\n",
       "      <td>b'vkr8T0scuJmGVvN2HJelEA'</td>\n",
       "    </tr>\n",
       "    <tr>\n",
       "      <th>3</th>\n",
       "      <td>b'food'</td>\n",
       "      <td>b'pve7D6NUrafHW3EAORubyw'</td>\n",
       "    </tr>\n",
       "    <tr>\n",
       "      <th>4</th>\n",
       "      <td>b'food'</td>\n",
       "      <td>b'H52Er-uBg6rNrHcReWTD2w'</td>\n",
       "    </tr>\n",
       "    <tr>\n",
       "      <th>...</th>\n",
       "      <td>...</td>\n",
       "      <td>...</td>\n",
       "    </tr>\n",
       "    <tr>\n",
       "      <th>200095</th>\n",
       "      <td>b'food'</td>\n",
       "      <td>b'4Zia9NkAfQNjMfcIDhwJ-g'</td>\n",
       "    </tr>\n",
       "    <tr>\n",
       "      <th>200096</th>\n",
       "      <td>b'inside'</td>\n",
       "      <td>b'KB96KRZRhRm8hUkI-OpGEA'</td>\n",
       "    </tr>\n",
       "    <tr>\n",
       "      <th>200097</th>\n",
       "      <td>b'food'</td>\n",
       "      <td>b'Klmojvaf2_2dP1XKzTsFmQ'</td>\n",
       "    </tr>\n",
       "    <tr>\n",
       "      <th>200098</th>\n",
       "      <td>b'drink'</td>\n",
       "      <td>b'FNEiq7Mogec7t31OaU5juw'</td>\n",
       "    </tr>\n",
       "    <tr>\n",
       "      <th>200099</th>\n",
       "      <td>b'food'</td>\n",
       "      <td>b'NHEtLh7APk7Yssjo0h45VA'</td>\n",
       "    </tr>\n",
       "  </tbody>\n",
       "</table>\n",
       "<p>200100 rows × 2 columns</p>\n",
       "</div>"
      ],
      "text/plain": [
       "             label                   photo_id\n",
       "0        b'inside'  b'zsvj7vloL4L5jhYyPIuVwg'\n",
       "1       b'outside'  b'HCUdRJHHm_e0OCTlZetGLg'\n",
       "2         b'drink'  b'vkr8T0scuJmGVvN2HJelEA'\n",
       "3          b'food'  b'pve7D6NUrafHW3EAORubyw'\n",
       "4          b'food'  b'H52Er-uBg6rNrHcReWTD2w'\n",
       "...            ...                        ...\n",
       "200095     b'food'  b'4Zia9NkAfQNjMfcIDhwJ-g'\n",
       "200096   b'inside'  b'KB96KRZRhRm8hUkI-OpGEA'\n",
       "200097     b'food'  b'Klmojvaf2_2dP1XKzTsFmQ'\n",
       "200098    b'drink'  b'FNEiq7Mogec7t31OaU5juw'\n",
       "200099     b'food'  b'NHEtLh7APk7Yssjo0h45VA'\n",
       "\n",
       "[200100 rows x 2 columns]"
      ]
     },
     "execution_count": 32,
     "metadata": {},
     "output_type": "execute_result"
    }
   ],
   "source": [
    "data_photos"
   ]
  },
  {
   "cell_type": "markdown",
   "id": "1939fa22-3bf5-4a86-bac3-6cf314ca1c48",
   "metadata": {},
   "source": [
    "# <strong> C.2.2 - Reformatage des variables `Str` </strong>"
   ]
  },
  {
   "cell_type": "code",
   "execution_count": 33,
   "id": "741bc6a0-15cf-442b-988c-536e80a38863",
   "metadata": {},
   "outputs": [],
   "source": [
    "data_photos = bytes_to_str(data_photos, [\"label\",\"photo_id\"])"
   ]
  },
  {
   "cell_type": "code",
   "execution_count": 34,
   "id": "3af20f97-3dd3-42fa-b7c2-3eef0a2d4af6",
   "metadata": {},
   "outputs": [],
   "source": [
    "data_photos.photo_id = data_photos.photo_id.apply(  lambda x : x+\".jpg\")"
   ]
  },
  {
   "cell_type": "code",
   "execution_count": 35,
   "id": "e53da5d8-e75a-4f04-98b9-d1e96fecdf3b",
   "metadata": {},
   "outputs": [
    {
     "data": {
      "text/html": [
       "<div>\n",
       "<style scoped>\n",
       "    .dataframe tbody tr th:only-of-type {\n",
       "        vertical-align: middle;\n",
       "    }\n",
       "\n",
       "    .dataframe tbody tr th {\n",
       "        vertical-align: top;\n",
       "    }\n",
       "\n",
       "    .dataframe thead th {\n",
       "        text-align: right;\n",
       "    }\n",
       "</style>\n",
       "<table border=\"1\" class=\"dataframe\">\n",
       "  <thead>\n",
       "    <tr style=\"text-align: right;\">\n",
       "      <th></th>\n",
       "      <th>label</th>\n",
       "      <th>photo_id</th>\n",
       "    </tr>\n",
       "  </thead>\n",
       "  <tbody>\n",
       "    <tr>\n",
       "      <th>0</th>\n",
       "      <td>inside</td>\n",
       "      <td>zsvj7vloL4L5jhYyPIuVwg.jpg</td>\n",
       "    </tr>\n",
       "    <tr>\n",
       "      <th>1</th>\n",
       "      <td>outside</td>\n",
       "      <td>HCUdRJHHm_e0OCTlZetGLg.jpg</td>\n",
       "    </tr>\n",
       "    <tr>\n",
       "      <th>2</th>\n",
       "      <td>drink</td>\n",
       "      <td>vkr8T0scuJmGVvN2HJelEA.jpg</td>\n",
       "    </tr>\n",
       "    <tr>\n",
       "      <th>3</th>\n",
       "      <td>food</td>\n",
       "      <td>pve7D6NUrafHW3EAORubyw.jpg</td>\n",
       "    </tr>\n",
       "    <tr>\n",
       "      <th>4</th>\n",
       "      <td>food</td>\n",
       "      <td>H52Er-uBg6rNrHcReWTD2w.jpg</td>\n",
       "    </tr>\n",
       "    <tr>\n",
       "      <th>...</th>\n",
       "      <td>...</td>\n",
       "      <td>...</td>\n",
       "    </tr>\n",
       "    <tr>\n",
       "      <th>200095</th>\n",
       "      <td>food</td>\n",
       "      <td>4Zia9NkAfQNjMfcIDhwJ-g.jpg</td>\n",
       "    </tr>\n",
       "    <tr>\n",
       "      <th>200096</th>\n",
       "      <td>inside</td>\n",
       "      <td>KB96KRZRhRm8hUkI-OpGEA.jpg</td>\n",
       "    </tr>\n",
       "    <tr>\n",
       "      <th>200097</th>\n",
       "      <td>food</td>\n",
       "      <td>Klmojvaf2_2dP1XKzTsFmQ.jpg</td>\n",
       "    </tr>\n",
       "    <tr>\n",
       "      <th>200098</th>\n",
       "      <td>drink</td>\n",
       "      <td>FNEiq7Mogec7t31OaU5juw.jpg</td>\n",
       "    </tr>\n",
       "    <tr>\n",
       "      <th>200099</th>\n",
       "      <td>food</td>\n",
       "      <td>NHEtLh7APk7Yssjo0h45VA.jpg</td>\n",
       "    </tr>\n",
       "  </tbody>\n",
       "</table>\n",
       "<p>200100 rows × 2 columns</p>\n",
       "</div>"
      ],
      "text/plain": [
       "          label                    photo_id\n",
       "0        inside  zsvj7vloL4L5jhYyPIuVwg.jpg\n",
       "1       outside  HCUdRJHHm_e0OCTlZetGLg.jpg\n",
       "2         drink  vkr8T0scuJmGVvN2HJelEA.jpg\n",
       "3          food  pve7D6NUrafHW3EAORubyw.jpg\n",
       "4          food  H52Er-uBg6rNrHcReWTD2w.jpg\n",
       "...         ...                         ...\n",
       "200095     food  4Zia9NkAfQNjMfcIDhwJ-g.jpg\n",
       "200096   inside  KB96KRZRhRm8hUkI-OpGEA.jpg\n",
       "200097     food  Klmojvaf2_2dP1XKzTsFmQ.jpg\n",
       "200098    drink  FNEiq7Mogec7t31OaU5juw.jpg\n",
       "200099     food  NHEtLh7APk7Yssjo0h45VA.jpg\n",
       "\n",
       "[200100 rows x 2 columns]"
      ]
     },
     "execution_count": 35,
     "metadata": {},
     "output_type": "execute_result"
    }
   ],
   "source": [
    "bytes_to_str(data_photos, [\"photo_id\"])\n",
    "data_photos"
   ]
  },
  {
   "cell_type": "markdown",
   "id": "26a953bc-9c76-4231-abb8-8a8e99e40faa",
   "metadata": {},
   "source": [
    "# <strong> C.2.3 - Conversion des label en catégories </strong>"
   ]
  },
  {
   "cell_type": "code",
   "execution_count": 36,
   "id": "3295a7c3-1ad7-498b-894b-d57d89ee6eb0",
   "metadata": {},
   "outputs": [],
   "source": [
    "data_photos.label = data_photos.label.astype(\"category\")"
   ]
  },
  {
   "cell_type": "code",
   "execution_count": 37,
   "id": "bc9ce8b2-bea0-4509-a709-d18f9c7c1a2b",
   "metadata": {},
   "outputs": [
    {
     "name": "stdout",
     "output_type": "stream",
     "text": [
      "- Taille initiale : 58.06 MB\n",
      "- Taille actuelle : 16.03 MB \n",
      "- La taille du fichier a été réduite de 72.39 % \n"
     ]
    }
   ],
   "source": [
    "size = round(getsizeof(data_photos)/1024.0**2,2)\n",
    "print(f\"- Taille initiale : {size_i} MB\\n- Taille actuelle : {size} MB \\n- La taille du fichier a été réduite de {round((1- size/size_i)*100,2)} % \")"
   ]
  },
  {
   "cell_type": "markdown",
   "id": "d337052f-81cd-4b7d-ba0e-e345497025af",
   "metadata": {},
   "source": [
    "# <strong> C.2.4 - Selection de 200 photos par categorie </strong>"
   ]
  },
  {
   "cell_type": "markdown",
   "id": "6fac8606-6145-44e1-938d-41367a7a4199",
   "metadata": {},
   "source": [
    "# <strong> C.2.5 - Sauvegarde de données </strong>"
   ]
  },
  {
   "cell_type": "code",
   "execution_count": 38,
   "id": "e6edfc5c-d6b9-4041-a724-6c10afc9c6f0",
   "metadata": {},
   "outputs": [],
   "source": [
    "data_photos.to_csv( \"photos_leger.csv\" , index = False)"
   ]
  },
  {
   "cell_type": "code",
   "execution_count": null,
   "id": "3969181c-12de-486a-a093-4dee0d9ba5bd",
   "metadata": {},
   "outputs": [],
   "source": []
  }
 ],
 "metadata": {
  "kernelspec": {
   "display_name": "Python 3 (ipykernel)",
   "language": "python",
   "name": "python3"
  },
  "language_info": {
   "codemirror_mode": {
    "name": "ipython",
    "version": 3
   },
   "file_extension": ".py",
   "mimetype": "text/x-python",
   "name": "python",
   "nbconvert_exporter": "python",
   "pygments_lexer": "ipython3",
   "version": "3.10.4"
  },
  "widgets": {
   "application/vnd.jupyter.widget-state+json": {
    "state": {},
    "version_major": 2,
    "version_minor": 0
   }
  }
 },
 "nbformat": 4,
 "nbformat_minor": 5
}
