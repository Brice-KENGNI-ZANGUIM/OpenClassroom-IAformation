{
 "cells": [
  {
   "cell_type": "markdown",
   "id": "d57456fe",
   "metadata": {},
   "source": [
    "#  <font color=green> <center> <u>  FORMATION INGENIEUR IA  </u> - OpenClassroom </center> </font> \n",
    "---\n",
    "### <font color=blue> Projet 2 - <u> Participez à un concours sur la Smart City </u>  </font>\n",
    "   L'objectif de ce projet est **d'utiliser un jeux de donnés recensement des arbres de la ville de Paris** pour en faire une **analyse descriptive univarié** sur des variables aléatoires présentes dans les données. Le jeux de donnée utilisé dans le cadre de ce projet est accéssible accéssible sur [ce site](https://opendata.paris.fr/explore/dataset/les-arbres/map/?dataChart=eyJxdWVyaWVzIjpbeyJjb25maWciOnsiZGF0YXNldCI6Imxlcy1hcmJyZXMiLCJvcHRpb25zIjp7fX0sImNoYXJ0cyI6W3siYWxpZ25Nb250aCI6dHJ1ZSwidHlwZSI6ImNvbHVtbiIsImZ1bmMiOiJBVkciLCJ5QXhpcyI6ImlkYmFzZSIsInNjaWVudGlmaWNEaXNwbGF5Ijp0cnVlLCJjb2xvciI6IiMwMDMzNjYifV0sInhBeGlzIjoidHlwZWVtcGxhY2VtZW50IiwibWF4cG9pbnRzIjo1MCwic29ydCI6IiJ9XSwidGltZXNjYWxlIjoiIiwiZGlzcGxheUxlZ2VuZCI6dHJ1ZSwiYWxpZ25Nb250aCI6dHJ1ZX0%3D&disjunctive.typeemplacement&disjunctive.arrondissement&disjunctive.libellefrancais&disjunctive.genre&disjunctive.espece&disjunctive.varieteoucultivar&disjunctive.stadedeveloppement&disjunctive.remarquable&location=13,48.86844,2.30945&basemap=jawg.streets)\n",
    "\n"
   ]
  },
  {
   "cell_type": "markdown",
   "id": "09b94b43",
   "metadata": {},
   "source": [
    "---\n",
    "\n",
    "# SOMMAIRE :\n",
    "---\n",
    "\n",
    "###  <a href=\"#A1\">Partie 1 : A la découverte des données </a>\n",
    "\n",
    "\n",
    "   - <a href=\"#A2\"> Importation des modules Python  </a>\n",
    "   \n",
    "   \n",
    "   - <a href=\"#A3\">Importation des données </a>\n",
    "   \n",
    "   \n",
    "   - <a href=\"#A4\">Caractéristiques des données </a>\n",
    "\n",
    "### <a href=\"#B1\">Partie 2 : Néttoyage des données</a>\n",
    "\n",
    "\n",
    "   - <a href=\"#B2\">Strategie de traitement de données </a>\n",
    "   \n",
    "   \n",
    "   - <a href=\"#B3\">Analyse du type de chaque paramètres</a>\n",
    "   \n",
    "   \n",
    "   - <a href=\"#B4\">Recherche de valeurs manquantes</a>\n",
    "   \n",
    "   \n",
    "   - <a href=\"#B5\">Recherche de doublons</a>\n",
    "   \n",
    "   \n",
    "   - <a href=\"#B6\">Recherche d'outlier</a>\n",
    "\n",
    " \n",
    "### <a href=\"#C1\">partie 3 : Analyse univariée</a>\n",
    "   - <a href=\"#C2\">Les Arrondissements de Paris et ses arbres </a>\n",
    "   \n",
    "   \n",
    "   - <a href=\"#C3\">Sur l'étude des domaines abritant les arbres </a>\n",
    "   \n",
    "   \n",
    "   - <a href=\"#C6\"> Critères d'outliers </a>\n",
    "   \n",
    "   \n",
    "   - <a href=\"#C4\">Sur l'étude de la circonference des arbres </a>\n",
    "   \n",
    "   \n",
    "   - <a href=\"#C5\"> Sur l'étude de la Hauteur des arbres </a>\n",
    "---\n",
    "---"
   ]
  },
  {
   "cell_type": "markdown",
   "id": "6827f0c7",
   "metadata": {},
   "source": [
    "<div class=\"alert alert-block alert-success\">\n",
    "\n",
    "---\n",
    "#  <a name=\"A1\"> <center> <font color=brown>  I - <u> A la découverte des données </u>   </font> </center></a> \n",
    "\n",
    "\n",
    "</div>\n"
   ]
  },
  {
   "cell_type": "markdown",
   "id": "25665a52",
   "metadata": {},
   "source": [
    "<div class=\"alert alert-block alert-info\">\n",
    "    \n",
    "   \n",
    "> ##  <a name=\"A2\"><font color=brown> I . 1 - <u>   Importation des modules Python </u> </font></a>    \n",
    "___     \n",
    "</div>"
   ]
  },
  {
   "cell_type": "code",
   "execution_count": 1,
   "id": "4af21c42",
   "metadata": {},
   "outputs": [],
   "source": [
    "import numpy as np\n",
    "import pandas as pd\n",
    "import matplotlib.pyplot as plt"
   ]
  },
  {
   "cell_type": "markdown",
   "id": "dea623b3",
   "metadata": {},
   "source": [
    "<div class =\"alert alert-block alert-info\">\n",
    "\n",
    "\n",
    "> ## <a name=\"A3\"><font color=brown> <u>Importation des données dans un DataFrame Pandas</u> </font>\n",
    "___\n",
    "\n",
    "</div>"
   ]
  },
  {
   "cell_type": "code",
   "execution_count": 2,
   "id": "f79a3f89",
   "metadata": {},
   "outputs": [],
   "source": [
    "arbres_0 = pd.read_csv('les-arbres.csv' , sep = ';')\n",
    "arbres = arbres_0.copy()"
   ]
  },
  {
   "cell_type": "code",
   "execution_count": 3,
   "id": "77a28300",
   "metadata": {},
   "outputs": [
    {
     "data": {
      "text/html": [
       "<div>\n",
       "<style scoped>\n",
       "    .dataframe tbody tr th:only-of-type {\n",
       "        vertical-align: middle;\n",
       "    }\n",
       "\n",
       "    .dataframe tbody tr th {\n",
       "        vertical-align: top;\n",
       "    }\n",
       "\n",
       "    .dataframe thead th {\n",
       "        text-align: right;\n",
       "    }\n",
       "</style>\n",
       "<table border=\"1\" class=\"dataframe\">\n",
       "  <thead>\n",
       "    <tr style=\"text-align: right;\">\n",
       "      <th></th>\n",
       "      <th>IDBASE</th>\n",
       "      <th>TYPE EMPLACEMENT</th>\n",
       "      <th>DOMANIALITE</th>\n",
       "      <th>ARRONDISSEMENT</th>\n",
       "      <th>COMPLEMENT ADRESSE</th>\n",
       "      <th>NUMERO</th>\n",
       "      <th>LIEU / ADRESSE</th>\n",
       "      <th>IDEMPLACEMENT</th>\n",
       "      <th>LIBELLE FRANCAIS</th>\n",
       "      <th>GENRE</th>\n",
       "      <th>ESPECE</th>\n",
       "      <th>VARIETE OUCULTIVAR</th>\n",
       "      <th>CIRCONFERENCE (cm)</th>\n",
       "      <th>HAUTEUR (m)</th>\n",
       "      <th>STADE DE DEVELOPPEMENT</th>\n",
       "      <th>REMARQUABLE</th>\n",
       "      <th>geo_point_2d</th>\n",
       "    </tr>\n",
       "  </thead>\n",
       "  <tbody>\n",
       "    <tr>\n",
       "      <th>203957</th>\n",
       "      <td>168633</td>\n",
       "      <td>Arbre</td>\n",
       "      <td>CIMETIERE</td>\n",
       "      <td>VAL-DE-MARNE</td>\n",
       "      <td>NaN</td>\n",
       "      <td>NaN</td>\n",
       "      <td>CIMETIERE DE THIAIS / AVENUE PRINCIPALE SUD / ...</td>\n",
       "      <td>A14200020006</td>\n",
       "      <td>Tilleul</td>\n",
       "      <td>Tilia</td>\n",
       "      <td>cordata</td>\n",
       "      <td>NaN</td>\n",
       "      <td>0</td>\n",
       "      <td>0</td>\n",
       "      <td>NaN</td>\n",
       "      <td>NaN</td>\n",
       "      <td>48.763731023515184,2.371353312118119</td>\n",
       "    </tr>\n",
       "    <tr>\n",
       "      <th>203958</th>\n",
       "      <td>278930</td>\n",
       "      <td>Arbre</td>\n",
       "      <td>Alignement</td>\n",
       "      <td>PARIS 13E ARRDT</td>\n",
       "      <td>NaN</td>\n",
       "      <td>NaN</td>\n",
       "      <td>AVENUE DE LA PORTE D ITALIE</td>\n",
       "      <td>000305001</td>\n",
       "      <td>Tilleul</td>\n",
       "      <td>Tilia</td>\n",
       "      <td>tomentosa</td>\n",
       "      <td>NaN</td>\n",
       "      <td>110</td>\n",
       "      <td>12</td>\n",
       "      <td>Adulte</td>\n",
       "      <td>NON</td>\n",
       "      <td>48.817982051372816,2.360243150687402</td>\n",
       "    </tr>\n",
       "    <tr>\n",
       "      <th>203959</th>\n",
       "      <td>2034818</td>\n",
       "      <td>Arbre</td>\n",
       "      <td>Jardin</td>\n",
       "      <td>PARIS 18E ARRDT</td>\n",
       "      <td>NaN</td>\n",
       "      <td>NaN</td>\n",
       "      <td>SQUARE DU 21 AVRIL 1944 / ALLEE LYDIA BECKER</td>\n",
       "      <td>000102011</td>\n",
       "      <td>Erable</td>\n",
       "      <td>Acer</td>\n",
       "      <td>campestre</td>\n",
       "      <td>''Huibers Elegant''</td>\n",
       "      <td>20</td>\n",
       "      <td>3</td>\n",
       "      <td>Jeune (arbre)</td>\n",
       "      <td>NON</td>\n",
       "      <td>48.8968111196284,2.3572328420365682</td>\n",
       "    </tr>\n",
       "  </tbody>\n",
       "</table>\n",
       "</div>"
      ],
      "text/plain": [
       "         IDBASE TYPE EMPLACEMENT DOMANIALITE   ARRONDISSEMENT  \\\n",
       "203957   168633            Arbre   CIMETIERE     VAL-DE-MARNE   \n",
       "203958   278930            Arbre  Alignement  PARIS 13E ARRDT   \n",
       "203959  2034818            Arbre      Jardin  PARIS 18E ARRDT   \n",
       "\n",
       "       COMPLEMENT ADRESSE  NUMERO  \\\n",
       "203957                NaN     NaN   \n",
       "203958                NaN     NaN   \n",
       "203959                NaN     NaN   \n",
       "\n",
       "                                           LIEU / ADRESSE IDEMPLACEMENT  \\\n",
       "203957  CIMETIERE DE THIAIS / AVENUE PRINCIPALE SUD / ...  A14200020006   \n",
       "203958                        AVENUE DE LA PORTE D ITALIE     000305001   \n",
       "203959       SQUARE DU 21 AVRIL 1944 / ALLEE LYDIA BECKER     000102011   \n",
       "\n",
       "       LIBELLE FRANCAIS  GENRE     ESPECE   VARIETE OUCULTIVAR  \\\n",
       "203957          Tilleul  Tilia    cordata                  NaN   \n",
       "203958          Tilleul  Tilia  tomentosa                  NaN   \n",
       "203959           Erable   Acer  campestre  ''Huibers Elegant''   \n",
       "\n",
       "        CIRCONFERENCE (cm)  HAUTEUR (m) STADE DE DEVELOPPEMENT REMARQUABLE  \\\n",
       "203957                   0            0                    NaN         NaN   \n",
       "203958                 110           12                 Adulte         NON   \n",
       "203959                  20            3          Jeune (arbre)         NON   \n",
       "\n",
       "                                geo_point_2d  \n",
       "203957  48.763731023515184,2.371353312118119  \n",
       "203958  48.817982051372816,2.360243150687402  \n",
       "203959   48.8968111196284,2.3572328420365682  "
      ]
     },
     "execution_count": 3,
     "metadata": {},
     "output_type": "execute_result"
    }
   ],
   "source": [
    "arbres.tail(3)"
   ]
  },
  {
   "cell_type": "markdown",
   "id": "64141d81",
   "metadata": {},
   "source": [
    "Le simple fait de pouvoir afficher les 05 dernières lignes du fichier de donné signifie que **l'importation des donnée s'est bien passée.** "
   ]
  },
  {
   "cell_type": "markdown",
   "id": "6ba7e519",
   "metadata": {},
   "source": [
    "<div class =\"alert alert-block alert-info\">\n",
    "\n",
    "> ## <a name=\"A4\"><font color=brown>I . 2 - <u>Caractéristiques des données </u> </font></a>\n",
    "***\n",
    "\n",
    "</div>"
   ]
  },
  {
   "cell_type": "code",
   "execution_count": 4,
   "id": "073f48dc",
   "metadata": {
    "scrolled": true
   },
   "outputs": [
    {
     "data": {
      "text/plain": [
       "(203960, 17)"
      ]
     },
     "execution_count": 4,
     "metadata": {},
     "output_type": "execute_result"
    }
   ],
   "source": [
    "arbres.shape"
   ]
  },
  {
   "cell_type": "markdown",
   "id": "a93abfa7",
   "metadata": {},
   "source": [
    "A l'aide de **l'attribut ``shape``** on peut constater que notre jeux de donnée contient  **203960  lignes et 17 colonnes soit 203960 arbres différents et 17 paramètres** ( Variables Aléatoires ) spécifiés  pour chacun des arbres.\n",
    "    \n",
    "</font>\n",
    "<div class=\"alert alert_block alert-warning\">\n",
    "    \n",
    "    \n",
    "#### <font color=red> <u>ATTENTION </u> </font> : Les données présentes sur [le site Open Data de la ville de Paris](https://opendata.paris.fr/explore/dataset/les-arbres/table/?disjunctive.typeemplacement&disjunctive.arrondissement&disjunctive.libellefrancais&disjunctive.genre&disjunctive.espece&disjunctive.varieteoucultivar&disjunctive.stadedeveloppement&disjunctive.remarquable&sort=espece&dataChart=eyJxdWVyaWVzIjpbeyJjb25maWciOnsiZGF0YXNldCI6Imxlcy1hcmJyZXMiLCJvcHRpb25zIjp7ImRpc2p1bmN0aXZlLnR5cGVlbXBsYWNlbWVudCI6dHJ1ZSwiZGlzanVuY3RpdmUuYXJyb25kaXNzZW1lbnQiOnRydWUsImRpc2p1bmN0aXZlLmxpYmVsbGVmcmFuY2FpcyI6dHJ1ZSwiZGlzanVuY3RpdmUuZ2VucmUiOnRydWUsImRpc2p1bmN0aXZlLmVzcGVjZSI6dHJ1ZSwiZGlzanVuY3RpdmUudmFyaWV0ZW91Y3VsdGl2YXIiOnRydWUsImRpc2p1bmN0aXZlLnN0YWRlZGV2ZWxvcHBlbWVudCI6dHJ1ZSwiZGlzanVuY3RpdmUucmVtYXJxdWFibGUiOnRydWUsImxvY2F0aW9uIjoiMTMsNDguODY4NDQsMi4zMDk0NSIsImJhc2VtYXAiOiJqYXdnLnN0cmVldHMifX0sImNoYXJ0cyI6W3siYWxpZ25Nb250aCI6dHJ1ZSwidHlwZSI6ImFyZWFzcGxpbmUiLCJmdW5jIjoiQ09OU1RBTlQiLCJ5QXhpcyI6ImlkYmFzZSIsInNjaWVudGlmaWNEaXNwbGF5Ijp0cnVlLCJjb2xvciI6InJhbmdlLWN1c3RvbSJ9XSwieEF4aXMiOiJsaWJlbGxlZnJhbmNhaXMiLCJtYXhwb2ludHMiOjEwMCwic29ydCI6IiIsInNlcmllc0JyZWFrZG93biI6InR5cGVlbXBsYWNlbWVudCIsInN0YWNrZWQiOiJub3JtYWwifV0sInRpbWVzY2FsZSI6IiIsImRpc3BsYXlMZWdlbmQiOnRydWUsImFsaWduTW9udGgiOnRydWV9&location=13,48.86844,2.30945&basemap=jawg.streets) sont continuellement mise à jour et peuvent donc contenir plus de données qu'on n'en a dans notre jeux de donnée actuel. Le jeux de données utilisé ici est daté du 01 Janvier 2022 à 00 h 30min\n",
    "\n",
    "</div>"
   ]
  },
  {
   "cell_type": "code",
   "execution_count": 5,
   "id": "7c87822a",
   "metadata": {},
   "outputs": [
    {
     "data": {
      "text/plain": [
       "array(['IDBASE', 'TYPE EMPLACEMENT', 'DOMANIALITE', 'ARRONDISSEMENT',\n",
       "       'COMPLEMENT ADRESSE', 'NUMERO', 'LIEU / ADRESSE', 'IDEMPLACEMENT',\n",
       "       'LIBELLE FRANCAIS', 'GENRE', 'ESPECE', 'VARIETE OUCULTIVAR',\n",
       "       'CIRCONFERENCE (cm)', 'HAUTEUR (m)', 'STADE DE DEVELOPPEMENT',\n",
       "       'REMARQUABLE', 'geo_point_2d'], dtype=object)"
      ]
     },
     "execution_count": 5,
     "metadata": {},
     "output_type": "execute_result"
    }
   ],
   "source": [
    "np.array(arbres.columns)"
   ]
  },
  {
   "cell_type": "code",
   "execution_count": 6,
   "id": "e5603b2d",
   "metadata": {},
   "outputs": [
    {
     "name": "stdout",
     "output_type": "stream",
     "text": [
      "<class 'pandas.core.frame.DataFrame'>\n",
      "RangeIndex: 203960 entries, 0 to 203959\n",
      "Data columns (total 17 columns):\n",
      " #   Column                  Non-Null Count   Dtype  \n",
      "---  ------                  --------------   -----  \n",
      " 0   IDBASE                  203960 non-null  int64  \n",
      " 1   TYPE EMPLACEMENT        203960 non-null  object \n",
      " 2   DOMANIALITE             203960 non-null  object \n",
      " 3   ARRONDISSEMENT          203960 non-null  object \n",
      " 4   COMPLEMENT ADRESSE      43635 non-null   object \n",
      " 5   NUMERO                  0 non-null       float64\n",
      " 6   LIEU / ADRESSE          203960 non-null  object \n",
      " 7   IDEMPLACEMENT           203960 non-null  object \n",
      " 8   LIBELLE FRANCAIS        203126 non-null  object \n",
      " 9   GENRE                   203960 non-null  object \n",
      " 10  ESPECE                  201815 non-null  object \n",
      " 11  VARIETE OUCULTIVAR      38261 non-null   object \n",
      " 12  CIRCONFERENCE (cm)      203960 non-null  int64  \n",
      " 13  HAUTEUR (m)             203960 non-null  int64  \n",
      " 14  STADE DE DEVELOPPEMENT  155175 non-null  object \n",
      " 15  REMARQUABLE             175993 non-null  object \n",
      " 16  geo_point_2d            203960 non-null  object \n",
      "dtypes: float64(1), int64(3), object(13)\n",
      "memory usage: 26.5+ MB\n"
     ]
    }
   ],
   "source": [
    "arbres.info()"
   ]
  },
  {
   "cell_type": "code",
   "execution_count": 7,
   "id": "0126aafa",
   "metadata": {},
   "outputs": [
    {
     "data": {
      "text/html": [
       "<div>\n",
       "<style scoped>\n",
       "    .dataframe tbody tr th:only-of-type {\n",
       "        vertical-align: middle;\n",
       "    }\n",
       "\n",
       "    .dataframe tbody tr th {\n",
       "        vertical-align: top;\n",
       "    }\n",
       "\n",
       "    .dataframe thead th {\n",
       "        text-align: right;\n",
       "    }\n",
       "</style>\n",
       "<table border=\"1\" class=\"dataframe\">\n",
       "  <thead>\n",
       "    <tr style=\"text-align: right;\">\n",
       "      <th></th>\n",
       "      <th>IDBASE</th>\n",
       "      <th>NUMERO</th>\n",
       "      <th>CIRCONFERENCE (cm)</th>\n",
       "      <th>HAUTEUR (m)</th>\n",
       "    </tr>\n",
       "  </thead>\n",
       "  <tbody>\n",
       "    <tr>\n",
       "      <th>count</th>\n",
       "      <td>2.039600e+05</td>\n",
       "      <td>0.0</td>\n",
       "      <td>203960.000000</td>\n",
       "      <td>203960.000000</td>\n",
       "    </tr>\n",
       "    <tr>\n",
       "      <th>mean</th>\n",
       "      <td>4.613575e+05</td>\n",
       "      <td>NaN</td>\n",
       "      <td>81.062532</td>\n",
       "      <td>8.770249</td>\n",
       "    </tr>\n",
       "    <tr>\n",
       "      <th>std</th>\n",
       "      <td>6.321338e+05</td>\n",
       "      <td>NaN</td>\n",
       "      <td>62.903450</td>\n",
       "      <td>5.976547</td>\n",
       "    </tr>\n",
       "    <tr>\n",
       "      <th>min</th>\n",
       "      <td>9.987400e+04</td>\n",
       "      <td>NaN</td>\n",
       "      <td>0.000000</td>\n",
       "      <td>0.000000</td>\n",
       "    </tr>\n",
       "    <tr>\n",
       "      <th>25%</th>\n",
       "      <td>1.589518e+05</td>\n",
       "      <td>NaN</td>\n",
       "      <td>32.000000</td>\n",
       "      <td>5.000000</td>\n",
       "    </tr>\n",
       "    <tr>\n",
       "      <th>50%</th>\n",
       "      <td>2.268225e+05</td>\n",
       "      <td>NaN</td>\n",
       "      <td>70.000000</td>\n",
       "      <td>8.000000</td>\n",
       "    </tr>\n",
       "    <tr>\n",
       "      <th>75%</th>\n",
       "      <td>2.815182e+05</td>\n",
       "      <td>NaN</td>\n",
       "      <td>115.000000</td>\n",
       "      <td>12.000000</td>\n",
       "    </tr>\n",
       "    <tr>\n",
       "      <th>max</th>\n",
       "      <td>2.035724e+06</td>\n",
       "      <td>NaN</td>\n",
       "      <td>1208.000000</td>\n",
       "      <td>180.000000</td>\n",
       "    </tr>\n",
       "  </tbody>\n",
       "</table>\n",
       "</div>"
      ],
      "text/plain": [
       "             IDBASE  NUMERO  CIRCONFERENCE (cm)    HAUTEUR (m)\n",
       "count  2.039600e+05     0.0       203960.000000  203960.000000\n",
       "mean   4.613575e+05     NaN           81.062532       8.770249\n",
       "std    6.321338e+05     NaN           62.903450       5.976547\n",
       "min    9.987400e+04     NaN            0.000000       0.000000\n",
       "25%    1.589518e+05     NaN           32.000000       5.000000\n",
       "50%    2.268225e+05     NaN           70.000000       8.000000\n",
       "75%    2.815182e+05     NaN          115.000000      12.000000\n",
       "max    2.035724e+06     NaN         1208.000000     180.000000"
      ]
     },
     "execution_count": 7,
     "metadata": {},
     "output_type": "execute_result"
    }
   ],
   "source": [
    "arbres.describe()"
   ]
  },
  {
   "cell_type": "markdown",
   "id": "40a19722",
   "metadata": {},
   "source": [
    "<div class =\"alert alert-block alert-success\">\n",
    "\n",
    "---\n",
    "# <a name=\"B1\"><center> <font color=brown>  II - <u> Néttoyage des données </u> </font> </center></a>\n",
    "---\n",
    "    \n",
    "</div>\n",
    "\n",
    "<div class =\"alert alert-block alert-info\">\n",
    "\n",
    "> ## <a name=\"B2\"><font color=brown> II . 1 - <u> Strategie de traitement de données </u> </font></a>\n",
    "\n",
    "</div>\n",
    "\n",
    "Avant de pouvoir continuer il est important de **faire quelques petites remarques** afin d'**illustrer ma strategie de traitement** de données. Ma remarque vient simplement  de l'observation des lignes numéro 33 et 203931 des données :"
   ]
  },
  {
   "cell_type": "code",
   "execution_count": 8,
   "id": "7eec6c05",
   "metadata": {
    "scrolled": true
   },
   "outputs": [
    {
     "data": {
      "text/html": [
       "<div>\n",
       "<style scoped>\n",
       "    .dataframe tbody tr th:only-of-type {\n",
       "        vertical-align: middle;\n",
       "    }\n",
       "\n",
       "    .dataframe tbody tr th {\n",
       "        vertical-align: top;\n",
       "    }\n",
       "\n",
       "    .dataframe thead th {\n",
       "        text-align: right;\n",
       "    }\n",
       "</style>\n",
       "<table border=\"1\" class=\"dataframe\">\n",
       "  <thead>\n",
       "    <tr style=\"text-align: right;\">\n",
       "      <th></th>\n",
       "      <th>IDBASE</th>\n",
       "      <th>TYPE EMPLACEMENT</th>\n",
       "      <th>DOMANIALITE</th>\n",
       "      <th>ARRONDISSEMENT</th>\n",
       "      <th>COMPLEMENT ADRESSE</th>\n",
       "      <th>NUMERO</th>\n",
       "      <th>LIEU / ADRESSE</th>\n",
       "      <th>IDEMPLACEMENT</th>\n",
       "      <th>LIBELLE FRANCAIS</th>\n",
       "      <th>GENRE</th>\n",
       "      <th>ESPECE</th>\n",
       "      <th>VARIETE OUCULTIVAR</th>\n",
       "      <th>CIRCONFERENCE (cm)</th>\n",
       "      <th>HAUTEUR (m)</th>\n",
       "      <th>STADE DE DEVELOPPEMENT</th>\n",
       "      <th>REMARQUABLE</th>\n",
       "      <th>geo_point_2d</th>\n",
       "    </tr>\n",
       "  </thead>\n",
       "  <tbody>\n",
       "    <tr>\n",
       "      <th>33</th>\n",
       "      <td>114802</td>\n",
       "      <td>Arbre</td>\n",
       "      <td>Jardin</td>\n",
       "      <td>PARIS 11E ARRDT</td>\n",
       "      <td>NaN</td>\n",
       "      <td>NaN</td>\n",
       "      <td>JARDIN DE LA FOLIE TITON</td>\n",
       "      <td>00000045</td>\n",
       "      <td>Erable</td>\n",
       "      <td>Acer</td>\n",
       "      <td>rufinerve</td>\n",
       "      <td>NaN</td>\n",
       "      <td>0</td>\n",
       "      <td>4</td>\n",
       "      <td>NaN</td>\n",
       "      <td>NaN</td>\n",
       "      <td>48.852396894698025,2.385380341951511</td>\n",
       "    </tr>\n",
       "    <tr>\n",
       "      <th>203931</th>\n",
       "      <td>128786</td>\n",
       "      <td>Arbre</td>\n",
       "      <td>Jardin</td>\n",
       "      <td>PARIS 15E ARRDT</td>\n",
       "      <td>NaN</td>\n",
       "      <td>NaN</td>\n",
       "      <td>JARDIN DE L''ATLANTIQUE</td>\n",
       "      <td>00000179</td>\n",
       "      <td>Pin</td>\n",
       "      <td>Pinus</td>\n",
       "      <td>pinea</td>\n",
       "      <td>NaN</td>\n",
       "      <td>95</td>\n",
       "      <td>0</td>\n",
       "      <td>NaN</td>\n",
       "      <td>NaN</td>\n",
       "      <td>48.83934802982247,2.318852011505807</td>\n",
       "    </tr>\n",
       "  </tbody>\n",
       "</table>\n",
       "</div>"
      ],
      "text/plain": [
       "        IDBASE TYPE EMPLACEMENT DOMANIALITE   ARRONDISSEMENT  \\\n",
       "33      114802            Arbre      Jardin  PARIS 11E ARRDT   \n",
       "203931  128786            Arbre      Jardin  PARIS 15E ARRDT   \n",
       "\n",
       "       COMPLEMENT ADRESSE  NUMERO            LIEU / ADRESSE IDEMPLACEMENT  \\\n",
       "33                    NaN     NaN  JARDIN DE LA FOLIE TITON      00000045   \n",
       "203931                NaN     NaN   JARDIN DE L''ATLANTIQUE      00000179   \n",
       "\n",
       "       LIBELLE FRANCAIS  GENRE     ESPECE VARIETE OUCULTIVAR  \\\n",
       "33               Erable   Acer  rufinerve                NaN   \n",
       "203931              Pin  Pinus      pinea                NaN   \n",
       "\n",
       "        CIRCONFERENCE (cm)  HAUTEUR (m) STADE DE DEVELOPPEMENT REMARQUABLE  \\\n",
       "33                       0            4                    NaN         NaN   \n",
       "203931                  95            0                    NaN         NaN   \n",
       "\n",
       "                                geo_point_2d  \n",
       "33      48.852396894698025,2.385380341951511  \n",
       "203931   48.83934802982247,2.318852011505807  "
      ]
     },
     "execution_count": 8,
     "metadata": {},
     "output_type": "execute_result"
    }
   ],
   "source": [
    "arbres.iloc[[33,203931],:]"
   ]
  },
  {
   "cell_type": "markdown",
   "id": "2fe9ad5a",
   "metadata": {},
   "source": [
    "Sur la **ligne 33** on peut voire que **l'arbre possède une circonférence de 0 Cm**  et que **la variété de l'arbre n'est pas indiquée** non plus. A la **ligne 203931** on constate **une hauteur de 0 mètre** \n",
    "\n",
    "On pourrait être tenté de se dire qu'il suffit simplement de supprimer ces  lignes de nos données mais c'est sans oublier que les même lignes indiquent respectivement que :\n",
    "- il s'agit d'un arbre de l'espèce ``rufinerve`` genre ``Acer`` libelle ``Erable`` en langue française, est ``planté dans un jardin`` de l'``arrondissement de Paris 11 ième`` et ````mesure 4 mètres de haut``\n",
    "- il s'agit d'un arbre de l'espèce ``pinea\t`` genre ``Pinus`` libelle ``Pin`` en langue française, est ``planté dans un jardin`` de l'``arrondissement de Paris 15 ième`` et possède ``une circonférence de 95 Cm``\n",
    "\n",
    "Ainsi **ces informations sur les autres variables sont tout à fait pertinantes et acceptables pour une analyse et ne devraient pas être perdues** d'autant plus qu'**elles pourraient représenter une très grande proportion de lignes manquantes** comme on peut le voire avec les commandes ci-dessous où elles comptent pour au moins 10 % de données importantes non exploitées pour l'analyse statistique :"
   ]
  },
  {
   "cell_type": "code",
   "execution_count": 9,
   "id": "d89b8813",
   "metadata": {},
   "outputs": [
    {
     "data": {
      "text/plain": [
       "CIRCONFERENCE (cm)    10.110316\n",
       "HAUTEUR (m)           13.058933\n",
       "dtype: float64"
      ]
     },
     "execution_count": 9,
     "metadata": {},
     "output_type": "execute_result"
    }
   ],
   "source": [
    "(arbres[[\"CIRCONFERENCE (cm)\", \"HAUTEUR (m)\"]] == 0).mean()*100"
   ]
  },
  {
   "cell_type": "markdown",
   "id": "93d18401",
   "metadata": {},
   "source": [
    "On conclu donc que le fait de **supprimer des lignes du fait d'un manque de donnée sur une variable peu modifier la statistique des autres variables qui sont quant à elles très bien renseignées sur ces lignes là.**\n",
    "\n",
    "D'un autre côté, dans le cadre de ce projet il est simplement question de **faire une analyse univariée** des données. Ce qui signifie que **je peut traiter chaque variable indépendement des autres**. En particulier **si sur une ligne l'information sur une variable est manquante je peux tout de même utiliser les autres informations de la même ligne pour la statistique des autres variables**\n",
    "\n",
    "Au final tout ceci me pousse à **ma stratégie qui consistera à considérer chaque colonne indépendement et de ne traiter les valeurs problématiques que selon chaque colonne et pas selon les lignes.**"
   ]
  },
  {
   "cell_type": "markdown",
   "id": "659632da",
   "metadata": {},
   "source": [
    "<div class =\"alert alert-block alert-info\">\n",
    "\n",
    "> ## <a name=\"B3\"><font color=brown> II . 2 - <u> Analyse du type de chaque paramètres </u> </font></a>\n",
    "___\n",
    "\n",
    "</div>"
   ]
  },
  {
   "cell_type": "code",
   "execution_count": 10,
   "id": "b3c0ca95",
   "metadata": {},
   "outputs": [
    {
     "data": {
      "text/plain": [
       "IDBASE                      int64\n",
       "TYPE EMPLACEMENT           object\n",
       "DOMANIALITE                object\n",
       "ARRONDISSEMENT             object\n",
       "COMPLEMENT ADRESSE         object\n",
       "NUMERO                    float64\n",
       "LIEU / ADRESSE             object\n",
       "IDEMPLACEMENT              object\n",
       "LIBELLE FRANCAIS           object\n",
       "GENRE                      object\n",
       "ESPECE                     object\n",
       "VARIETE OUCULTIVAR         object\n",
       "CIRCONFERENCE (cm)          int64\n",
       "HAUTEUR (m)                 int64\n",
       "STADE DE DEVELOPPEMENT     object\n",
       "REMARQUABLE                object\n",
       "geo_point_2d               object\n",
       "dtype: object"
      ]
     },
     "execution_count": 10,
     "metadata": {},
     "output_type": "execute_result"
    }
   ],
   "source": [
    "arbres.dtypes"
   ]
  },
  {
   "cell_type": "markdown",
   "id": "a008eca6",
   "metadata": {},
   "source": [
    "### <font color=blue> Aucun problème de type observé : </font>\n",
    "On pourrait **s'attendre à ce que la hauteur des arbres soit une grandeur physique réelle donnée en mètres** et pourtant dans ce jeux de données elle est *spécifiée à valeur entier* car toutes les valeurs ne sont données qu'au mètre près, autrement dit les **valeurs observées ne sont pas à virgule flottantes.** On peut se convaincre que ce ne sont que des multiples entiers du mètre en regardant ces valeurs sur [le site Open Data de la Ville de Paris](https://opendata.paris.fr/explore/dataset/les-arbres/table/?dataChart=eyJxdWVyaWVzIjpbeyJjb25maWciOnsiZGF0YXNldCI6Imxlcy1hcmJyZXMiLCJvcHRpb25zIjp7fX0sImNoYXJ0cyI6W3siYWxpZ25Nb250aCI6dHJ1ZSwidHlwZSI6ImNvbHVtbiIsImZ1bmMiOiJBVkciLCJ5QXhpcyI6ImlkYmFzZSIsInNjaWVudGlmaWNEaXNwbGF5Ijp0cnVlLCJjb2xvciI6IiMwMDMzNjYifV0sInhBeGlzIjoidHlwZWVtcGxhY2VtZW50IiwibWF4cG9pbnRzIjo1MCwic29ydCI6IiJ9XSwidGltZXNjYWxlIjoiIiwiZGlzcGxheUxlZ2VuZCI6dHJ1ZSwiYWxpZ25Nb250aCI6dHJ1ZX0%3D&disjunctive.typeemplacement&disjunctive.arrondissement&disjunctive.libellefrancais&disjunctive.genre&disjunctive.espece&disjunctive.varieteoucultivar&disjunctive.stadedeveloppement&disjunctive.remarquable&location=13,48.86844,2.30945&basemap=jawg.streets)"
   ]
  },
  {
   "cell_type": "markdown",
   "id": "096597ce",
   "metadata": {},
   "source": [
    "<div class =\"alert alert-block alert-info\">\n",
    "\n",
    "> ## <a name=\"B4\"><font color=brown>  II . 3 - <u> Recherche de valeurs manquantes </u> </font></a>\n",
    "\n",
    "</div>\n",
    "\n",
    "******\n",
    "***Pour déterminer le nombre de valeurs manquantes dans chaque colonne :***\n",
    "- On utilise la fonction ``ìsnull()`` ou ``isna()`` sur notre DataFrame qui, pour chaque élément, renvoi `True` ou `False` selon que la valeur est manquante ou non\n",
    "- puis le résultat est transmis à la fonction `sum()` qui par defaut va se charger de compter toutes les valeurs manquantes  sur chaque colonne et donc pour chaque paramètres\n",
    "******"
   ]
  },
  {
   "cell_type": "code",
   "execution_count": 11,
   "id": "3b498874",
   "metadata": {},
   "outputs": [
    {
     "data": {
      "text/plain": [
       "IDBASE                         0\n",
       "TYPE EMPLACEMENT               0\n",
       "DOMANIALITE                    0\n",
       "ARRONDISSEMENT                 0\n",
       "COMPLEMENT ADRESSE        160325\n",
       "NUMERO                    203960\n",
       "LIEU / ADRESSE                 0\n",
       "IDEMPLACEMENT                  0\n",
       "LIBELLE FRANCAIS             834\n",
       "GENRE                          0\n",
       "ESPECE                      2145\n",
       "VARIETE OUCULTIVAR        165699\n",
       "CIRCONFERENCE (cm)             0\n",
       "HAUTEUR (m)                    0\n",
       "STADE DE DEVELOPPEMENT     48785\n",
       "REMARQUABLE                27967\n",
       "geo_point_2d                   0\n",
       "dtype: int64"
      ]
     },
     "execution_count": 11,
     "metadata": {},
     "output_type": "execute_result"
    }
   ],
   "source": [
    "arbres.isnull().sum()  # arbres.isna.sum() marche aussi "
   ]
  },
  {
   "cell_type": "markdown",
   "id": "d5f6e253",
   "metadata": {},
   "source": [
    "Il est plus pratique d'uliser la **méthode ``mean()``** permettant d'avoir les **proportions des valeurs manquantes** pour chaque paramètres\n",
    "___"
   ]
  },
  {
   "cell_type": "code",
   "execution_count": 12,
   "id": "949cbdd3",
   "metadata": {},
   "outputs": [
    {
     "data": {
      "text/plain": [
       "IDBASE                      0.000000\n",
       "TYPE EMPLACEMENT            0.000000\n",
       "DOMANIALITE                 0.000000\n",
       "ARRONDISSEMENT              0.000000\n",
       "COMPLEMENT ADRESSE         78.606099\n",
       "NUMERO                    100.000000\n",
       "LIEU / ADRESSE              0.000000\n",
       "IDEMPLACEMENT               0.000000\n",
       "LIBELLE FRANCAIS            0.408904\n",
       "GENRE                       0.000000\n",
       "ESPECE                      1.051677\n",
       "VARIETE OUCULTIVAR         81.240930\n",
       "CIRCONFERENCE (cm)          0.000000\n",
       "HAUTEUR (m)                 0.000000\n",
       "STADE DE DEVELOPPEMENT     23.918906\n",
       "REMARQUABLE                13.712002\n",
       "geo_point_2d                0.000000\n",
       "dtype: float64"
      ]
     },
     "execution_count": 12,
     "metadata": {},
     "output_type": "execute_result"
    }
   ],
   "source": [
    "arbres.isna().mean()*100"
   ]
  },
  {
   "cell_type": "markdown",
   "id": "62edc768",
   "metadata": {},
   "source": [
    "Ainsi Les colonnes :\n",
    "\n",
    "- ``COMPLEMENT ADRESSE``\n",
    "- ``NUMERO``\n",
    "- ``VARIETE OUCULTIVAR``\n",
    "\n",
    "sont constituées en grande majorité par des valeurs manquantes. je fais le choix de **m'en débarasser en utilisant la méthose ``drop()`` de la ``librairie Pandas``.** Je vais aussi me séparer des paramètres non nécessaires :\n",
    "\n",
    "- ``REMARQUABLE``\n",
    "- ``IDEMPLACEMENT``\n",
    "- ``LIEU / ADRESSE``"
   ]
  },
  {
   "cell_type": "code",
   "execution_count": 13,
   "id": "1460dd8f",
   "metadata": {},
   "outputs": [
    {
     "data": {
      "text/plain": [
       "IDBASE                     0.000000\n",
       "DOMANIALITE                0.000000\n",
       "ARRONDISSEMENT             0.000000\n",
       "LIBELLE FRANCAIS           0.408904\n",
       "GENRE                      0.000000\n",
       "ESPECE                     1.051677\n",
       "CIRCONFERENCE (cm)         0.000000\n",
       "HAUTEUR (m)                0.000000\n",
       "STADE DE DEVELOPPEMENT    23.918906\n",
       "geo_point_2d               0.000000\n",
       "dtype: float64"
      ]
     },
     "execution_count": 13,
     "metadata": {},
     "output_type": "execute_result"
    }
   ],
   "source": [
    "arbres=arbres.drop(['COMPLEMENT ADRESSE','NUMERO','VARIETE OUCULTIVAR','REMARQUABLE','IDEMPLACEMENT','LIEU / ADRESSE','TYPE EMPLACEMENT'],axis=1)\n",
    "arbres.isna().mean()*100"
   ]
  },
  {
   "cell_type": "markdown",
   "id": "04bc66c0",
   "metadata": {},
   "source": [
    "En ce qui concerne les autres variables/colonnes ayant des valeurs manquantes, lorsqu'il faudra en faire la statistique je pourrais extraires les données de la colonne en question tout en prenant le soin d'élliminer les données manquantes."
   ]
  },
  {
   "cell_type": "markdown",
   "id": "a247d82a",
   "metadata": {},
   "source": [
    "<div class =\"alert alert-block alert-info\">\n",
    "\n",
    "> ## <a name=\"B5\"><font color=brown> II . 4 -  <u> Recherche de doublons </u> </font></a>\n",
    "\n",
    "</div>\n",
    "\n",
    "La recherche de doublon dans un jeux de données s'éffectue **à l'aide de la methode ``duplicated()``** qui va retourner des **valeurs booléennes ``True`` ou ``False``.** A l'appel de la methode ``duplicated()`` il faut préciser une colonne qui servira de reférence pour la recherche de doublon.\n",
    "\n",
    "Dans le cas actuel **c'est la colonne ``IDBASE`` qui semble le meilleure candidate pour servir de reférence** et correspondant à un identifiant unique pour chaque arbre renseigné dans nos données"
   ]
  },
  {
   "cell_type": "code",
   "execution_count": 14,
   "id": "e9bbeb33",
   "metadata": {},
   "outputs": [
    {
     "name": "stdout",
     "output_type": "stream",
     "text": [
      "Nombre de doublons dans les données: 0\n"
     ]
    }
   ],
   "source": [
    "print(f\"Nombre de doublons dans les données: {arbres.duplicated('IDBASE' , keep=False).sum()}\")"
   ]
  },
  {
   "cell_type": "markdown",
   "id": "9f01d684",
   "metadata": {},
   "source": [
    "<font color=blue>**Aucun doublon n'est donc retrouvé dans nos données.** </font>\n",
    "\n",
    "Dans le doute **on pourrait tout de même se demander si la colonne ``geo_point_2d`` ne pourrait pas plutôt servir de colonne de reférence.** Une analyse plus poussée des doublons dans ce cas précis montre cependant que **ce n'est pas le cas,** nous confortant ainsi dans l'idée qu'**il n'y ait aucun doublon dans notre jeux de données.**"
   ]
  },
  {
   "cell_type": "code",
   "execution_count": 15,
   "id": "2a1549ed",
   "metadata": {},
   "outputs": [
    {
     "data": {
      "text/plain": [
       "18"
      ]
     },
     "execution_count": 15,
     "metadata": {},
     "output_type": "execute_result"
    }
   ],
   "source": [
    "arbres.duplicated('geo_point_2d' , keep=False).sum()"
   ]
  },
  {
   "cell_type": "code",
   "execution_count": 16,
   "id": "4d8b075c",
   "metadata": {
    "scrolled": true
   },
   "outputs": [
    {
     "data": {
      "text/html": [
       "<div>\n",
       "<style scoped>\n",
       "    .dataframe tbody tr th:only-of-type {\n",
       "        vertical-align: middle;\n",
       "    }\n",
       "\n",
       "    .dataframe tbody tr th {\n",
       "        vertical-align: top;\n",
       "    }\n",
       "\n",
       "    .dataframe thead th {\n",
       "        text-align: right;\n",
       "    }\n",
       "</style>\n",
       "<table border=\"1\" class=\"dataframe\">\n",
       "  <thead>\n",
       "    <tr style=\"text-align: right;\">\n",
       "      <th></th>\n",
       "      <th>IDBASE</th>\n",
       "      <th>DOMANIALITE</th>\n",
       "      <th>ARRONDISSEMENT</th>\n",
       "      <th>LIBELLE FRANCAIS</th>\n",
       "      <th>GENRE</th>\n",
       "      <th>ESPECE</th>\n",
       "      <th>CIRCONFERENCE (cm)</th>\n",
       "      <th>HAUTEUR (m)</th>\n",
       "      <th>STADE DE DEVELOPPEMENT</th>\n",
       "      <th>geo_point_2d</th>\n",
       "    </tr>\n",
       "  </thead>\n",
       "  <tbody>\n",
       "    <tr>\n",
       "      <th>12506</th>\n",
       "      <td>2011523</td>\n",
       "      <td>Jardin</td>\n",
       "      <td>BOIS DE VINCENNES</td>\n",
       "      <td>Peuplier</td>\n",
       "      <td>Populus</td>\n",
       "      <td>nigra</td>\n",
       "      <td>100</td>\n",
       "      <td>22</td>\n",
       "      <td>Adulte</td>\n",
       "      <td>48.83641631842574,2.446277271311284</td>\n",
       "    </tr>\n",
       "    <tr>\n",
       "      <th>81262</th>\n",
       "      <td>2011522</td>\n",
       "      <td>Jardin</td>\n",
       "      <td>BOIS DE VINCENNES</td>\n",
       "      <td>Peuplier</td>\n",
       "      <td>Populus</td>\n",
       "      <td>nigra</td>\n",
       "      <td>0</td>\n",
       "      <td>0</td>\n",
       "      <td>NaN</td>\n",
       "      <td>48.83641631842574,2.446277271311284</td>\n",
       "    </tr>\n",
       "    <tr>\n",
       "      <th>94202</th>\n",
       "      <td>2016369</td>\n",
       "      <td>Jardin</td>\n",
       "      <td>BOIS DE VINCENNES</td>\n",
       "      <td>Pommier à fleurs</td>\n",
       "      <td>Malus</td>\n",
       "      <td>trilobata</td>\n",
       "      <td>0</td>\n",
       "      <td>0</td>\n",
       "      <td>NaN</td>\n",
       "      <td>48.83686161921065,2.446518468159797</td>\n",
       "    </tr>\n",
       "    <tr>\n",
       "      <th>158125</th>\n",
       "      <td>2010634</td>\n",
       "      <td>Jardin</td>\n",
       "      <td>BOIS DE VINCENNES</td>\n",
       "      <td>Hêtre</td>\n",
       "      <td>Fagus</td>\n",
       "      <td>sylvatica</td>\n",
       "      <td>75</td>\n",
       "      <td>8</td>\n",
       "      <td>Jeune (arbre)Adulte</td>\n",
       "      <td>48.83686161921065,2.446518468159797</td>\n",
       "    </tr>\n",
       "    <tr>\n",
       "      <th>155417</th>\n",
       "      <td>2010732</td>\n",
       "      <td>Jardin</td>\n",
       "      <td>BOIS DE VINCENNES</td>\n",
       "      <td>Cèdre</td>\n",
       "      <td>Cedrus</td>\n",
       "      <td>libani subsp. atlantica</td>\n",
       "      <td>110</td>\n",
       "      <td>18</td>\n",
       "      <td>Adulte</td>\n",
       "      <td>48.83853874307851,2.439349992164275</td>\n",
       "    </tr>\n",
       "    <tr>\n",
       "      <th>152926</th>\n",
       "      <td>2016379</td>\n",
       "      <td>Jardin</td>\n",
       "      <td>BOIS DE VINCENNES</td>\n",
       "      <td>Cèdre</td>\n",
       "      <td>Cedrus</td>\n",
       "      <td>libani subsp. atlantica</td>\n",
       "      <td>0</td>\n",
       "      <td>0</td>\n",
       "      <td>NaN</td>\n",
       "      <td>48.83853874307851,2.439349992164275</td>\n",
       "    </tr>\n",
       "    <tr>\n",
       "      <th>42562</th>\n",
       "      <td>2010731</td>\n",
       "      <td>Jardin</td>\n",
       "      <td>BOIS DE VINCENNES</td>\n",
       "      <td>Cèdre</td>\n",
       "      <td>Cedrus</td>\n",
       "      <td>libani subsp. atlantica</td>\n",
       "      <td>160</td>\n",
       "      <td>20</td>\n",
       "      <td>Adulte</td>\n",
       "      <td>48.8385499224699,2.439267566446114</td>\n",
       "    </tr>\n",
       "    <tr>\n",
       "      <th>96975</th>\n",
       "      <td>2016378</td>\n",
       "      <td>Jardin</td>\n",
       "      <td>BOIS DE VINCENNES</td>\n",
       "      <td>Cèdre</td>\n",
       "      <td>Cedrus</td>\n",
       "      <td>libani subsp. atlantica</td>\n",
       "      <td>0</td>\n",
       "      <td>0</td>\n",
       "      <td>NaN</td>\n",
       "      <td>48.8385499224699,2.439267566446114</td>\n",
       "    </tr>\n",
       "    <tr>\n",
       "      <th>25264</th>\n",
       "      <td>2010609</td>\n",
       "      <td>Jardin</td>\n",
       "      <td>BOIS DE VINCENNES</td>\n",
       "      <td>Platane</td>\n",
       "      <td>Platanus</td>\n",
       "      <td>x hispanica</td>\n",
       "      <td>190</td>\n",
       "      <td>24</td>\n",
       "      <td>Adulte</td>\n",
       "      <td>48.83911783238497,2.438809500729797</td>\n",
       "    </tr>\n",
       "    <tr>\n",
       "      <th>129353</th>\n",
       "      <td>2010572</td>\n",
       "      <td>Jardin</td>\n",
       "      <td>BOIS DE VINCENNES</td>\n",
       "      <td>Platane</td>\n",
       "      <td>Platanus</td>\n",
       "      <td>x hispanica</td>\n",
       "      <td>195</td>\n",
       "      <td>18</td>\n",
       "      <td>Adulte</td>\n",
       "      <td>48.83911783238497,2.438809500729797</td>\n",
       "    </tr>\n",
       "    <tr>\n",
       "      <th>43726</th>\n",
       "      <td>2015795</td>\n",
       "      <td>Jardin</td>\n",
       "      <td>BOIS DE VINCENNES</td>\n",
       "      <td>Prunus n. sp.</td>\n",
       "      <td>Prunus</td>\n",
       "      <td>n. sp.</td>\n",
       "      <td>0</td>\n",
       "      <td>0</td>\n",
       "      <td>NaN</td>\n",
       "      <td>48.83956056791861,2.446210105786211</td>\n",
       "    </tr>\n",
       "    <tr>\n",
       "      <th>90165</th>\n",
       "      <td>2015806</td>\n",
       "      <td>Jardin</td>\n",
       "      <td>BOIS DE VINCENNES</td>\n",
       "      <td>Pin</td>\n",
       "      <td>Pinus</td>\n",
       "      <td>nigra</td>\n",
       "      <td>0</td>\n",
       "      <td>0</td>\n",
       "      <td>NaN</td>\n",
       "      <td>48.83956056791861,2.446210105786211</td>\n",
       "    </tr>\n",
       "    <tr>\n",
       "      <th>7918</th>\n",
       "      <td>132079</td>\n",
       "      <td>Alignement</td>\n",
       "      <td>PARIS 11E ARRDT</td>\n",
       "      <td>Peuplier</td>\n",
       "      <td>Populus</td>\n",
       "      <td>alba</td>\n",
       "      <td>189</td>\n",
       "      <td>0</td>\n",
       "      <td>NaN</td>\n",
       "      <td>48.85002871983819,2.397994382801744</td>\n",
       "    </tr>\n",
       "    <tr>\n",
       "      <th>171752</th>\n",
       "      <td>235152</td>\n",
       "      <td>Alignement</td>\n",
       "      <td>PARIS 11E ARRDT</td>\n",
       "      <td>Tilleul</td>\n",
       "      <td>Tilia</td>\n",
       "      <td>n. sp.</td>\n",
       "      <td>55</td>\n",
       "      <td>5</td>\n",
       "      <td>Jeune (arbre)Adulte</td>\n",
       "      <td>48.85002871983819,2.397994382801744</td>\n",
       "    </tr>\n",
       "    <tr>\n",
       "      <th>16068</th>\n",
       "      <td>2033097</td>\n",
       "      <td>Jardin</td>\n",
       "      <td>PARIS 3E ARRDT</td>\n",
       "      <td>Erable</td>\n",
       "      <td>Acer</td>\n",
       "      <td>n. sp.</td>\n",
       "      <td>117</td>\n",
       "      <td>12</td>\n",
       "      <td>Adulte</td>\n",
       "      <td>48.85774793362587,2.366678714626568</td>\n",
       "    </tr>\n",
       "    <tr>\n",
       "      <th>107500</th>\n",
       "      <td>2033233</td>\n",
       "      <td>Jardin</td>\n",
       "      <td>PARIS 3E ARRDT</td>\n",
       "      <td>Erable</td>\n",
       "      <td>Acer</td>\n",
       "      <td>n. sp.</td>\n",
       "      <td>105</td>\n",
       "      <td>12</td>\n",
       "      <td>Adulte</td>\n",
       "      <td>48.85774793362587,2.366678714626568</td>\n",
       "    </tr>\n",
       "    <tr>\n",
       "      <th>149209</th>\n",
       "      <td>2027851</td>\n",
       "      <td>Alignement</td>\n",
       "      <td>PARIS 19E ARRDT</td>\n",
       "      <td>Peuplier</td>\n",
       "      <td>Populus</td>\n",
       "      <td>nigra</td>\n",
       "      <td>30</td>\n",
       "      <td>4</td>\n",
       "      <td>Jeune (arbre)</td>\n",
       "      <td>48.90049951175434,2.380554192037952</td>\n",
       "    </tr>\n",
       "    <tr>\n",
       "      <th>95790</th>\n",
       "      <td>2027846</td>\n",
       "      <td>Alignement</td>\n",
       "      <td>PARIS 19E ARRDT</td>\n",
       "      <td>Peuplier</td>\n",
       "      <td>Populus</td>\n",
       "      <td>deltoides</td>\n",
       "      <td>20</td>\n",
       "      <td>5</td>\n",
       "      <td>NaN</td>\n",
       "      <td>48.90049951175434,2.380554192037952</td>\n",
       "    </tr>\n",
       "  </tbody>\n",
       "</table>\n",
       "</div>"
      ],
      "text/plain": [
       "         IDBASE DOMANIALITE     ARRONDISSEMENT  LIBELLE FRANCAIS     GENRE  \\\n",
       "12506   2011523      Jardin  BOIS DE VINCENNES          Peuplier   Populus   \n",
       "81262   2011522      Jardin  BOIS DE VINCENNES          Peuplier   Populus   \n",
       "94202   2016369      Jardin  BOIS DE VINCENNES  Pommier à fleurs     Malus   \n",
       "158125  2010634      Jardin  BOIS DE VINCENNES             Hêtre     Fagus   \n",
       "155417  2010732      Jardin  BOIS DE VINCENNES             Cèdre    Cedrus   \n",
       "152926  2016379      Jardin  BOIS DE VINCENNES             Cèdre    Cedrus   \n",
       "42562   2010731      Jardin  BOIS DE VINCENNES             Cèdre    Cedrus   \n",
       "96975   2016378      Jardin  BOIS DE VINCENNES             Cèdre    Cedrus   \n",
       "25264   2010609      Jardin  BOIS DE VINCENNES           Platane  Platanus   \n",
       "129353  2010572      Jardin  BOIS DE VINCENNES           Platane  Platanus   \n",
       "43726   2015795      Jardin  BOIS DE VINCENNES     Prunus n. sp.    Prunus   \n",
       "90165   2015806      Jardin  BOIS DE VINCENNES               Pin     Pinus   \n",
       "7918     132079  Alignement    PARIS 11E ARRDT          Peuplier   Populus   \n",
       "171752   235152  Alignement    PARIS 11E ARRDT           Tilleul     Tilia   \n",
       "16068   2033097      Jardin     PARIS 3E ARRDT            Erable      Acer   \n",
       "107500  2033233      Jardin     PARIS 3E ARRDT            Erable      Acer   \n",
       "149209  2027851  Alignement    PARIS 19E ARRDT          Peuplier   Populus   \n",
       "95790   2027846  Alignement    PARIS 19E ARRDT          Peuplier   Populus   \n",
       "\n",
       "                         ESPECE  CIRCONFERENCE (cm)  HAUTEUR (m)  \\\n",
       "12506                     nigra                 100           22   \n",
       "81262                     nigra                   0            0   \n",
       "94202                 trilobata                   0            0   \n",
       "158125                sylvatica                  75            8   \n",
       "155417  libani subsp. atlantica                 110           18   \n",
       "152926  libani subsp. atlantica                   0            0   \n",
       "42562   libani subsp. atlantica                 160           20   \n",
       "96975   libani subsp. atlantica                   0            0   \n",
       "25264               x hispanica                 190           24   \n",
       "129353              x hispanica                 195           18   \n",
       "43726                    n. sp.                   0            0   \n",
       "90165                     nigra                   0            0   \n",
       "7918                       alba                 189            0   \n",
       "171752                   n. sp.                  55            5   \n",
       "16068                    n. sp.                 117           12   \n",
       "107500                   n. sp.                 105           12   \n",
       "149209                    nigra                  30            4   \n",
       "95790                 deltoides                  20            5   \n",
       "\n",
       "       STADE DE DEVELOPPEMENT                         geo_point_2d  \n",
       "12506                  Adulte  48.83641631842574,2.446277271311284  \n",
       "81262                     NaN  48.83641631842574,2.446277271311284  \n",
       "94202                     NaN  48.83686161921065,2.446518468159797  \n",
       "158125    Jeune (arbre)Adulte  48.83686161921065,2.446518468159797  \n",
       "155417                 Adulte  48.83853874307851,2.439349992164275  \n",
       "152926                    NaN  48.83853874307851,2.439349992164275  \n",
       "42562                  Adulte   48.8385499224699,2.439267566446114  \n",
       "96975                     NaN   48.8385499224699,2.439267566446114  \n",
       "25264                  Adulte  48.83911783238497,2.438809500729797  \n",
       "129353                 Adulte  48.83911783238497,2.438809500729797  \n",
       "43726                     NaN  48.83956056791861,2.446210105786211  \n",
       "90165                     NaN  48.83956056791861,2.446210105786211  \n",
       "7918                      NaN  48.85002871983819,2.397994382801744  \n",
       "171752    Jeune (arbre)Adulte  48.85002871983819,2.397994382801744  \n",
       "16068                  Adulte  48.85774793362587,2.366678714626568  \n",
       "107500                 Adulte  48.85774793362587,2.366678714626568  \n",
       "149209          Jeune (arbre)  48.90049951175434,2.380554192037952  \n",
       "95790                     NaN  48.90049951175434,2.380554192037952  "
      ]
     },
     "execution_count": 16,
     "metadata": {},
     "output_type": "execute_result"
    }
   ],
   "source": [
    " arbres[arbres.duplicated('geo_point_2d' , keep=False)].sort_values('geo_point_2d')"
   ]
  },
  {
   "cell_type": "markdown",
   "id": "87bce1e6",
   "metadata": {},
   "source": [
    "<div class =\"alert alert-block alert-info\">\n",
    "\n",
    "> ## <a name=\"B6\"><font color=brown> II . 5 -  <u> Recherche d'outlier </u> </font></a>\n",
    "\n",
    "</div>\n",
    "\n",
    "Bien qu'il existe un outil puissant comme **le diagramme à moustache**, en general on peut effectuer une **recherche simplifiée d'outlier faisant appel à la méthode ``describe()``**"
   ]
  },
  {
   "cell_type": "code",
   "execution_count": 17,
   "id": "7bb2c3f6",
   "metadata": {
    "scrolled": true
   },
   "outputs": [
    {
     "data": {
      "text/html": [
       "<div>\n",
       "<style scoped>\n",
       "    .dataframe tbody tr th:only-of-type {\n",
       "        vertical-align: middle;\n",
       "    }\n",
       "\n",
       "    .dataframe tbody tr th {\n",
       "        vertical-align: top;\n",
       "    }\n",
       "\n",
       "    .dataframe thead th {\n",
       "        text-align: right;\n",
       "    }\n",
       "</style>\n",
       "<table border=\"1\" class=\"dataframe\">\n",
       "  <thead>\n",
       "    <tr style=\"text-align: right;\">\n",
       "      <th></th>\n",
       "      <th>IDBASE</th>\n",
       "      <th>CIRCONFERENCE (cm)</th>\n",
       "      <th>HAUTEUR (m)</th>\n",
       "    </tr>\n",
       "  </thead>\n",
       "  <tbody>\n",
       "    <tr>\n",
       "      <th>count</th>\n",
       "      <td>2.039600e+05</td>\n",
       "      <td>203960.000000</td>\n",
       "      <td>203960.000000</td>\n",
       "    </tr>\n",
       "    <tr>\n",
       "      <th>mean</th>\n",
       "      <td>4.613575e+05</td>\n",
       "      <td>81.062532</td>\n",
       "      <td>8.770249</td>\n",
       "    </tr>\n",
       "    <tr>\n",
       "      <th>std</th>\n",
       "      <td>6.321338e+05</td>\n",
       "      <td>62.903450</td>\n",
       "      <td>5.976547</td>\n",
       "    </tr>\n",
       "    <tr>\n",
       "      <th>min</th>\n",
       "      <td>9.987400e+04</td>\n",
       "      <td>0.000000</td>\n",
       "      <td>0.000000</td>\n",
       "    </tr>\n",
       "    <tr>\n",
       "      <th>25%</th>\n",
       "      <td>1.589518e+05</td>\n",
       "      <td>32.000000</td>\n",
       "      <td>5.000000</td>\n",
       "    </tr>\n",
       "    <tr>\n",
       "      <th>50%</th>\n",
       "      <td>2.268225e+05</td>\n",
       "      <td>70.000000</td>\n",
       "      <td>8.000000</td>\n",
       "    </tr>\n",
       "    <tr>\n",
       "      <th>75%</th>\n",
       "      <td>2.815182e+05</td>\n",
       "      <td>115.000000</td>\n",
       "      <td>12.000000</td>\n",
       "    </tr>\n",
       "    <tr>\n",
       "      <th>max</th>\n",
       "      <td>2.035724e+06</td>\n",
       "      <td>1208.000000</td>\n",
       "      <td>180.000000</td>\n",
       "    </tr>\n",
       "  </tbody>\n",
       "</table>\n",
       "</div>"
      ],
      "text/plain": [
       "             IDBASE  CIRCONFERENCE (cm)    HAUTEUR (m)\n",
       "count  2.039600e+05       203960.000000  203960.000000\n",
       "mean   4.613575e+05           81.062532       8.770249\n",
       "std    6.321338e+05           62.903450       5.976547\n",
       "min    9.987400e+04            0.000000       0.000000\n",
       "25%    1.589518e+05           32.000000       5.000000\n",
       "50%    2.268225e+05           70.000000       8.000000\n",
       "75%    2.815182e+05          115.000000      12.000000\n",
       "max    2.035724e+06         1208.000000     180.000000"
      ]
     },
     "execution_count": 17,
     "metadata": {},
     "output_type": "execute_result"
    }
   ],
   "source": [
    "arbres.describe()"
   ]
  },
  {
   "cell_type": "markdown",
   "id": "e713f7b1",
   "metadata": {},
   "source": [
    "La methode ``describe()`` nous donnent les valeurs extrêmes (max et min ) prises par chacune des variables quantitatives. On remarque ici que **pour la circonference et la hauteur des arbres on a un minimum qui est de 0 Cm et 0 m**; ce qui n'est pas logique puisqu'**un arbre devrait avoir une circonférence et une hauteur de valeur finie non nulle.**\n",
    "\n",
    "Conformement à ma strategie de traitement des données **je pourrais me débarasser de ces valeurs nulles au moment de faire la statistique de ces deux variables.** j'utiliserais aussi la boite à moustache pour détecter d'autre **outliers qui pourraient se retrouver dans les données.**"
   ]
  },
  {
   "cell_type": "markdown",
   "id": "69ce62f1",
   "metadata": {},
   "source": [
    "<div class=\"alert alert-block alert-success\">\n",
    "\n",
    "> ## <a name=\"C1\"><center> <font color=brown>  III - <u> ANALYSE UNIVARIEE : Statistique des variables </u> </font> </center></a> \n",
    "\n",
    "</div>\n",
    "\n",
    "**Notre jeux de donnée portant sur les arbres de la ville de Paris permet de mettre en évidence deux catégories de paramètres à savoir :**\n",
    "\n",
    "\n",
    "- Les paramètres qui donent une information qualitative sur les arbres de la ville : `ARRONDISSEMENT`, `STADE DE DEVELOPPEMENT`, `GENRE`,`ESPECE` ...etc\n",
    "- Les paramètres qui donnent des informations quantitatives sur les abres à savoir : `CIRCONFERENCE (cm)`,`HAUTEUR (m)` et `geo_point_2d`\n",
    "\n"
   ]
  },
  {
   "cell_type": "code",
   "execution_count": 18,
   "id": "54ad3f2a",
   "metadata": {},
   "outputs": [
    {
     "data": {
      "text/plain": [
       "IDBASE                     int64\n",
       "DOMANIALITE               object\n",
       "ARRONDISSEMENT            object\n",
       "LIBELLE FRANCAIS          object\n",
       "GENRE                     object\n",
       "ESPECE                    object\n",
       "CIRCONFERENCE (cm)         int64\n",
       "HAUTEUR (m)                int64\n",
       "STADE DE DEVELOPPEMENT    object\n",
       "geo_point_2d              object\n",
       "dtype: object"
      ]
     },
     "execution_count": 18,
     "metadata": {},
     "output_type": "execute_result"
    }
   ],
   "source": [
    "arbres.dtypes"
   ]
  },
  {
   "cell_type": "markdown",
   "id": "34cd7b1a",
   "metadata": {},
   "source": [
    "Dans les lignes qui vont suivre **nous allons tenter d'extraire quelques informations importantes sur les arbres de la ville** de Paris au travers d'**une analyse statistique qui portera dans un premier temps sur les variables qualitatives du problème et terminer ensuite par une description quantitave** de nos arbres\n",
    "\n",
    "\n",
    "\n",
    "<div class=\"alert alert-block alert-info\">\n",
    "\n",
    "> ## <a name=\"C2\"><font color=brown> III . 1 - <u> Les Arrondissements de Paris et ses arbres </u> </font></a> \n",
    "\n",
    "</div>\n",
    "\n",
    "Dans un premier temps **je vais utiliser la méthode** ``unique()`` pour avoir les différentess modalités ou réalisation de la variable ``ÀRRONDISSEMENT``"
   ]
  },
  {
   "cell_type": "code",
   "execution_count": 19,
   "id": "19fd220e",
   "metadata": {
    "scrolled": true
   },
   "outputs": [],
   "source": [
    "modalite_arrondissement = arbres['ARRONDISSEMENT'].unique()"
   ]
  },
  {
   "cell_type": "code",
   "execution_count": 20,
   "id": "ed660b05",
   "metadata": {},
   "outputs": [
    {
     "data": {
      "text/plain": [
       "array(['PARIS 17E ARRDT', 'BOIS DE BOULOGNE', 'BOIS DE VINCENNES',\n",
       "       'PARIS 20E ARRDT', 'PARIS 15E ARRDT', 'PARIS 19E ARRDT',\n",
       "       'PARIS 8E ARRDT', 'PARIS 16E ARRDT', 'PARIS 12E ARRDT',\n",
       "       'PARIS 14E ARRDT', 'PARIS 11E ARRDT', 'VAL-DE-MARNE',\n",
       "       'PARIS 18E ARRDT', 'PARIS 13E ARRDT', 'PARIS 10E ARRDT',\n",
       "       'PARIS 7E ARRDT', 'PARIS 6E ARRDT', 'HAUTS-DE-SEINE',\n",
       "       'PARIS 4E ARRDT', 'SEINE-SAINT-DENIS', 'PARIS 3E ARRDT',\n",
       "       'PARIS 5E ARRDT', 'PARIS 1ER ARRDT', 'PARIS 9E ARRDT',\n",
       "       'PARIS 2E ARRDT'], dtype=object)"
      ]
     },
     "execution_count": 20,
     "metadata": {},
     "output_type": "execute_result"
    }
   ],
   "source": [
    "modalite_arrondissement"
   ]
  },
  {
   "cell_type": "markdown",
   "id": "ae28718a",
   "metadata": {},
   "source": [
    "On peut aussi compter le nombre de modalité à l'aide de  la méthdode ``len()``"
   ]
  },
  {
   "cell_type": "code",
   "execution_count": 21,
   "id": "2732988b",
   "metadata": {},
   "outputs": [
    {
     "data": {
      "text/plain": [
       "25"
      ]
     },
     "execution_count": 21,
     "metadata": {},
     "output_type": "execute_result"
    }
   ],
   "source": [
    "len(modalite_arrondissement)"
   ]
  },
  {
   "cell_type": "markdown",
   "id": "38a0385c",
   "metadata": {},
   "source": [
    "Comme on peut le voire, **la colonne ``ARRONDISSEMENT`` compte 25 modalités qui seront considérés ici comme les arrondissements de la ville de Paris** même si nous savons qu'**en réalité la ville de Paris ne compte exactement que** [20 Arrondissements](https://planparis360.fr/plan-arrondissement-paris)\n",
    "\n",
    "Les 5 autres modalités à  savoir :\n",
    "- ``BOIS DE BOULOGNE``\n",
    "- ``BOIS DE VINCENNES``\n",
    "- ``VAL-DE-MARNE``\n",
    "- ``HAUTS-DE-SEINE``\n",
    "- ``SEINE-SAINT-DENIS``\n",
    "\n",
    "ont certainement été ajoutées aux données en tant qu'arrondissements de la ville de Paris pour des raison liées au dénombrement des arbres compris dans ces zomes et qui se distinguent très nettement des 20 arrondissements de la ville de Paris.\n",
    "\n",
    "**Ainsi les 203960 arbres qui constituent nos données sont reparties sur ces 25 'Pseudo-arrondissements'** ; éssayons donc à présent d'étudier cette repartitions."
   ]
  },
  {
   "cell_type": "markdown",
   "id": "e42b1a1b",
   "metadata": {},
   "source": [
    "___\n",
    "on a vu qu'il s'agit d'une variable qualitative de 25 réalisations. A l'aide de l'Objet ``DataFrame()`` de la librairie ``pandas`` **je vais construire un tableau des effectifs et frequences des arbres** en fonction des arrondissements. "
   ]
  },
  {
   "cell_type": "code",
   "execution_count": 22,
   "id": "cb7d09bf",
   "metadata": {},
   "outputs": [
    {
     "data": {
      "text/html": [
       "<div>\n",
       "<style scoped>\n",
       "    .dataframe tbody tr th:only-of-type {\n",
       "        vertical-align: middle;\n",
       "    }\n",
       "\n",
       "    .dataframe tbody tr th {\n",
       "        vertical-align: top;\n",
       "    }\n",
       "\n",
       "    .dataframe thead th {\n",
       "        text-align: right;\n",
       "    }\n",
       "</style>\n",
       "<table border=\"1\" class=\"dataframe\">\n",
       "  <thead>\n",
       "    <tr style=\"text-align: right;\">\n",
       "      <th></th>\n",
       "      <th>Effectif</th>\n",
       "      <th>Frequence</th>\n",
       "    </tr>\n",
       "  </thead>\n",
       "  <tbody>\n",
       "    <tr>\n",
       "      <th>PARIS 17E ARRDT</th>\n",
       "      <td>10869</td>\n",
       "      <td>0.053290</td>\n",
       "    </tr>\n",
       "    <tr>\n",
       "      <th>BOIS DE BOULOGNE</th>\n",
       "      <td>4124</td>\n",
       "      <td>0.020220</td>\n",
       "    </tr>\n",
       "    <tr>\n",
       "      <th>BOIS DE VINCENNES</th>\n",
       "      <td>11812</td>\n",
       "      <td>0.057913</td>\n",
       "    </tr>\n",
       "    <tr>\n",
       "      <th>PARIS 20E ARRDT</th>\n",
       "      <td>15654</td>\n",
       "      <td>0.076750</td>\n",
       "    </tr>\n",
       "    <tr>\n",
       "      <th>PARIS 15E ARRDT</th>\n",
       "      <td>17243</td>\n",
       "      <td>0.084541</td>\n",
       "    </tr>\n",
       "    <tr>\n",
       "      <th>PARIS 19E ARRDT</th>\n",
       "      <td>14568</td>\n",
       "      <td>0.071426</td>\n",
       "    </tr>\n",
       "    <tr>\n",
       "      <th>PARIS 8E ARRDT</th>\n",
       "      <td>7155</td>\n",
       "      <td>0.035080</td>\n",
       "    </tr>\n",
       "    <tr>\n",
       "      <th>PARIS 16E ARRDT</th>\n",
       "      <td>16914</td>\n",
       "      <td>0.082928</td>\n",
       "    </tr>\n",
       "    <tr>\n",
       "      <th>PARIS 12E ARRDT</th>\n",
       "      <td>12405</td>\n",
       "      <td>0.060821</td>\n",
       "    </tr>\n",
       "    <tr>\n",
       "      <th>PARIS 14E ARRDT</th>\n",
       "      <td>11592</td>\n",
       "      <td>0.056835</td>\n",
       "    </tr>\n",
       "    <tr>\n",
       "      <th>PARIS 11E ARRDT</th>\n",
       "      <td>5885</td>\n",
       "      <td>0.028854</td>\n",
       "    </tr>\n",
       "    <tr>\n",
       "      <th>VAL-DE-MARNE</th>\n",
       "      <td>7669</td>\n",
       "      <td>0.037601</td>\n",
       "    </tr>\n",
       "    <tr>\n",
       "      <th>PARIS 18E ARRDT</th>\n",
       "      <td>10488</td>\n",
       "      <td>0.051422</td>\n",
       "    </tr>\n",
       "    <tr>\n",
       "      <th>PARIS 13E ARRDT</th>\n",
       "      <td>16722</td>\n",
       "      <td>0.081987</td>\n",
       "    </tr>\n",
       "    <tr>\n",
       "      <th>PARIS 10E ARRDT</th>\n",
       "      <td>3414</td>\n",
       "      <td>0.016739</td>\n",
       "    </tr>\n",
       "    <tr>\n",
       "      <th>PARIS 7E ARRDT</th>\n",
       "      <td>8632</td>\n",
       "      <td>0.042322</td>\n",
       "    </tr>\n",
       "    <tr>\n",
       "      <th>PARIS 6E ARRDT</th>\n",
       "      <td>1742</td>\n",
       "      <td>0.008541</td>\n",
       "    </tr>\n",
       "    <tr>\n",
       "      <th>HAUTS-DE-SEINE</th>\n",
       "      <td>5400</td>\n",
       "      <td>0.026476</td>\n",
       "    </tr>\n",
       "    <tr>\n",
       "      <th>PARIS 4E ARRDT</th>\n",
       "      <td>2746</td>\n",
       "      <td>0.013463</td>\n",
       "    </tr>\n",
       "    <tr>\n",
       "      <th>SEINE-SAINT-DENIS</th>\n",
       "      <td>11792</td>\n",
       "      <td>0.057815</td>\n",
       "    </tr>\n",
       "    <tr>\n",
       "      <th>PARIS 3E ARRDT</th>\n",
       "      <td>1267</td>\n",
       "      <td>0.006212</td>\n",
       "    </tr>\n",
       "    <tr>\n",
       "      <th>PARIS 5E ARRDT</th>\n",
       "      <td>2485</td>\n",
       "      <td>0.012184</td>\n",
       "    </tr>\n",
       "    <tr>\n",
       "      <th>PARIS 1ER ARRDT</th>\n",
       "      <td>1671</td>\n",
       "      <td>0.008193</td>\n",
       "    </tr>\n",
       "    <tr>\n",
       "      <th>PARIS 9E ARRDT</th>\n",
       "      <td>1182</td>\n",
       "      <td>0.005795</td>\n",
       "    </tr>\n",
       "    <tr>\n",
       "      <th>PARIS 2E ARRDT</th>\n",
       "      <td>529</td>\n",
       "      <td>0.002594</td>\n",
       "    </tr>\n",
       "  </tbody>\n",
       "</table>\n",
       "</div>"
      ],
      "text/plain": [
       "                   Effectif  Frequence\n",
       "PARIS 17E ARRDT       10869   0.053290\n",
       "BOIS DE BOULOGNE       4124   0.020220\n",
       "BOIS DE VINCENNES     11812   0.057913\n",
       "PARIS 20E ARRDT       15654   0.076750\n",
       "PARIS 15E ARRDT       17243   0.084541\n",
       "PARIS 19E ARRDT       14568   0.071426\n",
       "PARIS 8E ARRDT         7155   0.035080\n",
       "PARIS 16E ARRDT       16914   0.082928\n",
       "PARIS 12E ARRDT       12405   0.060821\n",
       "PARIS 14E ARRDT       11592   0.056835\n",
       "PARIS 11E ARRDT        5885   0.028854\n",
       "VAL-DE-MARNE           7669   0.037601\n",
       "PARIS 18E ARRDT       10488   0.051422\n",
       "PARIS 13E ARRDT       16722   0.081987\n",
       "PARIS 10E ARRDT        3414   0.016739\n",
       "PARIS 7E ARRDT         8632   0.042322\n",
       "PARIS 6E ARRDT         1742   0.008541\n",
       "HAUTS-DE-SEINE         5400   0.026476\n",
       "PARIS 4E ARRDT         2746   0.013463\n",
       "SEINE-SAINT-DENIS     11792   0.057815\n",
       "PARIS 3E ARRDT         1267   0.006212\n",
       "PARIS 5E ARRDT         2485   0.012184\n",
       "PARIS 1ER ARRDT        1671   0.008193\n",
       "PARIS 9E ARRDT         1182   0.005795\n",
       "PARIS 2E ARRDT          529   0.002594"
      ]
     },
     "execution_count": 22,
     "metadata": {},
     "output_type": "execute_result"
    }
   ],
   "source": [
    "tab_arrondissement=pd.DataFrame( index=modalite_arrondissement) # DataFrame vide\n",
    "tab_arrondissement[\"Effectif\"]=arbres['ARRONDISSEMENT'].value_counts()[modalite_arrondissement] # Nbr d'arbre/Arrondissement\n",
    "tab_arrondissement['Frequence'] = tab_arrondissement['Effectif']/len(arbres) # Frequences\n",
    "tab_arrondissement"
   ]
  },
  {
   "cell_type": "code",
   "execution_count": 23,
   "id": "54cd29fb",
   "metadata": {},
   "outputs": [
    {
     "name": "stdout",
     "output_type": "stream",
     "text": [
      "1 - Minimum : 529\n",
      "2 - Maximum : 17243\n",
      "3 - Moyenne : 8158.4\n",
      "4 - Mode : PARIS 15E ARRDT\n"
     ]
    }
   ],
   "source": [
    "print(f\"1 - Minimum : {tab_arrondissement['Effectif'].min()}\")\n",
    "print(f\"2 - Maximum : {tab_arrondissement['Effectif'].max()}\")\n",
    "print(f\"3 - Moyenne : {tab_arrondissement['Effectif'].mean()}\")\n",
    "print(f\"4 - Mode : {  (tab_arrondissement[tab_arrondissement['Effectif']== tab_arrondissement['Effectif'].max()].index)[0]  }\")"
   ]
  },
  {
   "cell_type": "markdown",
   "id": "94614e17",
   "metadata": {},
   "source": [
    "Si on devait ainsi ordonner nos 25 Arrondissements dans l'ordre croissant du nombre d'arbre qui y sont plantés, **le plus petit des arrondissements possèderait 529 arbres** et **le plus grand en aurait 17 243** pour **une moyenne arbre par arrondisseemnt de 8 158 arbre.**\n",
    "\n",
    "L'arrondissement ayant le plus grand nombre d'arbres est `paris 15 ième Arrondissement` avec ses 17 243 arbres"
   ]
  },
  {
   "cell_type": "code",
   "execution_count": 24,
   "id": "fc56c342",
   "metadata": {},
   "outputs": [
    {
     "data": {
      "image/png": "[encoded data removed]",
      "text/plain": [
       "<Figure size 864x720 with 1 Axes>"
      ]
     },
     "metadata": {
      "needs_background": "light"
     },
     "output_type": "display_data"
    }
   ],
   "source": [
    "plt.figure(figsize=(12,10))\n",
    "tab_arrondissement['Effectif'].plot(kind='barh',label=\"Nombre d'arbre\",color='green',width=0.75)\n",
    "plt.title(\"Nombre d'arbres plantés pour chaque arrondissement\", color ='brown' , size = 18)\n",
    "plt.ylabel('Arrondissement' , size = 15)\n",
    "plt.xlabel(\"Nonbre d'arbres\", size = 15)\n",
    "plt.legend(loc='best')\n",
    "plt.show()"
   ]
  },
  {
   "cell_type": "markdown",
   "id": "9c6775ae",
   "metadata": {},
   "source": [
    "En observant la répartition des arbres par arrondissement **je me suis posé la question de savoir pourquoi autant de disparité dans la répartition de ces arbres ?**  Pourquoi devrait-on avoir des arrondissement hautement peuplé en arbres ( jusqu'à 17 000 arbres ) et d'un autre côté des arrondssements très faiblement peuplé en arbres ( juste 500 arbres )\n",
    "\n",
    "après reflexion **je me suis dit que la superficie des arrondissements devait avoir quelque chose à y voire.** J'ai donc recherché sur internet la superficie (en hectare ) des différents arrondissements présents dans nos donnée et regroupés dans une variable nommée ``arrond_super``"
   ]
  },
  {
   "cell_type": "code",
   "execution_count": 25,
   "id": "b376c56a",
   "metadata": {},
   "outputs": [],
   "source": [
    "# Les superficies sont données en Hectare ( ha)\n",
    "arrond_super = {'BOIS DE BOULOGNE': 846 ,\n",
    "'BOIS DE VINCENNES': 995,\n",
    "'HAUTS-DE-SEINE'  :  17600,\n",
    "'PARIS 10E ARRDT' : 289 ,\n",
    "'PARIS 11E ARRDT' : 367 ,\n",
    "'PARIS 12E ARRDT' : 637 ,\n",
    "'PARIS 13E ARRDT' : 715 ,\n",
    "'PARIS 14E ARRDT' : 564 ,\n",
    "'PARIS 15E ARRDT' : 848 ,\n",
    "'PARIS 16E ARRDT' : 791 ,\n",
    "'PARIS 17E ARRDT' : 567 ,\n",
    "'PARIS 18E ARRDT' : 601 ,\n",
    "'PARIS 19E ARRDT' : 679 ,\n",
    "'PARIS 1ER ARRDT' : 183 ,\n",
    "'PARIS 20E ARRDT' : 598 ,\n",
    "'PARIS 2E ARRDT'  : 99  ,\n",
    "'PARIS 3E ARRDT'  : 117 ,\n",
    "'PARIS 4E ARRDT'  : 160 ,\n",
    "'PARIS 5E ARRDT'  : 254 ,\n",
    "'PARIS 6E ARRDT'  : 215 ,\n",
    "'PARIS 7E ARRDT'  : 409 ,\n",
    "'PARIS 8E ARRDT'  : 388 ,\n",
    "'PARIS 9E ARRDT'  : 218 , \n",
    "'SEINE-SAINT-DENIS' : 23600 ,\n",
    "'VAL-DE-MARNE'   : 24500  }"
   ]
  },
  {
   "cell_type": "code",
   "execution_count": 26,
   "id": "4e340096",
   "metadata": {},
   "outputs": [
    {
     "data": {
      "text/html": [
       "<div>\n",
       "<style scoped>\n",
       "    .dataframe tbody tr th:only-of-type {\n",
       "        vertical-align: middle;\n",
       "    }\n",
       "\n",
       "    .dataframe tbody tr th {\n",
       "        vertical-align: top;\n",
       "    }\n",
       "\n",
       "    .dataframe thead th {\n",
       "        text-align: right;\n",
       "    }\n",
       "</style>\n",
       "<table border=\"1\" class=\"dataframe\">\n",
       "  <thead>\n",
       "    <tr style=\"text-align: right;\">\n",
       "      <th></th>\n",
       "      <th>Effectif</th>\n",
       "      <th>Frequence</th>\n",
       "      <th>Superficie (ha)</th>\n",
       "    </tr>\n",
       "  </thead>\n",
       "  <tbody>\n",
       "    <tr>\n",
       "      <th>PARIS 17E ARRDT</th>\n",
       "      <td>10869</td>\n",
       "      <td>0.053290</td>\n",
       "      <td>567</td>\n",
       "    </tr>\n",
       "    <tr>\n",
       "      <th>BOIS DE BOULOGNE</th>\n",
       "      <td>4124</td>\n",
       "      <td>0.020220</td>\n",
       "      <td>846</td>\n",
       "    </tr>\n",
       "    <tr>\n",
       "      <th>BOIS DE VINCENNES</th>\n",
       "      <td>11812</td>\n",
       "      <td>0.057913</td>\n",
       "      <td>995</td>\n",
       "    </tr>\n",
       "    <tr>\n",
       "      <th>PARIS 20E ARRDT</th>\n",
       "      <td>15654</td>\n",
       "      <td>0.076750</td>\n",
       "      <td>598</td>\n",
       "    </tr>\n",
       "    <tr>\n",
       "      <th>PARIS 15E ARRDT</th>\n",
       "      <td>17243</td>\n",
       "      <td>0.084541</td>\n",
       "      <td>848</td>\n",
       "    </tr>\n",
       "    <tr>\n",
       "      <th>PARIS 19E ARRDT</th>\n",
       "      <td>14568</td>\n",
       "      <td>0.071426</td>\n",
       "      <td>679</td>\n",
       "    </tr>\n",
       "    <tr>\n",
       "      <th>PARIS 8E ARRDT</th>\n",
       "      <td>7155</td>\n",
       "      <td>0.035080</td>\n",
       "      <td>388</td>\n",
       "    </tr>\n",
       "    <tr>\n",
       "      <th>PARIS 16E ARRDT</th>\n",
       "      <td>16914</td>\n",
       "      <td>0.082928</td>\n",
       "      <td>791</td>\n",
       "    </tr>\n",
       "    <tr>\n",
       "      <th>PARIS 12E ARRDT</th>\n",
       "      <td>12405</td>\n",
       "      <td>0.060821</td>\n",
       "      <td>637</td>\n",
       "    </tr>\n",
       "    <tr>\n",
       "      <th>PARIS 14E ARRDT</th>\n",
       "      <td>11592</td>\n",
       "      <td>0.056835</td>\n",
       "      <td>564</td>\n",
       "    </tr>\n",
       "    <tr>\n",
       "      <th>PARIS 11E ARRDT</th>\n",
       "      <td>5885</td>\n",
       "      <td>0.028854</td>\n",
       "      <td>367</td>\n",
       "    </tr>\n",
       "    <tr>\n",
       "      <th>VAL-DE-MARNE</th>\n",
       "      <td>7669</td>\n",
       "      <td>0.037601</td>\n",
       "      <td>24500</td>\n",
       "    </tr>\n",
       "    <tr>\n",
       "      <th>PARIS 18E ARRDT</th>\n",
       "      <td>10488</td>\n",
       "      <td>0.051422</td>\n",
       "      <td>601</td>\n",
       "    </tr>\n",
       "    <tr>\n",
       "      <th>PARIS 13E ARRDT</th>\n",
       "      <td>16722</td>\n",
       "      <td>0.081987</td>\n",
       "      <td>715</td>\n",
       "    </tr>\n",
       "    <tr>\n",
       "      <th>PARIS 10E ARRDT</th>\n",
       "      <td>3414</td>\n",
       "      <td>0.016739</td>\n",
       "      <td>289</td>\n",
       "    </tr>\n",
       "    <tr>\n",
       "      <th>PARIS 7E ARRDT</th>\n",
       "      <td>8632</td>\n",
       "      <td>0.042322</td>\n",
       "      <td>409</td>\n",
       "    </tr>\n",
       "    <tr>\n",
       "      <th>PARIS 6E ARRDT</th>\n",
       "      <td>1742</td>\n",
       "      <td>0.008541</td>\n",
       "      <td>215</td>\n",
       "    </tr>\n",
       "    <tr>\n",
       "      <th>HAUTS-DE-SEINE</th>\n",
       "      <td>5400</td>\n",
       "      <td>0.026476</td>\n",
       "      <td>17600</td>\n",
       "    </tr>\n",
       "    <tr>\n",
       "      <th>PARIS 4E ARRDT</th>\n",
       "      <td>2746</td>\n",
       "      <td>0.013463</td>\n",
       "      <td>160</td>\n",
       "    </tr>\n",
       "    <tr>\n",
       "      <th>SEINE-SAINT-DENIS</th>\n",
       "      <td>11792</td>\n",
       "      <td>0.057815</td>\n",
       "      <td>23600</td>\n",
       "    </tr>\n",
       "    <tr>\n",
       "      <th>PARIS 3E ARRDT</th>\n",
       "      <td>1267</td>\n",
       "      <td>0.006212</td>\n",
       "      <td>117</td>\n",
       "    </tr>\n",
       "    <tr>\n",
       "      <th>PARIS 5E ARRDT</th>\n",
       "      <td>2485</td>\n",
       "      <td>0.012184</td>\n",
       "      <td>254</td>\n",
       "    </tr>\n",
       "    <tr>\n",
       "      <th>PARIS 1ER ARRDT</th>\n",
       "      <td>1671</td>\n",
       "      <td>0.008193</td>\n",
       "      <td>183</td>\n",
       "    </tr>\n",
       "    <tr>\n",
       "      <th>PARIS 9E ARRDT</th>\n",
       "      <td>1182</td>\n",
       "      <td>0.005795</td>\n",
       "      <td>218</td>\n",
       "    </tr>\n",
       "    <tr>\n",
       "      <th>PARIS 2E ARRDT</th>\n",
       "      <td>529</td>\n",
       "      <td>0.002594</td>\n",
       "      <td>99</td>\n",
       "    </tr>\n",
       "  </tbody>\n",
       "</table>\n",
       "</div>"
      ],
      "text/plain": [
       "                   Effectif  Frequence  Superficie (ha)\n",
       "PARIS 17E ARRDT       10869   0.053290              567\n",
       "BOIS DE BOULOGNE       4124   0.020220              846\n",
       "BOIS DE VINCENNES     11812   0.057913              995\n",
       "PARIS 20E ARRDT       15654   0.076750              598\n",
       "PARIS 15E ARRDT       17243   0.084541              848\n",
       "PARIS 19E ARRDT       14568   0.071426              679\n",
       "PARIS 8E ARRDT         7155   0.035080              388\n",
       "PARIS 16E ARRDT       16914   0.082928              791\n",
       "PARIS 12E ARRDT       12405   0.060821              637\n",
       "PARIS 14E ARRDT       11592   0.056835              564\n",
       "PARIS 11E ARRDT        5885   0.028854              367\n",
       "VAL-DE-MARNE           7669   0.037601            24500\n",
       "PARIS 18E ARRDT       10488   0.051422              601\n",
       "PARIS 13E ARRDT       16722   0.081987              715\n",
       "PARIS 10E ARRDT        3414   0.016739              289\n",
       "PARIS 7E ARRDT         8632   0.042322              409\n",
       "PARIS 6E ARRDT         1742   0.008541              215\n",
       "HAUTS-DE-SEINE         5400   0.026476            17600\n",
       "PARIS 4E ARRDT         2746   0.013463              160\n",
       "SEINE-SAINT-DENIS     11792   0.057815            23600\n",
       "PARIS 3E ARRDT         1267   0.006212              117\n",
       "PARIS 5E ARRDT         2485   0.012184              254\n",
       "PARIS 1ER ARRDT        1671   0.008193              183\n",
       "PARIS 9E ARRDT         1182   0.005795              218\n",
       "PARIS 2E ARRDT          529   0.002594               99"
      ]
     },
     "execution_count": 26,
     "metadata": {},
     "output_type": "execute_result"
    }
   ],
   "source": [
    "tab_arrondissement['Superficie (ha)'] =0\n",
    "for i,j in arrond_super.items() :  tab_arrondissement.loc[i,'Superficie (ha)'] = j\n",
    "tab_arrondissement"
   ]
  },
  {
   "cell_type": "markdown",
   "id": "58a9415a",
   "metadata": {},
   "source": [
    "En calculant **la correlation entre le nombre d'arbres et la superficie** de chaque arrondissement on obtient :"
   ]
  },
  {
   "cell_type": "code",
   "execution_count": 27,
   "id": "3c536bda",
   "metadata": {},
   "outputs": [
    {
     "data": {
      "text/plain": [
       "0.054114229274674575"
      ]
     },
     "execution_count": 27,
     "metadata": {},
     "output_type": "execute_result"
    }
   ],
   "source": [
    "np.corrcoef( tab_arrondissement['Effectif'] , tab_arrondissement['Superficie (ha)'] )[1,0]"
   ]
  },
  {
   "cell_type": "markdown",
   "id": "b23d0ca1",
   "metadata": {},
   "source": [
    "Valeur extrêmement faible qui semble indiquer qu'il n'y aurait aucune correlation entre ces données. Cependant si j'exclu de mes calculs les 5 modalités qui ne font pas partie des 20 arrondissements de la ville de Paris on obtient un résultat différent qui semble quand à lui indiquer une très forte correlation. "
   ]
  },
  {
   "cell_type": "code",
   "execution_count": 28,
   "id": "d30bbdaf",
   "metadata": {},
   "outputs": [
    {
     "name": "stdout",
     "output_type": "stream",
     "text": [
      "Le coefficient de correlation entre le nombre d'arbre et la superficie des arrondissements de 0.9773120378324448\n"
     ]
    }
   ],
   "source": [
    "not_arrondissement = ['SEINE-SAINT-DENIS','HAUTS-DE-SEINE','BOIS DE BOULOGNE','BOIS DE VINCENNES','VAL-DE-MARNE']\n",
    "N , S = [] , []\n",
    "for i in tab_arrondissement.index :  \n",
    "    if i not in not_arrondissement : \n",
    "        N.append(tab_arrondissement.loc[i,'Effectif'])\n",
    "        S.append(tab_arrondissement.loc[i,'Superficie (ha)'])\n",
    "print(f\"Le coefficient de correlation entre le nombre d'arbre et la superficie des arrondissements de {np.corrcoef( N , S )[0,1]}\")"
   ]
  },
  {
   "cell_type": "markdown",
   "id": "5fae250a",
   "metadata": {},
   "source": [
    "En représantant la frequence des effectifs d'arbres et de la superficie pour chaque arrondissement on obtient :"
   ]
  },
  {
   "cell_type": "code",
   "execution_count": 29,
   "id": "51af405e",
   "metadata": {},
   "outputs": [
    {
     "data": {
      "image/png": "[encoded data removed]",
      "text/plain": [
       "<Figure size 864x864 with 2 Axes>"
      ]
     },
     "metadata": {
      "needs_background": "light"
     },
     "output_type": "display_data"
    }
   ],
   "source": [
    "plt.figure(figsize=(12,12))\n",
    "plt.subplot(2,1,1)\n",
    "plt.plot( range(len(N)) , N, color = 'green',lw=4)\n",
    "plt.ylabel('Superficie (ha)' , size =15,)\n",
    "plt.subplot(2,1,2)\n",
    "plt.plot( range(len(S)) , S, color = 'blue',lw=4)\n",
    "plt.xlabel('Arrondissements', size =15)\n",
    "plt.ylabel(\"Nbr d'arbres\" , size =15)\n",
    "plt.show()"
   ]
  },
  {
   "cell_type": "markdown",
   "id": "495ded05",
   "metadata": {},
   "source": [
    "<div class=\"alert alert-block alert-info\">\n",
    "\n",
    "> ## <a name=\"C3\"><font color=brown> III . 2 - <u> SUR L'ETUDE DES DOMAINES ABRITANT LES ARBRES </u> </font></a>\n",
    "\n",
    "</div>\n",
    "\n",
    "Il s'agira ici d'étudier la variable ``DOMANIALITE`` qui renseigne sur les différents lieux où on peut retrouver les arbres listés dans nos données.\n",
    "\n",
    "Plus haut nous avons vu qu'il n'y avait aucune valeur manquante sur la variable ``DOMANIALITE``"
   ]
  },
  {
   "cell_type": "code",
   "execution_count": 30,
   "id": "c8d5b479",
   "metadata": {},
   "outputs": [
    {
     "name": "stdout",
     "output_type": "stream",
     "text": [
      "Pourcentage de valeurs manquantes : 0 %\n"
     ]
    }
   ],
   "source": [
    "print(f\"Pourcentage de valeurs manquantes : {arbres['DOMANIALITE'].isna().sum()*100} %\")"
   ]
  },
  {
   "cell_type": "markdown",
   "id": "b31ec753",
   "metadata": {},
   "source": [
    "**Les différents domaines ou lieu dans lesquels ont retrouve les arbres de Paris** sont les suivant :"
   ]
  },
  {
   "cell_type": "code",
   "execution_count": 31,
   "id": "29bce348",
   "metadata": {},
   "outputs": [
    {
     "data": {
      "text/plain": [
       "array(['Alignement', 'CIMETIERE', 'Jardin', 'PERIPHERIQUE', 'DJS',\n",
       "       'DASCO', 'DFPE', 'DASES', 'DAC'], dtype=object)"
      ]
     },
     "execution_count": 31,
     "metadata": {},
     "output_type": "execute_result"
    }
   ],
   "source": [
    "modalite_emplacement = arbres['DOMANIALITE'].unique()\n",
    "modalite_emplacement"
   ]
  },
  {
   "cell_type": "code",
   "execution_count": 32,
   "id": "18a10d0b",
   "metadata": {},
   "outputs": [
    {
     "data": {
      "text/plain": [
       "9"
      ]
     },
     "execution_count": 32,
     "metadata": {},
     "output_type": "execute_result"
    }
   ],
   "source": [
    "len(modalite_emplacement)"
   ]
  },
  {
   "cell_type": "markdown",
   "id": "a0173490",
   "metadata": {},
   "source": [
    "Nous avons donc 9 types d'emplacement différents pour les arbres.\n"
   ]
  },
  {
   "cell_type": "code",
   "execution_count": 33,
   "id": "0ae03080",
   "metadata": {},
   "outputs": [
    {
     "data": {
      "text/html": [
       "<div>\n",
       "<style scoped>\n",
       "    .dataframe tbody tr th:only-of-type {\n",
       "        vertical-align: middle;\n",
       "    }\n",
       "\n",
       "    .dataframe tbody tr th {\n",
       "        vertical-align: top;\n",
       "    }\n",
       "\n",
       "    .dataframe thead th {\n",
       "        text-align: right;\n",
       "    }\n",
       "</style>\n",
       "<table border=\"1\" class=\"dataframe\">\n",
       "  <thead>\n",
       "    <tr style=\"text-align: right;\">\n",
       "      <th></th>\n",
       "      <th>Effectif</th>\n",
       "      <th>Frequence</th>\n",
       "    </tr>\n",
       "  </thead>\n",
       "  <tbody>\n",
       "    <tr>\n",
       "      <th>Alignement</th>\n",
       "      <td>105670</td>\n",
       "      <td>0.518092</td>\n",
       "    </tr>\n",
       "    <tr>\n",
       "      <th>CIMETIERE</th>\n",
       "      <td>32003</td>\n",
       "      <td>0.156908</td>\n",
       "    </tr>\n",
       "    <tr>\n",
       "      <th>Jardin</th>\n",
       "      <td>47991</td>\n",
       "      <td>0.235296</td>\n",
       "    </tr>\n",
       "    <tr>\n",
       "      <th>PERIPHERIQUE</th>\n",
       "      <td>5289</td>\n",
       "      <td>0.025932</td>\n",
       "    </tr>\n",
       "    <tr>\n",
       "      <th>DJS</th>\n",
       "      <td>4509</td>\n",
       "      <td>0.022107</td>\n",
       "    </tr>\n",
       "    <tr>\n",
       "      <th>DASCO</th>\n",
       "      <td>7087</td>\n",
       "      <td>0.034747</td>\n",
       "    </tr>\n",
       "    <tr>\n",
       "      <th>DFPE</th>\n",
       "      <td>1369</td>\n",
       "      <td>0.006712</td>\n",
       "    </tr>\n",
       "    <tr>\n",
       "      <th>DASES</th>\n",
       "      <td>13</td>\n",
       "      <td>0.000064</td>\n",
       "    </tr>\n",
       "    <tr>\n",
       "      <th>DAC</th>\n",
       "      <td>29</td>\n",
       "      <td>0.000142</td>\n",
       "    </tr>\n",
       "  </tbody>\n",
       "</table>\n",
       "</div>"
      ],
      "text/plain": [
       "              Effectif  Frequence\n",
       "Alignement      105670   0.518092\n",
       "CIMETIERE        32003   0.156908\n",
       "Jardin           47991   0.235296\n",
       "PERIPHERIQUE      5289   0.025932\n",
       "DJS               4509   0.022107\n",
       "DASCO             7087   0.034747\n",
       "DFPE              1369   0.006712\n",
       "DASES               13   0.000064\n",
       "DAC                 29   0.000142"
      ]
     },
     "execution_count": 33,
     "metadata": {},
     "output_type": "execute_result"
    }
   ],
   "source": [
    "tab_emplacement = pd.DataFrame(index=modalite_emplacement)\n",
    "tab_emplacement['Effectif'] = arbres['DOMANIALITE'].value_counts()[modalite_emplacement]\n",
    "tab_emplacement['Frequence'] = tab_emplacement['Effectif']/tab_emplacement['Effectif'].sum()\n",
    "tab_emplacement"
   ]
  },
  {
   "cell_type": "markdown",
   "id": "12c6db36",
   "metadata": {},
   "source": [
    "Ainsi les arbres de la ville de paris sont **en mojorité utilisés pour les alignements** avec un peu plus de  **la moitié des effectifs des arbres spécialement assignés pour les alignements** le long des routes et des rues pour les orner et les ombrager.  on y trouve en effet environ :\n",
    "- **2 fois plus** d'arbres qu'on en trouve **dans les jardins**\n",
    "- **3 fois plus** que dans les **cimétières.**"
   ]
  },
  {
   "cell_type": "code",
   "execution_count": 34,
   "id": "0c58699a",
   "metadata": {},
   "outputs": [
    {
     "data": {
      "image/png": "[encoded data removed]",
      "text/plain": [
       "<Figure size 1080x720 with 1 Axes>"
      ]
     },
     "metadata": {},
     "output_type": "display_data"
    }
   ],
   "source": [
    "plt.figure(figsize=(15,10))\n",
    "tab_emplacement['Effectif'].plot(kind='pie' ,label='')\n",
    "plt.title(\"CAMEMBERT DES ARBRES SELON LE TYPE D'EMPLACEMENT\", color ='brown' , size = 18)\n",
    "plt.show()"
   ]
  },
  {
   "cell_type": "markdown",
   "id": "d5959a40",
   "metadata": {},
   "source": [
    "On pourrait se poser la questiion de savoir si dans chaque arrondissement de la ville les arbres se retrouve toujours le plus souvent dans les espaces d'alignement ou pas."
   ]
  },
  {
   "cell_type": "code",
   "execution_count": 35,
   "id": "82078c9d",
   "metadata": {},
   "outputs": [
    {
     "data": {
      "text/html": [
       "<div>\n",
       "<style scoped>\n",
       "    .dataframe tbody tr th:only-of-type {\n",
       "        vertical-align: middle;\n",
       "    }\n",
       "\n",
       "    .dataframe tbody tr th {\n",
       "        vertical-align: top;\n",
       "    }\n",
       "\n",
       "    .dataframe thead th {\n",
       "        text-align: right;\n",
       "    }\n",
       "</style>\n",
       "<table border=\"1\" class=\"dataframe\">\n",
       "  <thead>\n",
       "    <tr style=\"text-align: right;\">\n",
       "      <th></th>\n",
       "      <th>domaine_mode</th>\n",
       "      <th>proportions (%)</th>\n",
       "    </tr>\n",
       "  </thead>\n",
       "  <tbody>\n",
       "    <tr>\n",
       "      <th>PARIS 17E ARRDT</th>\n",
       "      <td>[Alignement]</td>\n",
       "      <td>55.6</td>\n",
       "    </tr>\n",
       "    <tr>\n",
       "      <th>BOIS DE BOULOGNE</th>\n",
       "      <td>Index(['Alignement'], dtype='object')</td>\n",
       "      <td>98.9</td>\n",
       "    </tr>\n",
       "    <tr>\n",
       "      <th>BOIS DE VINCENNES</th>\n",
       "      <td>Index(['Jardin'], dtype='object')</td>\n",
       "      <td>52.9</td>\n",
       "    </tr>\n",
       "    <tr>\n",
       "      <th>PARIS 20E ARRDT</th>\n",
       "      <td>Index(['Alignement'], dtype='object')</td>\n",
       "      <td>34.9</td>\n",
       "    </tr>\n",
       "    <tr>\n",
       "      <th>PARIS 15E ARRDT</th>\n",
       "      <td>Index(['Alignement'], dtype='object')</td>\n",
       "      <td>49.0</td>\n",
       "    </tr>\n",
       "    <tr>\n",
       "      <th>PARIS 19E ARRDT</th>\n",
       "      <td>Index(['Alignement'], dtype='object')</td>\n",
       "      <td>53.5</td>\n",
       "    </tr>\n",
       "    <tr>\n",
       "      <th>PARIS 8E ARRDT</th>\n",
       "      <td>Index(['Alignement'], dtype='object')</td>\n",
       "      <td>82.2</td>\n",
       "    </tr>\n",
       "    <tr>\n",
       "      <th>PARIS 16E ARRDT</th>\n",
       "      <td>Index(['Alignement'], dtype='object')</td>\n",
       "      <td>62.3</td>\n",
       "    </tr>\n",
       "    <tr>\n",
       "      <th>PARIS 12E ARRDT</th>\n",
       "      <td>Index(['Alignement'], dtype='object')</td>\n",
       "      <td>61.8</td>\n",
       "    </tr>\n",
       "    <tr>\n",
       "      <th>PARIS 14E ARRDT</th>\n",
       "      <td>Index(['Alignement'], dtype='object')</td>\n",
       "      <td>59.9</td>\n",
       "    </tr>\n",
       "    <tr>\n",
       "      <th>PARIS 11E ARRDT</th>\n",
       "      <td>Index(['Alignement'], dtype='object')</td>\n",
       "      <td>72.9</td>\n",
       "    </tr>\n",
       "    <tr>\n",
       "      <th>VAL-DE-MARNE</th>\n",
       "      <td>Index(['CIMETIERE'], dtype='object')</td>\n",
       "      <td>99.6</td>\n",
       "    </tr>\n",
       "    <tr>\n",
       "      <th>PARIS 18E ARRDT</th>\n",
       "      <td>Index(['Alignement'], dtype='object')</td>\n",
       "      <td>49.0</td>\n",
       "    </tr>\n",
       "    <tr>\n",
       "      <th>PARIS 13E ARRDT</th>\n",
       "      <td>Index(['Alignement'], dtype='object')</td>\n",
       "      <td>65.3</td>\n",
       "    </tr>\n",
       "    <tr>\n",
       "      <th>PARIS 10E ARRDT</th>\n",
       "      <td>Index(['Alignement'], dtype='object')</td>\n",
       "      <td>75.8</td>\n",
       "    </tr>\n",
       "    <tr>\n",
       "      <th>PARIS 7E ARRDT</th>\n",
       "      <td>Index(['Alignement'], dtype='object')</td>\n",
       "      <td>69.2</td>\n",
       "    </tr>\n",
       "    <tr>\n",
       "      <th>PARIS 6E ARRDT</th>\n",
       "      <td>Index(['Alignement'], dtype='object')</td>\n",
       "      <td>76.1</td>\n",
       "    </tr>\n",
       "    <tr>\n",
       "      <th>HAUTS-DE-SEINE</th>\n",
       "      <td>Index(['CIMETIERE'], dtype='object')</td>\n",
       "      <td>100.0</td>\n",
       "    </tr>\n",
       "    <tr>\n",
       "      <th>PARIS 4E ARRDT</th>\n",
       "      <td>Index(['Alignement'], dtype='object')</td>\n",
       "      <td>69.8</td>\n",
       "    </tr>\n",
       "    <tr>\n",
       "      <th>SEINE-SAINT-DENIS</th>\n",
       "      <td>Index(['CIMETIERE'], dtype='object')</td>\n",
       "      <td>97.0</td>\n",
       "    </tr>\n",
       "    <tr>\n",
       "      <th>PARIS 3E ARRDT</th>\n",
       "      <td>Index(['Alignement'], dtype='object')</td>\n",
       "      <td>71.7</td>\n",
       "    </tr>\n",
       "    <tr>\n",
       "      <th>PARIS 5E ARRDT</th>\n",
       "      <td>Index(['Alignement'], dtype='object')</td>\n",
       "      <td>68.9</td>\n",
       "    </tr>\n",
       "    <tr>\n",
       "      <th>PARIS 1ER ARRDT</th>\n",
       "      <td>Index(['Alignement'], dtype='object')</td>\n",
       "      <td>65.7</td>\n",
       "    </tr>\n",
       "    <tr>\n",
       "      <th>PARIS 9E ARRDT</th>\n",
       "      <td>Index(['Alignement'], dtype='object')</td>\n",
       "      <td>78.2</td>\n",
       "    </tr>\n",
       "    <tr>\n",
       "      <th>PARIS 2E ARRDT</th>\n",
       "      <td>Index(['Alignement'], dtype='object')</td>\n",
       "      <td>85.6</td>\n",
       "    </tr>\n",
       "  </tbody>\n",
       "</table>\n",
       "</div>"
      ],
      "text/plain": [
       "                                            domaine_mode  proportions (%)\n",
       "PARIS 17E ARRDT                             [Alignement]             55.6\n",
       "BOIS DE BOULOGNE   Index(['Alignement'], dtype='object')             98.9\n",
       "BOIS DE VINCENNES      Index(['Jardin'], dtype='object')             52.9\n",
       "PARIS 20E ARRDT    Index(['Alignement'], dtype='object')             34.9\n",
       "PARIS 15E ARRDT    Index(['Alignement'], dtype='object')             49.0\n",
       "PARIS 19E ARRDT    Index(['Alignement'], dtype='object')             53.5\n",
       "PARIS 8E ARRDT     Index(['Alignement'], dtype='object')             82.2\n",
       "PARIS 16E ARRDT    Index(['Alignement'], dtype='object')             62.3\n",
       "PARIS 12E ARRDT    Index(['Alignement'], dtype='object')             61.8\n",
       "PARIS 14E ARRDT    Index(['Alignement'], dtype='object')             59.9\n",
       "PARIS 11E ARRDT    Index(['Alignement'], dtype='object')             72.9\n",
       "VAL-DE-MARNE        Index(['CIMETIERE'], dtype='object')             99.6\n",
       "PARIS 18E ARRDT    Index(['Alignement'], dtype='object')             49.0\n",
       "PARIS 13E ARRDT    Index(['Alignement'], dtype='object')             65.3\n",
       "PARIS 10E ARRDT    Index(['Alignement'], dtype='object')             75.8\n",
       "PARIS 7E ARRDT     Index(['Alignement'], dtype='object')             69.2\n",
       "PARIS 6E ARRDT     Index(['Alignement'], dtype='object')             76.1\n",
       "HAUTS-DE-SEINE      Index(['CIMETIERE'], dtype='object')            100.0\n",
       "PARIS 4E ARRDT     Index(['Alignement'], dtype='object')             69.8\n",
       "SEINE-SAINT-DENIS   Index(['CIMETIERE'], dtype='object')             97.0\n",
       "PARIS 3E ARRDT     Index(['Alignement'], dtype='object')             71.7\n",
       "PARIS 5E ARRDT     Index(['Alignement'], dtype='object')             68.9\n",
       "PARIS 1ER ARRDT    Index(['Alignement'], dtype='object')             65.7\n",
       "PARIS 9E ARRDT     Index(['Alignement'], dtype='object')             78.2\n",
       "PARIS 2E ARRDT     Index(['Alignement'], dtype='object')             85.6"
      ]
     },
     "execution_count": 35,
     "metadata": {},
     "output_type": "execute_result"
    }
   ],
   "source": [
    "domaine = pd.DataFrame(index = modalite_arrondissement)\n",
    "for i in domaine.index :\n",
    "    a = arbres.loc[arbres['ARRONDISSEMENT']==i,'DOMANIALITE'].value_counts(normalize=True)\n",
    "    domaine.loc[i , 'domaine_mode' ] = a[a == a.max()].index\n",
    "    domaine.loc[i , 'proportions (%)' ] = round(a.max()*100,1)\n",
    "domaine"
   ]
  },
  {
   "cell_type": "markdown",
   "id": "7886977b",
   "metadata": {},
   "source": [
    "On constate alors que **dans tous les arrondissements ( à quelques exceptions près ) on retrouve un maximum d'arbres sur les zones d'alignement**"
   ]
  },
  {
   "cell_type": "markdown",
   "id": "3bcd52ef",
   "metadata": {},
   "source": [
    "<div class=\"alert alert-block alert-info\">\n",
    "\n",
    "> ## <a name=\"C6\"><font color=brown> III . 3 - <u> Critères d'outliers </u> </font></a>\n",
    "\n",
    "</div>"
   ]
  },
  {
   "cell_type": "markdown",
   "id": "c7b7c414",
   "metadata": {},
   "source": [
    "Il est possible de definire plusieurs critères qui permettent de mettre en évidence des outliers dans les données. J'en ai definis 3 pour l'analyse quantitative à savoir :\n",
    " - **Densité des données :** cette méthode utilise la **boite de moustache.** En effet selon la densité des points sur l'axe de la variable étudiée, il est possible de repérer visuellement des points qui sont éloignés du reste des données.\n",
    " \n",
    " \n",
    " - **multiple de la distance interquanile :** les outliers sont ici definis par un multiple de la distance interquantile au delà du troisième quantile.\n",
    " \n",
    " \n",
    " - **Stabilités des indicateurs statistiques :** en definissant un seuil de coupure des données sur la variable étudiée, il est possible de définir plusieurs sous-échantillons imbriqués les uns dans les autres. La représentation graphique des différents indicateurs statistiques permet d'obser un seuil à partir duquel ces derniers changent très peu à mesure qu'on augmente la taille des données"
   ]
  },
  {
   "cell_type": "markdown",
   "id": "4f279a84",
   "metadata": {},
   "source": [
    "<div class=\"alert alert-block alert-info\">\n",
    "\n",
    "> ## <a name=\"C4\"><font color=brown> III . 4 - <u> SUR L'ETUDE DE LA CIRCONFERENCE DES ARBRES </u> </font></a>\n",
    "\n",
    "</div>\n",
    "\n",
    "Dans la partie relative au néttoyage des données nous avons vu que la variable ``CIRCONFERENCE (cm)`` possède plusieurs valeurs manquantes ou abérantes nulles qu'on dénombre à hauteur de 10 % des données."
   ]
  },
  {
   "cell_type": "code",
   "execution_count": 36,
   "id": "b5fe5c8f",
   "metadata": {},
   "outputs": [
    {
     "data": {
      "text/plain": [
       "10.11"
      ]
     },
     "execution_count": 36,
     "metadata": {},
     "output_type": "execute_result"
    }
   ],
   "source": [
    "round((arbres[\"CIRCONFERENCE (cm)\"] <= 0).mean()*100 , 2)"
   ]
  },
  {
   "cell_type": "markdown",
   "id": "3d4273ef",
   "metadata": {},
   "source": [
    "**L'analyse qui suivra donc sur la circonference des arbres ne concernera que 90 % des arbres de la ville** puisque 10 % sont à élliminer pour cause d'une circonference nulle, ce qui n'est pas cohérent avec la réalité commune."
   ]
  },
  {
   "cell_type": "code",
   "execution_count": 37,
   "id": "600aeda1",
   "metadata": {},
   "outputs": [
    {
     "data": {
      "text/html": [
       "<div>\n",
       "<style scoped>\n",
       "    .dataframe tbody tr th:only-of-type {\n",
       "        vertical-align: middle;\n",
       "    }\n",
       "\n",
       "    .dataframe tbody tr th {\n",
       "        vertical-align: top;\n",
       "    }\n",
       "\n",
       "    .dataframe thead th {\n",
       "        text-align: right;\n",
       "    }\n",
       "</style>\n",
       "<table border=\"1\" class=\"dataframe\">\n",
       "  <thead>\n",
       "    <tr style=\"text-align: right;\">\n",
       "      <th></th>\n",
       "      <th>CIRCONFERENCE (cm)</th>\n",
       "    </tr>\n",
       "  </thead>\n",
       "  <tbody>\n",
       "    <tr>\n",
       "      <th>count</th>\n",
       "      <td>183339.000000</td>\n",
       "    </tr>\n",
       "    <tr>\n",
       "      <th>mean</th>\n",
       "      <td>90.180016</td>\n",
       "    </tr>\n",
       "    <tr>\n",
       "      <th>std</th>\n",
       "      <td>59.830360</td>\n",
       "    </tr>\n",
       "    <tr>\n",
       "      <th>min</th>\n",
       "      <td>1.000000</td>\n",
       "    </tr>\n",
       "    <tr>\n",
       "      <th>25%</th>\n",
       "      <td>45.000000</td>\n",
       "    </tr>\n",
       "    <tr>\n",
       "      <th>50%</th>\n",
       "      <td>80.000000</td>\n",
       "    </tr>\n",
       "    <tr>\n",
       "      <th>75%</th>\n",
       "      <td>120.000000</td>\n",
       "    </tr>\n",
       "    <tr>\n",
       "      <th>max</th>\n",
       "      <td>1208.000000</td>\n",
       "    </tr>\n",
       "  </tbody>\n",
       "</table>\n",
       "</div>"
      ],
      "text/plain": [
       "       CIRCONFERENCE (cm)\n",
       "count       183339.000000\n",
       "mean            90.180016\n",
       "std             59.830360\n",
       "min              1.000000\n",
       "25%             45.000000\n",
       "50%             80.000000\n",
       "75%            120.000000\n",
       "max           1208.000000"
      ]
     },
     "execution_count": 37,
     "metadata": {},
     "output_type": "execute_result"
    }
   ],
   "source": [
    "tab_circonference = pd.DataFrame(index = arbres[ arbres['CIRCONFERENCE (cm)'] !=0 ].index)\n",
    "tab_circonference['CIRCONFERENCE (cm)'] = arbres.loc[tab_circonference.index,'CIRCONFERENCE (cm)' ]\n",
    "tab_circonference.describe()"
   ]
  },
  {
   "cell_type": "markdown",
   "id": "8b9bc2bc",
   "metadata": {},
   "source": [
    "la circonference **la plus petite est de 1 Cm et la plus grande de 1208 Cm** ( possible outlier )\n",
    "\n",
    "Ainsi **on dispose de 183 339 grandeurs entières comprises **entre 1 et 1208.** on imagine bien que chacune de ces modalités est présente au moins une fois dans les données. On peut donc considérer la varialbe ``CIRCONFERENCE (cm)`` comme une variable quantitative continue que l'on peut ainsi représenter avec un histogramme"
   ]
  },
  {
   "cell_type": "code",
   "execution_count": 38,
   "id": "29359ca2",
   "metadata": {},
   "outputs": [
    {
     "data": {
      "image/png": "[encoded data removed]",
      "text/plain": [
       "<Figure size 864x576 with 1 Axes>"
      ]
     },
     "metadata": {
      "needs_background": "light"
     },
     "output_type": "display_data"
    }
   ],
   "source": [
    "plt.figure(figsize=(12,8))\n",
    "tab_circonference['CIRCONFERENCE (cm)' ].hist(density =False , bins = 120, label='Circonference (Cm)')\n",
    "plt.title(\"Distribution des circonferences des arbres de Paris \", color ='brown' , size = 20)\n",
    "plt.xlabel('Circonference (Cm)' ,size =15)\n",
    "plt.ylabel(\"Nombre d'arbres\",size =15)\n",
    "plt.legend(loc='best' )\n",
    "plt.show()"
   ]
  },
  {
   "cell_type": "markdown",
   "id": "5883dd59",
   "metadata": {},
   "source": [
    "**La circonférence moyenne des arbres** est de : "
   ]
  },
  {
   "cell_type": "code",
   "execution_count": 39,
   "id": "4cb9e7d9",
   "metadata": {},
   "outputs": [
    {
     "name": "stdout",
     "output_type": "stream",
     "text": [
      "- Mode : 20 Cm\n",
      "- Moyenne : 90 Cm\n",
      "- Ecart-type : 59 Cm\n",
      "- Médiane : 80.0 Cm\n",
      "- Premier quantile ( Q1 ) : 45.0 Cm\n",
      "- Deuxième quantile ( Q3 ) : 120.0 Cm\n",
      "- Ecart inter-quantile ( IQR ) : 75.0 Cm\n"
     ]
    }
   ],
   "source": [
    "print(f\"- Mode : {tab_circonference['CIRCONFERENCE (cm)'].mode()[0]} Cm\")\n",
    "print(f\"- Moyenne : {int(tab_circonference['CIRCONFERENCE (cm)'].mean())} Cm\")\n",
    "print(f\"- Ecart-type : {int(tab_circonference['CIRCONFERENCE (cm)'].std())} Cm\")\n",
    "print(f\"- Médiane : {tab_circonference['CIRCONFERENCE (cm)'].median()} Cm\")\n",
    "print(f\"- Premier quantile ( Q1 ) : {tab_circonference['CIRCONFERENCE (cm)'].quantile(q=0.25)} Cm\")\n",
    "print(f\"- Deuxième quantile ( Q3 ) : {tab_circonference['CIRCONFERENCE (cm)'].quantile(q=0.75)} Cm\")\n",
    "print(f\"- Ecart inter-quantile ( IQR ) : {tab_circonference['CIRCONFERENCE (cm)'].quantile(q=0.75)-tab_circonference['CIRCONFERENCE (cm)'].quantile(q=0.25)} Cm\")\n"
   ]
  },
  {
   "cell_type": "markdown",
   "id": "9c47f976",
   "metadata": {},
   "source": [
    "Ainsi donc **la moitié des arbres de Paris a une circonference inférieure à 80 Cm** tandis que **l'autre moitié a une circonférence au moins égale à 80 Cm.**\n",
    "\n",
    "D'un autre côté dans la ville de Paris **on rencontre plus souvent des abres ayant une circonférence d'environ 20 Cm** et  la **circonférence moyenne de ces même arbres est de 90 Cm** avec un **écart standard autour de cette moyenne d'environ 59 Cm.** \n",
    "\n",
    "Cependant lorsqu'on observe la courbe de l'histogramme précédant **on constate que les arbres ayant une circonférence au moins égale à 400 Cm sont beacoup moins répendus dans la ville** et pour certaines valeurs on n'en retrouve qu'un seul exemplaire dans la ville. Parmi ces valeurs il pourrait s'y trouver des outlier qui ont un gros impacts sur les mesures de tendance centrales.\n",
    "\n",
    "**Pour mettre à jour ces outliers je vais de ce pas utiliser la boite à moustache.**"
   ]
  },
  {
   "cell_type": "code",
   "execution_count": 40,
   "id": "60084607",
   "metadata": {},
   "outputs": [
    {
     "data": {
      "image/png": "[encoded data removed]",
      "text/plain": [
       "<Figure size 864x576 with 1 Axes>"
      ]
     },
     "metadata": {
      "needs_background": "light"
     },
     "output_type": "display_data"
    }
   ],
   "source": [
    "plt.figure(figsize=(12,8))\n",
    "tab_circonference.boxplot( column='CIRCONFERENCE (cm)', vert =False, showmeans =True,whis=1.5,widths =0.2)\n",
    "plt.xlabel('Circonference (cm)', size =15)\n",
    "plt.ylabel('')\n",
    "plt.title('Boite à moustache des circonférences' , size=20)\n",
    "plt.show()"
   ]
  },
  {
   "cell_type": "markdown",
   "id": "ba11adc5",
   "metadata": {},
   "source": [
    "Comme on pouvait bien s'y attendre d'après les observations faites sur l'histogramme, **la grande majorité des arbres possède une circonférence inférieure à 233 Cm**; ce sui représente **97.52% des arbres de la ville.** Le reste des arbres ( soit 2.48 % ) de circonférence suppérieure à 233 Cm serait à priori considéré comme outlier. J'en ai un peu des doutes et avant de décider de les supprimer je veux bien faire une analyse un peu plus poussée.\n",
    "\n",
    "Essayons pour celà de ressortir la répartition de ces arbres ( suppoosés outliers ) par arrondissement, nombre et répartition dans différents domaines."
   ]
  },
  {
   "cell_type": "code",
   "execution_count": 41,
   "id": "cb9f9954",
   "metadata": {},
   "outputs": [
    {
     "data": {
      "text/html": [
       "<div>\n",
       "<style scoped>\n",
       "    .dataframe tbody tr th:only-of-type {\n",
       "        vertical-align: middle;\n",
       "    }\n",
       "\n",
       "    .dataframe tbody tr th {\n",
       "        vertical-align: top;\n",
       "    }\n",
       "\n",
       "    .dataframe thead th {\n",
       "        text-align: right;\n",
       "    }\n",
       "</style>\n",
       "<table border=\"1\" class=\"dataframe\">\n",
       "  <thead>\n",
       "    <tr style=\"text-align: right;\">\n",
       "      <th></th>\n",
       "      <th>IDBASE</th>\n",
       "      <th>DOMANIALITE</th>\n",
       "      <th>ARRONDISSEMENT</th>\n",
       "      <th>LIBELLE FRANCAIS</th>\n",
       "      <th>GENRE</th>\n",
       "      <th>ESPECE</th>\n",
       "      <th>CIRCONFERENCE (cm)</th>\n",
       "      <th>HAUTEUR (m)</th>\n",
       "      <th>STADE DE DEVELOPPEMENT</th>\n",
       "      <th>geo_point_2d</th>\n",
       "    </tr>\n",
       "  </thead>\n",
       "  <tbody>\n",
       "    <tr>\n",
       "      <th>61</th>\n",
       "      <td>225634</td>\n",
       "      <td>Alignement</td>\n",
       "      <td>PARIS 10E ARRDT</td>\n",
       "      <td>Platane</td>\n",
       "      <td>Platanus</td>\n",
       "      <td>x hispanica</td>\n",
       "      <td>258</td>\n",
       "      <td>28</td>\n",
       "      <td>Mature</td>\n",
       "      <td>48.87921426336813,2.3701608111058903</td>\n",
       "    </tr>\n",
       "    <tr>\n",
       "      <th>127</th>\n",
       "      <td>162033</td>\n",
       "      <td>CIMETIERE</td>\n",
       "      <td>VAL-DE-MARNE</td>\n",
       "      <td>Platane</td>\n",
       "      <td>Platanus</td>\n",
       "      <td>orientalis</td>\n",
       "      <td>240</td>\n",
       "      <td>25</td>\n",
       "      <td>Adulte</td>\n",
       "      <td>48.811788108518115,2.368806144537793</td>\n",
       "    </tr>\n",
       "    <tr>\n",
       "      <th>162</th>\n",
       "      <td>121688</td>\n",
       "      <td>Jardin</td>\n",
       "      <td>PARIS 14E ARRDT</td>\n",
       "      <td>Erable</td>\n",
       "      <td>Acer</td>\n",
       "      <td>cappadocicum</td>\n",
       "      <td>245</td>\n",
       "      <td>20</td>\n",
       "      <td>Adulte</td>\n",
       "      <td>48.82115277190289,2.322209243619765</td>\n",
       "    </tr>\n",
       "    <tr>\n",
       "      <th>186</th>\n",
       "      <td>2010882</td>\n",
       "      <td>Jardin</td>\n",
       "      <td>BOIS DE VINCENNES</td>\n",
       "      <td>Platane</td>\n",
       "      <td>Platanus</td>\n",
       "      <td>x hispanica</td>\n",
       "      <td>245</td>\n",
       "      <td>20</td>\n",
       "      <td>Adulte</td>\n",
       "      <td>48.84020095962927,2.4389101078582422</td>\n",
       "    </tr>\n",
       "    <tr>\n",
       "      <th>200</th>\n",
       "      <td>206198</td>\n",
       "      <td>Alignement</td>\n",
       "      <td>PARIS 16E ARRDT</td>\n",
       "      <td>Marronnier</td>\n",
       "      <td>Aesculus</td>\n",
       "      <td>hippocastanum</td>\n",
       "      <td>325</td>\n",
       "      <td>26</td>\n",
       "      <td>Mature</td>\n",
       "      <td>48.86802936537438,2.294443124086264</td>\n",
       "    </tr>\n",
       "    <tr>\n",
       "      <th>...</th>\n",
       "      <td>...</td>\n",
       "      <td>...</td>\n",
       "      <td>...</td>\n",
       "      <td>...</td>\n",
       "      <td>...</td>\n",
       "      <td>...</td>\n",
       "      <td>...</td>\n",
       "      <td>...</td>\n",
       "      <td>...</td>\n",
       "      <td>...</td>\n",
       "    </tr>\n",
       "    <tr>\n",
       "      <th>203688</th>\n",
       "      <td>199628</td>\n",
       "      <td>DJS</td>\n",
       "      <td>PARIS 20E ARRDT</td>\n",
       "      <td>Platane</td>\n",
       "      <td>Platanus</td>\n",
       "      <td>x hispanica</td>\n",
       "      <td>235</td>\n",
       "      <td>18</td>\n",
       "      <td>Mature</td>\n",
       "      <td>48.855345446042975,2.412357904736089</td>\n",
       "    </tr>\n",
       "    <tr>\n",
       "      <th>203746</th>\n",
       "      <td>109691</td>\n",
       "      <td>Jardin</td>\n",
       "      <td>PARIS 14E ARRDT</td>\n",
       "      <td>Cèdre</td>\n",
       "      <td>Cedrus</td>\n",
       "      <td>libani</td>\n",
       "      <td>250</td>\n",
       "      <td>20</td>\n",
       "      <td>Mature</td>\n",
       "      <td>48.82083845444937,2.340745919595284</td>\n",
       "    </tr>\n",
       "    <tr>\n",
       "      <th>203806</th>\n",
       "      <td>147036</td>\n",
       "      <td>CIMETIERE</td>\n",
       "      <td>SEINE-SAINT-DENIS</td>\n",
       "      <td>Marronnier</td>\n",
       "      <td>Aesculus</td>\n",
       "      <td>hippocastanum</td>\n",
       "      <td>237</td>\n",
       "      <td>18</td>\n",
       "      <td>Mature</td>\n",
       "      <td>48.9084534770392,2.346525992532971</td>\n",
       "    </tr>\n",
       "    <tr>\n",
       "      <th>203860</th>\n",
       "      <td>2020248</td>\n",
       "      <td>Jardin</td>\n",
       "      <td>PARIS 17E ARRDT</td>\n",
       "      <td>Bouleau</td>\n",
       "      <td>Betula</td>\n",
       "      <td>pendula</td>\n",
       "      <td>245</td>\n",
       "      <td>4</td>\n",
       "      <td>Jeune (arbre)</td>\n",
       "      <td>48.89273094073269,2.311477481280431</td>\n",
       "    </tr>\n",
       "    <tr>\n",
       "      <th>203933</th>\n",
       "      <td>180043</td>\n",
       "      <td>Jardin</td>\n",
       "      <td>PARIS 14E ARRDT</td>\n",
       "      <td>Platane</td>\n",
       "      <td>Platanus</td>\n",
       "      <td>x hispanica</td>\n",
       "      <td>250</td>\n",
       "      <td>20</td>\n",
       "      <td>Adulte</td>\n",
       "      <td>48.823081277781085,2.313194086690287</td>\n",
       "    </tr>\n",
       "  </tbody>\n",
       "</table>\n",
       "<p>4538 rows × 10 columns</p>\n",
       "</div>"
      ],
      "text/plain": [
       "         IDBASE DOMANIALITE     ARRONDISSEMENT LIBELLE FRANCAIS     GENRE  \\\n",
       "61       225634  Alignement    PARIS 10E ARRDT          Platane  Platanus   \n",
       "127      162033   CIMETIERE       VAL-DE-MARNE          Platane  Platanus   \n",
       "162      121688      Jardin    PARIS 14E ARRDT           Erable      Acer   \n",
       "186     2010882      Jardin  BOIS DE VINCENNES          Platane  Platanus   \n",
       "200      206198  Alignement    PARIS 16E ARRDT       Marronnier  Aesculus   \n",
       "...         ...         ...                ...              ...       ...   \n",
       "203688   199628         DJS    PARIS 20E ARRDT          Platane  Platanus   \n",
       "203746   109691      Jardin    PARIS 14E ARRDT            Cèdre    Cedrus   \n",
       "203806   147036   CIMETIERE  SEINE-SAINT-DENIS       Marronnier  Aesculus   \n",
       "203860  2020248      Jardin    PARIS 17E ARRDT          Bouleau    Betula   \n",
       "203933   180043      Jardin    PARIS 14E ARRDT          Platane  Platanus   \n",
       "\n",
       "               ESPECE  CIRCONFERENCE (cm)  HAUTEUR (m) STADE DE DEVELOPPEMENT  \\\n",
       "61        x hispanica                 258           28                 Mature   \n",
       "127        orientalis                 240           25                 Adulte   \n",
       "162      cappadocicum                 245           20                 Adulte   \n",
       "186       x hispanica                 245           20                 Adulte   \n",
       "200     hippocastanum                 325           26                 Mature   \n",
       "...               ...                 ...          ...                    ...   \n",
       "203688    x hispanica                 235           18                 Mature   \n",
       "203746         libani                 250           20                 Mature   \n",
       "203806  hippocastanum                 237           18                 Mature   \n",
       "203860        pendula                 245            4          Jeune (arbre)   \n",
       "203933    x hispanica                 250           20                 Adulte   \n",
       "\n",
       "                                geo_point_2d  \n",
       "61      48.87921426336813,2.3701608111058903  \n",
       "127     48.811788108518115,2.368806144537793  \n",
       "162      48.82115277190289,2.322209243619765  \n",
       "186     48.84020095962927,2.4389101078582422  \n",
       "200      48.86802936537438,2.294443124086264  \n",
       "...                                      ...  \n",
       "203688  48.855345446042975,2.412357904736089  \n",
       "203746   48.82083845444937,2.340745919595284  \n",
       "203806    48.9084534770392,2.346525992532971  \n",
       "203860   48.89273094073269,2.311477481280431  \n",
       "203933  48.823081277781085,2.313194086690287  \n",
       "\n",
       "[4538 rows x 10 columns]"
      ]
     },
     "execution_count": 41,
     "metadata": {},
     "output_type": "execute_result"
    }
   ],
   "source": [
    "sub_data = arbres[arbres['CIRCONFERENCE (cm)'] > 233]\n",
    "sub_data"
   ]
  },
  {
   "cell_type": "markdown",
   "id": "5f1d9b1e",
   "metadata": {},
   "source": [
    "Voyons voire ce que ça donne en **comparant la repartition globale de tous les arbres par arrondissements à celles des outliers supposés :**"
   ]
  },
  {
   "cell_type": "code",
   "execution_count": 42,
   "id": "d7e70789",
   "metadata": {},
   "outputs": [
    {
     "data": {
      "image/png": "[encoded data removed]",
      "text/plain": [
       "<Figure size 1440x720 with 2 Axes>"
      ]
     },
     "metadata": {
      "needs_background": "light"
     },
     "output_type": "display_data"
    }
   ],
   "source": [
    "plt.figure(figsize=(20,10))\n",
    "plt.subplot(1,2,1)\n",
    "arbres['ARRONDISSEMENT'].value_counts(normalize=True).plot(kind='bar',alpha=0.8, label='Repartition globale')\n",
    "sub_data['ARRONDISSEMENT'].value_counts(normalize=True).plot(kind='bar' , alpha=0.6, color='red', label='Circonference > 233 Cm')\n",
    "plt.title('Comparaison des frequences ', size = 15 )\n",
    "plt.xlabel('Arrondissement',size=15)\n",
    "plt.ylabel('Frequence des arbres',size=15)\n",
    "plt.subplot(1,2,2)\n",
    "arbres['ARRONDISSEMENT'].value_counts(normalize=False).plot(kind='bar',alpha=0.8, label='Repartition globale')\n",
    "sub_data['ARRONDISSEMENT'].value_counts(normalize=False).plot(kind='bar' , alpha=0.6, color='red', label='Circonference > 233 Cm')\n",
    "plt.title('Comparatif ')\n",
    "plt.xlabel('Arrondissement',size=15)\n",
    "plt.ylabel(\"Nombre d'arbres\",size=15)\n",
    "plt.legend()\n",
    "plt.show()"
   ]
  },
  {
   "cell_type": "markdown",
   "id": "5d9cbe9f",
   "metadata": {},
   "source": [
    "On constate que **les deux repartitions sont plutot différentes dans l'ensemble** mais le point important à signaler est que ces supposés outliers, de circonferences suppérieurs à 233 Cm, **restent tout de même repartis dans tous les arrondissements**; ils restent présent dans tous les Arrondissements avec une repartition qui suit à peu près celle de tous les arbres de nos données.\n",
    "\n",
    "Celà signifie simplement qu'**ils sont assez représentatifs dans nos données** et donc le statut d'outlier n'est pas necessairement celui qui leur convient le mieux **à moins de définir tout bonnement un outlier comme étant l'ensemble des données situées à plus de 1.5 fois la distance inter-quantile au delà du troisième quantile** et de ne s'en tenir quà cette definition et rien d'autre sans se soucier necessairement de l'importance et de la place de ces sous-données dans notre jeux de données initial.\n",
    "\n",
    "De mon simple point de vue je pense simplement que le sens qu'on doit donner au mot outlier doit surtout dépendre des objectifs attendus d'une analyse de données :\n",
    " - Si par exemple **on s'interesse uniquement aux arbres de faible circonference** alors la definition précédente pourrait suffir amplement\n",
    " - Si par contre **on s'interesse aussi aux gros arbres de la ville** alors il serait judicieux de revoir la circonference de coupure qui est de 233 Cm et difinir une circonference de coupure aux alentours de 800 Cm afin d'exclure les 3 arbres que l'on voit la boite à moustache avec une circonference proche de 1200 Cm\n",
    " \n",
    "<font color=red> NB : **La circonference de coupure**</font> est ici la circonference minimale au delà de laquelle un arbres est considéré comme outlier \n",
    "\n",
    "Ci-dessous nous représentons la variation des mesures de tendance centrale avec différents rayons de coupure."
   ]
  },
  {
   "cell_type": "code",
   "execution_count": 43,
   "id": "3e762df1",
   "metadata": {},
   "outputs": [
    {
     "data": {
      "image/png": "[encoded data removed]",
      "text/plain": [
       "<Figure size 1080x720 with 1 Axes>"
      ]
     },
     "metadata": {
      "needs_background": "light"
     },
     "output_type": "display_data"
    }
   ],
   "source": [
    "coupure = np.linspace( 2 , 800 , 150)\n",
    "moy , mod , med , std = [],[],[],[]\n",
    "for i in coupure :\n",
    "    tab0 = tab_circonference.loc[ tab_circonference['CIRCONFERENCE (cm)'] < i ]\n",
    "    moy.append(tab0['CIRCONFERENCE (cm)'].mean())\n",
    "    std.append(tab0['CIRCONFERENCE (cm)'].std())\n",
    "    med.append(tab0['CIRCONFERENCE (cm)'].median())\n",
    "    mod.append(tab0['CIRCONFERENCE (cm)'].mode()[0])\n",
    "    \n",
    "plt.figure(figsize =(15,10))\n",
    "plt.plot(coupure , moy , label='Moyenne',lw=5,alpha=0.5)\n",
    "plt.plot(coupure , med , label='mediane',lw=5,alpha=0.5)\n",
    "plt.plot(coupure , mod,label='mode',lw=5,alpha=0.5)\n",
    "plt.plot(coupure , std,label='Ecart-type',lw=5,alpha=0.5)\n",
    "plt.xlabel('Circonference de coupure (Cm)',size=15)\n",
    "plt.ylabel('Indicateurs Statistiques (Cm)',size=15)\n",
    "plt.legend(loc='best')\n",
    "plt.show()"
   ]
  },
  {
   "cell_type": "markdown",
   "id": "594b9326",
   "metadata": {},
   "source": [
    "On constate que tous les indicateurs deviennent stables à partir d'une circonference de coupure autour de 300 à 400 Cm\n",
    "\n",
    "**La stabilité recherchée sur les indicateurs statistiques** pourrait être une critère pour définir les outliers de nos données.\n",
    "\n",
    "En résumé :\n",
    "- Selon le critère Q3 + 1.5xIQR les outliers ont une circonférence plus grande que **233 Cm**\n",
    "- Suivant le critère de densité les outliers peuvent être definis à partir d'une circonférence de **580 Cm**\n",
    "- Selon le criète de stabilité des indicateurs on les definis au delà de **300 Cm**\n",
    " \n",
    "**Les 3 critères conjoints permettent de repérer les outliers à partir d'une circonférence de 580 Cm**\n",
    "\n",
    "L'histogramme de cette distribution est alors :"
   ]
  },
  {
   "cell_type": "code",
   "execution_count": 44,
   "id": "01f36d8d",
   "metadata": {},
   "outputs": [],
   "source": [
    "cut_data = tab_circonference[tab_circonference['CIRCONFERENCE (cm)' ] < 580]"
   ]
  },
  {
   "cell_type": "code",
   "execution_count": 45,
   "id": "b0f93d2f",
   "metadata": {},
   "outputs": [
    {
     "data": {
      "image/png": "[encoded data removed]",
      "text/plain": [
       "<Figure size 864x576 with 1 Axes>"
      ]
     },
     "metadata": {
      "needs_background": "light"
     },
     "output_type": "display_data"
    }
   ],
   "source": [
    "plt.figure(figsize=(12,8))\n",
    "plt.hist(cut_data, density =False , bins = 112, label='Circonference (Cm)')\n",
    "plt.title(\"Distribution des circonferences des arbres de Paris \", color ='brown' , size = 20)\n",
    "plt.xlabel('Circonference (Cm)' ,size =15)\n",
    "plt.ylabel(\"Nombre d'arbres\",size =15)\n",
    "plt.legend(loc='best' )\n",
    "plt.show()"
   ]
  },
  {
   "cell_type": "markdown",
   "id": "d7af71a7",
   "metadata": {},
   "source": [
    "**Mesures de tendance centrales et de dispersion**"
   ]
  },
  {
   "cell_type": "code",
   "execution_count": 46,
   "id": "9ff43d79",
   "metadata": {},
   "outputs": [
    {
     "name": "stdout",
     "output_type": "stream",
     "text": [
      "- Mode : 20 Cm\n",
      "- Moyenne : 90 Cm\n",
      "- Ecart-type : 59 Cm\n",
      "- Médiane : 80.0 Cm\n",
      "- Premier quantile ( Q1 ) : 45.0 Cm\n",
      "- Deuxième quantile ( Q3 ) : 120.0 Cm\n",
      "- Ecart inter-quantile ( IQR ) : 75.0 Cm\n"
     ]
    }
   ],
   "source": [
    "print(f\"- Mode : {cut_data['CIRCONFERENCE (cm)' ].mode()[0]} Cm\")\n",
    "print(f\"- Moyenne : {int(cut_data['CIRCONFERENCE (cm)' ].mean())} Cm\")\n",
    "print(f\"- Ecart-type : {int(cut_data['CIRCONFERENCE (cm)' ].std())} Cm\")\n",
    "print(f\"- Médiane : {cut_data['CIRCONFERENCE (cm)' ].median()} Cm\")\n",
    "print(f\"- Premier quantile ( Q1 ) : {cut_data['CIRCONFERENCE (cm)' ].quantile(q=0.25)} Cm\")\n",
    "print(f\"- Deuxième quantile ( Q3 ) : {cut_data['CIRCONFERENCE (cm)' ].quantile(q=0.75)} Cm\")\n",
    "print(f\"- Ecart inter-quantile ( IQR ) : {cut_data['CIRCONFERENCE (cm)' ].quantile(q=0.75)-cut_data['CIRCONFERENCE (cm)' ].quantile(q=0.25)} Cm\")\n"
   ]
  },
  {
   "cell_type": "markdown",
   "id": "21dc20d0",
   "metadata": {},
   "source": [
    "<div class=\"alert alert-block alert-info\">\n",
    "\n",
    "> ## <a name=\"C5\"><font color=brown>III . 5 - <u> Sur l'étude de la Hauteur des arbres </u> </font></a>\n",
    "\n",
    "</div>"
   ]
  },
  {
   "cell_type": "markdown",
   "id": "5377f22a",
   "metadata": {},
   "source": [
    "Nous avons vu que dans les données **il existaient des arbres avec des hauteur nulles et qu'il y en avait pour 13 % des données**"
   ]
  },
  {
   "cell_type": "code",
   "execution_count": 47,
   "id": "3b80425e",
   "metadata": {},
   "outputs": [
    {
     "data": {
      "text/plain": [
       "13.058933124141989"
      ]
     },
     "execution_count": 47,
     "metadata": {},
     "output_type": "execute_result"
    }
   ],
   "source": [
    "(arbres['HAUTEUR (m)'] <= 0 ).mean()*100"
   ]
  },
  {
   "cell_type": "markdown",
   "id": "053ec06d",
   "metadata": {},
   "source": [
    "nous allons donc dans la suite **analyser uniquement 87 % des données initiales.**"
   ]
  },
  {
   "cell_type": "code",
   "execution_count": 48,
   "id": "016f87f3",
   "metadata": {},
   "outputs": [
    {
     "data": {
      "text/html": [
       "<div>\n",
       "<style scoped>\n",
       "    .dataframe tbody tr th:only-of-type {\n",
       "        vertical-align: middle;\n",
       "    }\n",
       "\n",
       "    .dataframe tbody tr th {\n",
       "        vertical-align: top;\n",
       "    }\n",
       "\n",
       "    .dataframe thead th {\n",
       "        text-align: right;\n",
       "    }\n",
       "</style>\n",
       "<table border=\"1\" class=\"dataframe\">\n",
       "  <thead>\n",
       "    <tr style=\"text-align: right;\">\n",
       "      <th></th>\n",
       "      <th>HAUTEUR (m)</th>\n",
       "    </tr>\n",
       "  </thead>\n",
       "  <tbody>\n",
       "    <tr>\n",
       "      <th>0</th>\n",
       "      <td>6</td>\n",
       "    </tr>\n",
       "    <tr>\n",
       "      <th>1</th>\n",
       "      <td>16</td>\n",
       "    </tr>\n",
       "    <tr>\n",
       "      <th>2</th>\n",
       "      <td>5</td>\n",
       "    </tr>\n",
       "    <tr>\n",
       "      <th>3</th>\n",
       "      <td>13</td>\n",
       "    </tr>\n",
       "    <tr>\n",
       "      <th>5</th>\n",
       "      <td>5</td>\n",
       "    </tr>\n",
       "    <tr>\n",
       "      <th>...</th>\n",
       "      <td>...</td>\n",
       "    </tr>\n",
       "    <tr>\n",
       "      <th>203954</th>\n",
       "      <td>15</td>\n",
       "    </tr>\n",
       "    <tr>\n",
       "      <th>203955</th>\n",
       "      <td>10</td>\n",
       "    </tr>\n",
       "    <tr>\n",
       "      <th>203956</th>\n",
       "      <td>9</td>\n",
       "    </tr>\n",
       "    <tr>\n",
       "      <th>203958</th>\n",
       "      <td>12</td>\n",
       "    </tr>\n",
       "    <tr>\n",
       "      <th>203959</th>\n",
       "      <td>3</td>\n",
       "    </tr>\n",
       "  </tbody>\n",
       "</table>\n",
       "<p>177325 rows × 1 columns</p>\n",
       "</div>"
      ],
      "text/plain": [
       "        HAUTEUR (m)\n",
       "0                 6\n",
       "1                16\n",
       "2                 5\n",
       "3                13\n",
       "5                 5\n",
       "...             ...\n",
       "203954           15\n",
       "203955           10\n",
       "203956            9\n",
       "203958           12\n",
       "203959            3\n",
       "\n",
       "[177325 rows x 1 columns]"
      ]
     },
     "execution_count": 48,
     "metadata": {},
     "output_type": "execute_result"
    }
   ],
   "source": [
    "tab_hauteur = pd.DataFrame( index = arbres[ arbres['HAUTEUR (m)'] > 0 ].index  )\n",
    "tab_hauteur['HAUTEUR (m)'] =  arbres.loc[ arbres['HAUTEUR (m)'] > 0 , 'HAUTEUR (m)']\n",
    "tab_hauteur"
   ]
  },
  {
   "cell_type": "markdown",
   "id": "7f51e2d0",
   "metadata": {},
   "source": [
    "Sur les 203960 arbres de départ il ne nous en reste plus que 177325\n",
    "\n",
    "**Les hauteur extrêmes étant :**"
   ]
  },
  {
   "cell_type": "code",
   "execution_count": 49,
   "id": "c44298fd",
   "metadata": {},
   "outputs": [
    {
     "name": "stdout",
     "output_type": "stream",
     "text": [
      " Hauteur minimale : 1 m\n",
      " Hauteur maximale : 180 m\n"
     ]
    }
   ],
   "source": [
    "print(f\" Hauteur minimale : {tab_hauteur['HAUTEUR (m)'].min()} m\\n Hauteur maximale : {tab_hauteur['HAUTEUR (m)'].max()} m\")"
   ]
  },
  {
   "cell_type": "markdown",
   "id": "523c8278",
   "metadata": {},
   "source": [
    "La hauteur maximal de 180 m représente environ la hauteur d'un immeuble de 90 étages.\n",
    "\n",
    "Bien qu'il reste théoriquement possible pour certaines espèces d'arbres assez vieux, puisse atteindre des hauteur comparables il n'en démeure pas moins que ça reste des arbres très rares. **Bien plus [Le plus grand arbre](https://www.topito.com/top-grands-arbres-monde) connu de nos jours s'élève à environ 116 m du sol**; ce qui corrobore de fait la thèse d'un outlier dans les donnés. Il estpossible de définir plusieurs critères graduels pour definir les outliers dans les données; nous les verront plus bas.\n",
    "\n",
    "A ce niveau, **les différents indicateurs statisques** sont :"
   ]
  },
  {
   "cell_type": "code",
   "execution_count": 50,
   "id": "0b09fe97",
   "metadata": {},
   "outputs": [
    {
     "name": "stdout",
     "output_type": "stream",
     "text": [
      "- Mode : 5 m\n",
      "- Moyenne : 10 m\n",
      "- Ecart-type : 5 m\n",
      "- Médiane : 10.0 m\n",
      "- Premier quantile ( Q1 ) : 5.0 m\n",
      "- Deuxième quantile ( Q3 ) : 14.0 m\n",
      "- Ecart inter-quantile ( IQR ) : 9.0 m\n"
     ]
    }
   ],
   "source": [
    "print(f\"- Mode : {tab_hauteur['HAUTEUR (m)'].mode()[0]} m\")\n",
    "print(f\"- Moyenne : {int(tab_hauteur['HAUTEUR (m)'].mean())} m\")\n",
    "print(f\"- Ecart-type : {int(tab_hauteur['HAUTEUR (m)'].std())} m\")\n",
    "print(f\"- Médiane : {tab_hauteur['HAUTEUR (m)'].median()} m\")\n",
    "print(f\"- Premier quantile ( Q1 ) : {tab_hauteur['HAUTEUR (m)'].quantile(q=0.25)} m\")\n",
    "print(f\"- Deuxième quantile ( Q3 ) : {tab_hauteur['HAUTEUR (m)'].quantile(q=0.75)} m\")\n",
    "print(f\"- Ecart inter-quantile ( IQR ) : {tab_hauteur['HAUTEUR (m)'].quantile(q=0.75)-tab_hauteur['HAUTEUR (m)'].quantile(q=0.25)} m\")"
   ]
  },
  {
   "cell_type": "markdown",
   "id": "cfa6e4ca",
   "metadata": {},
   "source": [
    "Ainsi **la hauteur moyenne des arbres est de 10 m** et la moitié de nos arbres ont moins de 10 m de haut et l'autre moitié en a plus. Entre **5 m et 14 m on compte également la moitié** des arbres de la ville alors qu'on rencontre le plus souvent des arbres ayant une hauteur de 5 m.\n",
    "\n",
    "Sur cette base de quoi on peut definiri les outliers dans nos données comme ayant une hauteur supérieure à **Q3 + 1.5xIQR = 27.5 m.** on peut donc tracer notre boite à moustache :"
   ]
  },
  {
   "cell_type": "code",
   "execution_count": 51,
   "id": "2ad4e613",
   "metadata": {},
   "outputs": [
    {
     "data": {
      "image/png": "[encoded data removed]",
      "text/plain": [
       "<Figure size 864x576 with 1 Axes>"
      ]
     },
     "metadata": {
      "needs_background": "light"
     },
     "output_type": "display_data"
    }
   ],
   "source": [
    "plt.figure(figsize=(12,8))\n",
    "tab_hauteur.boxplot( column='HAUTEUR (m)', vert =False, showmeans =True,)\n",
    "plt.xlabel('Hauteur (m)', size =15)\n",
    "plt.ylabel('')\n",
    "plt.title('Boite à moustache des hauteurs' , size=20)\n",
    "plt.show()"
   ]
  },
  {
   "cell_type": "markdown",
   "id": "f67991cb",
   "metadata": {},
   "source": [
    "Sur une base simple de la densité sur l'axe des hauteurs, on remarque la présence de 4 outliers parfaitements séparés du reste des données; ce qui correspondrait à **une hauteur de coupure d'environ 50 m contre 27.5 sur la base d'un multiple de la distance interquantile.**\n",
    "\n",
    "On peut tracer la courbe d'évolution des indicateurs statisques avec différentes hauteurs de coupure afin de définir une hauteur de coupure sur la base de la stabilité de ces indicateurs :"
   ]
  },
  {
   "cell_type": "code",
   "execution_count": 52,
   "id": "4de13f9c",
   "metadata": {},
   "outputs": [
    {
     "data": {
      "image/png": "[encoded data removed]",
      "text/plain": [
       "<Figure size 1080x720 with 1 Axes>"
      ]
     },
     "metadata": {
      "needs_background": "light"
     },
     "output_type": "display_data"
    }
   ],
   "source": [
    "coupure = np.linspace( 2 , 100 , 150)\n",
    "moy , mod , med , std = [],[],[],[]\n",
    "for i in coupure :\n",
    "    tab0 = tab_hauteur[ tab_hauteur['HAUTEUR (m)'] < i ]\n",
    "    moy.append(tab0['HAUTEUR (m)'].mean())\n",
    "    std.append(tab0['HAUTEUR (m)'].std())\n",
    "    med.append(tab0['HAUTEUR (m)'].median())\n",
    "    mod.append(tab0['HAUTEUR (m)'].mode()[0])\n",
    "    \n",
    "plt.figure(figsize =(15,10))\n",
    "plt.plot(coupure , moy , label='Moyenne',lw=5,alpha=0.5)\n",
    "plt.plot(coupure , med , label='mediane',lw=5,alpha=0.5)\n",
    "plt.plot(coupure , mod,label='mode',lw=5,alpha=0.5)\n",
    "plt.plot(coupure , std,label='Ecart-type',lw=5,alpha=0.5)\n",
    "plt.xlabel('Hauteur de coupure (m)',size=15)\n",
    "plt.ylabel('Indicateurs Statistiques (m)',size=15)\n",
    "plt.legend(loc='best')\n",
    "plt.show()"
   ]
  },
  {
   "cell_type": "markdown",
   "id": "9bb0a89a",
   "metadata": {},
   "source": [
    "On remarque donc qu'**une hauteur de coupure d'environ 40 m est suffisante pour definir les outliers sur la base de la stabilité des indicateurs statistiques** Les 3 critères plus haut définis sont simultanément satisfais pour une hauteur de coupure de 50 m."
   ]
  },
  {
   "cell_type": "markdown",
   "id": "e41f86d3",
   "metadata": {},
   "source": [
    "L'histogramme des arbres de hauteur plus petite que 50 m est donc :"
   ]
  },
  {
   "cell_type": "code",
   "execution_count": 53,
   "id": "0b0752fa",
   "metadata": {},
   "outputs": [],
   "source": [
    "sub_data = tab_hauteur[ tab_hauteur['HAUTEUR (m)'] < 50 ]"
   ]
  },
  {
   "cell_type": "code",
   "execution_count": 54,
   "id": "48061569",
   "metadata": {},
   "outputs": [
    {
     "data": {
      "image/png": "[encoded data removed]",
      "text/plain": [
       "<Figure size 864x576 with 1 Axes>"
      ]
     },
     "metadata": {
      "needs_background": "light"
     },
     "output_type": "display_data"
    }
   ],
   "source": [
    "plt.figure(figsize=(12,8))\n",
    "plt.hist(sub_data['HAUTEUR (m)'] ,density =False , bins = 23, label='Hauteur (m)')\n",
    "#tab0.hist(density =False , bins = 30, label='Hauteur (m)')\n",
    "plt.title(\"Distribution de la hauteur des arbres de Paris \", color ='brown' , size = 20)\n",
    "plt.xlabel('Hauteur (m)' ,size =15)\n",
    "plt.ylabel(\"Nombre d'arbres\",size =15)\n",
    "plt.legend(loc='best' )\n",
    "plt.show()"
   ]
  },
  {
   "cell_type": "markdown",
   "id": "3b62c495",
   "metadata": {},
   "source": [
    "**Mesures de tendance centrales et de dispersion**"
   ]
  },
  {
   "cell_type": "code",
   "execution_count": 55,
   "id": "4d3832b6",
   "metadata": {},
   "outputs": [
    {
     "name": "stdout",
     "output_type": "stream",
     "text": [
      "- Mode : 5 m\n",
      "- Moyenne : 10 m\n",
      "- Ecart-type : 5 m\n",
      "- Médiane : 10.0 m\n",
      "- Premier quantile ( Q1 ) : 5.0 m\n",
      "- Deuxième quantile ( Q3 ) : 14.0 m\n",
      "- Ecart inter-quantile ( IQR ) : 9.0 m\n"
     ]
    }
   ],
   "source": [
    "print(f\"- Mode : {sub_data['HAUTEUR (m)'].mode()[0]} m\")\n",
    "print(f\"- Moyenne : {int(sub_data['HAUTEUR (m)'].mean())} m\")\n",
    "print(f\"- Ecart-type : {int(sub_data['HAUTEUR (m)'].std())} m\")\n",
    "print(f\"- Médiane : {sub_data['HAUTEUR (m)'].median()} m\")\n",
    "print(f\"- Premier quantile ( Q1 ) : {sub_data['HAUTEUR (m)'].quantile(q=0.25)} m\")\n",
    "print(f\"- Deuxième quantile ( Q3 ) : {sub_data['HAUTEUR (m)'].quantile(q=0.75)} m\")\n",
    "print(f\"- Ecart inter-quantile ( IQR ) : {sub_data['HAUTEUR (m)'].quantile(q=0.75)-sub_data['HAUTEUR (m)'].quantile(q=0.25)} m\")"
   ]
  },
  {
   "cell_type": "code",
   "execution_count": null,
   "id": "2e9042f0",
   "metadata": {},
   "outputs": [],
   "source": []
  }
 ],
 "metadata": {
  "kernelspec": {
   "display_name": "Python 3 (ipykernel)",
   "language": "python",
   "name": "python3"
  },
  "language_info": {
   "codemirror_mode": {
    "name": "ipython",
    "version": 3
   },
   "file_extension": ".py",
   "mimetype": "text/x-python",
   "name": "python",
   "nbconvert_exporter": "python",
   "pygments_lexer": "ipython3",
   "version": "3.9.12"
  }
 },
 "nbformat": 4,
 "nbformat_minor": 5
}
